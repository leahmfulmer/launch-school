{
 "cells": [
  {
   "cell_type": "markdown",
   "id": "e1f9d319-40de-4585-8e61-c874d3cdb306",
   "metadata": {},
   "source": [
    "# PY101 - Programming Foundations with Python: Basics\n",
    "### Lesson 3 Practice Problems: Medium 1"
   ]
  },
  {
   "cell_type": "markdown",
   "id": "9f7cb43b-73dc-4f89-b103-1249dcd39f34",
   "metadata": {},
   "source": [
    "##### **Question 1:** Let's do some \"ASCII Art\": a stone-age form of nerd artwork from back in the days before computers had video screens. For this practice problem, write a program that outputs `The Flinstones Rock!` 10 times, with each line prefixed by one more hyphen than the line above it. The output should start out like this:\n",
    "\n",
    "```python\n",
    "-The Flintstones Rock!\n",
    "--The Flintstones Rock!\n",
    "---The Flintstones Rock!\n",
    "    ...\n",
    "```"
   ]
  },
  {
   "cell_type": "code",
   "execution_count": 2,
   "id": "1150f320-3481-4a70-9a28-a638d92c505c",
   "metadata": {},
   "outputs": [
    {
     "name": "stdout",
     "output_type": "stream",
     "text": [
      "-The Flintstones Rock!\n",
      "--The Flintstones Rock!\n",
      "---The Flintstones Rock!\n",
      "----The Flintstones Rock!\n",
      "-----The Flintstones Rock!\n",
      "------The Flintstones Rock!\n",
      "-------The Flintstones Rock!\n",
      "--------The Flintstones Rock!\n",
      "---------The Flintstones Rock!\n",
      "----------The Flintstones Rock!\n"
     ]
    }
   ],
   "source": [
    "string = \"The Flintstones Rock!\"\n",
    "\n",
    "for i in range(1, 11):\n",
    "    print('-' * i + string)"
   ]
  },
  {
   "cell_type": "code",
   "execution_count": 3,
   "id": "5df7c510-3688-4df7-b7a6-fba613b1adb9",
   "metadata": {},
   "outputs": [
    {
     "name": "stdout",
     "output_type": "stream",
     "text": [
      "-The Flintstones Rock!\n",
      "--The Flintstones Rock!\n",
      "---The Flintstones Rock!\n",
      "----The Flintstones Rock!\n",
      "-----The Flintstones Rock!\n",
      "------The Flintstones Rock!\n",
      "-------The Flintstones Rock!\n",
      "--------The Flintstones Rock!\n",
      "---------The Flintstones Rock!\n",
      "----------The Flintstones Rock!\n"
     ]
    }
   ],
   "source": [
    "# Launch School Solution 1\n",
    "\n",
    "for i in range(1, 11):\n",
    "    print(f\"{'-' * i}The Flintstones Rock!\")"
   ]
  },
  {
   "cell_type": "markdown",
   "id": "f9d029d8-8ad9-4672-8303-a3ea199ed3d0",
   "metadata": {},
   "source": [
    "##### **Question 2:** Alan wrote the following function, which was intended to return all of the factors of `number`:\n",
    "```python\n",
    "def factors(number):\n",
    "    divisor = number\n",
    "    result = []\n",
    "    while divisor != 0:\n",
    "        if number % divisor == 0:\n",
    "            result.append(number // divisor)\n",
    "        divisor -= 1\n",
    "    return result\n",
    "```\n",
    "##### Alyssa noticed that this code would fail when the input is a negative number, and asked Alan to change the loop. How can he make this work? Note that we're not looking to find the factors for negative numbers, but we want to handle it gracefully instead of going into an infinite loop."
   ]
  },
  {
   "cell_type": "code",
   "execution_count": 4,
   "id": "e5da9c68-b46d-4e37-8f3f-f0afa6abda73",
   "metadata": {},
   "outputs": [],
   "source": [
    "def factors(number):\n",
    "    divisor = number\n",
    "    result = []\n",
    "    while divisor > 0:    # This comparison operator was changed.\n",
    "        if number % divisor == 0:\n",
    "            result.append(number // divisor)\n",
    "        divisor -= 1\n",
    "    return result"
   ]
  },
  {
   "cell_type": "markdown",
   "id": "91b89d0b-6327-48f1-a8dc-e6b83605b727",
   "metadata": {},
   "source": [
    "##### **Bonus Question:** What is the purpose of `number % divisor == 0` in that code?"
   ]
  },
  {
   "cell_type": "markdown",
   "id": "aed21764-ef79-4941-9b80-d2d48c7ebbdf",
   "metadata": {},
   "source": [
    "The purpose of `number % divisor == 0` is to ensure that only whole-number factors are included in the final list of factors."
   ]
  },
  {
   "cell_type": "markdown",
   "id": "42c95063-cb7e-4c8a-9fc7-aafcd20defe8",
   "metadata": {},
   "source": [
    "##### **Question 3:** Alyssa was asked to write an implementation of a rolling buffer. You can add and remove elements from a rolling buffer. However, once the buffer becomes full, any new elements will displace the oldest elements in the buffer. She wrote two implementations of the code for adding elements to the buffer:\n",
    "\n",
    "```python\n",
    "def add_to_rolling_buffer1(buffer, max_buffer_size, new_element):\n",
    "    buffer.append(new_element)\n",
    "    if len(buffer) > max_buffer_size:\n",
    "        buffer.pop(0)\n",
    "    return buffer\n",
    "\n",
    "def add_to_rolling_buffer2(buffer, max_buffer_size, new_element):\n",
    "    buffer = buffer + [new_element]\n",
    "    if len(buffer) > max_buffer_size:\n",
    "        buffer.pop(0)\n",
    "    return buffer\n",
    "```\n",
    "##### What is the key difference between these implementations?"
   ]
  },
  {
   "cell_type": "markdown",
   "id": "8aed4cb8-892c-472f-8f60-140587416beb",
   "metadata": {},
   "source": [
    "The first implementation appends `new_element` to the list assigned to the variable `buffer`, mutating the list object itself. The second implementation reassigns the variable `buffer` to a new object in memory that is a concatenation of the previous list assigned to the variable `buffer` and a single-element list containing `new_element`. The first mutates the existing variable and the second creates a new variable of the same name."
   ]
  },
  {
   "cell_type": "markdown",
   "id": "813613b0-404a-463a-96e3-6d1fb9b35087",
   "metadata": {},
   "source": [
    "##### **Question 4:** What will the following code output? Don't look at the solution before you answer.\n",
    "\n",
    "```python\n",
    "print(0.3 + 0.6)\n",
    "print(0.3 + 0.6 == 0.9)\n",
    "```"
   ]
  },
  {
   "cell_type": "markdown",
   "id": "c0064adf-f1bf-4a66-82db-dda8d4420e06",
   "metadata": {},
   "source": [
    "The code outputs `False`. Because many decimals cannot be represented perfectly accurately in binary, Python does a floating-point estimation that leads to non-intuitive results. Use `math.isclose()` for a more intuitive output."
   ]
  },
  {
   "cell_type": "code",
   "execution_count": 5,
   "id": "5e6e8b16-669a-413c-9fbd-9e8ac23dbdae",
   "metadata": {},
   "outputs": [
    {
     "name": "stdout",
     "output_type": "stream",
     "text": [
      "0.8999999999999999\n",
      "True\n"
     ]
    }
   ],
   "source": [
    "import math\n",
    "\n",
    "print(0.3 + 0.6)\n",
    "print(math.isclose(0.3 + 0.6, 0.9))"
   ]
  },
  {
   "cell_type": "markdown",
   "id": "ea478446-e4ad-418e-8a9d-e1ac5c721404",
   "metadata": {},
   "source": [
    "##### **Question 5:** What do you think the following code will output?\n",
    "\n",
    "```python\n",
    "nan_value = float(\"nan\")\n",
    "print(nan_value == float(\"nan\"))\n",
    "```"
   ]
  },
  {
   "cell_type": "markdown",
   "id": "facf3c6a-4ece-44f8-a547-711f45e01de7",
   "metadata": {},
   "source": [
    "Honestly, I have no idea what this code will output. My best guess would be `True`, because we are comparing an variable to the exact object it was just assigned. However, I feel like that's too obvious. Perhaps we will get an error! Perhaps `\"nan\"` cannot be converted to a float."
   ]
  },
  {
   "cell_type": "code",
   "execution_count": 11,
   "id": "4038d9eb-fa54-4e0e-b134-404d4fc6d3e4",
   "metadata": {},
   "outputs": [
    {
     "name": "stdout",
     "output_type": "stream",
     "text": [
      "False\n"
     ]
    }
   ],
   "source": [
    "nan_value = float(\"nan\")\n",
    "print(nan_value == float(\"nan\"))"
   ]
  },
  {
   "cell_type": "markdown",
   "id": "2438e160-1136-4b96-a57a-fe65a26d00dd",
   "metadata": {},
   "source": [
    "Why did we get `False`? ... The special numeric value `nan` indicates a value that is \"not a number\", and thus Python's comparison operator `==` cannot be used to determine whether a value *is* `nan`."
   ]
  },
  {
   "cell_type": "markdown",
   "id": "b9cafdcd-8f66-4f46-9052-13434f04449a",
   "metadata": {},
   "source": [
    "##### **Bonus Question:** How can you reliably test if a value is `nan`?"
   ]
  },
  {
   "cell_type": "code",
   "execution_count": 10,
   "id": "f7c210f4-e411-4adf-b6fa-9bdc9352c1cf",
   "metadata": {},
   "outputs": [
    {
     "name": "stdout",
     "output_type": "stream",
     "text": [
      "True\n"
     ]
    }
   ],
   "source": [
    "import math\n",
    "nan_value = float(\"nan\")\n",
    "print(math.isnan(nan_value))"
   ]
  },
  {
   "cell_type": "markdown",
   "id": "8dda4b1c-71eb-4611-99f6-acd6e06ecc7f",
   "metadata": {},
   "source": [
    "##### **Question 6:** What is the output of the following code?\n",
    "\n",
    "```python\n",
    "answer = 42\n",
    "\n",
    "def mess_with_it(some_number):\n",
    "    return some_number + 8\n",
    "\n",
    "new_answer = mess_with_it(answer)\n",
    "\n",
    "print(answer - 8)\n",
    "```"
   ]
  },
  {
   "cell_type": "markdown",
   "id": "331e7bda-a105-4664-a0e8-1e7f6de30878",
   "metadata": {},
   "source": [
    "The code will output `34`. Creating the variable `new_answer` using the function `mess_with_it` does not mutate the original value of the variable `answer`."
   ]
  },
  {
   "cell_type": "code",
   "execution_count": 12,
   "id": "ca42e3e6-1329-4a95-9625-abf5f663bed9",
   "metadata": {},
   "outputs": [
    {
     "name": "stdout",
     "output_type": "stream",
     "text": [
      "34\n"
     ]
    }
   ],
   "source": [
    "answer = 42\n",
    "\n",
    "def mess_with_it(some_number):\n",
    "    return some_number + 8\n",
    "\n",
    "new_answer = mess_with_it(answer)\n",
    "\n",
    "print(answer - 8)"
   ]
  },
  {
   "cell_type": "markdown",
   "id": "ec88541b-9e97-429d-b8af-d24fa90fa362",
   "metadata": {},
   "source": [
    "##### **Question 7:** One day, Spot was playing with the Munster family's home computer, and he wrote a small program to mess with their demographic data:\n",
    "\n",
    "```python\n",
    "munsters = {\n",
    "    \"Herman\": {\"age\": 32, \"gender\": \"male\"},\n",
    "    \"Lily\": {\"age\": 30, \"gender\": \"female\"},\n",
    "    \"Grandpa\": {\"age\": 402, \"gender\": \"male\"},\n",
    "    \"Eddie\": {\"age\": 10, \"gender\": \"male\"},\n",
    "    \"Marilyn\": {\"age\": 23, \"gender\": \"female\"},\n",
    "}\n",
    "\n",
    "def mess_with_demographics(demo_dict):\n",
    "    for key, value in demo_dict.items():\n",
    "        value[\"age\"] += 42\n",
    "        value[\"gender\"] = \"other\"\n",
    "```\n",
    "##### After writing this function, he typed the following code:\n",
    "```python\n",
    "mess_with_demographics(munsters)\n",
    "```\n",
    "##### Before Grandpa could stop him, Spot hit the Enter key with his tail. Did the family's data get ransacked? Why or why not?"
   ]
  },
  {
   "cell_type": "markdown",
   "id": "16cde7a4-3abd-4c4a-bd03-d58f2c664bc6",
   "metadata": {},
   "source": [
    "Yes, the family's data was ransacked. `dict.items()` returns a dictionary view object of the (key, value) tuples in a dictionary. In other words, `dict.items()` offers a live viewing of what's happening within that dictionary right now. In the function `mess_with_demographics`, this dictionary view object is mutated, which in turn mutates the original dictionary. Whatever happens in the dictionary view object is a *direct reflection* of the dictionary itself."
   ]
  },
  {
   "cell_type": "code",
   "execution_count": 13,
   "id": "22ef632f-2d88-4d23-b65e-42f1773479f4",
   "metadata": {},
   "outputs": [],
   "source": [
    "munsters = {\n",
    "    \"Herman\": {\"age\": 32, \"gender\": \"male\"},\n",
    "    \"Lily\": {\"age\": 30, \"gender\": \"female\"},\n",
    "    \"Grandpa\": {\"age\": 402, \"gender\": \"male\"},\n",
    "    \"Eddie\": {\"age\": 10, \"gender\": \"male\"},\n",
    "    \"Marilyn\": {\"age\": 23, \"gender\": \"female\"},\n",
    "}\n",
    "\n",
    "def mess_with_demographics(demo_dict):\n",
    "    for key, value in demo_dict.items():\n",
    "        value[\"age\"] += 42\n",
    "        value[\"gender\"] = \"other\""
   ]
  },
  {
   "cell_type": "code",
   "execution_count": 14,
   "id": "1eecf17b-e3ec-4193-9655-3d58f6394f28",
   "metadata": {},
   "outputs": [],
   "source": [
    "mess_with_demographics(munsters)"
   ]
  },
  {
   "cell_type": "code",
   "execution_count": 15,
   "id": "432c71c0-3c68-4385-bcb9-07065241173d",
   "metadata": {},
   "outputs": [
    {
     "data": {
      "text/plain": [
       "{'Herman': {'age': 74, 'gender': 'other'},\n",
       " 'Lily': {'age': 72, 'gender': 'other'},\n",
       " 'Grandpa': {'age': 444, 'gender': 'other'},\n",
       " 'Eddie': {'age': 52, 'gender': 'other'},\n",
       " 'Marilyn': {'age': 65, 'gender': 'other'}}"
      ]
     },
     "execution_count": 15,
     "metadata": {},
     "output_type": "execute_result"
    }
   ],
   "source": [
    "munsters"
   ]
  },
  {
   "cell_type": "markdown",
   "id": "ec895427-30c2-4847-af42-832f31ed188f",
   "metadata": {},
   "source": [
    "##### **Question 8:** Function and method calls can take expressions as arguments. Suppose we define a function named `rps` as follows, which follows the classic rules of the rock-paper-scissors game, but with a slight twist: in the event of a tie, it just returns the choice made by both players.\n",
    "\n",
    "```python\n",
    "def rps(fist1, fist2):\n",
    "    if fist1 == \"rock\":\n",
    "        return \"paper\" if fist2 == \"paper\" else \"rock\"\n",
    "    elif fist1 == \"paper\":\n",
    "        return \"scissors\" if fist2 == \"scissors\" else \"paper\"\n",
    "    else:\n",
    "        return \"rock\" if fist2 == \"rock\" else \"scissors\"\n",
    "```\n",
    "##### What does the following code output?\n",
    "```python\n",
    "print(rps(rps(rps(\"rock\", \"paper\"), rps(\"rock\", \"scissors\")), \"rock\"))\n",
    "```"
   ]
  },
  {
   "cell_type": "code",
   "execution_count": 17,
   "id": "bc2fec50-b3c7-40c6-b3e5-1491745e8d4e",
   "metadata": {},
   "outputs": [],
   "source": [
    "# The above code undergoes the following logic, directed by the\n",
    "# operator precedence signaled with parentheses.\n",
    "\n",
    "# print(rps(rps(rps(\"rock\", \"paper\"), rps(\"rock\", \"scissors\")), \"rock\"))\n",
    "# print(rps(rps(\"paper\", rps(\"rock\", \"scissors\")), \"rock\"))\n",
    "# print(rps(rps(\"paper\", \"rock\"), \"rock\"))\n",
    "# print(rps(\"paper\", \"rock\"))\n",
    "# print(\"paper\")\n",
    "# paper"
   ]
  },
  {
   "cell_type": "code",
   "execution_count": 18,
   "id": "f631164a-7254-4c98-b9c1-c33f81fd415e",
   "metadata": {},
   "outputs": [
    {
     "name": "stdout",
     "output_type": "stream",
     "text": [
      "paper\n"
     ]
    }
   ],
   "source": [
    "def rps(fist1, fist2):\n",
    "    if fist1 == \"rock\":\n",
    "        return \"paper\" if fist2 == \"paper\" else \"rock\"\n",
    "    elif fist1 == \"paper\":\n",
    "        return \"scissors\" if fist2 == \"scissors\" else \"paper\"\n",
    "    else:\n",
    "        return \"rock\" if fist2 == \"rock\" else \"scissors\"\n",
    "        \n",
    "print(rps(rps(rps(\"rock\", \"paper\"), rps(\"rock\", \"scissors\")), \"rock\"))"
   ]
  },
  {
   "cell_type": "markdown",
   "id": "ffd00615-eaeb-4800-a775-7be7f5a15d4a",
   "metadata": {},
   "source": [
    "##### **Question 9:** Consider these two simple functions:\n",
    "```python\n",
    "def foo(param=\"no\"):\n",
    "    return \"yes\"\n",
    "\n",
    "def bar(param=\"no\"):\n",
    "    return (param == \"no\") and (foo() or \"no\")\n",
    "```\n",
    "##### What will the following function invocation return?\n",
    "```python\n",
    "bar(foo())\n",
    "```"
   ]
  },
  {
   "cell_type": "code",
   "execution_count": 19,
   "id": "0a81fac3-9086-4f9d-b1b2-fc41b8b0f939",
   "metadata": {},
   "outputs": [],
   "source": [
    "# The above code undergoes the following logic, directed by the\n",
    "# operator precedence signaled with parentheses and short-circuiting\n",
    "\n",
    "# bar(foo())\n",
    "# bar(\"yes\")\n",
    "# (param == \"no\") and (foo() or \"no\")\n",
    "# False and (foo() or \"no\")\n",
    "# False"
   ]
  },
  {
   "cell_type": "code",
   "execution_count": 20,
   "id": "04aa3336-dc0a-4b61-aade-a71e04a0327c",
   "metadata": {},
   "outputs": [
    {
     "data": {
      "text/plain": [
       "False"
      ]
     },
     "execution_count": 20,
     "metadata": {},
     "output_type": "execute_result"
    }
   ],
   "source": [
    "def foo(param=\"no\"):\n",
    "    return \"yes\"\n",
    "\n",
    "def bar(param=\"no\"):\n",
    "    return (param == \"no\") and (foo() or \"no\")\n",
    "\n",
    "bar(foo())"
   ]
  },
  {
   "cell_type": "markdown",
   "id": "c9623ced-0017-4075-a211-39f09627e134",
   "metadata": {},
   "source": [
    "##### **Question 10:** In Python, every object has a unique identifier that can be accessed using the `id()` function. This function returns the identity of an object, which is guaranteed to be unique for the object's lifetime. For certain basic immutable data types like short strings or integers, Python might reuse the memory address for objects with the same value. This is known as \"interning\". Given the following code, predict the output:\n",
    "\n",
    "```python\n",
    "a = 42\n",
    "b = 42\n",
    "c = a\n",
    "\n",
    "print(id(a) == id(b) == id(c))\n",
    "```"
   ]
  },
  {
   "cell_type": "markdown",
   "id": "5a27d96e-9462-4098-97ad-6d3535fd66bc",
   "metadata": {},
   "source": [
    "Honestly, I can only imagine this as an operator precedence issue. First Python will execute `id(a) == id(b)` and return a boolean value. Then Python will execute `True == id(c)`, which will return `False`."
   ]
  },
  {
   "cell_type": "code",
   "execution_count": 21,
   "id": "978b4949-bc34-443f-b994-8821a53ffe05",
   "metadata": {},
   "outputs": [
    {
     "name": "stdout",
     "output_type": "stream",
     "text": [
      "True\n"
     ]
    }
   ],
   "source": [
    "a = 42\n",
    "b = 42\n",
    "c = a\n",
    "\n",
    "print(id(a) == id(b) == id(c))"
   ]
  },
  {
   "cell_type": "markdown",
   "id": "e40e84c3-48b3-492c-a4d3-e0b5fbf56d0c",
   "metadata": {},
   "source": [
    "Firstly, Python operator chaining interprets `id(a) == id(b) == id(c)` as `id(a) == id(b) and id(b) == id(c)`. Thus the execution order that I predicted was wrong. Secondly, Python designates specific memory locations for integers in the range -5 to 256, inclusive. When a variable is assigned to one of these integers, it points to the memory location designated to that integer, rather than a new location. Because `a`, `b`, and `c` all reference the same integrer, they have the same `id`."
   ]
  },
  {
   "cell_type": "code",
   "execution_count": 6,
   "id": "2cbe1c90-5dbf-485b-8d3b-99b7aadea02a",
   "metadata": {},
   "outputs": [
    {
     "name": "stdout",
     "output_type": "stream",
     "text": [
      "True\n",
      "False\n"
     ]
    }
   ],
   "source": [
    "# Example 1\n",
    "x = 256\n",
    "y = 256\n",
    "print(id(x) == id(y))\n",
    "\n",
    "# Example 2\n",
    "x = 257\n",
    "y = 257\n",
    "print(id(x) == id(y))"
   ]
  },
  {
   "cell_type": "code",
   "execution_count": null,
   "id": "49fe4a9b-fe23-4fef-b88b-7cc0b29e5783",
   "metadata": {},
   "outputs": [],
   "source": []
  }
 ],
 "metadata": {
  "kernelspec": {
   "display_name": "Python 3 (ipykernel)",
   "language": "python",
   "name": "python3"
  },
  "language_info": {
   "codemirror_mode": {
    "name": "ipython",
    "version": 3
   },
   "file_extension": ".py",
   "mimetype": "text/x-python",
   "name": "python",
   "nbconvert_exporter": "python",
   "pygments_lexer": "ipython3",
   "version": "3.13.1"
  }
 },
 "nbformat": 4,
 "nbformat_minor": 5
}
