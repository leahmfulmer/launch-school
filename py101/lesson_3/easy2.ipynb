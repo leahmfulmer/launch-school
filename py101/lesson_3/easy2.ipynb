{
 "cells": [
  {
   "cell_type": "markdown",
   "id": "bbca31d8-0fcf-4fb9-b932-9828496195c0",
   "metadata": {},
   "source": [
    "# PY101 - Programming Foundations with Python: Basics\n",
    "### Lesson 3 Practice Problems: Easy 2"
   ]
  },
  {
   "cell_type": "markdown",
   "id": "d873c9b3-e0b5-40e5-9500-483fce539680",
   "metadata": {},
   "source": [
    "##### **Question 1:** Write two distinct ways of reversing the list without mutating the original list."
   ]
  },
  {
   "cell_type": "code",
   "execution_count": 15,
   "id": "40a66ce0-f00c-4f6f-920d-2635c5557161",
   "metadata": {},
   "outputs": [],
   "source": [
    "numbers = [1, 2, 3, 4, 5]"
   ]
  },
  {
   "cell_type": "code",
   "execution_count": 16,
   "id": "4a7e9c64-78e1-4d47-920b-a8306d008774",
   "metadata": {},
   "outputs": [
    {
     "name": "stdout",
     "output_type": "stream",
     "text": [
      "[5, 4, 3, 2, 1]\n",
      "[1, 2, 3, 4, 5]\n"
     ]
    }
   ],
   "source": [
    "# Way 1\n",
    "numbers = [1, 2, 3, 4, 5]\n",
    "print(numbers[::-1])         # [5, 4, 3, 2, 1]\n",
    "print(numbers)               # [1, 2, 3, 4, 5]"
   ]
  },
  {
   "cell_type": "code",
   "execution_count": 18,
   "id": "86a8f9e9-7f5e-439a-822f-e16df5619d07",
   "metadata": {},
   "outputs": [
    {
     "name": "stdout",
     "output_type": "stream",
     "text": [
      "[5, 4, 3, 2, 1]\n",
      "[1, 2, 3, 4, 5]\n"
     ]
    }
   ],
   "source": [
    "# Way 2\n",
    "numbers = [1, 2, 3, 4, 5]\n",
    "print(list(reversed(numbers)))    # [5, 4, 3, 2, 1]\n",
    "print(numbers)                    # [1, 2, 3, 4, 5]"
   ]
  },
  {
   "cell_type": "markdown",
   "id": "eb0d7eb9-a09a-4ffc-bcaf-0e671a57f310",
   "metadata": {},
   "source": [
    "##### **Question 2:** Given a number and a list, determine whether the number is included in the list."
   ]
  },
  {
   "cell_type": "code",
   "execution_count": 19,
   "id": "6f5d0785-58f8-4bbb-ab33-341d1b669113",
   "metadata": {},
   "outputs": [
    {
     "name": "stdout",
     "output_type": "stream",
     "text": [
      "False\n",
      "True\n"
     ]
    }
   ],
   "source": [
    "numbers = [1, 2, 3, 4, 5, 15, 16, 17, 95, 96, 99]\n",
    "\n",
    "number1 = 8  # False (not in numbers)\n",
    "number2 = 95 # True (in numbers)\n",
    "\n",
    "print(number1 in numbers)\n",
    "print(number2 in numbers)"
   ]
  },
  {
   "cell_type": "markdown",
   "id": "039b24e7-49da-47a1-8e75-ec5eb4d2183b",
   "metadata": {},
   "source": [
    "##### **Question 3:** Programmatically determine whether `42` lies between `10` and `100`, inclusive. Do the same for the values `100` and `101`."
   ]
  },
  {
   "cell_type": "code",
   "execution_count": 24,
   "id": "c8d003ae-b54a-4b74-8619-1468b3320028",
   "metadata": {},
   "outputs": [
    {
     "name": "stdout",
     "output_type": "stream",
     "text": [
      "True\n",
      "True\n",
      "False\n"
     ]
    }
   ],
   "source": [
    "def between_10_100_inclusive(num):\n",
    "    return num in range(10, 101)\n",
    "\n",
    "print(between_10_100_inclusive(42))\n",
    "print(between_10_100_inclusive(100))\n",
    "print(between_10_100_inclusive(101))"
   ]
  },
  {
   "cell_type": "markdown",
   "id": "076be232-7c63-4bcc-bcf6-fd08297d34c8",
   "metadata": {},
   "source": [
    "##### **Question 4:** Given a list of numbers `[1, 2, 3, 4, 5]`, mutate the list by removing the number at index `2`, so that the list becomes `[1, 2, 4, 5]`."
   ]
  },
  {
   "cell_type": "code",
   "execution_count": 25,
   "id": "e629dd5e-c584-47a0-8a80-44912d11716a",
   "metadata": {},
   "outputs": [
    {
     "name": "stdout",
     "output_type": "stream",
     "text": [
      "[1, 2, 4, 5]\n"
     ]
    }
   ],
   "source": [
    "# list.pop('index') removes the element at the given index,\n",
    "# or the last element if no index given; returns popped element\n",
    "\n",
    "numbers = [1, 2, 3, 4, 5]\n",
    "numbers.pop(2)\n",
    "print(numbers)"
   ]
  },
  {
   "cell_type": "code",
   "execution_count": 30,
   "id": "111aeaf7-bdfd-4abc-af85-345932e73603",
   "metadata": {},
   "outputs": [
    {
     "name": "stdout",
     "output_type": "stream",
     "text": [
      "[1, 2, 4, 5]\n"
     ]
    }
   ],
   "source": [
    "# Launch School Solution 4\n",
    "# del removes objects from memory; this can be used for \n",
    "# manipulating lists, or removing variables entirely\n",
    "\n",
    "numbers = [1, 2, 3, 4, 5]\n",
    "del numbers[2]\n",
    "print(numbers)"
   ]
  },
  {
   "cell_type": "markdown",
   "id": "8ae02641-5973-4c90-a777-c95650edff9d",
   "metadata": {},
   "source": [
    "##### **Question 5:** How would you verify whether the data structures assigned to the variables `numbers` and `table` are of type `list`?"
   ]
  },
  {
   "cell_type": "code",
   "execution_count": 33,
   "id": "48d2dde8-69cb-4298-9214-37220cf4446b",
   "metadata": {},
   "outputs": [
    {
     "name": "stdout",
     "output_type": "stream",
     "text": [
      "True\n",
      "False\n"
     ]
    }
   ],
   "source": [
    "numbers = [1, 2, 3, 4]\n",
    "table = {'field1': 1, 'field2': 2, 'field3': 3, 'field4': 4}\n",
    "\n",
    "print(type(numbers) is list)\n",
    "print(type(table) is list)"
   ]
  },
  {
   "cell_type": "code",
   "execution_count": 34,
   "id": "c6e2bb36-181f-4afe-8de9-a667d0280d16",
   "metadata": {},
   "outputs": [
    {
     "name": "stdout",
     "output_type": "stream",
     "text": [
      "True\n",
      "False\n"
     ]
    }
   ],
   "source": [
    "# Launch School Solution 5\n",
    "# isinstance(object, type) confirms whether the \n",
    "# given object is of the give type; returns boolean\n",
    "\n",
    "numbers = [1, 2, 3, 4]\n",
    "table = {'field1': 1, 'field2': 2, 'field3': 3, 'field4': 4}\n",
    "\n",
    "print(isinstance(numbers, list))\n",
    "print(isinstance(table, list))"
   ]
  },
  {
   "cell_type": "markdown",
   "id": "1ec898fc-2bf0-4485-a700-18a246a81775",
   "metadata": {},
   "source": [
    "##### **Question 6:** Back in the stone age (before CSS), we used spaces to align things on the screen. If we have a 40-character wide table of Flintstone family members, how can we center the following title above the table with spaces?"
   ]
  },
  {
   "cell_type": "code",
   "execution_count": 36,
   "id": "c53e3e88-0480-4f97-b0be-7730cbfc0688",
   "metadata": {},
   "outputs": [
    {
     "name": "stdout",
     "output_type": "stream",
     "text": [
      "|       Flintstone Family Members        |\n"
     ]
    }
   ],
   "source": [
    "title = \"Flintstone Family Members\"\n",
    "print(\"|\" + title.center(40) + \"|\")"
   ]
  },
  {
   "cell_type": "markdown",
   "id": "39f2a56b-ba8e-4aa2-9462-296b93f874a9",
   "metadata": {},
   "source": [
    "##### **Question 7:** Write a one-liner to count the number of lower-case `t` characters in each of the following strings:"
   ]
  },
  {
   "cell_type": "code",
   "execution_count": 38,
   "id": "17e08e9a-0696-40aa-bdc0-fb7eb332b1c6",
   "metadata": {},
   "outputs": [
    {
     "name": "stdout",
     "output_type": "stream",
     "text": [
      "2\n",
      "0\n"
     ]
    }
   ],
   "source": [
    "statement1 = \"The Flintstones Rock!\"\n",
    "statement2 = \"Easy come, easy go.\"\n",
    "\n",
    "print(statement1.count(\"t\"))\n",
    "print(statement2.count(\"t\"))"
   ]
  },
  {
   "cell_type": "markdown",
   "id": "74e79b6b-c4ca-4ab1-a3da-d803ab519409",
   "metadata": {},
   "source": [
    "##### **Question 8:** Determine whether the following dictionary of people and their age contains an entry for `'Spot'`:"
   ]
  },
  {
   "cell_type": "code",
   "execution_count": 41,
   "id": "61d3fb66-81c7-4e18-8b59-cf0d47ffc772",
   "metadata": {},
   "outputs": [
    {
     "name": "stdout",
     "output_type": "stream",
     "text": [
      "Spot isn't there!\n"
     ]
    }
   ],
   "source": [
    "ages = {'Herman': 32, 'Lily': 30, 'Grandpa': 402, 'Eddie': 10}\n",
    "print(ages.get('Spot', \"Spot isn't there!\"))"
   ]
  },
  {
   "cell_type": "code",
   "execution_count": 44,
   "id": "ce95e9a7-e3db-40d8-b1a0-1544e70906a8",
   "metadata": {},
   "outputs": [
    {
     "name": "stdout",
     "output_type": "stream",
     "text": [
      "False\n"
     ]
    }
   ],
   "source": [
    "# Launch School Solution 8\n",
    "print('Spot' in ages)"
   ]
  },
  {
   "cell_type": "markdown",
   "id": "1185fcf7-d253-4f67-8676-8dd5787fe6fb",
   "metadata": {},
   "source": [
    "##### **Question 9:** We have most of the Munster family in our ages dictionary:\n",
    "```python\n",
    "ages = {'Herman': 32, 'Lily': 30, 'Grandpa': 5843, 'Eddie': 10}\n",
    "```\n",
    "Add entries for Marilyn and Spot to the dictionary:\n",
    "```python\n",
    "additional_ages = {'Marilyn': 22, 'Spot': 237}\n",
    "```"
   ]
  },
  {
   "cell_type": "code",
   "execution_count": 46,
   "id": "be99cae9-0029-455d-b94b-255fbda081fd",
   "metadata": {},
   "outputs": [
    {
     "name": "stdout",
     "output_type": "stream",
     "text": [
      "{'Herman': 32, 'Lily': 30, 'Grandpa': 5843, 'Eddie': 10, 'Marilyn': 22, 'Spot': 237}\n"
     ]
    }
   ],
   "source": [
    "ages = {'Herman': 32, 'Lily': 30, 'Grandpa': 5843, 'Eddie': 10}\n",
    "additional_ages = {'Marilyn': 22, 'Spot': 237}\n",
    "ages.update(additional_ages)\n",
    "print(ages)"
   ]
  },
  {
   "cell_type": "code",
   "execution_count": null,
   "id": "0a5f156d-3897-41f4-bebe-df239f1f3275",
   "metadata": {},
   "outputs": [],
   "source": []
  }
 ],
 "metadata": {
  "kernelspec": {
   "display_name": "Python 3 (ipykernel)",
   "language": "python",
   "name": "python3"
  },
  "language_info": {
   "codemirror_mode": {
    "name": "ipython",
    "version": 3
   },
   "file_extension": ".py",
   "mimetype": "text/x-python",
   "name": "python",
   "nbconvert_exporter": "python",
   "pygments_lexer": "ipython3",
   "version": "3.13.1"
  }
 },
 "nbformat": 4,
 "nbformat_minor": 5
}
