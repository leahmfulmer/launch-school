{
 "cells": [
  {
   "cell_type": "markdown",
   "id": "f7998e29-6175-4cbc-a4ad-74dd57a3ba68",
   "metadata": {},
   "source": [
    "# PY101 - Programming Foundations with Python: Basics\n",
    "### Lesson 3 Practice Problems: Hard 1"
   ]
  },
  {
   "cell_type": "markdown",
   "id": "78189950-1654-4f1b-a4e1-8f35652a031b",
   "metadata": {},
   "source": [
    "##### **Question 1:** Will the following functions return the same results? Try to answer without running the code or looking at the solution.\n",
    "```python\n",
    "def first():\n",
    "    return {\n",
    "        'prop1': \"hi there\",\n",
    "    }\n",
    "\n",
    "def second():\n",
    "    return\n",
    "    {\n",
    "        'prop1': \"hi there\",\n",
    "    }\n",
    "\n",
    "print(first())\n",
    "print(second())\n",
    "```"
   ]
  },
  {
   "cell_type": "markdown",
   "id": "74f21ebc-9d06-4770-8950-19c3ab54f5bd",
   "metadata": {},
   "source": [
    "The functions will not return the same results. The function `first()` will return the dictionary `{'prop1': \"hi there\"}`, but the function `second()` will not return anything. In the case of `second()`, the function returns to the outer scope before the dictionary `{'prop1': \"hi there\"}` is invoked. Therefore, the dictionary will not be returned. Instead, `second()` will return `None`."
   ]
  },
  {
   "cell_type": "code",
   "execution_count": 2,
   "id": "e58d9a5c-7624-45ed-bf3f-3b1f7c540a54",
   "metadata": {},
   "outputs": [
    {
     "name": "stdout",
     "output_type": "stream",
     "text": [
      "{'prop1': 'hi there'}\n",
      "None\n"
     ]
    }
   ],
   "source": [
    "def first():\n",
    "    return {\n",
    "        'prop1': \"hi there\",\n",
    "    }\n",
    "\n",
    "def second():\n",
    "    return\n",
    "    {\n",
    "        'prop1': \"hi there\",\n",
    "    }\n",
    "\n",
    "print(first())\n",
    "print(second())"
   ]
  },
  {
   "cell_type": "markdown",
   "id": "420c266a-fde9-4574-b9c5-c8ff77f1cba9",
   "metadata": {},
   "source": [
    "##### **Question 2:** What does the last line in the following code output? Try to answer without running the code or looking at the solution.\n",
    "```python\n",
    "dictionary = {'first': [1]}\n",
    "num_list = dictionary['first']\n",
    "num_list.append(2)\n",
    "\n",
    "print(num_list)\n",
    "print(dictionary)\n",
    "```"
   ]
  },
  {
   "cell_type": "markdown",
   "id": "92d7d458-3100-4271-8919-ffce96885c54",
   "metadata": {},
   "source": [
    "The last line of the following code will output `{'first': [1, 2]}`. When the variable `num_list` is assigned to the value `dictionary['first']`, it becomes a reference to the original list `[1]`. When this reference is mutated, the list within the original dictionary is mutated directly. "
   ]
  },
  {
   "cell_type": "code",
   "execution_count": 3,
   "id": "c16c465e-8e1d-48eb-8289-ab15dd884e82",
   "metadata": {},
   "outputs": [
    {
     "name": "stdout",
     "output_type": "stream",
     "text": [
      "[1, 2]\n",
      "{'first': [1, 2]}\n"
     ]
    }
   ],
   "source": [
    "dictionary = {'first': [1]}\n",
    "num_list = dictionary['first']\n",
    "num_list.append(2)\n",
    "\n",
    "print(num_list)\n",
    "print(dictionary)"
   ]
  },
  {
   "cell_type": "code",
   "execution_count": 5,
   "id": "8faf4fcd-9e97-4004-9027-a8d06956989b",
   "metadata": {},
   "outputs": [
    {
     "name": "stdout",
     "output_type": "stream",
     "text": [
      "{'first': [1]}\n",
      "{'first': [1]}\n"
     ]
    }
   ],
   "source": [
    "# To make a copy, use these alternatives...\n",
    "\n",
    "# .copy() creates a separate object\n",
    "dictionary = {\"first\": [1]}\n",
    "num_list = dictionary[\"first\"].copy()\n",
    "num_list.append(2)\n",
    "print(dictionary)\n",
    "\n",
    "# slicing returns a new list\n",
    "dictionary = {\"first\": [1]}\n",
    "num_list = dictionary[\"first\"][:]\n",
    "num_list.append(2)\n",
    "print(dictionary)"
   ]
  },
  {
   "cell_type": "markdown",
   "id": "4c9f849a-6a87-4eec-8b42-4d783a524578",
   "metadata": {},
   "source": [
    "##### **Question 3:** Given the following similar sets of code, what will each code snippet print?\n",
    "##### **A)**\n",
    "```python\n",
    "def mess_with_vars(one, two, three):\n",
    "    one = two\n",
    "    two = three\n",
    "    three = one\n",
    "\n",
    "one = [\"one\"]\n",
    "two = [\"two\"]\n",
    "three = [\"three\"]\n",
    "\n",
    "mess_with_vars(one, two, three)\n",
    "\n",
    "print(f\"one is: {one}\")\n",
    "print(f\"two is: {two}\")\n",
    "print(f\"three is: {three}\")\n",
    "```\n",
    "\n",
    "##### **B)**\n",
    "```python\n",
    "def mess_with_vars(one, two, three):\n",
    "    one = [\"two\"]\n",
    "    two = [\"three\"]\n",
    "    three = [\"one\"]\n",
    "\n",
    "one = [\"one\"]\n",
    "two = [\"two\"]\n",
    "three = [\"three\"]\n",
    "\n",
    "mess_with_vars(one, two, three)\n",
    "\n",
    "print(f\"one is: {one}\")\n",
    "print(f\"two is: {two}\")\n",
    "print(f\"three is: {three}\")\n",
    "```\n",
    "\n",
    "##### **C)**\n",
    "```python\n",
    "def mess_with_vars(one, two, three):\n",
    "    one[0] = \"two\"\n",
    "    two[0] = \"three\"\n",
    "    three[0] = \"one\"\n",
    "\n",
    "one = [\"one\"]\n",
    "two = [\"two\"]\n",
    "three = [\"three\"]\n",
    "\n",
    "mess_with_vars(one, two, three)\n",
    "\n",
    "print(f\"one is: {one}\")\n",
    "print(f\"two is: {two}\")\n",
    "print(f\"three is: {three}\")\n",
    "```"
   ]
  },
  {
   "cell_type": "markdown",
   "id": "73f5fb75-0379-4e29-a36d-cce61295c906",
   "metadata": {},
   "source": [
    "**A** will print `one is: one / two is: two / three is: three`. Within the function, the local variables `one`, `two`, and `three` shadow the global variables of the same names, and thus the global variables are never mutated. The same is true for **B**. However, **C** will print `one is: two / two is: three / three is: one`. Because lists are mutable, they are passed through the function as references alone and not as copies. There is no variable shadowing occurring in **C**. There is simply a mutation of the first element in each list."
   ]
  },
  {
   "cell_type": "code",
   "execution_count": 7,
   "id": "1b1a3efd-939a-42a6-98df-ded2114401c5",
   "metadata": {},
   "outputs": [
    {
     "name": "stdout",
     "output_type": "stream",
     "text": [
      "one is: ['one']\n",
      "two is: ['two']\n",
      "three is: ['three']\n"
     ]
    }
   ],
   "source": [
    "# A\n",
    "\n",
    "def mess_with_vars(one, two, three):\n",
    "    one = two\n",
    "    two = three\n",
    "    three = one\n",
    "\n",
    "one = [\"one\"]\n",
    "two = [\"two\"]\n",
    "three = [\"three\"]\n",
    "\n",
    "mess_with_vars(one, two, three)\n",
    "\n",
    "print(f\"one is: {one}\")\n",
    "print(f\"two is: {two}\")\n",
    "print(f\"three is: {three}\")"
   ]
  },
  {
   "cell_type": "code",
   "execution_count": 8,
   "id": "650df26f-b7e4-4a94-8575-c878033b0b89",
   "metadata": {},
   "outputs": [
    {
     "name": "stdout",
     "output_type": "stream",
     "text": [
      "one is: ['one']\n",
      "two is: ['two']\n",
      "three is: ['three']\n"
     ]
    }
   ],
   "source": [
    "# B\n",
    "\n",
    "def mess_with_vars(one, two, three):\n",
    "    one = [\"two\"]\n",
    "    two = [\"three\"]\n",
    "    three = [\"one\"]\n",
    "\n",
    "one = [\"one\"]\n",
    "two = [\"two\"]\n",
    "three = [\"three\"]\n",
    "\n",
    "mess_with_vars(one, two, three)\n",
    "\n",
    "print(f\"one is: {one}\")\n",
    "print(f\"two is: {two}\")\n",
    "print(f\"three is: {three}\")"
   ]
  },
  {
   "cell_type": "code",
   "execution_count": 9,
   "id": "7d71d96f-c8b7-424b-aeb7-162fa9d90e15",
   "metadata": {},
   "outputs": [
    {
     "name": "stdout",
     "output_type": "stream",
     "text": [
      "one is: ['two']\n",
      "two is: ['three']\n",
      "three is: ['one']\n"
     ]
    }
   ],
   "source": [
    "# C\n",
    "\n",
    "def mess_with_vars(one, two, three):\n",
    "    one[0] = \"two\"\n",
    "    two[0] = \"three\"\n",
    "    three[0] = \"one\"\n",
    "\n",
    "one = [\"one\"]\n",
    "two = [\"two\"]\n",
    "three = [\"three\"]\n",
    "\n",
    "mess_with_vars(one, two, three)\n",
    "\n",
    "print(f\"one is: {one}\")\n",
    "print(f\"two is: {two}\")\n",
    "print(f\"three is: {three}\")"
   ]
  },
  {
   "cell_type": "markdown",
   "id": "d8914c2c-1000-4585-b469-8c097dd20b31",
   "metadata": {},
   "source": [
    "##### **Question 4:** Ben was tasked to write a simple Python function to determine whether an input string is an IP address using 4 dot-separated numbers, e.g., `10.4.5.11`.\n",
    "\n",
    "##### Alyssa supplied Ben with a function named `is_an_ip_number`. It determines whether a string is a numeric string between `0` and `255` as required for IP numbers and asked Ben to use it. Here's the code that Ben wrote:\n",
    "\n",
    "```python\n",
    "def is_dot_separated_ip_address(input_string):\n",
    "    dot_separated_words = input_string.split(\".\")\n",
    "    while len(dot_separated_words) > 0:\n",
    "        word = dot_separated_words.pop()\n",
    "        if not is_an_ip_number(word):\n",
    "            break\n",
    "\n",
    "    return True\n",
    "```\n",
    "\n",
    "##### Alyssa reviewed Ben's code and said, \"It's a good start, but you missed a few things. You're not returning a false condition, and you're not handling the case when the input string has more or less than 4 components, e.g., `4.5.5` or `1.2.3.4.5`: both those values should be invalid.\"\n",
    "\n",
    "##### Help Ben fix his code."
   ]
  },
  {
   "cell_type": "code",
   "execution_count": 100,
   "id": "a36d3c89-d68f-4fd3-8dab-72b822ff2a47",
   "metadata": {},
   "outputs": [],
   "source": [
    "def is_dot_separated_ip_address(input_string):\n",
    "    dot_separated_words = input_string.split(\".\")\n",
    "\n",
    "    if len(dot_separated_words) != 4:\n",
    "        return False\n",
    "\n",
    "    def is_an_ip_number(word):\n",
    "        try:\n",
    "            int(word)\n",
    "        except ValueError:\n",
    "            return False\n",
    "        else:\n",
    "            integer = int(word)\n",
    "            return 0 <= integer <= 255\n",
    "\n",
    "    while len(dot_separated_words) > 0:\n",
    "        word = dot_separated_words.pop()\n",
    "        if not is_an_ip_number(word):\n",
    "            return False\n",
    "\n",
    "    return True"
   ]
  },
  {
   "cell_type": "code",
   "execution_count": 101,
   "id": "750e953a-a7f6-4c64-b149-87a769c86e26",
   "metadata": {},
   "outputs": [
    {
     "name": "stdout",
     "output_type": "stream",
     "text": [
      "False\n",
      "False\n",
      "True\n"
     ]
    }
   ],
   "source": [
    "# Test number of components\n",
    "print(is_dot_separated_ip_address('4.5.6'))\n",
    "print(is_dot_separated_ip_address('4.5.6.7.8'))\n",
    "print(is_dot_separated_ip_address('4.5.6.7'))"
   ]
  },
  {
   "cell_type": "code",
   "execution_count": 102,
   "id": "4f9316ad-173a-4d66-b841-f5f445f61f31",
   "metadata": {},
   "outputs": [
    {
     "name": "stdout",
     "output_type": "stream",
     "text": [
      "False\n",
      "False\n",
      "True\n"
     ]
    }
   ],
   "source": [
    "# Test False condition\n",
    "print(is_dot_separated_ip_address('456.5.6.7'))\n",
    "print(is_dot_separated_ip_address('4.5.6.hello'))\n",
    "print(is_dot_separated_ip_address('4.5.6.7'))"
   ]
  },
  {
   "cell_type": "code",
   "execution_count": 103,
   "id": "5f8f8e31-fc8f-426b-aaee-2dd9d5aab80b",
   "metadata": {},
   "outputs": [],
   "source": [
    "# Launch School Solution 4\n",
    "def is_dot_separated_ip_address(input_string):\n",
    "    dot_separated_words = input_string.split(\".\")\n",
    "\n",
    "    if len(dot_separated_words) != 4:\n",
    "        return False\n",
    "\n",
    "    def is_an_ip_number(str):\n",
    "        if str.isdigit():\n",
    "            number = int(str)\n",
    "            return 0 <= number <= 255\n",
    "        return False\n",
    "\n",
    "    while len(dot_separated_words) > 0:\n",
    "        word = dot_separated_words.pop()\n",
    "        if not is_an_ip_number(word):\n",
    "            return False\n",
    "\n",
    "    return True"
   ]
  },
  {
   "cell_type": "code",
   "execution_count": 104,
   "id": "5802d4e3-c366-48bf-b529-6c23bbafc39c",
   "metadata": {},
   "outputs": [
    {
     "name": "stdout",
     "output_type": "stream",
     "text": [
      "False\n",
      "False\n",
      "True\n"
     ]
    }
   ],
   "source": [
    "# Test number of components with Launch School Solution 4\n",
    "print(is_dot_separated_ip_address('4.5.6'))\n",
    "print(is_dot_separated_ip_address('4.5.6.7.8'))\n",
    "print(is_dot_separated_ip_address('4.5.6.7'))"
   ]
  },
  {
   "cell_type": "code",
   "execution_count": 106,
   "id": "597484ac-c3f6-4ff0-a4e9-8bad7b4bc4b9",
   "metadata": {},
   "outputs": [
    {
     "name": "stdout",
     "output_type": "stream",
     "text": [
      "False\n",
      "False\n",
      "True\n"
     ]
    }
   ],
   "source": [
    "# Test False condition with Launch School Solution 4\n",
    "print(is_dot_separated_ip_address('456.5.6.7'))\n",
    "print(is_dot_separated_ip_address('4.5.6.hello'))\n",
    "print(is_dot_separated_ip_address('4.5.6.7'))"
   ]
  },
  {
   "cell_type": "markdown",
   "id": "58c7c01d-0174-4dff-a425-23bc895200dd",
   "metadata": {},
   "source": [
    "I do like that my code uses a `try` / `except` block. I feel like that's a nice touch."
   ]
  },
  {
   "cell_type": "markdown",
   "id": "39a8133a-ca99-48a2-8ea3-3640251361b4",
   "metadata": {},
   "source": [
    "##### **Question 5:** What do you expect to happen when the `greeting` variable is referenced in the last line of the code below?\n",
    "```python\n",
    "if False:\n",
    "    greeting = \"hello world\"\n",
    "\n",
    "print(greeting)\n",
    "```"
   ]
  },
  {
   "cell_type": "markdown",
   "id": "f83af5ab-3a09-4f90-a68c-daec4f746578",
   "metadata": {},
   "source": [
    "When the `greeting` variable is referenced in the last line of the code below, it will throw a `NameError` because `greeting` has not been defined according to Python. Nothing within the `if` block is executed since the `if` condition can never be met."
   ]
  },
  {
   "cell_type": "code",
   "execution_count": 107,
   "id": "1c793ed7-eda8-4462-9604-8e9082b9e1a0",
   "metadata": {},
   "outputs": [
    {
     "ename": "NameError",
     "evalue": "name 'greeting' is not defined",
     "output_type": "error",
     "traceback": [
      "\u001b[0;31m---------------------------------------------------------------------------\u001b[0m",
      "\u001b[0;31mNameError\u001b[0m                                 Traceback (most recent call last)",
      "Cell \u001b[0;32mIn[107], line 4\u001b[0m\n\u001b[1;32m      1\u001b[0m \u001b[38;5;28;01mif\u001b[39;00m \u001b[38;5;28;01mFalse\u001b[39;00m:\n\u001b[1;32m      2\u001b[0m     greeting \u001b[38;5;241m=\u001b[39m \u001b[38;5;124m\"\u001b[39m\u001b[38;5;124mhello world\u001b[39m\u001b[38;5;124m\"\u001b[39m\n\u001b[0;32m----> 4\u001b[0m \u001b[38;5;28mprint\u001b[39m(\u001b[43mgreeting\u001b[49m)\n",
      "\u001b[0;31mNameError\u001b[0m: name 'greeting' is not defined"
     ]
    }
   ],
   "source": [
    "if False:\n",
    "    greeting = \"hello world\"\n",
    "\n",
    "print(greeting)"
   ]
  },
  {
   "cell_type": "code",
   "execution_count": null,
   "id": "172baccc-61e8-4e5a-b2d9-5b1079149083",
   "metadata": {},
   "outputs": [],
   "source": []
  }
 ],
 "metadata": {
  "kernelspec": {
   "display_name": "Python 3 (ipykernel)",
   "language": "python",
   "name": "python3"
  },
  "language_info": {
   "codemirror_mode": {
    "name": "ipython",
    "version": 3
   },
   "file_extension": ".py",
   "mimetype": "text/x-python",
   "name": "python",
   "nbconvert_exporter": "python",
   "pygments_lexer": "ipython3",
   "version": "3.13.1"
  }
 },
 "nbformat": 4,
 "nbformat_minor": 5
}
