{
 "cells": [
  {
   "cell_type": "markdown",
   "id": "0562f400-8603-4591-baa3-1d8f644b31f8",
   "metadata": {},
   "source": [
    "# PY101 - Programming Foundations with Python: Basics\n",
    "### Lesson 3 Practice Problems: Easy 3"
   ]
  },
  {
   "cell_type": "markdown",
   "id": "0812a5ca-17ba-4fc3-9532-92c437b4d530",
   "metadata": {},
   "source": [
    "##### **Question 1:** Write two different ways to remove all of the elements from the following list:"
   ]
  },
  {
   "cell_type": "code",
   "execution_count": 2,
   "id": "d2191642-8b38-481c-b0a6-17aa43b6bfd4",
   "metadata": {},
   "outputs": [
    {
     "name": "stdout",
     "output_type": "stream",
     "text": [
      "[]\n"
     ]
    }
   ],
   "source": [
    "# Way 1\n",
    "numbers = [1, 2, 3, 4]\n",
    "numbers.clear()\n",
    "print(numbers)"
   ]
  },
  {
   "cell_type": "code",
   "execution_count": 3,
   "id": "17980946-b270-4698-b97b-c53761c6f5fd",
   "metadata": {},
   "outputs": [
    {
     "name": "stdout",
     "output_type": "stream",
     "text": [
      "[]\n"
     ]
    }
   ],
   "source": [
    "# Way 2\n",
    "numbers = [1, 2, 3, 4]\n",
    "for i in range(len(numbers)):\n",
    "    numbers.pop()\n",
    "\n",
    "print(numbers)"
   ]
  },
  {
   "cell_type": "code",
   "execution_count": 4,
   "id": "79d69485-c712-432e-9a75-567870869fdc",
   "metadata": {},
   "outputs": [
    {
     "name": "stdout",
     "output_type": "stream",
     "text": [
      "[]\n"
     ]
    }
   ],
   "source": [
    "# Launch School Solution 1\n",
    "numbers = [1, 2, 3, 4]\n",
    "while numbers:\n",
    "   numbers.pop()\n",
    "\n",
    "print(numbers)"
   ]
  },
  {
   "cell_type": "markdown",
   "id": "d7032705-c66c-4ba2-b10c-5d77d7dda7da",
   "metadata": {},
   "source": [
    "##### **Question 2:** What will the following code output? Try to answer without running the code.\n",
    "```python\n",
    "print([1, 2, 3] + [4, 5])\n",
    "```"
   ]
  },
  {
   "cell_type": "markdown",
   "id": "6c4b8a7d-f6c8-4086-b520-60eb64b7f1b1",
   "metadata": {},
   "source": [
    "The code will output a single list with elements `[1, 2, 3, 4, 5]`."
   ]
  },
  {
   "cell_type": "code",
   "execution_count": 5,
   "id": "25b3bf9d-116c-49a1-9a53-9ce180cebd48",
   "metadata": {},
   "outputs": [
    {
     "name": "stdout",
     "output_type": "stream",
     "text": [
      "[1, 2, 3, 4, 5]\n"
     ]
    }
   ],
   "source": [
    "print([1, 2, 3] + [4, 5])"
   ]
  },
  {
   "cell_type": "markdown",
   "id": "274d045f-983b-4711-b97d-0c8bf87781bd",
   "metadata": {},
   "source": [
    "##### **Question 3:** What will the following code output? Try to answer without running the code.\n",
    "```python\n",
    "str1 = \"hello there\"\n",
    "str2 = str1\n",
    "str2 = \"goodbye!\"\n",
    "print(str1)\n",
    "```"
   ]
  },
  {
   "cell_type": "markdown",
   "id": "645b16f7-2772-4c6b-aac9-4efe021fd2ce",
   "metadata": {},
   "source": [
    "The code will output `hello there`. The variables `str1` and `str2` point to the same memory object following the execution of line 2 above; however, the alias is broken when either variable is reassigned. Here, `str2` is reassigned to `goodbye!`, but `str1` retains its original assignment as `hello there`."
   ]
  },
  {
   "cell_type": "code",
   "execution_count": 10,
   "id": "e1abe4e3-ebf6-493f-a2a1-bacbfcb38e92",
   "metadata": {},
   "outputs": [
    {
     "name": "stdout",
     "output_type": "stream",
     "text": [
      "hello there\n"
     ]
    }
   ],
   "source": [
    "str1 = \"hello there\"\n",
    "str2 = str1\n",
    "str2 = \"goodbye!\"\n",
    "print(str1)"
   ]
  },
  {
   "cell_type": "markdown",
   "id": "9884c702-7ae5-45dc-834d-c693b91df00a",
   "metadata": {},
   "source": [
    "##### **Question 4:** What will the following code output? Try to answer without running the code.¶\n",
    "```python\n",
    "my_list1 = [{\"first\": \"value1\"}, {\"second\": \"value2\"}, 3, 4, 5]\n",
    "my_list2 = my_list1.copy()\n",
    "my_list2[0]['first'] = 42\n",
    "print(my_list1)\n",
    "```"
   ]
  },
  {
   "cell_type": "markdown",
   "id": "d88a031a-40b5-4b00-8384-88ae5e11a6fc",
   "metadata": {},
   "source": [
    "The code will output `[{\"first\": 42}, {\"second\": \"value2\"}, 3, 4, 5]`. The method `copy()` on line 2 creates a shallow copy of `my_list1`. A *shallow copy* of an object is a duplicate of the original object's outermost (topmost) level. Any nested objects within the copied object are NOT duplicated, and thus subject to mutation by any alias."
   ]
  },
  {
   "cell_type": "code",
   "execution_count": 12,
   "id": "3da7a80a-7fb4-465b-a616-7574b4f0da60",
   "metadata": {},
   "outputs": [
    {
     "name": "stdout",
     "output_type": "stream",
     "text": [
      "[{'first': 42}, {'second': 'value2'}, 3, 4, 5]\n"
     ]
    }
   ],
   "source": [
    "my_list1 = [{\"first\": \"value1\"}, {\"second\": \"value2\"}, 3, 4, 5]\n",
    "my_list2 = my_list1.copy()\n",
    "my_list2[0]['first'] = 42\n",
    "print(my_list1)"
   ]
  },
  {
   "cell_type": "markdown",
   "id": "c2b64b09-d529-42a0-b640-6e5a609a53d6",
   "metadata": {},
   "source": [
    "##### **Question 5:** The following function unnecessarily uses two `return` statements to return boolean values. Can you rewrite this function so it only has one `return` statement and does not explicitly use either `True` or `False`? Try to come up with two different solutions.\n",
    "```python\n",
    "def is_color_valid(color):\n",
    "    if color == \"blue\" or color == \"green\":\n",
    "        return True\n",
    "    else:\n",
    "        return False\n",
    "```"
   ]
  },
  {
   "cell_type": "code",
   "execution_count": 13,
   "id": "27c8d785-54bd-4769-baf6-9a04122b4d78",
   "metadata": {},
   "outputs": [
    {
     "name": "stdout",
     "output_type": "stream",
     "text": [
      "True\n",
      "True\n",
      "False\n"
     ]
    }
   ],
   "source": [
    "# Solution 1\n",
    "def is_color_valid(color):\n",
    "    return color in ['blue', 'green']\n",
    "\n",
    "print(is_color_valid('blue'))\n",
    "print(is_color_valid('green'))\n",
    "print(is_color_valid('yellow'))"
   ]
  },
  {
   "cell_type": "code",
   "execution_count": 14,
   "id": "2dfe1e56-50fd-4e35-bf68-65bda26b6678",
   "metadata": {},
   "outputs": [
    {
     "name": "stdout",
     "output_type": "stream",
     "text": [
      "True\n",
      "True\n",
      "False\n"
     ]
    }
   ],
   "source": [
    "# Solution 2\n",
    "def is_color_valid(color):\n",
    "    return (color == 'blue') or (color == 'green')\n",
    "\n",
    "print(is_color_valid('blue'))\n",
    "print(is_color_valid('green'))\n",
    "print(is_color_valid('yellow'))"
   ]
  },
  {
   "cell_type": "code",
   "execution_count": null,
   "id": "aa26e8e5-0780-4557-9aae-85d1a14adc00",
   "metadata": {},
   "outputs": [],
   "source": []
  }
 ],
 "metadata": {
  "kernelspec": {
   "display_name": "Python 3 (ipykernel)",
   "language": "python",
   "name": "python3"
  },
  "language_info": {
   "codemirror_mode": {
    "name": "ipython",
    "version": 3
   },
   "file_extension": ".py",
   "mimetype": "text/x-python",
   "name": "python",
   "nbconvert_exporter": "python",
   "pygments_lexer": "ipython3",
   "version": "3.13.1"
  }
 },
 "nbformat": 4,
 "nbformat_minor": 5
}
