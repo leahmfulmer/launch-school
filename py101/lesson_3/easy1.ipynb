{
 "cells": [
  {
   "cell_type": "markdown",
   "id": "de60509c-3595-4146-929f-e16e2d94f1e6",
   "metadata": {},
   "source": [
    "# PY101 - Programming Foundations with Python: Basics\n",
    "### Lesson 3 Practice Problems: Easy 1"
   ]
  },
  {
   "cell_type": "markdown",
   "id": "c22a5237-c11c-4b02-9c61-82f1b37f2d6e",
   "metadata": {},
   "source": [
    "##### **Question 1:** Will the code below raise an error?\n",
    "```python\n",
    "numbers = [1, 2, 3]\n",
    "numbers[6] = 5\n",
    "```"
   ]
  },
  {
   "cell_type": "markdown",
   "id": "e614f831-481b-42e8-a751-9275e8cd363d",
   "metadata": {},
   "source": [
    "The above code will raise an `IndexError`. There are only 3 elements in the list `numbers`; thus the index `6` is out of range."
   ]
  },
  {
   "cell_type": "code",
   "execution_count": 1,
   "id": "6c41d4ff-0aa0-4876-b1b5-077f35601ea6",
   "metadata": {},
   "outputs": [
    {
     "ename": "IndexError",
     "evalue": "list assignment index out of range",
     "output_type": "error",
     "traceback": [
      "\u001b[0;31m---------------------------------------------------------------------------\u001b[0m",
      "\u001b[0;31mIndexError\u001b[0m                                Traceback (most recent call last)",
      "Cell \u001b[0;32mIn[1], line 2\u001b[0m\n\u001b[1;32m      1\u001b[0m numbers \u001b[38;5;241m=\u001b[39m [\u001b[38;5;241m1\u001b[39m, \u001b[38;5;241m2\u001b[39m, \u001b[38;5;241m3\u001b[39m]\n\u001b[0;32m----> 2\u001b[0m \u001b[43mnumbers\u001b[49m\u001b[43m[\u001b[49m\u001b[38;5;241;43m6\u001b[39;49m\u001b[43m]\u001b[49m \u001b[38;5;241m=\u001b[39m \u001b[38;5;241m5\u001b[39m\n",
      "\u001b[0;31mIndexError\u001b[0m: list assignment index out of range"
     ]
    }
   ],
   "source": [
    "numbers = [1, 2, 3]\n",
    "numbers[6] = 5"
   ]
  },
  {
   "cell_type": "markdown",
   "id": "574ff0f3-8478-4682-9e7a-629781ee6125",
   "metadata": {},
   "source": [
    "##### **Question 2:** How can you determine whether a given string ends with an exclamation mark (!)? Write some code that prints `True` or `False` depending on whether the string ends with an exclamation mark."
   ]
  },
  {
   "cell_type": "code",
   "execution_count": 4,
   "id": "2269a5c4-49b0-47ce-885a-be70b59a3b6b",
   "metadata": {},
   "outputs": [
    {
     "name": "stdout",
     "output_type": "stream",
     "text": [
      "True\n",
      "False\n"
     ]
    }
   ],
   "source": [
    "# Approach 1\n",
    "\n",
    "str1 = \"Come over here!\"  # True\n",
    "str2 = \"What's up, Doc?\"  # False\n",
    "\n",
    "def exclamation(string):\n",
    "    return string[-1] == '!'\n",
    "\n",
    "print(exclamation(str1))\n",
    "print(exclamation(str2))"
   ]
  },
  {
   "cell_type": "code",
   "execution_count": 6,
   "id": "4b4bd4ec-b19a-4c43-9a18-42f422347450",
   "metadata": {},
   "outputs": [
    {
     "name": "stdout",
     "output_type": "stream",
     "text": [
      "True\n",
      "False\n"
     ]
    }
   ],
   "source": [
    "# Approach 2\n",
    "\n",
    "str1 = \"Come over here!\"  # True\n",
    "str2 = \"What's up, Doc?\"  # False\n",
    "\n",
    "print(str1.endswith(\"!\"))\n",
    "print(str2.endswith(\"!\"))"
   ]
  },
  {
   "cell_type": "markdown",
   "id": "f5a2835b-bb6f-4f8f-b8b3-7245cedf102d",
   "metadata": {},
   "source": [
    "##### **Question 3:** Starting with the string:\n",
    "\n",
    "```python\n",
    "famous_words = \"seven years ago...\"\n",
    "```\n",
    "\n",
    "Show two different ways to create a new string with \"Four score and \" prepended to the front of the string."
   ]
  },
  {
   "cell_type": "code",
   "execution_count": 8,
   "id": "d5d5991a-136c-4e27-bfae-b4cd947d2555",
   "metadata": {},
   "outputs": [
    {
     "name": "stdout",
     "output_type": "stream",
     "text": [
      "Four score and seven years ago...\n"
     ]
    }
   ],
   "source": [
    "# Way 1\n",
    "famous_words = \"seven years ago...\"\n",
    "\n",
    "new_string = \"Four score and \" + famous_words\n",
    "print(new_string)"
   ]
  },
  {
   "cell_type": "code",
   "execution_count": 9,
   "id": "c9900ff7-27ff-4d00-a090-793b42c5146b",
   "metadata": {},
   "outputs": [
    {
     "name": "stdout",
     "output_type": "stream",
     "text": [
      "Four score and seven years ago...\n"
     ]
    }
   ],
   "source": [
    "# Way 2\n",
    "famous_words = \"seven years ago...\"\n",
    "\n",
    "new_string = f'Four score and {famous_words}'\n",
    "print(new_string)"
   ]
  },
  {
   "cell_type": "markdown",
   "id": "e468de51-5c43-4795-a57f-a6eb466c2bcc",
   "metadata": {},
   "source": [
    "##### **Question 4:** Using the following string, print a string that contains the same value, but using all lowercase letters except for the first character, which should be capitalized."
   ]
  },
  {
   "cell_type": "code",
   "execution_count": 12,
   "id": "1c10a2cc-a52b-4aa0-9286-11ccff4560ca",
   "metadata": {},
   "outputs": [
    {
     "name": "stdout",
     "output_type": "stream",
     "text": [
      "The munsters are creepy and spooky.\n"
     ]
    }
   ],
   "source": [
    "munsters_description = \"the Munsters are CREEPY and Spooky.\"\n",
    "# => 'The munsters are creepy and spooky.'\n",
    "\n",
    "print(munsters_description.capitalize())"
   ]
  },
  {
   "cell_type": "markdown",
   "id": "7165ffe4-25ad-4c19-831a-a31a8236e3ae",
   "metadata": {},
   "source": [
    "##### **Question 5:** Starting with the string:\n",
    "```python\n",
    "munsters_description = \"The Munsters are creepy and spooky.\"\n",
    "```\n",
    "print the string with the case of all letters swapped:\n",
    "```python\n",
    "\"tHE mUNSTERS ARE CREEPY AND SPOOKY.\"\n",
    "```\n",
    "That is, lowercase letters are converted to uppercase, and uppercase letters are converted to lowercase."
   ]
  },
  {
   "cell_type": "code",
   "execution_count": 13,
   "id": "f59386b3-5897-4000-919f-f11a84ba2c56",
   "metadata": {},
   "outputs": [
    {
     "name": "stdout",
     "output_type": "stream",
     "text": [
      "tHE mUNSTERS ARE CREEPY AND SPOOKY.\n"
     ]
    }
   ],
   "source": [
    "munsters_description = \"The Munsters are creepy and spooky.\"\n",
    "print(munsters_description.swapcase())"
   ]
  },
  {
   "cell_type": "markdown",
   "id": "4659f2a5-33a9-4d19-9ebc-c53daf1c4418",
   "metadata": {},
   "source": [
    "##### **Question 6:** Determine whether the name `Dino` appears in the strings below -- check each string separately."
   ]
  },
  {
   "cell_type": "code",
   "execution_count": 15,
   "id": "860bbeda-106f-47d8-b91c-a096ecf97271",
   "metadata": {},
   "outputs": [
    {
     "name": "stdout",
     "output_type": "stream",
     "text": [
      "False\n",
      "True\n"
     ]
    }
   ],
   "source": [
    "str1 = \"Few things in life are as important as house training your pet dinosaur.\"\n",
    "str2 = \"Fred and Wilma have a pet dinosaur named Dino.\"\n",
    "\n",
    "print('Dino' in str1)\n",
    "print('Dino' in str2)"
   ]
  },
  {
   "cell_type": "markdown",
   "id": "377870d4-110e-41b7-9d94-acb1321d5917",
   "metadata": {},
   "source": [
    "##### **Question 7:** How can we add the family pet, `\"Dino\"`, to the following list?"
   ]
  },
  {
   "cell_type": "code",
   "execution_count": 21,
   "id": "c655583e-c70d-4197-ade7-a55bed4abb80",
   "metadata": {},
   "outputs": [
    {
     "name": "stdout",
     "output_type": "stream",
     "text": [
      "['Fred', 'Barney', 'Wilma', 'Betty', 'Bambam', 'Pebbles', 'Dino']\n"
     ]
    }
   ],
   "source": [
    "flintstones = [\"Fred\", \"Barney\", \"Wilma\", \"Betty\", \"Bambam\", \"Pebbles\"]\n",
    "flintstones.append(\"Dino\")\n",
    "print(flintstones)"
   ]
  },
  {
   "cell_type": "markdown",
   "id": "1b6b008e-2f52-41fa-9d1d-ed78b3bdc6cf",
   "metadata": {},
   "source": [
    "##### **Question 8:** How can we add multiple items to our list (e.g., `'Dino'` and `'Hoppy'`)? Replace the call to append with another method invocation."
   ]
  },
  {
   "cell_type": "code",
   "execution_count": 23,
   "id": "80b6cdb2-6ca8-440b-9fd2-fef28d51a8f6",
   "metadata": {},
   "outputs": [
    {
     "name": "stdout",
     "output_type": "stream",
     "text": [
      "['Fred', 'Barney', 'Wilma', 'Betty', 'Bambam', 'Pebbles', 'Dino', 'Hoppy']\n"
     ]
    }
   ],
   "source": [
    "flintstones = [\"Fred\", \"Barney\", \"Wilma\", \"Betty\", \"Bambam\", \"Pebbles\"]\n",
    "flintstones.extend([\"Dino\", \"Hoppy\"])\n",
    "print(flintstones)"
   ]
  },
  {
   "cell_type": "markdown",
   "id": "3a550068-1c4a-47ed-bd45-a42dcb3d770a",
   "metadata": {},
   "source": [
    "##### **Question 9:** Print a new version of the sentence given by `advice` that ends just before the word `house`. Don't worry about spaces or punctuation: remove everything starting from the beginning of `house` to the end of the sentence."
   ]
  },
  {
   "cell_type": "code",
   "execution_count": 24,
   "id": "ceb30bb5-e7c6-4c2e-b462-5aab441da078",
   "metadata": {},
   "outputs": [
    {
     "name": "stdout",
     "output_type": "stream",
     "text": [
      "Few things in life are as important as \n"
     ]
    }
   ],
   "source": [
    "advice = \"Few things in life are as important as house training your pet dinosaur.\"\n",
    "# Expected output:\n",
    "# Few things in life are as important as\n",
    "\n",
    "print(advice.split('house')[0])"
   ]
  },
  {
   "cell_type": "markdown",
   "id": "b94bc483-92ee-4721-bf1a-4d3179d2b45f",
   "metadata": {},
   "source": [
    "##### **Question 10:** Print the following string with the word `important` replaced by `urgent`:"
   ]
  },
  {
   "cell_type": "code",
   "execution_count": 27,
   "id": "2c7e73cd-cb19-4f13-bf82-e8357e48a0fa",
   "metadata": {},
   "outputs": [
    {
     "name": "stdout",
     "output_type": "stream",
     "text": [
      "Few things in life are as urgent as house training your pet dinosaur.\n"
     ]
    }
   ],
   "source": [
    "advice = \"Few things in life are as important as house training your pet dinosaur.\"\n",
    "new_advice = advice.replace('important', 'urgent')\n",
    "print(new_advice)"
   ]
  },
  {
   "cell_type": "code",
   "execution_count": null,
   "id": "c32afb3e-adec-4459-a420-54e1b64308d7",
   "metadata": {},
   "outputs": [],
   "source": []
  }
 ],
 "metadata": {
  "kernelspec": {
   "display_name": "Python 3 (ipykernel)",
   "language": "python",
   "name": "python3"
  },
  "language_info": {
   "codemirror_mode": {
    "name": "ipython",
    "version": 3
   },
   "file_extension": ".py",
   "mimetype": "text/x-python",
   "name": "python",
   "nbconvert_exporter": "python",
   "pygments_lexer": "ipython3",
   "version": "3.13.1"
  }
 },
 "nbformat": 4,
 "nbformat_minor": 5
}
