{
 "cells": [
  {
   "cell_type": "markdown",
   "id": "aac082f4-e1ec-4bae-a0b3-8ab7caa22f0a",
   "metadata": {},
   "source": [
    "# Introduction to Programming with Python\n",
    "### The Object Model: Exercises"
   ]
  },
  {
   "cell_type": "markdown",
   "id": "9d89ca5e-ed92-4da8-b31e-e6959f0276e7",
   "metadata": {},
   "source": [
    "##### 1. How do we create a class and an object in Python? \n",
    "\n",
    "##### Write a program that defines a class and creates two objects from that class. The class should have at least one instance variable that gets initialized by the initializer. \n",
    "\n",
    "##### What class you create doesn't matter, provided it satisfies the above requirements."
   ]
  },
  {
   "cell_type": "code",
   "execution_count": 35,
   "id": "ccdb4d8d-f7e8-4a4b-84d5-5b24df255b5f",
   "metadata": {},
   "outputs": [],
   "source": [
    "class Devotion:\n",
    "\n",
    "    def __init__(self, name):\n",
    "        self.name = name\n",
    "\n",
    "    def worship(self):\n",
    "        print(f'Jai {self.name}!')\n",
    "\n",
    "    def kirtan(self):\n",
    "        print(f'{self.name} says, \"Kali, Kali!\"')"
   ]
  },
  {
   "cell_type": "code",
   "execution_count": 36,
   "id": "d92878b0-0291-4bb8-a287-416cdb59590b",
   "metadata": {},
   "outputs": [],
   "source": [
    "# Initialize class instances\n",
    "ramakrishna = Devotion('Sri Ramakrishna')\n",
    "sarada = Devotion('Holy Mother')"
   ]
  },
  {
   "cell_type": "code",
   "execution_count": 37,
   "id": "c675f807-13fd-48ff-8e88-56748e2ba3e0",
   "metadata": {},
   "outputs": [
    {
     "name": "stdout",
     "output_type": "stream",
     "text": [
      "Jai Sri Ramakrishna!\n",
      "Jai Holy Mother!\n"
     ]
    }
   ],
   "source": [
    "ramakrishna.worship(), \n",
    "sarada.worship()"
   ]
  },
  {
   "cell_type": "code",
   "execution_count": 38,
   "id": "3a4de26e-3ce8-489f-8262-bbdbac373c81",
   "metadata": {},
   "outputs": [
    {
     "name": "stdout",
     "output_type": "stream",
     "text": [
      "Sri Ramakrishna says, \"Kali, Kali!\"\n",
      "Holy Mother says, \"Kali, Kali!\"\n"
     ]
    }
   ],
   "source": [
    "ramakrishna.kirtan()\n",
    "sarada.kirtan()"
   ]
  },
  {
   "cell_type": "code",
   "execution_count": null,
   "id": "7234cf4f-7208-4fe6-99d2-07efb5c4f7ca",
   "metadata": {},
   "outputs": [],
   "source": []
  }
 ],
 "metadata": {
  "kernelspec": {
   "display_name": "Python 3 (ipykernel)",
   "language": "python",
   "name": "python3"
  },
  "language_info": {
   "codemirror_mode": {
    "name": "ipython",
    "version": 3
   },
   "file_extension": ".py",
   "mimetype": "text/x-python",
   "name": "python",
   "nbconvert_exporter": "python",
   "pygments_lexer": "ipython3",
   "version": "3.12.5"
  }
 },
 "nbformat": 4,
 "nbformat_minor": 5
}
