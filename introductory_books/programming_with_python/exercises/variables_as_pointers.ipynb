{
 "cells": [
  {
   "cell_type": "markdown",
   "id": "a0136314-19e8-4ac0-b8e5-7f7ce8af1230",
   "metadata": {},
   "source": [
    "# Introduction to Programming with Python\n",
    "### Variables as Pointers: Exercises"
   ]
  },
  {
   "cell_type": "markdown",
   "id": "f3999950-8d04-4bbd-9744-e07b82007933",
   "metadata": {},
   "source": [
    "##### 1. In your own words, explain the difference between these two expressions.\n",
    "\n",
    "`my_object1 == my_object2`<br>\n",
    "`my_object1 is my_object2`"
   ]
  },
  {
   "cell_type": "markdown",
   "id": "401dc906-8373-4c16-bc0d-c074d091e69b",
   "metadata": {},
   "source": [
    "The first expression tests **equality**; it checks that the variables point to objects of the same type, with the same contents, and in the same order, if ordered. The second expression tests **sameness**; it checks that the variables point to the same address/object in memory."
   ]
  },
  {
   "cell_type": "markdown",
   "id": "ca22aaa0-d797-4907-9c95-fc37c85245df",
   "metadata": {},
   "source": [
    "##### 2. Without running this code, what will it print? Why? Don't worry about having an exact match for the output. The important part is to show something that accurately represents `set2`."
   ]
  },
  {
   "cell_type": "code",
   "execution_count": 6,
   "id": "e8c875d2-60da-49fd-8afc-6c48c3284888",
   "metadata": {},
   "outputs": [
    {
     "name": "stdout",
     "output_type": "stream",
     "text": [
      "{('a', 'b', 'c'), 42, range(5, 10), 'Monty Python'}\n"
     ]
    }
   ],
   "source": [
    "set1 = {42, 'Monty Python', ('a', 'b', 'c')}\n",
    "set2 = set1\n",
    "set1.add(range(5, 10))\n",
    "print(set2)              # {42, 'Monty Python', ('a', 'b', 'c'), range(5, 10)}"
   ]
  },
  {
   "cell_type": "markdown",
   "id": "a221f7fe-bafb-4a99-8a11-780ac8e9ab85",
   "metadata": {},
   "source": [
    "The third line, `set1.add(range(5, 10))` mutates `set1`. Because `set2` is a shallow copy of `set1`, `set2` takes on the addition of `range(5, 10)` as well."
   ]
  },
  {
   "cell_type": "markdown",
   "id": "24b43e33-9a30-4a02-8e2b-1d1a571117aa",
   "metadata": {},
   "source": [
    "##### 3. Without running this code, what will it print? Why?"
   ]
  },
  {
   "cell_type": "code",
   "execution_count": 8,
   "id": "df0048ee-8da3-4df4-805a-ebe633e01ccb",
   "metadata": {},
   "outputs": [
    {
     "name": "stdout",
     "output_type": "stream",
     "text": [
      "The Life of Brian\n"
     ]
    }
   ],
   "source": [
    "dict1 = {\n",
    "    \"Hitchhiker's Guide to the Galaxy\": 42,\n",
    "    'Monty Python': 'The Life of Brian',\n",
    "    'Airplane!': \"Don't call me Shirley!\",\n",
    "}\n",
    "\n",
    "dict2 = dict(dict1)\n",
    "dict2['Monty Python'] = 'Holy Grail'\n",
    "print(dict1['Monty Python'])      # The Life of Brian"
   ]
  },
  {
   "cell_type": "markdown",
   "id": "e046cb88-6182-4d5f-8c56-ce863a3ea23a",
   "metadata": {},
   "source": [
    "The mutation of `dict2`, a shallow copy of `dict1`, does not change the original `dict1`."
   ]
  },
  {
   "cell_type": "markdown",
   "id": "4a36ddce-b916-4de9-9d46-45f1c3b9eb87",
   "metadata": {},
   "source": [
    "##### 4. Without running this code, what will it print? Why?"
   ]
  },
  {
   "cell_type": "code",
   "execution_count": 9,
   "id": "dd4cfc08-56f0-4a00-bcbe-1ec0c5d8ccbf",
   "metadata": {},
   "outputs": [
    {
     "name": "stdout",
     "output_type": "stream",
     "text": [
      "[1, 42, 3]\n"
     ]
    }
   ],
   "source": [
    "dict1 = {\n",
    "    'a': [1, 2, 3],\n",
    "    'b': (4, 5, 6),\n",
    "}\n",
    "\n",
    "dict2 = dict(dict1)\n",
    "dict1['a'][1] = 42\n",
    "print(dict2['a'])     # [1, 42, 3]"
   ]
  },
  {
   "cell_type": "markdown",
   "id": "6354d500-c715-408a-9d63-da2fd7dd091a",
   "metadata": {},
   "source": [
    "The dict object assigned to the variable `dict2` reflects mutations to its original `dict1`."
   ]
  },
  {
   "cell_type": "markdown",
   "id": "d2c91723-c284-4a3b-a989-d231fe51e0a8",
   "metadata": {},
   "source": [
    "##### 5. Write some code to create a deep copy of the `dict1` object and assign it to `dict2`. You should only modify the code where indicated.# You may modify this line\n",
    "\n",
    "dict1 = {\n",
    "    'a': [[7, 1], ['aa', 'aaa']],\n",
    "    'b': ([3, 2], ['bb', 'bbb']),\n",
    "}\n",
    "\n",
    "dict2 = ??? # You may modify the `???` part\n",
    "            # of this line\n",
    "\n",
    "# All of these should print False\n",
    "print(dict1         is dict2)\n",
    "print(dict1['a']    is dict2['a'])\n",
    "print(dict1['a'][0] is dict2['a'][0])\n",
    "print(dict1['a'][1] is dict2['a'][1])\n",
    "print(dict1['b']    is dict2['b'])\n",
    "print(dict1['b'][0] is dict2['b'][0])\n",
    "print(dict1['b'][1] is dict2['b'][1])"
   ]
  },
  {
   "cell_type": "code",
   "execution_count": 10,
   "id": "3f031b66-7a07-453e-8951-f41a1f4ae8a9",
   "metadata": {},
   "outputs": [
    {
     "name": "stdout",
     "output_type": "stream",
     "text": [
      "False\n",
      "False\n",
      "False\n",
      "False\n",
      "False\n",
      "False\n",
      "False\n"
     ]
    }
   ],
   "source": [
    "import copy\n",
    "\n",
    "dict1 = {\n",
    "    'a': [[7, 1], ['aa', 'aaa']],\n",
    "    'b': ([3, 2], ['bb', 'bbb']),\n",
    "}\n",
    "\n",
    "dict2 = copy.deepcopy(dict1)\n",
    "\n",
    "# All of these should print False\n",
    "print(dict1         is dict2)\n",
    "print(dict1['a']    is dict2['a'])\n",
    "print(dict1['a'][0] is dict2['a'][0])\n",
    "print(dict1['a'][1] is dict2['a'][1])\n",
    "print(dict1['b']    is dict2['b'])\n",
    "print(dict1['b'][0] is dict2['b'][0])\n",
    "print(dict1['b'][1] is dict2['b'][1])"
   ]
  },
  {
   "cell_type": "markdown",
   "id": "e6052eb4-37c3-427d-8b48-b4e746692e8d",
   "metadata": {},
   "source": [
    "##### 6. The following program is nearly identical to that of the previous exercise. However, this time, it should create a shallow copy of `dict1`. Be careful: **you're not allowed to use the `copy` module in this exercise.**"
   ]
  },
  {
   "cell_type": "code",
   "execution_count": 12,
   "id": "077c23c1-a8c0-4b44-b263-9e30d23ba284",
   "metadata": {},
   "outputs": [
    {
     "name": "stdout",
     "output_type": "stream",
     "text": [
      "False\n",
      "True\n",
      "True\n",
      "True\n",
      "True\n",
      "True\n",
      "True\n"
     ]
    }
   ],
   "source": [
    "dict1 = {\n",
    "    'a': [{7, 1}, ['aa', 'aaa']],\n",
    "    'b': ({3, 2}, ['bb', 'bbb']),\n",
    "}\n",
    "\n",
    "dict2 = dict(dict1)\n",
    "\n",
    "print(dict1         is dict2)\n",
    "print(dict1['a']    is dict2['a'])\n",
    "print(dict1['a'][0] is dict2['a'][0])\n",
    "print(dict1['a'][1] is dict2['a'][1])\n",
    "print(dict1['b']    is dict2['b'])\n",
    "print(dict1['b'][0] is dict2['b'][0])\n",
    "print(dict1['b'][1] is dict2['b'][1])"
   ]
  }
 ],
 "metadata": {
  "kernelspec": {
   "display_name": "Python 3 (ipykernel)",
   "language": "python",
   "name": "python3"
  },
  "language_info": {
   "codemirror_mode": {
    "name": "ipython",
    "version": 3
   },
   "file_extension": ".py",
   "mimetype": "text/x-python",
   "name": "python",
   "nbconvert_exporter": "python",
   "pygments_lexer": "ipython3",
   "version": "3.12.5"
  }
 },
 "nbformat": 4,
 "nbformat_minor": 5
}
