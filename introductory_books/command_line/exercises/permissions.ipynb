{
 "cells": [
  {
   "cell_type": "markdown",
   "id": "5ed76916-8c7e-442a-9d6e-430d92464600",
   "metadata": {},
   "source": [
    "# Introduction to the Command Line\n",
    "### Files, Directories, and Executables: Exercises"
   ]
  },
  {
   "cell_type": "markdown",
   "id": "124f4fa9-2579-4251-b0dc-b3b1ef43455b",
   "metadata": {},
   "source": [
    "##### 1. Which user and group are assigned to the /etc folder on your computer?"
   ]
  },
  {
   "cell_type": "code",
   "execution_count": 1,
   "id": "fa9d790b-2034-4f1d-9d09-6b69b8f40731",
   "metadata": {},
   "outputs": [
    {
     "name": "stdout",
     "output_type": "stream",
     "text": [
      "lrwxr-xr-x@ 1 root  wheel  11 Feb 28  2024 \u001b[35m/etc\u001b[m\u001b[m -> private/etc\n"
     ]
    }
   ],
   "source": [
    "!ls -l /etc"
   ]
  },
  {
   "cell_type": "markdown",
   "id": "74f2ea41-da7e-4e56-8468-16467c5bf7d0",
   "metadata": {},
   "source": [
    "The user is `root` and the group is `wheel`."
   ]
  },
  {
   "cell_type": "markdown",
   "id": "d86f591c-fead-49f5-b097-4e85e6319ac2",
   "metadata": {},
   "source": [
    "##### 2. Which user and group are assigned to the $HOME folder?"
   ]
  },
  {
   "cell_type": "code",
   "execution_count": 2,
   "id": "8335a4d7-e805-4bea-b758-262228beb361",
   "metadata": {},
   "outputs": [
    {
     "name": "stdout",
     "output_type": "stream",
     "text": [
      "total 0\n",
      "drwx------+  4 leahmfulmer  staff   128 Sep 11 15:58 \u001b[34mDesktop\u001b[m\u001b[m\n",
      "drwx------+  7 leahmfulmer  staff   224 Aug 28 12:22 \u001b[34mDocuments\u001b[m\u001b[m\n",
      "drwx------+  5 leahmfulmer  staff   160 Sep 18 08:02 \u001b[34mDownloads\u001b[m\u001b[m\n",
      "drwx------@ 93 leahmfulmer  staff  2976 Sep  5 15:33 \u001b[34mLibrary\u001b[m\u001b[m\n",
      "drwx------   4 leahmfulmer  staff   128 Aug  8 15:49 \u001b[34mMovies\u001b[m\u001b[m\n",
      "drwx------+  4 leahmfulmer  staff   128 Aug  9 17:25 \u001b[34mMusic\u001b[m\u001b[m\n",
      "drwx------+  4 leahmfulmer  staff   128 Aug  9 14:43 \u001b[34mPictures\u001b[m\u001b[m\n",
      "drwxr-xr-x+  4 leahmfulmer  staff   128 Aug  8 15:37 \u001b[34mPublic\u001b[m\u001b[m\n"
     ]
    }
   ],
   "source": [
    "!ls -l $HOME"
   ]
  },
  {
   "cell_type": "markdown",
   "id": "abcec4cc-1a35-4e66-ac59-dc93e88aefcd",
   "metadata": {},
   "source": [
    "The user is `leahmfulmer` and the group is `staff`."
   ]
  },
  {
   "cell_type": "markdown",
   "id": "3cb26f91-50f4-4cae-b7d4-04e06f547df8",
   "metadata": {},
   "source": [
    "##### 3. What are mary's permissions for the `napkins` file in the following outputs?\n",
    "\n",
    "`$ groups mary`<br>\n",
    "`mary travelers vip`<br>\n",
    "`$ ls -l custodian_closet`<br>\n",
    "`total 0`<br>\n",
    "`-rw-rw----  1 acmeair acmeair 0 Jul 21 17:57 napkins`<br>\n",
    "`-rw-rw----  1 acmeair acmeair 0 Jul 21 17:57 paper_towels`"
   ]
  },
  {
   "cell_type": "markdown",
   "id": "eca9dcee-dfa6-40f4-be8e-619d43972034",
   "metadata": {},
   "source": [
    "Mary is not part of the `acmeair` group. Mary is in the `other` group and thus has no permissions (`---`)."
   ]
  },
  {
   "cell_type": "markdown",
   "id": "ac82dc8b-3d50-4cf2-8d0e-391f3a8a324f",
   "metadata": {},
   "source": [
    "##### 4. What are mary's permissions to the `donuts` file in the following example:\n",
    "\n",
    "`$ groups`<br>\n",
    "`mary travelers vip`<br>\n",
    "`$ ls -l vip_lounge`<br>\n",
    "`$ ls -l ./`<br>\n",
    "`...`<br>\n",
    "`-rw-rw----  1 acmeair  vip  0 Jul 21 17:57 donuts`<br>\n",
    "`...`"
   ]
  },
  {
   "cell_type": "markdown",
   "id": "c3464485-7964-4d68-a03d-85ae1b06b2f7",
   "metadata": {},
   "source": [
    "Mary is in the `vip` group, and thus has reading and writing permissions only (`rw-`)."
   ]
  },
  {
   "cell_type": "markdown",
   "id": "1bb56bc2-a20c-4be4-96f7-089af544f4bd",
   "metadata": {},
   "source": [
    "##### 5. What are mary's permissions to the `laptop` file in the following example? What are the permissions for the group `acmeinc`?\n",
    "\n",
    "`$ ls -l vip_lounge`<br>\n",
    "`...`<br>\n",
    "`-r-xrwx---  1 mary acmeinc 0 Jul 21 17:57 laptop`<br>\n",
    "`...`"
   ]
  },
  {
   "cell_type": "markdown",
   "id": "c189f852-a184-46fb-a294-1c14da55b63d",
   "metadata": {},
   "source": [
    "As the `user`, Mary has read and execute permissions only (`r-w`). The group `acmeinc` has read, write, and execute permissions (`rwx`)."
   ]
  },
  {
   "cell_type": "code",
   "execution_count": null,
   "id": "e1924dbd-c257-4308-8f71-1a35d6d72428",
   "metadata": {},
   "outputs": [],
   "source": []
  }
 ],
 "metadata": {
  "kernelspec": {
   "display_name": "Python 3 (ipykernel)",
   "language": "python",
   "name": "python3"
  },
  "language_info": {
   "codemirror_mode": {
    "name": "ipython",
    "version": 3
   },
   "file_extension": ".py",
   "mimetype": "text/x-python",
   "name": "python",
   "nbconvert_exporter": "python",
   "pygments_lexer": "ipython3",
   "version": "3.12.5"
  }
 },
 "nbformat": 4,
 "nbformat_minor": 5
}
