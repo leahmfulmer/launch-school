{
 "cells": [
  {
   "cell_type": "markdown",
   "id": "55e5fa73-8ee4-4552-825b-01bdf52036b7",
   "metadata": {},
   "source": [
    "# PY101-PY109 Small Problems\n",
    "### Easy 3"
   ]
  },
  {
   "cell_type": "markdown",
   "id": "52e168a7-4b8d-4a9f-aa7e-f9196c012cbf",
   "metadata": {},
   "source": [
    "##### **Repeat Yourself:** Write a function that takes two arguments, a string and a positive integer, then prints the string as many times as the integer indicates."
   ]
  },
  {
   "cell_type": "code",
   "execution_count": 1,
   "id": "28e7f429-6e55-4515-bd57-6b4adbce4eea",
   "metadata": {},
   "outputs": [],
   "source": [
    "def repeat(string, integer):\n",
    "    for i in range(integer):\n",
    "        print(string)"
   ]
  },
  {
   "cell_type": "code",
   "execution_count": 2,
   "id": "56977a87-33cd-4c4f-a8b3-c6fd9f3602ed",
   "metadata": {},
   "outputs": [
    {
     "name": "stdout",
     "output_type": "stream",
     "text": [
      "Hello\n",
      "Hello\n",
      "Hello\n",
      "Hello\n"
     ]
    }
   ],
   "source": [
    "repeat('Hello', 4)"
   ]
  },
  {
   "cell_type": "markdown",
   "id": "df67c1e9-00ab-4ac3-a987-af2ec163b295",
   "metadata": {},
   "source": [
    "##### **ddaaiillyy ddoouubbllee:** Write a function that takes a string argument and returns a new string that contains the value of the original string with all consecutive duplicate characters collapsed into a single character."
   ]
  },
  {
   "cell_type": "code",
   "execution_count": 3,
   "id": "fd845edb-d310-4094-b3b7-b3a59c2edf4a",
   "metadata": {},
   "outputs": [],
   "source": [
    "def crunch(string):\n",
    "    if len(string) == 0:\n",
    "        return string\n",
    "        \n",
    "    letter_list = []\n",
    "\n",
    "    for i in range(len(string) - 1):\n",
    "        if string[i] != string[i+ 1]:\n",
    "            letter_list.append(string[i])\n",
    "\n",
    "    letter_list.append(string[-1])\n",
    "    crunched = ''.join(letter_list)\n",
    "    \n",
    "    return crunched"
   ]
  },
  {
   "cell_type": "code",
   "execution_count": 4,
   "id": "315249cf-26bc-4584-97b1-d4b87737354a",
   "metadata": {},
   "outputs": [
    {
     "name": "stdout",
     "output_type": "stream",
     "text": [
      "True\n",
      "True\n",
      "True\n",
      "True\n",
      "True\n",
      "True\n"
     ]
    }
   ],
   "source": [
    "# These examples should all print True\n",
    "print(crunch('ddaaiillyy ddoouubbllee') == 'daily double')\n",
    "print(crunch('4444abcabccba') == '4abcabcba')\n",
    "print(crunch('ggggggggggggggg') == 'g')\n",
    "print(crunch('abc') == 'abc')\n",
    "print(crunch('a') == 'a')\n",
    "print(crunch('') == '')"
   ]
  },
  {
   "cell_type": "markdown",
   "id": "6d5cce49-b0f4-45f1-89f1-21df2fc0075c",
   "metadata": {},
   "source": [
    "##### **Bannerizer:** Write a function that takes a short line of text and prints it within a box."
   ]
  },
  {
   "cell_type": "code",
   "execution_count": 5,
   "id": "6ba9811f-1659-4dda-88f0-e6d95d9cd120",
   "metadata": {},
   "outputs": [],
   "source": [
    "def print_in_box(string):\n",
    "    length = len(string)\n",
    "    \n",
    "    print('+-', '-'*length, '-+', sep='')\n",
    "    print('| ', ' '*length, ' |', sep='')\n",
    "    print('| ', string, ' |', sep='')\n",
    "    print('| ', ' '*length, ' |', sep='')\n",
    "    print('+-', '-'*length, '-+', sep='')"
   ]
  },
  {
   "cell_type": "code",
   "execution_count": 6,
   "id": "788b3a3b-0d9f-4725-b8cc-5c7106b50846",
   "metadata": {},
   "outputs": [
    {
     "name": "stdout",
     "output_type": "stream",
     "text": [
      "+--------------------------------------------+\n",
      "|                                            |\n",
      "| To boldly go where no one has gone before. |\n",
      "|                                            |\n",
      "+--------------------------------------------+\n"
     ]
    }
   ],
   "source": [
    "print_in_box('To boldly go where no one has gone before.')"
   ]
  },
  {
   "cell_type": "code",
   "execution_count": 7,
   "id": "e6a5999d-4baf-4813-a586-97a39930edfa",
   "metadata": {},
   "outputs": [
    {
     "name": "stdout",
     "output_type": "stream",
     "text": [
      "+--+\n",
      "|  |\n",
      "|  |\n",
      "|  |\n",
      "+--+\n"
     ]
    }
   ],
   "source": [
    "print_in_box('')"
   ]
  },
  {
   "cell_type": "markdown",
   "id": "bb0c2cde-a8d3-44f8-b3c3-439aedddfa56",
   "metadata": {},
   "source": [
    "##### **Strings Strings:** Write a function that takes one argument, a positive integer, and returns a string of alternating `'1'`s and `'0'`s, always starting with a `'1'`. The length of the string should match the given integer."
   ]
  },
  {
   "cell_type": "code",
   "execution_count": 8,
   "id": "302ca846-6447-45ca-a26c-4c73fdbe5691",
   "metadata": {},
   "outputs": [],
   "source": [
    "def stringy(integer):\n",
    "    number_list = []\n",
    "\n",
    "    for i in range(integer):\n",
    "        if i % 2 == 0:\n",
    "            number_list.append('1')\n",
    "        else:\n",
    "            number_list.append('0')\n",
    "\n",
    "    return ''.join(number_list)"
   ]
  },
  {
   "cell_type": "code",
   "execution_count": 9,
   "id": "bd0c6291-0fbb-4497-bae5-cebc3c2af36a",
   "metadata": {},
   "outputs": [
    {
     "name": "stdout",
     "output_type": "stream",
     "text": [
      "True\n",
      "True\n",
      "True\n",
      "True\n"
     ]
    }
   ],
   "source": [
    "print(stringy(6) == \"101010\")           # True\n",
    "print(stringy(9) == \"101010101\")        # True\n",
    "print(stringy(4) == \"1010\")             # True\n",
    "print(stringy(7) == \"1010101\")          # True"
   ]
  },
  {
   "cell_type": "markdown",
   "id": "78d30c25-e544-4600-b2f5-511bfcd3b044",
   "metadata": {},
   "source": [
    "##### **Right Triangles:** Write a function that takes a positive integer, `n`, as an argument and prints a right triangle whose sides each have n stars. The hypotenuse of the triangle (the diagonal side in the images below) should have one end at the lower-left of the triangle, and the other end at the upper-right."
   ]
  },
  {
   "cell_type": "code",
   "execution_count": 10,
   "id": "f70a9a2d-af84-4060-86cd-97126e5dc93e",
   "metadata": {},
   "outputs": [],
   "source": [
    "def triangle(integer):\n",
    "    for i in range(1, integer+1):\n",
    "        print(' '*(integer-i), '*'*i, sep='')"
   ]
  },
  {
   "cell_type": "code",
   "execution_count": 11,
   "id": "09f06ce0-ecd3-4fa3-813f-5fa41d01a994",
   "metadata": {},
   "outputs": [
    {
     "name": "stdout",
     "output_type": "stream",
     "text": [
      "    *\n",
      "   **\n",
      "  ***\n",
      " ****\n",
      "*****\n"
     ]
    }
   ],
   "source": [
    "triangle(5)"
   ]
  },
  {
   "cell_type": "code",
   "execution_count": 12,
   "id": "5a1849a7-0c20-4313-b29a-1357c87a759e",
   "metadata": {},
   "outputs": [
    {
     "name": "stdout",
     "output_type": "stream",
     "text": [
      "        *\n",
      "       **\n",
      "      ***\n",
      "     ****\n",
      "    *****\n",
      "   ******\n",
      "  *******\n",
      " ********\n",
      "*********\n"
     ]
    }
   ],
   "source": [
    "triangle(9)"
   ]
  },
  {
   "cell_type": "markdown",
   "id": "81579cb8-2979-4daa-88ca-8fbb3dd5ab3e",
   "metadata": {},
   "source": [
    "##### **Madlibs:** Madlibs is a simple game where you create a story template with \"blanks\" for words. You, or another player, then construct a list of words and place them into the story, creating an often silly or funny story as a result. Create a simple madlib program that prompts for a noun, a verb, an adverb, and an adjective, and injects them into a story that you create."
   ]
  },
  {
   "cell_type": "code",
   "execution_count": 13,
   "id": "8087f64e-99a4-4257-93b7-8acf2a41424e",
   "metadata": {},
   "outputs": [],
   "source": [
    "def madlibs():\n",
    "    noun = input('Enter a noun: ')\n",
    "    verb = input('Enter a verb: ')\n",
    "    adjective = input('Enter an adjective: ')\n",
    "    adverb = input('Enter an adverb: ')\n",
    "\n",
    "    print(f\"Do you {verb} your {adjective} {noun} {adverb}? That's hilarious!\")\n",
    "    print(f\"The {adjective} {noun} {verb}s {adverb} over the lazy dog.\")\n",
    "    print(f\"The {noun} {adverb} {verb}s up to Joe's {adjective} turtle.\")"
   ]
  },
  {
   "cell_type": "code",
   "execution_count": 14,
   "id": "4e0beebe-748f-4501-8c0c-83873d9cbf37",
   "metadata": {},
   "outputs": [
    {
     "name": "stdin",
     "output_type": "stream",
     "text": [
      "Enter a noun:  dog\n",
      "Enter a verb:  walk\n",
      "Enter an adjective:  blue\n",
      "Enter an adverb:  quickly\n"
     ]
    },
    {
     "name": "stdout",
     "output_type": "stream",
     "text": [
      "Do you walk your blue dog quickly? That's hilarious!\n",
      "The blue dog walks quickly over the lazy dog.\n",
      "The dog quickly walks up to Joe's blue turtle.\n"
     ]
    }
   ],
   "source": [
    "madlibs()"
   ]
  },
  {
   "cell_type": "markdown",
   "id": "42547b6b-3d21-4b14-976e-606c414ce6c4",
   "metadata": {},
   "source": [
    "##### **Double Doubles:** A double number is an even-length number whose left-side digits are exactly the same as its right-side digits. For example, `44`, `3333`, `103103`, and `7676` are all double numbers, whereas `444`, `334433`, and `107` are not. Write a function that returns the number provided as an argument multiplied by two, unless the argument is a double number. If the argument is a double number, return the double number as-is."
   ]
  },
  {
   "cell_type": "code",
   "execution_count": 15,
   "id": "0551830c-df83-4896-99e0-cd4f987d7bae",
   "metadata": {},
   "outputs": [],
   "source": [
    "def twice(num):\n",
    "    string = (str(num))\n",
    "    length = len(string)\n",
    "    \n",
    "    first_half = string[:length//2]\n",
    "    second_half = string[length//2:]\n",
    "    \n",
    "    if first_half == second_half:\n",
    "        return num\n",
    "    else:\n",
    "        return num * 2"
   ]
  },
  {
   "cell_type": "code",
   "execution_count": 16,
   "id": "c35cc2b3-f5fe-4923-8c9f-cdb9f7a647e0",
   "metadata": {},
   "outputs": [
    {
     "name": "stdout",
     "output_type": "stream",
     "text": [
      "True\n",
      "True\n",
      "True\n",
      "True\n",
      "True\n",
      "True\n",
      "True\n",
      "True\n"
     ]
    }
   ],
   "source": [
    "print(twice(37) == 74)                  # True\n",
    "print(twice(44) == 44)                  # True\n",
    "print(twice(334433) == 668866)          # True\n",
    "print(twice(444) == 888)                # True\n",
    "print(twice(107) == 214)                # True\n",
    "print(twice(103103) == 103103)          # True\n",
    "print(twice(3333) == 3333)              # True\n",
    "print(twice(7676) == 7676)              # True"
   ]
  },
  {
   "cell_type": "markdown",
   "id": "fd7d88d5-a9db-4fbb-8f2a-92876dc2a2d3",
   "metadata": {},
   "source": [
    "##### **Grade Book:** Write a function that determines the mean (average) of the three scores passed to it, and returns the letter associated with that grade.\n",
    "\n",
    "##### Numerical score letter grade list:\n",
    "\n",
    "`90 <= score <= 100: 'A'`<br>\n",
    "`80 <= score < 90: 'B'`<br>\n",
    "`70 <= score < 80: 'C'`<br>\n",
    "`60 <= score < 70: 'D'`<br>\n",
    "`0 <= score < 60: 'F'`\n",
    "\n",
    "##### Tested values are all between 0 and 100. There is no need to check for negative values or values greater than 100."
   ]
  },
  {
   "cell_type": "code",
   "execution_count": 17,
   "id": "2e40a0b7-1ced-4308-8206-5bcc6ebfe98d",
   "metadata": {},
   "outputs": [],
   "source": [
    "def get_grade(num1, num2, num3):\n",
    "    average = (num1 + num2 + num3) / 3\n",
    "    \n",
    "    if average >= 90:\n",
    "        return \"A\"\n",
    "    elif average >= 80:\n",
    "        return \"B\"\n",
    "    elif average >= 70:\n",
    "        return \"C\"\n",
    "    elif average >= 60:\n",
    "        return \"D\"\n",
    "    else:\n",
    "        return \"F\""
   ]
  },
  {
   "cell_type": "code",
   "execution_count": 18,
   "id": "95067900-77dc-45ee-9683-ef2965ca8664",
   "metadata": {},
   "outputs": [
    {
     "name": "stdout",
     "output_type": "stream",
     "text": [
      "True\n",
      "True\n"
     ]
    }
   ],
   "source": [
    "print(get_grade(95, 90, 93) == \"A\")      # True\n",
    "print(get_grade(50, 50, 95) == \"D\")      # True"
   ]
  },
  {
   "cell_type": "markdown",
   "id": "ebbdcd8f-00a8-4bcd-9730-7e4aac5a8cc2",
   "metadata": {},
   "source": [
    "##### **Clean up the words:** Given a string that consists of some words and an assortment of non-alphabetic characters, write a function that returns that string with all of the non-alphabetic characters replaced by spaces. If one or more non-alphabetic characters occur in a row, you should only have one space in the result (i.e., the result string should never have consecutive spaces)."
   ]
  },
  {
   "cell_type": "code",
   "execution_count": 19,
   "id": "062c51ee-863c-40fd-85ce-7e32d55229f0",
   "metadata": {},
   "outputs": [],
   "source": [
    "def clean_up(string):\n",
    "\n",
    "    # convert all non-alpha characters to spaces\n",
    "    for character in string:\n",
    "        if not character.isalpha():\n",
    "            string = string.replace(character, ' ')\n",
    "\n",
    "    # add any leading and trailing characters\n",
    "    string = '+'+string+'+'\n",
    "\n",
    "    # split and rejoin to convert multiple spaces to single space\n",
    "    string = ' '.join(string.split())\n",
    "\n",
    "    # remove leading and trailing characters\n",
    "    string = string[1:-1]\n",
    "    \n",
    "    return string"
   ]
  },
  {
   "cell_type": "code",
   "execution_count": 20,
   "id": "af71199f-ed51-406f-9e13-5b40b614588f",
   "metadata": {},
   "outputs": [
    {
     "name": "stdout",
     "output_type": "stream",
     "text": [
      "True\n"
     ]
    }
   ],
   "source": [
    "print(clean_up(\"---what's my +*& line?\") == \" what s my line \") # True"
   ]
  },
  {
   "cell_type": "markdown",
   "id": "9942e467-c2c3-471c-8d64-2af6e7d278dd",
   "metadata": {},
   "source": [
    "##### **What Century is That?** Write a function that takes a year as input and returns the century. The return value should be a string that begins with the century number, and ends with `'st'`, `'nd'`, `'rd'`, or `'th'` as appropriate for that number. New centuries begin in years that end with `01`. So, the years 1901 - 2000 comprise the 20th century."
   ]
  },
  {
   "cell_type": "code",
   "execution_count": 21,
   "id": "b4a5c896-69f6-403c-811c-488e089f9426",
   "metadata": {},
   "outputs": [],
   "source": [
    "import math\n",
    "\n",
    "def century(year):\n",
    "    century_num = str(math.ceil(year/100))\n",
    "    ultimate = century_num[-1]\n",
    "    suffix = None\n",
    "\n",
    "    match ultimate:\n",
    "        case '1':\n",
    "            suffix = 'st'\n",
    "        case '2':\n",
    "            suffix = 'nd'\n",
    "        case '3':\n",
    "            suffix = 'rd'\n",
    "        case _:\n",
    "            suffix = 'th'\n",
    "\n",
    "    if (len(century_num) > 1) and (ultimate in ['1', '2', '3']):\n",
    "        penultimate = century_num[-2]\n",
    "        \n",
    "        match penultimate:\n",
    "            case '1':\n",
    "                suffix = 'th'\n",
    "\n",
    "    return century_num+suffix"
   ]
  },
  {
   "cell_type": "code",
   "execution_count": 22,
   "id": "c7a76efc-c174-49f0-b6da-bfefe9580906",
   "metadata": {},
   "outputs": [
    {
     "name": "stdout",
     "output_type": "stream",
     "text": [
      "True\n",
      "True\n",
      "True\n",
      "True\n",
      "True\n",
      "True\n",
      "True\n",
      "True\n",
      "True\n"
     ]
    }
   ],
   "source": [
    "print(century(2000) == \"20th\")          # True\n",
    "print(century(2001) == \"21st\")          # True\n",
    "print(century(1965) == \"20th\")          # True\n",
    "print(century(256) == \"3rd\")            # True\n",
    "print(century(5) == \"1st\")              # True\n",
    "print(century(10103) == \"102nd\")        # True\n",
    "print(century(1052) == \"11th\")          # True\n",
    "print(century(1127) == \"12th\")          # True\n",
    "print(century(11201) == \"113th\")        # True"
   ]
  }
 ],
 "metadata": {
  "kernelspec": {
   "display_name": "Python 3 (ipykernel)",
   "language": "python",
   "name": "python3"
  },
  "language_info": {
   "codemirror_mode": {
    "name": "ipython",
    "version": 3
   },
   "file_extension": ".py",
   "mimetype": "text/x-python",
   "name": "python",
   "nbconvert_exporter": "python",
   "pygments_lexer": "ipython3",
   "version": "3.12.5"
  }
 },
 "nbformat": 4,
 "nbformat_minor": 5
}
