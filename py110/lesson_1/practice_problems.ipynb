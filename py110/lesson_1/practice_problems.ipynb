{
 "cells": [
  {
   "cell_type": "markdown",
   "id": "f7998e29-6175-4cbc-a4ad-74dd57a3ba68",
   "metadata": {},
   "source": [
    "# PY110 - Programming Foundations with Python: Intermediate\n",
    "### Lesson 1 Practice Problems"
   ]
  },
  {
   "cell_type": "markdown",
   "id": "78189950-1654-4f1b-a4e1-8f35652a031b",
   "metadata": {},
   "source": [
    "##### **Question 1:** Given the tuple:\n",
    "```python\n",
    "fruits = (\"apple\", \"banana\", \"cherry\", \"date\", \"banana\")\n",
    "```\n",
    "\n",
    "##### How would you count the number of occurrences of \"banana\" in the tuple?"
   ]
  },
  {
   "cell_type": "code",
   "execution_count": 1,
   "id": "e58d9a5c-7624-45ed-bf3f-3b1f7c540a54",
   "metadata": {},
   "outputs": [
    {
     "name": "stdout",
     "output_type": "stream",
     "text": [
      "Instances of 'banana': 2\n",
      "Instances of 'date': 1\n"
     ]
    }
   ],
   "source": [
    "# My solution\n",
    "\n",
    "def count_instance(my_tuple, my_fruit):\n",
    "    count = 0\n",
    "\n",
    "    for fruit in my_tuple:\n",
    "        if fruit == my_fruit:\n",
    "            count += 1\n",
    "\n",
    "    return count\n",
    "\n",
    "fruits = (\"apple\", \"banana\", \"cherry\", \"date\", \"banana\")\n",
    "print(\"Instances of 'banana':\", count_instance(fruits, \"banana\"))\n",
    "print(\"Instances of 'date':\", count_instance(fruits, \"date\"))"
   ]
  },
  {
   "cell_type": "code",
   "execution_count": 2,
   "id": "336ab8be-7e5b-42d2-acb4-91734a63c559",
   "metadata": {},
   "outputs": [
    {
     "name": "stdout",
     "output_type": "stream",
     "text": [
      "Instances of 'banana': 2\n",
      "Instances of 'date': 1\n"
     ]
    }
   ],
   "source": [
    "# Alternative solution\n",
    "\n",
    "fruits = (\"apple\", \"banana\", \"cherry\", \"date\", \"banana\")\n",
    "count = fruits.count(\"banana\")\n",
    "print(\"Instances of 'banana':\", count)\n",
    "\n",
    "count = fruits.count(\"date\")\n",
    "print(\"Instances of 'date':\", count)"
   ]
  },
  {
   "cell_type": "markdown",
   "id": "420c266a-fde9-4574-b9c5-c8ff77f1cba9",
   "metadata": {},
   "source": [
    "##### **Question 2:** Consider the set:\n",
    "```python\n",
    "numbers = {1, 2, 3, 4, 5, 5, 4, 3}\n",
    "print(len(numbers))\n",
    "```\n",
    "##### What is the set's length? Try to answer without running the code."
   ]
  },
  {
   "cell_type": "markdown",
   "id": "92d7d458-3100-4271-8919-ffce96885c54",
   "metadata": {},
   "source": [
    "The set's length is `5`. Because set objects only maintain unique elements, the redundant elements will be eliminated and the length of the set will represent only the unique values of `1`, `2`, `3`, `4`, and `5`."
   ]
  },
  {
   "cell_type": "code",
   "execution_count": 3,
   "id": "c16c465e-8e1d-48eb-8289-ab15dd884e82",
   "metadata": {},
   "outputs": [
    {
     "name": "stdout",
     "output_type": "stream",
     "text": [
      "5\n",
      "{1, 2, 3, 4, 5}\n"
     ]
    }
   ],
   "source": [
    "numbers = {1, 2, 3, 4, 5, 5, 4, 3}\n",
    "print(len(numbers))\n",
    "print(numbers)"
   ]
  },
  {
   "cell_type": "markdown",
   "id": "4c9f849a-6a87-4eec-8b42-4d783a524578",
   "metadata": {},
   "source": [
    "##### **Question 3:** Given two sets:\n",
    "```python\n",
    "a = {1, 2, 3, 4}\n",
    "b = {3, 4, 5, 6}\n",
    "```\n",
    "##### How would you obtain a set that contains all the unique values from both sets?"
   ]
  },
  {
   "cell_type": "code",
   "execution_count": 4,
   "id": "1b1a3efd-939a-42a6-98df-ded2114401c5",
   "metadata": {},
   "outputs": [
    {
     "name": "stdout",
     "output_type": "stream",
     "text": [
      "{1, 2, 3, 4, 5, 6}\n"
     ]
    }
   ],
   "source": [
    "# My solution\n",
    "\n",
    "a = {1, 2, 3, 4}\n",
    "b = {3, 4, 5, 6}\n",
    "\n",
    "union_set = a.union(b)\n",
    "print(union_set)"
   ]
  },
  {
   "cell_type": "code",
   "execution_count": 5,
   "id": "16a462f2-dac0-4499-a129-58ba645a3d35",
   "metadata": {},
   "outputs": [
    {
     "name": "stdout",
     "output_type": "stream",
     "text": [
      "{1, 2, 3, 4, 5, 6}\n"
     ]
    }
   ],
   "source": [
    "# Alternative solution\n",
    "\n",
    "union_set = a | b\n",
    "print(union_set)"
   ]
  },
  {
   "cell_type": "markdown",
   "id": "d8914c2c-1000-4585-b469-8c097dd20b31",
   "metadata": {},
   "source": [
    "##### **Question 4:** Given the following code, what would the output be? Try to answer without running the code.\n",
    "\n",
    "```python\n",
    "names = [\"Fred\", \"Barney\", \"Wilma\", \"Betty\", \"Pebbles\", \"Bambam\"] \n",
    "name_positions = {}\n",
    "\n",
    "for index, name in enumerate(names):\n",
    "    name_positions[name] = index \n",
    "    \n",
    "print(name_positions)\n",
    "```"
   ]
  },
  {
   "cell_type": "markdown",
   "id": "2dd0c44e-d2d4-47c9-9db7-3c9dfc769405",
   "metadata": {},
   "source": [
    "The output of the above code would be the following dictionary object:\n",
    "\n",
    "```python\n",
    "{\n",
    "    \"Fred\": 0,\n",
    "    \"Barney\": 1,\n",
    "    \"Wilma\": 2,\n",
    "    \"Betty\": 3,\n",
    "    \"Pebbles\": 4,\n",
    "    \"Bambam\": 5,\n",
    "}\n",
    "\n",
    "```\n",
    "Line 2 defines an empty dictionary, which is then populated within the subsequent `for` loop. In each iteration of the `for` loop, an element is added to the dictionary which contains a name from the list object `names` as its key and the index associated with that name as its value. The populated dictionary is then printed to the console."
   ]
  },
  {
   "cell_type": "code",
   "execution_count": 6,
   "id": "26cfbbaf-4aeb-431d-aea2-8e719a91cad7",
   "metadata": {},
   "outputs": [
    {
     "name": "stdout",
     "output_type": "stream",
     "text": [
      "{'Fred': 0, 'Barney': 1, 'Wilma': 2, 'Betty': 3, 'Pebbles': 4, 'Bambam': 5}\n"
     ]
    }
   ],
   "source": [
    "names = [\"Fred\", \"Barney\", \"Wilma\", \"Betty\", \"Pebbles\", \"Bambam\"] \n",
    "name_positions = {}\n",
    "\n",
    "for index, name in enumerate(names):\n",
    "    name_positions[name] = index \n",
    "    \n",
    "print(name_positions)"
   ]
  },
  {
   "cell_type": "markdown",
   "id": "39a8133a-ca99-48a2-8ea3-3640251361b4",
   "metadata": {},
   "source": [
    "##### **Question 5:** Calculate the total age given the following dictionary:\n",
    "```python\n",
    "ages = { \n",
    "    \"Herman\": 32,\n",
    "    \"Lily\": 30, \n",
    "    \"Grandpa\": 5843, \n",
    "    \"Eddie\": 10, \n",
    "    \"Marilyn\": 22, \n",
    "    \"Spot\": 237,\n",
    "}\n",
    "\n",
    "```"
   ]
  },
  {
   "cell_type": "code",
   "execution_count": 7,
   "id": "1c793ed7-eda8-4462-9604-8e9082b9e1a0",
   "metadata": {},
   "outputs": [
    {
     "name": "stdout",
     "output_type": "stream",
     "text": [
      "Total age: 6174\n"
     ]
    }
   ],
   "source": [
    "# My solution\n",
    "\n",
    "ages = { \n",
    "    \"Herman\": 32,\n",
    "    \"Lily\": 30, \n",
    "    \"Grandpa\": 5843, \n",
    "    \"Eddie\": 10, \n",
    "    \"Marilyn\": 22, \n",
    "    \"Spot\": 237,\n",
    "}\n",
    "\n",
    "total_age = 0\n",
    "for age in ages.values():\n",
    "    total_age += age\n",
    "\n",
    "print(\"Total age:\", total_age)"
   ]
  },
  {
   "cell_type": "code",
   "execution_count": 8,
   "id": "172baccc-61e8-4e5a-b2d9-5b1079149083",
   "metadata": {},
   "outputs": [
    {
     "name": "stdout",
     "output_type": "stream",
     "text": [
      "Total age: 6174\n"
     ]
    }
   ],
   "source": [
    "# Alternative solution\n",
    "\n",
    "total_ages = sum(ages.values())\n",
    "print(\"Total age:\", total_age)"
   ]
  },
  {
   "cell_type": "markdown",
   "id": "0a7ee5ce-63ac-484e-8aa3-d1b8933b9581",
   "metadata": {},
   "source": [
    "##### **Question 6:** Determine the minimum age from the above `ages` dictionary."
   ]
  },
  {
   "cell_type": "code",
   "execution_count": 9,
   "id": "6ed60dfb-3469-40a6-be6f-f4eb5fb8c892",
   "metadata": {},
   "outputs": [
    {
     "name": "stdout",
     "output_type": "stream",
     "text": [
      "Minimum age: 10\n"
     ]
    }
   ],
   "source": [
    "ages = { \n",
    "    \"Herman\": 32,\n",
    "    \"Lily\": 30, \n",
    "    \"Grandpa\": 5843, \n",
    "    \"Eddie\": 10, \n",
    "    \"Marilyn\": 22, \n",
    "    \"Spot\": 237,\n",
    "}\n",
    "\n",
    "minimum_age = min(ages.values())\n",
    "print(\"Minimum age:\", minimum_age)"
   ]
  },
  {
   "cell_type": "markdown",
   "id": "73914172-3d0c-4c38-bcb6-b6e55173015e",
   "metadata": {},
   "source": [
    "##### **Question 7:** What would the following code output? Try to answer without running the code.\n",
    "\n",
    "```python\n",
    "words = ['ant', 'bear', 'cat'] \n",
    "selected_words = []\n",
    "for word in words:\n",
    "    if len(word) > 3: \n",
    "        selected_words.append(word)\n",
    "        \n",
    "print(selected_words)\n",
    "```"
   ]
  },
  {
   "cell_type": "markdown",
   "id": "a4d5263d-0a67-43e0-a3e2-256b140e5160",
   "metadata": {},
   "source": [
    "The output of the above code would be a list object with the string object `'bear'` as its only element: `['bear']`. Given the selection criterion on Line 4, only `'bear'` contains more than three characters, and is thus the only string appended to the list object referenced by `selected_words`."
   ]
  },
  {
   "cell_type": "code",
   "execution_count": 10,
   "id": "7b53a88f-47a8-4b6f-a695-d74626522bbd",
   "metadata": {},
   "outputs": [
    {
     "name": "stdout",
     "output_type": "stream",
     "text": [
      "['bear']\n"
     ]
    }
   ],
   "source": [
    "words = ['ant', 'bear', 'cat'] \n",
    "selected_words = []\n",
    "for word in words:\n",
    "    if len(word) > 3: \n",
    "        selected_words.append(word)\n",
    "        \n",
    "print(selected_words)"
   ]
  },
  {
   "cell_type": "markdown",
   "id": "e251d4c2-2eac-477a-8839-26e253f9521d",
   "metadata": {},
   "source": [
    "##### **Question 8:** Given the following string, create a dictionary that represents the frequency with which each letter occurs. The frequency count should be case-sensitive:\n",
    "\n",
    "```python\n",
    "statement = \"The Flintstones Rock\"\n",
    "```\n",
    "\n",
    "##### The output should resemble the following:\n",
    "```python\n",
    "{\n",
    "    'T': 1, \n",
    "    'h': 1, \n",
    "    'e': 2, \n",
    "    'F': 1, \n",
    "    'l': 1, \n",
    "    'i': 1, \n",
    "    'n': 2, \n",
    "    't': 2, \n",
    "    's': 2, \n",
    "    'o': 2, \n",
    "    'R': 1, \n",
    "    'c': 1, \n",
    "    'k': 1\n",
    "}\n",
    "```\n",
    "\n",
    "##### Your program may output the pairs in a different order."
   ]
  },
  {
   "cell_type": "code",
   "execution_count": 11,
   "id": "5d1600a7-b621-423b-abb6-723d82c70fab",
   "metadata": {},
   "outputs": [
    {
     "name": "stdout",
     "output_type": "stream",
     "text": [
      "{'T': 1, 'h': 1, 'e': 2, 'F': 1, 'l': 1, 'i': 1, 'n': 2, 't': 2, 's': 2, 'o': 2, 'R': 1, 'c': 1, 'k': 1}\n"
     ]
    }
   ],
   "source": [
    "# My solution\n",
    "\n",
    "statement = \"The Flintstones Rock\"\n",
    "statement = statement.replace(' ','')\n",
    "character_freq = {}\n",
    "\n",
    "for character in statement:\n",
    "    if character in character_freq:\n",
    "        character_freq[character] += 1\n",
    "    else:\n",
    "        character_freq[character] = 1\n",
    "\n",
    "print(character_freq)"
   ]
  },
  {
   "cell_type": "code",
   "execution_count": 12,
   "id": "144121f4-7c80-4a5a-bbad-b9d431a7a4a5",
   "metadata": {},
   "outputs": [
    {
     "name": "stdout",
     "output_type": "stream",
     "text": [
      "{'T': 1, 'h': 1, 'e': 2, 'F': 1, 'l': 1, 'i': 1, 'n': 2, 't': 2, 's': 2, 'o': 2, 'R': 1, 'c': 1, 'k': 1}\n"
     ]
    }
   ],
   "source": [
    "# Alternative solution\n",
    "\n",
    "character_freq = {}\n",
    "statement = statement.replace(' ','')\n",
    "\n",
    "for character in statement:\n",
    "    character_freq[character] = character_freq.get(character, 0) + 1\n",
    "\n",
    "print(character_freq)"
   ]
  },
  {
   "cell_type": "markdown",
   "id": "1810f44f-e8c2-40f5-ae84-0e7c5da2b453",
   "metadata": {},
   "source": [
    "##### **Question 9:** What is the return value of the list comprehension below? Try to answer without running the code.\n",
    "```python\n",
    "[num for num in [1, 2, 3] if num > 1]\n",
    "```"
   ]
  },
  {
   "cell_type": "markdown",
   "id": "e231b5c2-9c07-42b0-a58c-8176c75cbd2f",
   "metadata": {},
   "source": [
    "The return value of the above list comprehension is a list object with elements `2` and `3`: `[2, 3]`"
   ]
  },
  {
   "cell_type": "code",
   "execution_count": 13,
   "id": "cab02227-4665-4330-9773-c104b67d58fa",
   "metadata": {},
   "outputs": [
    {
     "data": {
      "text/plain": [
       "[2, 3]"
      ]
     },
     "execution_count": 13,
     "metadata": {},
     "output_type": "execute_result"
    }
   ],
   "source": [
    "[num for num in [1, 2, 3] if num > 1]"
   ]
  },
  {
   "cell_type": "markdown",
   "id": "94b6d8df-2a36-4a11-9401-953394b30012",
   "metadata": {},
   "source": [
    "##### **Question 10:** What does the following code print and why?\n",
    "```python\n",
    "dictionary = {'a': 'ant', 'b': 'bear'} \n",
    "print(dictionary.popitem())\n",
    "```"
   ]
  },
  {
   "cell_type": "markdown",
   "id": "843f6373-ffbc-4d3b-9822-ee0fe6199df2",
   "metadata": {},
   "source": [
    "The above code prints the dictionary `{'b': 'bear'}`. The dictionary method `.popitems()` removes and returns the last element that was added to the dictionary on which it was called. In this case, we know that `{'b': 'bear'}` is this final element, because it is last in the variable assignment of `dictionary`."
   ]
  },
  {
   "cell_type": "markdown",
   "id": "e0e8c074-b45c-4ba2-a3d9-3e2cfd39a3d7",
   "metadata": {},
   "source": [
    "##### **Question 11:** What does the following code return? Try to answer without running the code.\n",
    "```python\n",
    "lst = [1, 2, 3, 4, 5]\n",
    "lst[:2]\n",
    "```"
   ]
  },
  {
   "cell_type": "markdown",
   "id": "1cb78e86-dcea-4b3e-bd1a-afcda215e9db",
   "metadata": {},
   "source": [
    "The above code returns a list object whose values are `1` and `2`: `[1, 2]`."
   ]
  },
  {
   "cell_type": "code",
   "execution_count": 14,
   "id": "9e57f768-e494-43ee-b6f4-d4bfefeb04b8",
   "metadata": {},
   "outputs": [
    {
     "data": {
      "text/plain": [
       "[1, 2]"
      ]
     },
     "execution_count": 14,
     "metadata": {},
     "output_type": "execute_result"
    }
   ],
   "source": [
    "lst = [1, 2, 3, 4, 5]\n",
    "lst[:2]"
   ]
  },
  {
   "cell_type": "markdown",
   "id": "9255c05b-b82c-48e4-9fd5-3b4554b1ffa6",
   "metadata": {},
   "source": [
    "##### **Question 12:** What would be the output of the below code? Try to answer without running the code.\n",
    "```python\n",
    "frozen = frozenset([1, 2, 3, 4, 5])\n",
    "frozen.add(6)\n",
    "print(frozen)\n",
    "```"
   ]
  },
  {
   "cell_type": "markdown",
   "id": "71f58bc3-68e7-4a6b-98b9-68aa59ebdc91",
   "metadata": {},
   "source": [
    "The code would raise an exception on Line 2. Frozen sets are immutable, so there is no method `.add()` that can mutate a frozenset object, as intended in the code above."
   ]
  },
  {
   "cell_type": "code",
   "execution_count": 15,
   "id": "b2749f34-9401-4daa-abf8-e558cca2b23a",
   "metadata": {},
   "outputs": [
    {
     "ename": "AttributeError",
     "evalue": "'frozenset' object has no attribute 'add'",
     "output_type": "error",
     "traceback": [
      "\u001b[0;31m---------------------------------------------------------------------------\u001b[0m",
      "\u001b[0;31mAttributeError\u001b[0m                            Traceback (most recent call last)",
      "Cell \u001b[0;32mIn[15], line 2\u001b[0m\n\u001b[1;32m      1\u001b[0m frozen \u001b[38;5;241m=\u001b[39m \u001b[38;5;28mfrozenset\u001b[39m([\u001b[38;5;241m1\u001b[39m, \u001b[38;5;241m2\u001b[39m, \u001b[38;5;241m3\u001b[39m, \u001b[38;5;241m4\u001b[39m, \u001b[38;5;241m5\u001b[39m])\n\u001b[0;32m----> 2\u001b[0m \u001b[43mfrozen\u001b[49m\u001b[38;5;241;43m.\u001b[39;49m\u001b[43madd\u001b[49m(\u001b[38;5;241m6\u001b[39m)\n\u001b[1;32m      3\u001b[0m \u001b[38;5;28mprint\u001b[39m(frozen)\n",
      "\u001b[0;31mAttributeError\u001b[0m: 'frozenset' object has no attribute 'add'"
     ]
    }
   ],
   "source": [
    "frozen = frozenset([1, 2, 3, 4, 5])\n",
    "frozen.add(6)\n",
    "print(frozen)"
   ]
  },
  {
   "cell_type": "code",
   "execution_count": null,
   "id": "2a0c5740-6c41-44d8-a7e5-1ddaf0b3c16c",
   "metadata": {},
   "outputs": [],
   "source": []
  }
 ],
 "metadata": {
  "kernelspec": {
   "display_name": "Python 3 (ipykernel)",
   "language": "python",
   "name": "python3"
  },
  "language_info": {
   "codemirror_mode": {
    "name": "ipython",
    "version": 3
   },
   "file_extension": ".py",
   "mimetype": "text/x-python",
   "name": "python",
   "nbconvert_exporter": "python",
   "pygments_lexer": "ipython3",
   "version": "3.13.1"
  }
 },
 "nbformat": 4,
 "nbformat_minor": 5
}
