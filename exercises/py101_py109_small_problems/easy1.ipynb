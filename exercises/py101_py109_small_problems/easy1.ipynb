{
 "cells": [
  {
   "cell_type": "markdown",
   "id": "4893adb5-bd90-44d4-abca-db9cf2dbe299",
   "metadata": {},
   "source": [
    "# PY101-PY109 Small Problems\n",
    "### Easy 1"
   ]
  },
  {
   "cell_type": "markdown",
   "id": "025a034c-36fb-4711-9c36-a5acbcd9e50b",
   "metadata": {},
   "source": [
    "##### **Isn't it Odd?** Write a function that takes one integer argument and returns True when the number's absolute value is odd, False otherwise."
   ]
  },
  {
   "cell_type": "code",
   "execution_count": 1,
   "id": "2c86d5d5-e310-4936-8947-81b0f641c8f4",
   "metadata": {},
   "outputs": [],
   "source": [
    "def is_odd(value: int):\n",
    "    return abs(value) % 2 == 0"
   ]
  },
  {
   "cell_type": "code",
   "execution_count": 7,
   "id": "e0191293-e727-4e0b-aaf6-9cdb5f05319c",
   "metadata": {},
   "outputs": [
    {
     "name": "stdout",
     "output_type": "stream",
     "text": [
      "True\n",
      "False\n"
     ]
    }
   ],
   "source": [
    "print(is_odd(34))\n",
    "print(is_odd(-311))"
   ]
  },
  {
   "cell_type": "markdown",
   "id": "3aebddbb-9171-4e9d-8447-12ed926b771d",
   "metadata": {},
   "source": [
    "##### **Odd Numbers:** Print all odd numbers from 1 to 99, inclusive, with each number on a separate line. Can you solve the problem by iterating over just the odd numbers?\n"
   ]
  },
  {
   "cell_type": "code",
   "execution_count": 8,
   "id": "a1b116af-0672-4a50-b83c-31443f045d29",
   "metadata": {},
   "outputs": [
    {
     "name": "stdout",
     "output_type": "stream",
     "text": [
      "1\n",
      "3\n",
      "5\n",
      "7\n",
      "9\n",
      "11\n",
      "13\n",
      "15\n",
      "17\n",
      "19\n",
      "21\n",
      "23\n",
      "25\n",
      "27\n",
      "29\n",
      "31\n",
      "33\n",
      "35\n",
      "37\n",
      "39\n",
      "41\n",
      "43\n",
      "45\n",
      "47\n",
      "49\n",
      "51\n",
      "53\n",
      "55\n",
      "57\n",
      "59\n",
      "61\n",
      "63\n",
      "65\n",
      "67\n",
      "69\n",
      "71\n",
      "73\n",
      "75\n",
      "77\n",
      "79\n",
      "81\n",
      "83\n",
      "85\n",
      "87\n",
      "89\n",
      "91\n",
      "93\n",
      "95\n",
      "97\n",
      "99\n"
     ]
    }
   ],
   "source": [
    "for i in range(1, 100, 2):\n",
    "    print(i)"
   ]
  },
  {
   "cell_type": "markdown",
   "id": "70583189-151d-4265-8954-a5352dc62407",
   "metadata": {},
   "source": [
    "##### **Even Numbers:** Print all even numbers from 1 to 99, inclusive, with each number on a separate line. Can you solve the problem by iterating over just the even numbers?"
   ]
  },
  {
   "cell_type": "code",
   "execution_count": 9,
   "id": "a943755f-01ed-477c-ad20-fc2a11917a7c",
   "metadata": {},
   "outputs": [
    {
     "name": "stdout",
     "output_type": "stream",
     "text": [
      "2\n",
      "4\n",
      "6\n",
      "8\n",
      "10\n",
      "12\n",
      "14\n",
      "16\n",
      "18\n",
      "20\n",
      "22\n",
      "24\n",
      "26\n",
      "28\n",
      "30\n",
      "32\n",
      "34\n",
      "36\n",
      "38\n",
      "40\n",
      "42\n",
      "44\n",
      "46\n",
      "48\n",
      "50\n",
      "52\n",
      "54\n",
      "56\n",
      "58\n",
      "60\n",
      "62\n",
      "64\n",
      "66\n",
      "68\n",
      "70\n",
      "72\n",
      "74\n",
      "76\n",
      "78\n",
      "80\n",
      "82\n",
      "84\n",
      "86\n",
      "88\n",
      "90\n",
      "92\n",
      "94\n",
      "96\n",
      "98\n"
     ]
    }
   ],
   "source": [
    "for i in range(2, 100, 2):\n",
    "    print(i)"
   ]
  },
  {
   "cell_type": "markdown",
   "id": "8f935eb2-e449-41f5-8ca5-1ceb6f818ae8",
   "metadata": {},
   "source": [
    "##### **How big is the room?** Build a program that asks the user to enter the length and width of a room, in meters, then prints the room's area in both square meters and square feet. *1 square meter == 10.7639 square feet*"
   ]
  },
  {
   "cell_type": "code",
   "execution_count": 12,
   "id": "557e4328-4363-4d17-bc6f-4684c12d1c69",
   "metadata": {},
   "outputs": [],
   "source": [
    "def how_big():\n",
    "    length = int(input(\"How long is the room in meters? \"))\n",
    "    width = int(input(\"How wide is the room in meters? \"))\n",
    "    area_m_sq = length * width\n",
    "    area_ft_sq = area_m_sq * 10.7639\n",
    "\n",
    "    print(f\"The room's area is {area_m_sq} square meters, or {area_ft_sq} square feet.\")"
   ]
  },
  {
   "cell_type": "code",
   "execution_count": 13,
   "id": "8ca0c84a-7f0d-44d1-aff1-18c5091d8ede",
   "metadata": {},
   "outputs": [
    {
     "name": "stdin",
     "output_type": "stream",
     "text": [
      "How long is the room in meters?  5\n",
      "How wide is the room in meters?  3\n"
     ]
    },
    {
     "name": "stdout",
     "output_type": "stream",
     "text": [
      "The room's area is 15 square meters, or 161.4585 square feet.\n"
     ]
    }
   ],
   "source": [
    "how_big()"
   ]
  },
  {
   "cell_type": "markdown",
   "id": "30b5b341-152f-45e2-b060-7047b8c28925",
   "metadata": {},
   "source": [
    "##### **Tip Calculator:** Create a simple tip calculator. The program should prompt for a bill amount and a tip rate. The program must compute the tip, then print both the tip and the total amount of the bill. You can ignore input validation and assume that the user will enter valid numbers."
   ]
  },
  {
   "cell_type": "code",
   "execution_count": 16,
   "id": "cb579434-bdcb-476a-a62a-b531868d2d77",
   "metadata": {},
   "outputs": [],
   "source": [
    "def tip_calculator():\n",
    "    bill = float(input(\"What is the bill? \"))\n",
    "    tip_percentage = int(input(\"What is the tip percentage? \"))\n",
    "\n",
    "    tip = (tip_percentage/100) * bill\n",
    "    total = bill + tip\n",
    "\n",
    "    print()\n",
    "    print(f\"The tip is ${tip}\")\n",
    "    print(f\"The total is ${total}\")"
   ]
  },
  {
   "cell_type": "code",
   "execution_count": 17,
   "id": "06aa1a61-d6ce-4a25-a6d0-20d02bb5c82b",
   "metadata": {},
   "outputs": [
    {
     "name": "stdin",
     "output_type": "stream",
     "text": [
      "What is the bill?  200\n",
      "What is the tip percentage?  20\n"
     ]
    },
    {
     "name": "stdout",
     "output_type": "stream",
     "text": [
      "\n",
      "The tip is $40.0\n",
      "The total is $240.0\n"
     ]
    }
   ],
   "source": [
    "tip_calculator()"
   ]
  },
  {
   "cell_type": "markdown",
   "id": "3635bb6b-43f8-41ec-b42d-7859b8b39f74",
   "metadata": {},
   "source": [
    "##### **Sum or Product of Consecutive Integers:** Write a program that asks the user to enter an integer greater than `0`, then asks whether the user wants to determine the sum or the product of all numbers between `1` and the entered integer, inclusive."
   ]
  },
  {
   "cell_type": "code",
   "execution_count": 29,
   "id": "47029d9d-1aba-4e72-ab42-d621ebac2031",
   "metadata": {},
   "outputs": [],
   "source": [
    "def consecutive_integer_calculator():\n",
    "    integer = int(input(\"Please enter an integer greater than 0: \"))\n",
    "    operation = input('Enter \"s\" to compute the sum, or \"p\" to compute the product. ')\n",
    "    \n",
    "    if operation == 's':\n",
    "        result = 0\n",
    "        for i in range(1, integer+1):\n",
    "            result += i\n",
    "\n",
    "        print(f\"The sum of the integers between 1 and {integer} is {result}.\")\n",
    "\n",
    "    if operation == 'p':\n",
    "        result = 1\n",
    "        for i in range(1, integer+1):\n",
    "            result *= i\n",
    "\n",
    "        print(f\"The product of the integers between 1 and {integer} is {result}.\")"
   ]
  },
  {
   "cell_type": "code",
   "execution_count": 30,
   "id": "1d74e34c-85a7-4421-9c1a-ee948177879a",
   "metadata": {},
   "outputs": [
    {
     "name": "stdin",
     "output_type": "stream",
     "text": [
      "Please enter an integer greater than 0:  5\n",
      "Enter \"s\" to compute the sum, or \"p\" to compute the product.  s\n"
     ]
    },
    {
     "name": "stdout",
     "output_type": "stream",
     "text": [
      "The sum of the integers between 1 and 5 is 15.\n"
     ]
    }
   ],
   "source": [
    "consecutive_integer_calculator()"
   ]
  },
  {
   "cell_type": "code",
   "execution_count": 31,
   "id": "da5c265c-1f69-4cbc-bfa5-8d82d2d35bb8",
   "metadata": {},
   "outputs": [
    {
     "name": "stdin",
     "output_type": "stream",
     "text": [
      "Please enter an integer greater than 0:  6\n",
      "Enter \"s\" to compute the sum, or \"p\" to compute the product.  p\n"
     ]
    },
    {
     "name": "stdout",
     "output_type": "stream",
     "text": [
      "The product of the integers between 1 and 6 is 720.\n"
     ]
    }
   ],
   "source": [
    "consecutive_integer_calculator()"
   ]
  },
  {
   "cell_type": "markdown",
   "id": "33d63c04-a62b-4062-8428-d470e9c89fe8",
   "metadata": {},
   "source": [
    "##### **Short Long Short:** Write a function that takes two strings as arguments, determines the length of the two strings, and then returns the result of concatenating the shorter string, the longer string, and the shorter string once again. You may assume that the strings are of different lengths."
   ]
  },
  {
   "cell_type": "code",
   "execution_count": 34,
   "id": "90ff25f4-d2de-43dc-ba97-98a0a0dc274b",
   "metadata": {},
   "outputs": [],
   "source": [
    "def short_long_short(string1, string2):\n",
    "    len1 = len(string1)\n",
    "    len2 = len(string2)\n",
    "\n",
    "    if len1 < len2:\n",
    "        return string1+string2+string1\n",
    "    else:\n",
    "        return string2+string1+string2"
   ]
  },
  {
   "cell_type": "code",
   "execution_count": 35,
   "id": "881c4712-29da-4b75-a015-d3ca7d0a39ba",
   "metadata": {},
   "outputs": [
    {
     "name": "stdout",
     "output_type": "stream",
     "text": [
      "True\n",
      "True\n",
      "True\n"
     ]
    }
   ],
   "source": [
    "# These examples should all print True\n",
    "print(short_long_short('abc', 'defgh') == \"abcdefghabc\")\n",
    "print(short_long_short('abcde', 'fgh') == \"fghabcdefgh\")\n",
    "print(short_long_short('', 'xyz') == \"xyz\")"
   ]
  },
  {
   "cell_type": "markdown",
   "id": "4cd0a030-77ba-4633-ae1e-78942b8c6a56",
   "metadata": {},
   "source": [
    "##### **Leap Years (Part 1):** Write a function that takes any year greater than `0` as input and returns `True` if the year is a leap year, or `False` if it is not.\n",
    "\n",
    "##### For simplicity, this exercise assumes that the Gregorian calendar has been in continuous use since the year 1. We'll address that assumption in the next exercise that follows this one.\n",
    "\n",
    "##### To determine whether a given year is a leap year, use the rules of the Gregorian calendar:\n",
    "\n",
    "* ##### If the year is divisible by 400, it **is** a leap year.\n",
    "* ##### If the year is divisible by 100 but not by 400, it **is not** a leap year.\n",
    "* ##### If the year is divisible by 4 but not by 100, it **is** a leap year.\n",
    "* ##### All other years are not leap years.\n"
   ]
  },
  {
   "cell_type": "code",
   "execution_count": 40,
   "id": "db5a8a09-6d56-48d0-b36c-f397632be878",
   "metadata": {},
   "outputs": [],
   "source": [
    "def is_leap_year(year: int):\n",
    "    if year < 0:\n",
    "        raise ValueError(\"Year must be greater than zero.\")\n",
    "\n",
    "    if year % 400 == 0:\n",
    "        return True\n",
    "    elif year % 100 == 0:\n",
    "        return False\n",
    "    elif year % 4 == 0:\n",
    "        return True\n",
    "    else:\n",
    "        return False"
   ]
  },
  {
   "cell_type": "code",
   "execution_count": 46,
   "id": "e0945458-6b2b-485c-816d-e9c5dc046003",
   "metadata": {},
   "outputs": [
    {
     "name": "stdout",
     "output_type": "stream",
     "text": [
      "True\n",
      "True\n",
      "True\n",
      "True\n",
      "True\n",
      "True\n",
      "True\n",
      "True\n",
      "True\n",
      "True\n",
      "True\n",
      "True\n",
      "True\n",
      "True\n",
      "True\n",
      "True\n",
      "True\n"
     ]
    },
    {
     "ename": "ValueError",
     "evalue": "Year must be greater than zero.",
     "output_type": "error",
     "traceback": [
      "\u001b[0;31m---------------------------------------------------------------------------\u001b[0m",
      "\u001b[0;31mValueError\u001b[0m                                Traceback (most recent call last)",
      "Cell \u001b[0;32mIn[46], line 19\u001b[0m\n\u001b[1;32m     17\u001b[0m \u001b[38;5;28mprint\u001b[39m(is_leap_year(\u001b[38;5;241m2024\u001b[39m) \u001b[38;5;241m==\u001b[39m \u001b[38;5;28;01mTrue\u001b[39;00m)\n\u001b[1;32m     18\u001b[0m \u001b[38;5;28mprint\u001b[39m(is_leap_year(\u001b[38;5;241m2025\u001b[39m) \u001b[38;5;241m==\u001b[39m \u001b[38;5;28;01mFalse\u001b[39;00m)\n\u001b[0;32m---> 19\u001b[0m \u001b[38;5;28mprint\u001b[39m(\u001b[43mis_leap_year\u001b[49m\u001b[43m(\u001b[49m\u001b[38;5;241;43m-\u001b[39;49m\u001b[38;5;241;43m1\u001b[39;49m\u001b[43m)\u001b[49m \u001b[38;5;241m==\u001b[39m \u001b[38;5;28;01mFalse\u001b[39;00m)\n",
      "Cell \u001b[0;32mIn[40], line 3\u001b[0m, in \u001b[0;36mis_leap_year\u001b[0;34m(year)\u001b[0m\n\u001b[1;32m      1\u001b[0m \u001b[38;5;28;01mdef\u001b[39;00m \u001b[38;5;21mis_leap_year\u001b[39m(year: \u001b[38;5;28mint\u001b[39m):\n\u001b[1;32m      2\u001b[0m     \u001b[38;5;28;01mif\u001b[39;00m year \u001b[38;5;241m<\u001b[39m \u001b[38;5;241m0\u001b[39m:\n\u001b[0;32m----> 3\u001b[0m         \u001b[38;5;28;01mraise\u001b[39;00m \u001b[38;5;167;01mValueError\u001b[39;00m(\u001b[38;5;124m\"\u001b[39m\u001b[38;5;124mYear must be greater than zero.\u001b[39m\u001b[38;5;124m\"\u001b[39m)\n\u001b[1;32m      5\u001b[0m     \u001b[38;5;28;01mif\u001b[39;00m year \u001b[38;5;241m%\u001b[39m \u001b[38;5;241m400\u001b[39m \u001b[38;5;241m==\u001b[39m \u001b[38;5;241m0\u001b[39m:\n\u001b[1;32m      6\u001b[0m         \u001b[38;5;28;01mreturn\u001b[39;00m \u001b[38;5;28;01mTrue\u001b[39;00m\n",
      "\u001b[0;31mValueError\u001b[0m: Year must be greater than zero."
     ]
    }
   ],
   "source": [
    "# These examples should all print True\n",
    "print(is_leap_year(1) == False)\n",
    "print(is_leap_year(2) == False)\n",
    "print(is_leap_year(3) == False)\n",
    "print(is_leap_year(4) == True)\n",
    "print(is_leap_year(1000) == False)\n",
    "print(is_leap_year(1100) == False)\n",
    "print(is_leap_year(1200) == True)\n",
    "print(is_leap_year(1300) == False)\n",
    "print(is_leap_year(1751) == False)\n",
    "print(is_leap_year(1752) == True)\n",
    "print(is_leap_year(1753) == False)\n",
    "print(is_leap_year(1800) == False)\n",
    "print(is_leap_year(1900) == False)\n",
    "print(is_leap_year(2000) == True)\n",
    "print(is_leap_year(2023) == False)\n",
    "print(is_leap_year(2024) == True)\n",
    "print(is_leap_year(2025) == False)\n",
    "print(is_leap_year(-1) == False)"
   ]
  },
  {
   "cell_type": "markdown",
   "id": "a20ac02d-8eb8-4df8-9921-be6fb97ebef8",
   "metadata": {},
   "source": [
    "##### **Leap Years (Part 2):** In the previous exercise, we assumed that the Gregorian calendar has been in continuous use since the year 1. However, the Gregorian calendar wasn't adopted until much later; prior to that, much of the world used the Julian calendar, which observed leap year every 4 years. In 1752, England, Ireland, and the British colonies all switched to the Gregorian calendar. Update the function from the previous exercise so it uses the Julian calendar prior to 1752, and the Gregorian calendar starting in 1752."
   ]
  },
  {
   "cell_type": "code",
   "execution_count": 47,
   "id": "e4df85ac-f3ba-41e4-b8e5-ab4ee3d9be1a",
   "metadata": {},
   "outputs": [],
   "source": [
    "def is_leap_year(year: int):\n",
    "    if year < 0:\n",
    "        raise ValueError(\"Year must be greater than zero.\")\n",
    "\n",
    "    if year < 1752:\n",
    "        if year % 4 == 0:\n",
    "            return True\n",
    "        else:\n",
    "            return False\n",
    "\n",
    "    if year >= 1752:\n",
    "        if year % 400 == 0:\n",
    "            return True\n",
    "        elif year % 100 == 0:\n",
    "            return False\n",
    "        elif year % 4 == 0:\n",
    "            return True\n",
    "        else:\n",
    "            return False"
   ]
  },
  {
   "cell_type": "code",
   "execution_count": 48,
   "id": "8a0bc7ae-cda4-44ef-8e5b-0c1dc0232d2c",
   "metadata": {},
   "outputs": [
    {
     "name": "stdout",
     "output_type": "stream",
     "text": [
      "True\n",
      "True\n",
      "True\n",
      "True\n",
      "True\n",
      "True\n",
      "True\n",
      "True\n",
      "True\n",
      "True\n",
      "True\n",
      "True\n",
      "True\n",
      "True\n",
      "True\n",
      "True\n",
      "True\n"
     ]
    },
    {
     "ename": "ValueError",
     "evalue": "Year must be greater than zero.",
     "output_type": "error",
     "traceback": [
      "\u001b[0;31m---------------------------------------------------------------------------\u001b[0m",
      "\u001b[0;31mValueError\u001b[0m                                Traceback (most recent call last)",
      "Cell \u001b[0;32mIn[48], line 19\u001b[0m\n\u001b[1;32m     17\u001b[0m \u001b[38;5;28mprint\u001b[39m(is_leap_year(\u001b[38;5;241m2024\u001b[39m) \u001b[38;5;241m==\u001b[39m \u001b[38;5;28;01mTrue\u001b[39;00m)\n\u001b[1;32m     18\u001b[0m \u001b[38;5;28mprint\u001b[39m(is_leap_year(\u001b[38;5;241m2025\u001b[39m) \u001b[38;5;241m==\u001b[39m \u001b[38;5;28;01mFalse\u001b[39;00m)\n\u001b[0;32m---> 19\u001b[0m \u001b[38;5;28mprint\u001b[39m(\u001b[43mis_leap_year\u001b[49m\u001b[43m(\u001b[49m\u001b[38;5;241;43m-\u001b[39;49m\u001b[38;5;241;43m1752\u001b[39;49m\u001b[43m)\u001b[49m \u001b[38;5;241m==\u001b[39m \u001b[38;5;28;01mTrue\u001b[39;00m)\n",
      "Cell \u001b[0;32mIn[47], line 3\u001b[0m, in \u001b[0;36mis_leap_year\u001b[0;34m(year)\u001b[0m\n\u001b[1;32m      1\u001b[0m \u001b[38;5;28;01mdef\u001b[39;00m \u001b[38;5;21mis_leap_year\u001b[39m(year: \u001b[38;5;28mint\u001b[39m):\n\u001b[1;32m      2\u001b[0m     \u001b[38;5;28;01mif\u001b[39;00m year \u001b[38;5;241m<\u001b[39m \u001b[38;5;241m0\u001b[39m:\n\u001b[0;32m----> 3\u001b[0m         \u001b[38;5;28;01mraise\u001b[39;00m \u001b[38;5;167;01mValueError\u001b[39;00m(\u001b[38;5;124m\"\u001b[39m\u001b[38;5;124mYear must be greater than zero.\u001b[39m\u001b[38;5;124m\"\u001b[39m)\n\u001b[1;32m      5\u001b[0m     \u001b[38;5;28;01mif\u001b[39;00m year \u001b[38;5;241m<\u001b[39m \u001b[38;5;241m1752\u001b[39m:\n\u001b[1;32m      6\u001b[0m         \u001b[38;5;28;01mif\u001b[39;00m year \u001b[38;5;241m%\u001b[39m \u001b[38;5;241m4\u001b[39m \u001b[38;5;241m==\u001b[39m \u001b[38;5;241m0\u001b[39m:\n",
      "\u001b[0;31mValueError\u001b[0m: Year must be greater than zero."
     ]
    }
   ],
   "source": [
    "# These examples should all print True\n",
    "print(is_leap_year(1) == False)\n",
    "print(is_leap_year(2) == False)\n",
    "print(is_leap_year(3) == False)\n",
    "print(is_leap_year(4) == True)\n",
    "print(is_leap_year(1000) == True)\n",
    "print(is_leap_year(1100) == True)\n",
    "print(is_leap_year(1200) == True)\n",
    "print(is_leap_year(1300) == True)\n",
    "print(is_leap_year(1751) == False)\n",
    "print(is_leap_year(1752) == True)\n",
    "print(is_leap_year(1753) == False)\n",
    "print(is_leap_year(1800) == False)\n",
    "print(is_leap_year(1900) == False)\n",
    "print(is_leap_year(2000) == True)\n",
    "print(is_leap_year(2023) == False)\n",
    "print(is_leap_year(2024) == True)\n",
    "print(is_leap_year(2025) == False)\n",
    "print(is_leap_year(-1752) == True)"
   ]
  },
  {
   "cell_type": "markdown",
   "id": "7705b0c6-4ab7-4d55-a1b2-f9cec522b585",
   "metadata": {},
   "source": [
    "##### **Multiples of 3 and 5:** Write a function that computes the sum of all numbers between `1` and some other number, inclusive, that are multiples of `3` or `5`. For instance, if the supplied number is 20, the result should be 98 (3 + 5 + 6 + 9 + 10 + 12 + 15 + 18 + 20). You may assume that the number passed in is an integer greater than 1."
   ]
  },
  {
   "cell_type": "code",
   "execution_count": 51,
   "id": "cab4fd29-da76-425c-982b-ec36af9a1807",
   "metadata": {},
   "outputs": [],
   "source": [
    "def multisum(integer):\n",
    "    result = 0\n",
    "\n",
    "    for i in range(1, integer+1):\n",
    "        if i % 3 == 0:\n",
    "            result += i\n",
    "        elif i % 5 == 0:\n",
    "            result += i\n",
    "            \n",
    "    return result"
   ]
  },
  {
   "cell_type": "code",
   "execution_count": 53,
   "id": "420694dc-278b-4ec4-aeb6-7f2d0a02b9bd",
   "metadata": {},
   "outputs": [
    {
     "name": "stdout",
     "output_type": "stream",
     "text": [
      "True\n",
      "True\n",
      "True\n",
      "True\n",
      "True\n",
      "True\n"
     ]
    }
   ],
   "source": [
    "# These examples should all print True\n",
    "print(multisum(3) == 3)\n",
    "print(multisum(5) == 8)\n",
    "print(multisum(10) == 33)\n",
    "print(multisum(15) == 60)\n",
    "print(multisum(20) == 98)\n",
    "print(multisum(1000) == 234168)"
   ]
  },
  {
   "cell_type": "markdown",
   "id": "5754852d-a8e8-434d-89ed-28b2a19784e1",
   "metadata": {},
   "source": [
    "##### **UTF-16 String Value:** Write a function that determines and returns the UTF-16 string value of a string passed in as an argument. The UTF-16 string value is the sum of the UTF-16 values of every character in the string. (You may use ord to determine the UTF-16 value of a character.)"
   ]
  },
  {
   "cell_type": "code",
   "execution_count": 54,
   "id": "b9ff1a04-6c83-43dd-bd8c-af7d8cca314d",
   "metadata": {},
   "outputs": [],
   "source": [
    "def utf16_value(string):\n",
    "    result = 0\n",
    "    for character in string:\n",
    "        result += ord(character)\n",
    "\n",
    "    return result"
   ]
  },
  {
   "cell_type": "code",
   "execution_count": 55,
   "id": "54018278-8b6d-4deb-82d2-19bdf5e09055",
   "metadata": {},
   "outputs": [
    {
     "name": "stdout",
     "output_type": "stream",
     "text": [
      "True\n",
      "True\n",
      "True\n",
      "True\n",
      "True\n",
      "True\n"
     ]
    }
   ],
   "source": [
    "# These examples should all print True\n",
    "print(utf16_value('Four score') == 984)\n",
    "print(utf16_value('Launch School') == 1251)\n",
    "print(utf16_value('a') == 97)\n",
    "print(utf16_value('') == 0)\n",
    "\n",
    "# The next three lines demonstrate that the code\n",
    "# works with non-ASCII characters from the UTF-16\n",
    "# character set.\n",
    "OMEGA = \"\\u03A9\"              # UTF-16 character 'Ω' (omega)\n",
    "print(utf16_value(OMEGA) == 937)\n",
    "print(utf16_value(OMEGA + OMEGA + OMEGA) == 2811)"
   ]
  }
 ],
 "metadata": {
  "kernelspec": {
   "display_name": "Python 3 (ipykernel)",
   "language": "python",
   "name": "python3"
  },
  "language_info": {
   "codemirror_mode": {
    "name": "ipython",
    "version": 3
   },
   "file_extension": ".py",
   "mimetype": "text/x-python",
   "name": "python",
   "nbconvert_exporter": "python",
   "pygments_lexer": "ipython3",
   "version": "3.12.5"
  }
 },
 "nbformat": 4,
 "nbformat_minor": 5
}
