{
 "cells": [
  {
   "cell_type": "markdown",
   "id": "489d6336-ad86-45ac-adb1-30703c8a564f",
   "metadata": {},
   "source": [
    "# PY101-PY109 Small Problems\n",
    "### Easy 2"
   ]
  },
  {
   "cell_type": "markdown",
   "id": "a0bb0259-9a43-4a9b-ab72-acc50a73f61f",
   "metadata": {},
   "source": [
    "##### **Welcome Stranger:** Create a function that takes 2 arguments, a list and a dictionary. The list will contain 2 or more elements that, when joined with spaces, will produce a person's name. The dictionary will contain two keys, `\"title\"` and `\"occupation\"`, and the appropriate values. Your function should return a greeting that uses the person's full name, and mentions the person's title."
   ]
  },
  {
   "cell_type": "code",
   "execution_count": 8,
   "id": "cd3185e1-6543-4770-8a31-dd6d8518227b",
   "metadata": {},
   "outputs": [],
   "source": [
    "def greetings(my_list, my_dict):\n",
    "    name = ' '.join(my_list)\n",
    "    title = my_dict['title']\n",
    "    occupation = my_dict['occupation']\n",
    "    \n",
    "    return f'Hello, {name}! Nice to have a {title} {occupation} around.'"
   ]
  },
  {
   "cell_type": "code",
   "execution_count": 9,
   "id": "a6c08d24-76fa-4e33-8123-620f82af482b",
   "metadata": {},
   "outputs": [
    {
     "name": "stdout",
     "output_type": "stream",
     "text": [
      "Hello, John Q Doe! Nice to have a Master Plumber around.\n"
     ]
    }
   ],
   "source": [
    "greeting = greetings(\n",
    "    [\"John\", \"Q\", \"Doe\"],\n",
    "    {\"title\": \"Master\", \"occupation\": \"Plumber\"},\n",
    ")\n",
    "print(greeting)\n",
    "# Hello, John Q Doe! Nice to have a Master Plumber around."
   ]
  },
  {
   "cell_type": "markdown",
   "id": "fc67bfec-0d9d-4660-95f8-cc53e1c48dba",
   "metadata": {},
   "source": [
    "##### **Greeting a user:** Write a program that asks for user's name, then greets the user. If the user appends a `!` to their name, the computer will yell the greeting (print it using all uppercase)."
   ]
  },
  {
   "cell_type": "code",
   "execution_count": 11,
   "id": "4fefd59d-8a93-4899-b4ee-34da546f29e6",
   "metadata": {},
   "outputs": [],
   "source": [
    "def name():\n",
    "    name = input(\"What is your name? \")\n",
    "\n",
    "    if name[-1] == '!':\n",
    "        print(f\"HELLO {name.upper()} WHY ARE WE YELLING?\")\n",
    "    else:\n",
    "        print(f\"Hello {name}.\")"
   ]
  },
  {
   "cell_type": "code",
   "execution_count": 12,
   "id": "d39e09be-0a0e-4d3c-be24-5b373aea764d",
   "metadata": {},
   "outputs": [
    {
     "name": "stdin",
     "output_type": "stream",
     "text": [
      "What is your name?  Leah\n"
     ]
    },
    {
     "name": "stdout",
     "output_type": "stream",
     "text": [
      "Hello Leah.\n"
     ]
    }
   ],
   "source": [
    "name()"
   ]
  },
  {
   "cell_type": "code",
   "execution_count": 13,
   "id": "8a68d445-19ce-44bb-adf5-83a0f00e5cac",
   "metadata": {},
   "outputs": [
    {
     "name": "stdin",
     "output_type": "stream",
     "text": [
      "What is your name?  Leah!\n"
     ]
    },
    {
     "name": "stdout",
     "output_type": "stream",
     "text": [
      "HELLO LEAH! WHY ARE WE YELLING?\n"
     ]
    }
   ],
   "source": [
    "name()"
   ]
  },
  {
   "cell_type": "markdown",
   "id": "90b0883e-5719-486d-9e09-7311a4f21ba8",
   "metadata": {},
   "source": [
    "##### **Multiplying Two Numbers:** Create a function that takes two arguments, multiplies them together, and returns the result."
   ]
  },
  {
   "cell_type": "code",
   "execution_count": 14,
   "id": "dd5f810e-fc90-46ea-b7aa-105d1c761e39",
   "metadata": {},
   "outputs": [],
   "source": [
    "def multiply(num1, num2):\n",
    "    return num1 * num2"
   ]
  },
  {
   "cell_type": "code",
   "execution_count": 15,
   "id": "6523e2c4-cab5-4a9e-81e7-00afbd38fd8f",
   "metadata": {},
   "outputs": [
    {
     "name": "stdout",
     "output_type": "stream",
     "text": [
      "True\n"
     ]
    }
   ],
   "source": [
    "print(multiply(5, 3) == 15)  # True"
   ]
  },
  {
   "cell_type": "markdown",
   "id": "2c1af19b-440d-457b-a5fd-6561d59810b0",
   "metadata": {},
   "source": [
    "##### **Squaring an Argument:** Using the multiply function from the \"Multiplying Two Numbers\" exercise, write a function that computes the square of its argument (the square is the result of multiplying a number by itself)."
   ]
  },
  {
   "cell_type": "code",
   "execution_count": 16,
   "id": "cad0d616-1064-401a-ba34-17b427437fc6",
   "metadata": {},
   "outputs": [],
   "source": [
    "def square(num):\n",
    "    return num**2"
   ]
  },
  {
   "cell_type": "code",
   "execution_count": 17,
   "id": "0f44ba14-6bbc-4b88-9091-eb7a7cde933a",
   "metadata": {},
   "outputs": [
    {
     "name": "stdout",
     "output_type": "stream",
     "text": [
      "True\n",
      "True\n"
     ]
    }
   ],
   "source": [
    "print(square(5) == 25)   # True\n",
    "print(square(-8) == 64)  # True"
   ]
  },
  {
   "cell_type": "markdown",
   "id": "1e95aad0-9033-41d2-8af3-ce9ed29a2a1d",
   "metadata": {},
   "source": [
    "##### **Floating Point Arithmetic:** Write a program that prompts the user for two positive numbers (floating-point), then prints the results of the following operations on those two numbers: addition, subtraction, product, quotient, floor quotient, remainder, and power. Do not worry about validating the input."
   ]
  },
  {
   "cell_type": "code",
   "execution_count": 18,
   "id": "ff831515-29fc-41d9-a5b6-0fac123e9d66",
   "metadata": {},
   "outputs": [],
   "source": [
    "def floating_point_arithmetic():\n",
    "    num1 = float(input(\"==> Enter the first number: \"))\n",
    "    num2 = float(input(\"==> Enter the second number: \"))\n",
    "\n",
    "    print(f\"==> {num1} + {num2} = {num1 + num2}\")\n",
    "    print(f\"==> {num1} - {num2} = {num1 - num2}\")\n",
    "    print(f\"==> {num1} * {num2} = {num1 * num2}\")\n",
    "    print(f\"==> {num1} / {num2} = {num1 / num2}\")\n",
    "    print(f\"==> {num1} // {num2} = {num1 // num2}\")\n",
    "    print(f\"==> {num1} % {num2} = {num1 % num2}\")\n",
    "    print(f\"==> {num1} ** {num2} = {num1 ** num2}\")"
   ]
  },
  {
   "cell_type": "code",
   "execution_count": 19,
   "id": "3091c832-e058-45f5-a6dd-727cc945a1a1",
   "metadata": {},
   "outputs": [
    {
     "name": "stdin",
     "output_type": "stream",
     "text": [
      "==> Enter the first number:  3.141529\n",
      "==> Enter the second number:  2.718282\n"
     ]
    },
    {
     "name": "stdout",
     "output_type": "stream",
     "text": [
      "==> 3.141529 + 2.718282 = 5.859811\n",
      "==> 3.141529 - 2.718282 = 0.42324699999999993\n",
      "==> 3.141529 * 2.718282 = 8.539561733178\n",
      "==> 3.141529 / 2.718282 = 1.1557038600115808\n",
      "==> 3.141529 // 2.718282 = 1.0\n",
      "==> 3.141529 % 2.718282 = 0.42324699999999993\n",
      "==> 3.141529 ** 2.718282 = 22.45792517468373\n"
     ]
    }
   ],
   "source": [
    "floating_point_arithmetic()"
   ]
  },
  {
   "cell_type": "markdown",
   "id": "daa0c676-346a-4f2f-8dba-897139ee9d90",
   "metadata": {},
   "source": [
    "##### **The End Is Near But Not Here:** Write a function that returns the next to last word in the string argument. Words are any sequence of non-blank characters. You may assume that the input string will always contain at least two words."
   ]
  },
  {
   "cell_type": "code",
   "execution_count": 22,
   "id": "e54e96e9-14f1-4930-9fd2-1daf7b8d1772",
   "metadata": {},
   "outputs": [],
   "source": [
    "def penultimate(string):\n",
    "    return string.split()[-2]"
   ]
  },
  {
   "cell_type": "code",
   "execution_count": 24,
   "id": "2e6f94d0-11ab-4176-98b6-7521ffc4911b",
   "metadata": {},
   "outputs": [
    {
     "name": "stdout",
     "output_type": "stream",
     "text": [
      "True\n",
      "True\n",
      "True\n"
     ]
    }
   ],
   "source": [
    "# These examples should print True\n",
    "print(penultimate(\"last word\") == \"last\")\n",
    "print(penultimate(\"Launch School is great!\") == \"is\")\n",
    "print(penultimate(\"Launch  School  is  great!\") == \"is\")"
   ]
  },
  {
   "cell_type": "markdown",
   "id": "1d1b4131-4997-4a41-9d28-d4585ecb5e39",
   "metadata": {},
   "source": [
    "##### **Exclusive Or:** The `or` operator returns a truthy value if either or both of its operands are truthy, a falsy value if both operands are falsy. The `and` operator returns a truthy value if both of its operands are truthy, and a falsy value if either operand is falsy. This works great until you need only one of two conditions to be truthy, the so-called **exclusive or**, also known as **xor** (pronounced \"ECKS-or\").\n",
    "\n",
    "##### In this exercise, you will write an `xor` function that takes two arguments, and returns `True` if exactly one of its arguments is truthy, `False` otherwise."
   ]
  },
  {
   "cell_type": "code",
   "execution_count": 25,
   "id": "a67fa999-c3a0-42ad-9c90-eef1d0840946",
   "metadata": {},
   "outputs": [],
   "source": [
    "def xor(input1, input2):\n",
    "    if input1 and not input2:\n",
    "        return True\n",
    "    elif input2 and not input1:\n",
    "        return True\n",
    "    else:\n",
    "        return False"
   ]
  },
  {
   "cell_type": "code",
   "execution_count": 26,
   "id": "d3c13781-94ef-4e21-8a8a-c8608d2b89f7",
   "metadata": {},
   "outputs": [
    {
     "name": "stdout",
     "output_type": "stream",
     "text": [
      "True\n",
      "True\n",
      "True\n",
      "True\n"
     ]
    }
   ],
   "source": [
    "# These examples should print True\n",
    "print(xor(5, 0) == True)\n",
    "print(xor(False, True) == True)\n",
    "print(xor(1, 1) == False)\n",
    "print(xor(True, True) == False)"
   ]
  },
  {
   "cell_type": "markdown",
   "id": "eb5fc88d-b29b-4333-9470-1198aa11b2a9",
   "metadata": {},
   "source": [
    "##### **Odd Lists:** Write a function that returns a list that contains every other element of a list that is passed in as an argument. The values in the returned list should be those values that are in the 1st, 3rd, 5th, and so on elements of the argument list."
   ]
  },
  {
   "cell_type": "code",
   "execution_count": 39,
   "id": "1cd971c5-12da-4962-a64f-352e55182a84",
   "metadata": {},
   "outputs": [],
   "source": [
    "def oddities(my_list):\n",
    "    oddities_list = []\n",
    "    \n",
    "    for element in my_list:\n",
    "        index = my_list.index(element)\n",
    "        if index % 2 == 0:\n",
    "            oddities_list.append(element)\n",
    "\n",
    "    return oddities_list"
   ]
  },
  {
   "cell_type": "code",
   "execution_count": 40,
   "id": "11434e57-2a58-4716-b7a6-2f86bd18160b",
   "metadata": {},
   "outputs": [
    {
     "name": "stdout",
     "output_type": "stream",
     "text": [
      "True\n",
      "True\n",
      "True\n",
      "True\n",
      "True\n"
     ]
    }
   ],
   "source": [
    "print(oddities([2, 3, 4, 5, 6]) == [2, 4, 6])  # True\n",
    "print(oddities([1, 2, 3, 4]) == [1, 3])        # True\n",
    "print(oddities([\"abc\", \"def\"]) == ['abc'])     # True\n",
    "print(oddities([123]) == [123])                # True\n",
    "print(oddities([]) == [])                      # True"
   ]
  },
  {
   "cell_type": "markdown",
   "id": "eedd7149-49cd-412e-9c16-1e34de6028dd",
   "metadata": {},
   "source": [
    "##### **How Old is Teddy?** Build a program that randomly generates and prints Teddy's age. To get the age, you should generate a random number between 20 and 100, inclusive."
   ]
  },
  {
   "cell_type": "code",
   "execution_count": 41,
   "id": "68e4afba-d393-496a-9147-aea9105fb13d",
   "metadata": {},
   "outputs": [],
   "source": [
    "from random import randrange\n",
    "\n",
    "def teddy_age():\n",
    "    age = randrange(20, 101)\n",
    "    print(f'Teddy is {age} years old!')"
   ]
  },
  {
   "cell_type": "code",
   "execution_count": 42,
   "id": "6c111b1a-02db-49e3-88a2-eac45563baa7",
   "metadata": {},
   "outputs": [
    {
     "name": "stdout",
     "output_type": "stream",
     "text": [
      "Teddy is 55 years old!\n"
     ]
    }
   ],
   "source": [
    "teddy_age()"
   ]
  },
  {
   "cell_type": "markdown",
   "id": "33dbbe97-395e-4f29-b7bb-1e7febdc17e4",
   "metadata": {},
   "source": [
    "##### **When Will I Retire?** Build a program that displays when the user will retire and how many years she has to work till retirement."
   ]
  },
  {
   "cell_type": "code",
   "execution_count": 47,
   "id": "0b9f1dee-9806-4378-a366-7813fa0b29fa",
   "metadata": {},
   "outputs": [],
   "source": [
    "def when_retire():\n",
    "    current_age = int(input(\"What is your age? \"))\n",
    "    retirement_age = int(input(\"At what age would you like to retire? \"))\n",
    "    years_until_retirement = retirement_age - current_age\n",
    "    \n",
    "    print()\n",
    "    print(f\"It's 2024. You will retire in {2024 + years_until_retirement}.\")\n",
    "    print(f\"You have only {years_until_retirement} years of work to go!\")"
   ]
  },
  {
   "cell_type": "code",
   "execution_count": 48,
   "id": "6d72dec0-b919-403e-82b9-a8df665aae6f",
   "metadata": {},
   "outputs": [
    {
     "name": "stdin",
     "output_type": "stream",
     "text": [
      "What is your age?  29\n",
      "At what age would you like to retire?  99\n"
     ]
    },
    {
     "name": "stdout",
     "output_type": "stream",
     "text": [
      "\n",
      "It's 2024. You will retire in 2094.\n",
      "You have only 70 years of work to go!\n"
     ]
    }
   ],
   "source": [
    "when_retire()"
   ]
  },
  {
   "cell_type": "markdown",
   "id": "ce5b70f7-956c-4dd1-95c3-49a40114a527",
   "metadata": {},
   "source": [
    "##### **Get Middle Character:** Write a function that takes a non-empty string argument and returns the middle character(s) of the string. If the string has an odd length, you should return exactly one character. If the string has an even length, you should return exactly two characters."
   ]
  },
  {
   "cell_type": "code",
   "execution_count": 63,
   "id": "951e71dc-d3e7-42a5-8c76-fa67582457d1",
   "metadata": {},
   "outputs": [],
   "source": [
    "def center_of(string):\n",
    "    length = len(string)\n",
    "\n",
    "    if length % 2 == 0:\n",
    "        start = int((length / 2) - 1)\n",
    "        end = int((length / 2) + 1)\n",
    "        \n",
    "        return string[start:end]\n",
    "    else:\n",
    "        start = int(length // 2)\n",
    "        end = int((length // 2) + 1)\n",
    "        \n",
    "        return string[start:end]"
   ]
  },
  {
   "cell_type": "code",
   "execution_count": 64,
   "id": "cb7fe260-7580-4c0c-804e-fd4497b8da66",
   "metadata": {},
   "outputs": [
    {
     "name": "stdout",
     "output_type": "stream",
     "text": [
      "True\n",
      "True\n",
      "True\n",
      "True\n",
      "True\n",
      "True\n"
     ]
    }
   ],
   "source": [
    "print(center_of('I Love Python!!!') == \"Py\")    # True\n",
    "print(center_of('Launch School') == \" \")        # True\n",
    "print(center_of('Launchschool') == \"hs\")        # True\n",
    "print(center_of('Launch') == \"un\")              # True\n",
    "print(center_of('Launch School is #1') == \"h\")  # True\n",
    "print(center_of('x') == \"x\")                    # True"
   ]
  },
  {
   "cell_type": "markdown",
   "id": "aba90a59-e307-4953-b6de-58b4fa7f6542",
   "metadata": {},
   "source": [
    "##### **Always Return Negative:** Write a function that takes a number as an argument. If the argument is a positive number, return the negative of that number. If the argument is a negative number, return it as-is."
   ]
  },
  {
   "cell_type": "code",
   "execution_count": 65,
   "id": "7f78d562-6d0d-48b5-9f6a-be693a6b87c9",
   "metadata": {},
   "outputs": [],
   "source": [
    "def negative(num):\n",
    "    if num < 0:\n",
    "        return num\n",
    "    else: return num * -1"
   ]
  },
  {
   "cell_type": "code",
   "execution_count": 66,
   "id": "c2dc3f45-2197-4634-9351-27a5803894ee",
   "metadata": {},
   "outputs": [
    {
     "name": "stdout",
     "output_type": "stream",
     "text": [
      "True\n",
      "True\n",
      "True\n"
     ]
    }
   ],
   "source": [
    "print(negative(5) == -5)      # True\n",
    "print(negative(-3) == -3)     # True\n",
    "print(negative(0) == 0)       # True"
   ]
  }
 ],
 "metadata": {
  "kernelspec": {
   "display_name": "Python 3 (ipykernel)",
   "language": "python",
   "name": "python3"
  },
  "language_info": {
   "codemirror_mode": {
    "name": "ipython",
    "version": 3
   },
   "file_extension": ".py",
   "mimetype": "text/x-python",
   "name": "python",
   "nbconvert_exporter": "python",
   "pygments_lexer": "ipython3",
   "version": "3.12.5"
  }
 },
 "nbformat": 4,
 "nbformat_minor": 5
}
