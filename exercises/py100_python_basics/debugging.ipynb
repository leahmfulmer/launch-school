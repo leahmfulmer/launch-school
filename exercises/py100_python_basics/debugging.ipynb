{
 "cells": [
  {
   "cell_type": "markdown",
   "id": "b01a56bd-4fb5-4288-a3bb-040daacfba49",
   "metadata": {},
   "source": [
    "# PY100 - Python Basics\n",
    "### Debugging"
   ]
  },
  {
   "cell_type": "markdown",
   "id": "4e050bb5-8705-40d3-bf23-60b3c1036ca9",
   "metadata": {},
   "source": [
    "##### **Reading Error Messages:** You come across the following code. What errors does it raise for the given examples and what exactly do the error messages mean?"
   ]
  },
  {
   "cell_type": "code",
   "execution_count": 1,
   "id": "cef64af2-f5be-4101-ac5d-4a0435e51b5a",
   "metadata": {},
   "outputs": [
    {
     "ename": "TypeError",
     "evalue": "find_first_nonzero_among() takes 1 positional argument but 6 were given",
     "output_type": "error",
     "traceback": [
      "\u001b[0;31m---------------------------------------------------------------------------\u001b[0m",
      "\u001b[0;31mTypeError\u001b[0m                                 Traceback (most recent call last)",
      "Cell \u001b[0;32mIn[1], line 6\u001b[0m\n\u001b[1;32m      3\u001b[0m         \u001b[38;5;28;01mif\u001b[39;00m n \u001b[38;5;241m!=\u001b[39m \u001b[38;5;241m0\u001b[39m:\n\u001b[1;32m      4\u001b[0m             \u001b[38;5;28;01mreturn\u001b[39;00m n\n\u001b[0;32m----> 6\u001b[0m \u001b[43mfind_first_nonzero_among\u001b[49m\u001b[43m(\u001b[49m\u001b[38;5;241;43m0\u001b[39;49m\u001b[43m,\u001b[49m\u001b[43m \u001b[49m\u001b[38;5;241;43m0\u001b[39;49m\u001b[43m,\u001b[49m\u001b[43m \u001b[49m\u001b[38;5;241;43m1\u001b[39;49m\u001b[43m,\u001b[49m\u001b[43m \u001b[49m\u001b[38;5;241;43m0\u001b[39;49m\u001b[43m,\u001b[49m\u001b[43m \u001b[49m\u001b[38;5;241;43m2\u001b[39;49m\u001b[43m,\u001b[49m\u001b[43m \u001b[49m\u001b[38;5;241;43m0\u001b[39;49m\u001b[43m)\u001b[49m\n\u001b[1;32m      7\u001b[0m find_first_nonzero_among(\u001b[38;5;241m1\u001b[39m)\n",
      "\u001b[0;31mTypeError\u001b[0m: find_first_nonzero_among() takes 1 positional argument but 6 were given"
     ]
    }
   ],
   "source": [
    "def find_first_nonzero_among(numbers):\n",
    "    for n in numbers:\n",
    "        if n != 0:\n",
    "            return n\n",
    "\n",
    "find_first_nonzero_among(0, 0, 1, 0, 2, 0)\n",
    "find_first_nonzero_among(1)"
   ]
  },
  {
   "cell_type": "markdown",
   "id": "a1e76a9f-987d-4612-a3d1-396146796e49",
   "metadata": {},
   "source": [
    "The function definition expects to receive 1 argument because it was given one parameter: `numbers`. Instead, we get a `TypeError` when calling `find_first_non_zero_among` because 6 numbers are given. These 6 numbers are not collected within a single list, so they are taken as 6 different arguments."
   ]
  },
  {
   "cell_type": "markdown",
   "id": "d478620e-e443-4293-8517-764bb1db0c58",
   "metadata": {},
   "source": [
    "##### **Weather Forecast:** Our `predict_weather` function should output a message indicating whether a sunny or cloudy day lies ahead. However, the output is the same every time the function is invoked. Why? Fix the code so that it behaves as expected."
   ]
  },
  {
   "cell_type": "code",
   "execution_count": 8,
   "id": "e62ea4e2-c05c-4b13-bba6-3b33a071c9f9",
   "metadata": {},
   "outputs": [
    {
     "name": "stdout",
     "output_type": "stream",
     "text": [
      "False\n",
      "Today's weather will be sunny!\n"
     ]
    }
   ],
   "source": [
    "import random\n",
    "\n",
    "def predict_weather():\n",
    "    sunshine = random.choice(['True', 'False'])\n",
    "    print(sunshine)\n",
    "\n",
    "    if sunshine:\n",
    "        print(\"Today's weather will be sunny!\")\n",
    "    else:\n",
    "        print(\"Today's weather will be cloudy!\")\n",
    "\n",
    "predict_weather()"
   ]
  },
  {
   "cell_type": "markdown",
   "id": "50be4d4b-8f58-459c-b274-f361d776836e",
   "metadata": {},
   "source": [
    "The error occurs because `random.choice()` is selecting between the strings `'True'` and `'False'`, not the booleans `True` and `False`. A non-empty string is truthy, so the line `if sunshine:` always evaluates to true. Here is the fixed code:"
   ]
  },
  {
   "cell_type": "code",
   "execution_count": 9,
   "id": "942927f7-f793-4da4-868a-a16344494450",
   "metadata": {},
   "outputs": [
    {
     "name": "stdout",
     "output_type": "stream",
     "text": [
      "False\n",
      "Today's weather will be cloudy!\n"
     ]
    }
   ],
   "source": [
    "def predict_weather():\n",
    "    sunshine = random.choice([True, False])\n",
    "    print(sunshine)\n",
    "\n",
    "    if sunshine:\n",
    "        print(\"Today's weather will be sunny!\")\n",
    "    else:\n",
    "        print(\"Today's weather will be cloudy!\")\n",
    "\n",
    "predict_weather()"
   ]
  },
  {
   "cell_type": "markdown",
   "id": "aa73eb2e-1bd6-44fb-98d6-2516a71845f1",
   "metadata": {},
   "source": [
    "##### **Multiply By Five:** When the user inputs `10`, we expect the program to print The result is 50!, but that's not the output we see. Why not?"
   ]
  },
  {
   "cell_type": "code",
   "execution_count": 10,
   "id": "ea061069-0b95-4694-855f-f6279381fbab",
   "metadata": {},
   "outputs": [
    {
     "name": "stdout",
     "output_type": "stream",
     "text": [
      "Hello! Which number would you like to multiply by 5?\n"
     ]
    },
    {
     "name": "stdin",
     "output_type": "stream",
     "text": [
      " 10\n"
     ]
    },
    {
     "name": "stdout",
     "output_type": "stream",
     "text": [
      "The result is 1010101010!\n"
     ]
    }
   ],
   "source": [
    "def multiply_by_five(n):\n",
    "    return n * 5\n",
    "\n",
    "print(\"Hello! Which number would you like to multiply by 5?\")\n",
    "number = input()\n",
    "\n",
    "print(f\"The result is {multiply_by_five(number)}!\")"
   ]
  },
  {
   "cell_type": "markdown",
   "id": "23947037-f152-40c7-a9e5-0409f0820416",
   "metadata": {},
   "source": [
    "The function `input()` receives the string `'10'` and not the number `10`. To fix this error, convert the input value into a number either within the function or before passing it into the function."
   ]
  },
  {
   "cell_type": "markdown",
   "id": "4bc4783e-2e16-4331-8358-04af192703f5",
   "metadata": {},
   "source": [
    "##### **Pets:** Magdalena has just adopted a new pet! She wants to add her new dog, Bowser, to the `pets` dictionary. After doing so, she realizes that her dogs Sparky and Fido have been mistakenly removed. Help Magdalena fix her code so that all three of her dogs' names will be associated with the key `'dog'` in the `pets` dictionary."
   ]
  },
  {
   "cell_type": "code",
   "execution_count": 24,
   "id": "d2ef30d3-c906-4c40-a915-09fbdf5d1d44",
   "metadata": {},
   "outputs": [
    {
     "name": "stdout",
     "output_type": "stream",
     "text": [
      "{'cat': 'pepe', 'dog': ['sparky', 'fido', 'bowser'], 'fish': 'oscar'}\n"
     ]
    }
   ],
   "source": [
    "pets = { 'cat': 'pepe', 'dog': ['sparky', 'fido'], 'fish': 'oscar' }\n",
    "\n",
    "# One approach\n",
    "# pets['dog'] = ['sparky', 'fido', 'bowser']\n",
    "\n",
    "\n",
    "# Another approach\n",
    "# pets['dog'] += ['bowser']\n",
    "pets['dog'].append('bowser')\n",
    "\n",
    "print(pets)"
   ]
  },
  {
   "cell_type": "markdown",
   "id": "224aab9c-063b-4ee2-a46a-317995bc0926",
   "metadata": {},
   "source": [
    "##### **Confucius Says:** You want to have a small script delivering motivational quotes, but with the following code you run into a very common error message: `TypeError: can only concatenate str (not \"NoneType\") to str`. What is the problem and how can you fix it?"
   ]
  },
  {
   "cell_type": "code",
   "execution_count": 27,
   "id": "a39221b0-90ab-41b2-a31e-f5092674992d",
   "metadata": {},
   "outputs": [
    {
     "name": "stdout",
     "output_type": "stream",
     "text": [
      "Confucius says:\n"
     ]
    },
    {
     "ename": "TypeError",
     "evalue": "can only concatenate str (not \"NoneType\") to str",
     "output_type": "error",
     "traceback": [
      "\u001b[0;31m---------------------------------------------------------------------------\u001b[0m",
      "\u001b[0;31mTypeError\u001b[0m                                 Traceback (most recent call last)",
      "Cell \u001b[0;32mIn[27], line 10\u001b[0m\n\u001b[1;32m      7\u001b[0m         \u001b[38;5;124m'\u001b[39m\u001b[38;5;124mDo not worry about your difficulties in Mathematics. I can assure you mine are still greater.\u001b[39m\u001b[38;5;124m'\u001b[39m\n\u001b[1;32m      9\u001b[0m \u001b[38;5;28mprint\u001b[39m(\u001b[38;5;124m'\u001b[39m\u001b[38;5;124mConfucius says:\u001b[39m\u001b[38;5;124m'\u001b[39m)\n\u001b[0;32m---> 10\u001b[0m \u001b[38;5;28mprint\u001b[39m(\u001b[38;5;124;43m'\u001b[39;49m\u001b[38;5;124;43m\"\u001b[39;49m\u001b[38;5;124;43m'\u001b[39;49m\u001b[43m \u001b[49m\u001b[38;5;241;43m+\u001b[39;49m\u001b[43m \u001b[49m\u001b[43mget_quote\u001b[49m\u001b[43m(\u001b[49m\u001b[38;5;124;43m'\u001b[39;49m\u001b[38;5;124;43mConfucius\u001b[39;49m\u001b[38;5;124;43m'\u001b[39;49m\u001b[43m)\u001b[49m \u001b[38;5;241m+\u001b[39m \u001b[38;5;124m'\u001b[39m\u001b[38;5;124m\"\u001b[39m\u001b[38;5;124m'\u001b[39m)\n",
      "\u001b[0;31mTypeError\u001b[0m: can only concatenate str (not \"NoneType\") to str"
     ]
    }
   ],
   "source": [
    "def get_quote(person):\n",
    "    if person == 'Yoda':\n",
    "        'Do. Or do not. There is no try.'\n",
    "    if person == 'Confucius':\n",
    "        'I hear and I forget. I see and I remember. I do and I understand.'\n",
    "    if person == 'Einstein':\n",
    "        'Do not worry about your difficulties in Mathematics. I can assure you mine are still greater.'\n",
    "\n",
    "print('Confucius says:')\n",
    "print('\"' + get_quote('Confucius') + '\"')"
   ]
  },
  {
   "cell_type": "markdown",
   "id": "1256df9e-8f30-4cfc-bb9e-f5b453c4b148",
   "metadata": {},
   "source": [
    "We get this error because we don't have `return` statements. Since nothing is explicitly returned, the function's return value is `None`."
   ]
  },
  {
   "cell_type": "code",
   "execution_count": 28,
   "id": "ec1b6b08-dc74-48e6-996a-7bf6da8520f3",
   "metadata": {},
   "outputs": [
    {
     "name": "stdout",
     "output_type": "stream",
     "text": [
      "Confucius says:\n",
      "\"I hear and I forget. I see and I remember. I do and I understand.\"\n"
     ]
    }
   ],
   "source": [
    "def get_quote(person):\n",
    "    if person == 'Yoda':\n",
    "        return 'Do. Or do not. There is no try.'\n",
    "    if person == 'Confucius':\n",
    "        return 'I hear and I forget. I see and I remember. I do and I understand.'\n",
    "    if person == 'Einstein':\n",
    "        return 'Do not worry about your difficulties in Mathematics. I can assure you mine are still greater.'\n",
    "\n",
    "print('Confucius says:')\n",
    "print('\"' + get_quote('Confucius') + '\"')"
   ]
  },
  {
   "cell_type": "markdown",
   "id": "ebebced1-2ead-42b7-877d-ffbd550fc7bb",
   "metadata": {},
   "source": [
    "##### **Populate List:** You want to add the numbers from 1 to 5 to a list, but the code below is not producing the expected result. How can you fix it?"
   ]
  },
  {
   "cell_type": "code",
   "execution_count": 29,
   "id": "6d2aef66-d637-47a1-a934-11383341d2fc",
   "metadata": {},
   "outputs": [
    {
     "name": "stdout",
     "output_type": "stream",
     "text": [
      "[0, 1, 2, 3, 4]\n"
     ]
    }
   ],
   "source": [
    "numbers = []\n",
    "\n",
    "for i in range(5):\n",
    "    numbers.append(i)\n",
    "\n",
    "print(numbers)"
   ]
  },
  {
   "cell_type": "markdown",
   "id": "f5b5842a-384a-4885-8d8d-97c980cfc5c3",
   "metadata": {},
   "source": [
    "Instead of `range(5)`, use `range(1,6)`."
   ]
  },
  {
   "cell_type": "code",
   "execution_count": 32,
   "id": "fb2bb8f0-0e1d-4e8e-bc45-d126f0466a0b",
   "metadata": {},
   "outputs": [
    {
     "name": "stdout",
     "output_type": "stream",
     "text": [
      "[1, 2, 3, 4, 5]\n"
     ]
    }
   ],
   "source": [
    "numbers = []\n",
    "\n",
    "for i in range(1,6):\n",
    "    numbers.append(i)\n",
    "\n",
    "print(numbers)"
   ]
  },
  {
   "cell_type": "markdown",
   "id": "9b063b32-c8b2-4883-a39d-1ff9ee8ac72f",
   "metadata": {},
   "source": [
    "##### **Dictionary Access:** You are trying to access a value in a dictionary, but the code is giving you an error. Can you change line 3 so that it prints `\"Unknown\"` instead of raising an error?"
   ]
  },
  {
   "cell_type": "code",
   "execution_count": 34,
   "id": "0b913e20-96ef-40cc-8add-cf3f03f3d3a1",
   "metadata": {},
   "outputs": [
    {
     "name": "stdout",
     "output_type": "stream",
     "text": [
      "Unknown\n"
     ]
    }
   ],
   "source": [
    "info = {'name': 'Srdjan', 'age': 38}\n",
    "\n",
    "print(info.get('city', 'Unknown'))"
   ]
  },
  {
   "cell_type": "markdown",
   "id": "2611d332-925f-4296-bcde-4801894d1e01",
   "metadata": {},
   "source": [
    "##### **Matrix:** We wanted to create a matrix 3x3 so we could use it to build a Tic-Tac-Toe game. However, we encountered an issue, as whenever we change a value in one nested list, all nested lists are affected. Can you fix the code?"
   ]
  },
  {
   "cell_type": "code",
   "execution_count": 53,
   "id": "e89a0260-f2fb-4fd3-93b5-3b98dc952aff",
   "metadata": {},
   "outputs": [
    {
     "name": "stdout",
     "output_type": "stream",
     "text": [
      "[['X', '-', '-'], ['-', '-', '-'], ['-', '-', '-']]\n"
     ]
    }
   ],
   "source": [
    "sub_list = [\"-\", \"-\", \"-\"]\n",
    "matrix = []\n",
    "\n",
    "import copy\n",
    "\n",
    "for _ in range(3):\n",
    "    matrix.append(copy.copy(sub_list))\n",
    "\n",
    "matrix[0][0] = \"X\"\n",
    "print(matrix)                # [['X', '-', '-'], ['X', '-', '-'], ['X', '-', '-']]"
   ]
  },
  {
   "cell_type": "markdown",
   "id": "2277a503-da34-4f80-872d-6ffac255fae1",
   "metadata": {},
   "source": [
    "At first, all of the items in the matrix are pointing to the same object. So when one changes the rest cahnge, too. To fix this, make sure each item is appended as a `copy` of `sub_list`."
   ]
  },
  {
   "cell_type": "markdown",
   "id": "846e1324-2db2-47b2-a192-3279c0ca6d4e",
   "metadata": {},
   "source": [
    "##### **Find Maximum:** Your colleague has implemented a custom function to find the maximum value in a list. However, the function sometimes works correctly, but other times it produces incorrect results. Can you help your colleague fix the bug?"
   ]
  },
  {
   "cell_type": "code",
   "execution_count": 59,
   "id": "1a23c37b-31a3-429d-8126-49ffbe3e8607",
   "metadata": {},
   "outputs": [
    {
     "name": "stdout",
     "output_type": "stream",
     "text": [
      "98\n",
      "5\n",
      "-2\n"
     ]
    }
   ],
   "source": [
    "def find_maximum(numbers):\n",
    "    if not numbers:\n",
    "        return None\n",
    "\n",
    "    # Let max_number equal the first number in the list, not 0\n",
    "    max_number = numbers[0] \n",
    "    for number in numbers:\n",
    "        if number > max_number:\n",
    "            max_number = number\n",
    "    return max_number\n",
    "\n",
    "print(find_maximum([45, 3, 10, 98, 22]))  # Expected 98\n",
    "print(find_maximum([-1, 0, 5, 3]))         # Expected 5\n",
    "print(find_maximum([-10, -3, -20, -2]))   # Expected -2"
   ]
  },
  {
   "cell_type": "markdown",
   "id": "2e0fb0b9-4749-4f82-bc16-b113bc7d7537",
   "metadata": {},
   "source": [
    "##### **Digit Product:** You've been asked to implement a function called `digit_product` that takes a string of digits as an argument and returns the product of all the digits in the string. When testing the function, you find that it returns `0`, which is not what you expect. Can you identify the issue and correct the code?def digit_product(str_num):"
   ]
  },
  {
   "cell_type": "code",
   "execution_count": 63,
   "id": "b3a83fff-fbb2-4171-b312-3d95bf59d4dc",
   "metadata": {},
   "outputs": [
    {
     "name": "stdout",
     "output_type": "stream",
     "text": [
      "120\n"
     ]
    }
   ],
   "source": [
    "def digit_product(str_num):\n",
    "    digits = [int(n) for n in str_num]\n",
    "\n",
    "    # Let product = 1, not 0.\n",
    "    product = 1\n",
    "\n",
    "    for digit in digits:\n",
    "        product *= digit\n",
    "\n",
    "    return product\n",
    "\n",
    "result = digit_product('12345')\n",
    "print(result)  # expected: 120, actual: 0"
   ]
  }
 ],
 "metadata": {
  "kernelspec": {
   "display_name": "Python 3 (ipykernel)",
   "language": "python",
   "name": "python3"
  },
  "language_info": {
   "codemirror_mode": {
    "name": "ipython",
    "version": 3
   },
   "file_extension": ".py",
   "mimetype": "text/x-python",
   "name": "python",
   "nbconvert_exporter": "python",
   "pygments_lexer": "ipython3",
   "version": "3.12.5"
  }
 },
 "nbformat": 4,
 "nbformat_minor": 5
}
