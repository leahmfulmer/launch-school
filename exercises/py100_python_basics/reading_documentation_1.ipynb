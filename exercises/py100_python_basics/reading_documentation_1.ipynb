{
 "cells": [
  {
   "cell_type": "markdown",
   "id": "57b84bee-3e6e-4bf9-a9d4-02b5c55e3704",
   "metadata": {},
   "source": [
    "# PY100 - Python Basics\n",
    "### Reading Documentation 1"
   ]
  },
  {
   "cell_type": "markdown",
   "id": "fab8deb9-06d5-4ab5-9579-e9b81a35e19d",
   "metadata": {},
   "source": [
    "##### **Finding Documentation:** What is the official place to find Python documentation?"
   ]
  },
  {
   "cell_type": "markdown",
   "id": "99d34b25-29fc-4ff5-b4a9-b90181121d55",
   "metadata": {},
   "source": [
    "You can find the official Python documenation at [https://docs.python.org/3/](https://docs.python.org/3/)."
   ]
  },
  {
   "cell_type": "markdown",
   "id": "5b3d189d-7bff-4934-a9ef-c9d5f95c1d50",
   "metadata": {},
   "source": [
    "##### **Lowercase:** Determine whether Python has a method to lowercase a string, for example converting `'Aloha, World!'` into `'aloha, world!`."
   ]
  },
  {
   "cell_type": "markdown",
   "id": "6835efc6-570e-43e6-ae37-1be3ca66f49e",
   "metadata": {},
   "source": [
    "Yes, `str.lower()` is one of Python's built-in methods. Source: [https://docs.python.org/3/library/stdtypes.html](https://docs.python.org/3/library/stdtypes.html)"
   ]
  },
  {
   "cell_type": "code",
   "execution_count": 1,
   "id": "6be08096-55fc-4949-af93-71a68d743b93",
   "metadata": {},
   "outputs": [
    {
     "name": "stdout",
     "output_type": "stream",
     "text": [
      "aloha, world!\n"
     ]
    }
   ],
   "source": [
    "string = 'Aloha, World!'\n",
    "print(string.lower())"
   ]
  },
  {
   "cell_type": "markdown",
   "id": "dbce33c2-e49d-450a-ac10-0d61a737bbef",
   "metadata": {},
   "source": [
    "##### **Right Justifying Strings:** Use the Python documentation for the `str` class to determine which method can be used to right justify a `str` object."
   ]
  },
  {
   "cell_type": "code",
   "execution_count": 7,
   "id": "0d32cb0e-6653-429a-866e-a75343e1363c",
   "metadata": {},
   "outputs": [
    {
     "name": "stdout",
     "output_type": "stream",
     "text": [
      "                                                                  Aloha, World!\n"
     ]
    }
   ],
   "source": [
    "string = 'Aloha, World!'\n",
    "print(string.rjust(79))"
   ]
  },
  {
   "cell_type": "markdown",
   "id": "f70d0214-4fc5-4062-8677-d6dd8b63240c",
   "metadata": {},
   "source": [
    "##### **Reverse:** Is there a method to reverse a string, for example turning 'hello' into 'olleh'?"
   ]
  },
  {
   "cell_type": "code",
   "execution_count": 15,
   "id": "d6551e15-e689-46ee-b7f1-59a440a6e057",
   "metadata": {},
   "outputs": [
    {
     "name": "stdout",
     "output_type": "stream",
     "text": [
      "olleh\n"
     ]
    }
   ],
   "source": [
    "string = 'hello'\n",
    "\n",
    "# One approach\n",
    "print(string[::-1])\n",
    "\n",
    "# Another approach\n",
    "# print(''.join(list(reversed(string))))"
   ]
  },
  {
   "cell_type": "markdown",
   "id": "fe7c2a73-181e-4c24-9aa4-fd7bddf62b82",
   "metadata": {},
   "source": [
    "##### **List Element Access:** Locate the documentation for the list built-in object in Python Documentation. How can we access the second element (`'and'`) in the list [`'fish', 'and', 'chips'`]?"
   ]
  },
  {
   "cell_type": "code",
   "execution_count": 16,
   "id": "8548c376-1f83-4cd8-8dce-792ba1c609bc",
   "metadata": {},
   "outputs": [
    {
     "name": "stdout",
     "output_type": "stream",
     "text": [
      "and\n"
     ]
    }
   ],
   "source": [
    "# Source: https://docs.python.org/3/library/stdtypes.html#list\n",
    "my_list = ['fish', 'and', 'chips']\n",
    "print(my_list[1])"
   ]
  },
  {
   "cell_type": "markdown",
   "id": "14057ba3-37d5-495f-9bf4-5b0f7a497407",
   "metadata": {},
   "source": [
    "##### **Finding Index:** Python lists come with a variety of built-in methods that allow for common list manipulations. One such operation is determining the index of an item in the list. Given the following list, how would you determine the index of the fruit `\"cherry\"` in this list?"
   ]
  },
  {
   "cell_type": "code",
   "execution_count": 19,
   "id": "55cba559-ac99-4e90-ac5b-0a35b47b0533",
   "metadata": {},
   "outputs": [
    {
     "name": "stdout",
     "output_type": "stream",
     "text": [
      "2\n"
     ]
    }
   ],
   "source": [
    "fruits = [\"apple\", \"banana\", \"cherry\", \"peach\", \"watermelon\"]\n",
    "print(fruits.index(\"cherry\"))"
   ]
  },
  {
   "cell_type": "markdown",
   "id": "dcef3305-bbf0-4257-bb57-4a8dabce47a9",
   "metadata": {},
   "source": [
    "##### **Out Of Bounds:** What happens if we take the list `['fish', 'and', 'chips']` and try to access the element at index position `10`? First try to determine what will happen by consulting the documentation, then verify your understanding in the Python REPL."
   ]
  },
  {
   "cell_type": "markdown",
   "id": "c5963e46-c29d-481e-8332-a4652acee8e4",
   "metadata": {},
   "source": [
    "We will get an IndexError because `10 > (len(['fish', 'and', 'chips']) - 1)`."
   ]
  },
  {
   "cell_type": "code",
   "execution_count": 20,
   "id": "32ece325-1db6-4ef3-a79a-351abf78f18b",
   "metadata": {},
   "outputs": [
    {
     "ename": "IndexError",
     "evalue": "list index out of range",
     "output_type": "error",
     "traceback": [
      "\u001b[0;31m---------------------------------------------------------------------------\u001b[0m",
      "\u001b[0;31mIndexError\u001b[0m                                Traceback (most recent call last)",
      "Cell \u001b[0;32mIn[20], line 2\u001b[0m\n\u001b[1;32m      1\u001b[0m string \u001b[38;5;241m=\u001b[39m [\u001b[38;5;124m'\u001b[39m\u001b[38;5;124mfish\u001b[39m\u001b[38;5;124m'\u001b[39m, \u001b[38;5;124m'\u001b[39m\u001b[38;5;124mand\u001b[39m\u001b[38;5;124m'\u001b[39m, \u001b[38;5;124m'\u001b[39m\u001b[38;5;124mchips\u001b[39m\u001b[38;5;124m'\u001b[39m]\n\u001b[0;32m----> 2\u001b[0m \u001b[38;5;28mprint\u001b[39m(\u001b[43mstring\u001b[49m\u001b[43m[\u001b[49m\u001b[38;5;241;43m10\u001b[39;49m\u001b[43m]\u001b[49m)\n",
      "\u001b[0;31mIndexError\u001b[0m: list index out of range"
     ]
    }
   ],
   "source": [
    "string = ['fish', 'and', 'chips']\n",
    "print(string[10])"
   ]
  },
  {
   "cell_type": "markdown",
   "id": "271ba99a-95e5-4121-8ed9-84f9ad3c7770",
   "metadata": {},
   "source": [
    "##### **Large Numbers:** Using the Python documentation, determine how you can write large numbers in a way that makes them easier to read."
   ]
  },
  {
   "cell_type": "markdown",
   "id": "aba68791-772a-426d-bd7a-ee1e4a27830c",
   "metadata": {},
   "source": [
    "You can insert an `_` after groupings of three-digit numbers, much like the use of commas."
   ]
  },
  {
   "cell_type": "code",
   "execution_count": 22,
   "id": "e0c4304b-d922-46bb-973f-a8e7a950f893",
   "metadata": {},
   "outputs": [
    {
     "name": "stdout",
     "output_type": "stream",
     "text": [
      "300000000\n",
      "300000000\n"
     ]
    }
   ],
   "source": [
    "c = 300000000 # m/s\n",
    "print(c)\n",
    "\n",
    "c = 300_000_000 # m/s\n",
    "print(c)"
   ]
  },
  {
   "cell_type": "markdown",
   "id": "a2344efb-8d58-43a7-924b-7cf8d882faab",
   "metadata": {},
   "source": [
    "##### **Checking Data Types:** Referring to the official Python documentation, how would you identify the data type of the following values?"
   ]
  },
  {
   "cell_type": "code",
   "execution_count": 23,
   "id": "9fcd99ef-55c2-4ba8-a5c0-394dcb41642d",
   "metadata": {},
   "outputs": [
    {
     "name": "stdout",
     "output_type": "stream",
     "text": [
      "<class 'float'>\n",
      "<class 'str'>\n",
      "<class 'bool'>\n",
      "<class 'int'>\n",
      "<class 'NoneType'>\n"
     ]
    }
   ],
   "source": [
    "print(type(23.5))                 # float\n",
    "print(type('Call me Ishmael.'))   # str\n",
    "print(type(False))                # bool\n",
    "print(type(0))                    # int\n",
    "print(type(None))                 # NoneType"
   ]
  }
 ],
 "metadata": {
  "kernelspec": {
   "display_name": "Python 3 (ipykernel)",
   "language": "python",
   "name": "python3"
  },
  "language_info": {
   "codemirror_mode": {
    "name": "ipython",
    "version": 3
   },
   "file_extension": ".py",
   "mimetype": "text/x-python",
   "name": "python",
   "nbconvert_exporter": "python",
   "pygments_lexer": "ipython3",
   "version": "3.12.5"
  }
 },
 "nbformat": 4,
 "nbformat_minor": 5
}
