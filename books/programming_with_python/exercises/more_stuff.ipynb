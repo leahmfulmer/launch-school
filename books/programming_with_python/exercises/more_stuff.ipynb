{
 "cells": [
  {
   "cell_type": "markdown",
   "id": "7880c9b2-809e-4f39-8196-43688daa89c8",
   "metadata": {},
   "source": [
    "# Introduction to Programming with Python\n",
    "### More Stuff: Exercises"
   ]
  },
  {
   "cell_type": "markdown",
   "id": "cc828b61-be30-4406-b486-4d6a58d9bebc",
   "metadata": {},
   "source": [
    "##### 1. What does the following function do? Be sure to identify the output value."
   ]
  },
  {
   "cell_type": "code",
   "execution_count": 3,
   "id": "874b4030-c5dc-4f23-9d4e-cd34184a6417",
   "metadata": {},
   "outputs": [
    {
     "name": "stdout",
     "output_type": "stream",
     "text": [
      "CHRIS\n"
     ]
    }
   ],
   "source": [
    "def do_something(dictionary):\n",
    "    return sorted(dictionary.keys())[1].upper()\n",
    "\n",
    "my_dict = {\n",
    "    'Karl':     108,\n",
    "    'Clare':    175,\n",
    "    'Karis':    140,\n",
    "    'Trevor':   180,\n",
    "    'Antonina': 132,\n",
    "    'Chris':    101,\n",
    "}\n",
    "\n",
    "print(do_something(my_dict))      # CHRIS"
   ]
  },
  {
   "cell_type": "markdown",
   "id": "a3798bfe-ec43-4561-8a36-d42091fbcb0f",
   "metadata": {},
   "source": [
    "The function takes in a dictionary and isolates its `keys` as a view object using `dictionary.keys()`. It sorts the view object using the built-in function `sorted`, *not* mutating it. It then selects the second element in the view object, indicated by the index `1`. Finally, it mutates this element to be all upper case using the method `upper()`."
   ]
  },
  {
   "cell_type": "markdown",
   "id": "96daa150-65f2-4b90-a927-e5607b5cf07a",
   "metadata": {},
   "source": [
    "##### 2. Use the `sqrt` function from the `math` library to write some code that outputs the square root of 37. Try to write the code in three different ways."
   ]
  },
  {
   "cell_type": "code",
   "execution_count": 4,
   "id": "8022f6e6-e3b7-4da2-a244-d991e8bec20f",
   "metadata": {},
   "outputs": [
    {
     "data": {
      "text/plain": [
       "6.082762530298219"
      ]
     },
     "execution_count": 4,
     "metadata": {},
     "output_type": "execute_result"
    }
   ],
   "source": [
    "import math\n",
    "math.sqrt(37)"
   ]
  },
  {
   "cell_type": "code",
   "execution_count": 5,
   "id": "10b978e8-8f31-496d-8870-9fd9464d1dbb",
   "metadata": {},
   "outputs": [
    {
     "data": {
      "text/plain": [
       "6.082762530298219"
      ]
     },
     "execution_count": 5,
     "metadata": {},
     "output_type": "execute_result"
    }
   ],
   "source": [
    "import math as m\n",
    "m.sqrt(37)"
   ]
  },
  {
   "cell_type": "code",
   "execution_count": 6,
   "id": "9d1a074d-7cec-4250-8a13-e232da6c72fe",
   "metadata": {},
   "outputs": [
    {
     "data": {
      "text/plain": [
       "6.082762530298219"
      ]
     },
     "execution_count": 6,
     "metadata": {},
     "output_type": "execute_result"
    }
   ],
   "source": [
    "from math import sqrt\n",
    "sqrt(37)"
   ]
  },
  {
   "cell_type": "markdown",
   "id": "830ce8ef-5f47-4718-a2b6-0f8ffe76506d",
   "metadata": {},
   "source": [
    "##### 3. Consider the following code. Write a *nested function* in `sum_of_squares` that will make this code work as shown."
   ]
  },
  {
   "cell_type": "code",
   "execution_count": 8,
   "id": "3f5c176c-85e6-4329-b616-5194b8926804",
   "metadata": {},
   "outputs": [
    {
     "name": "stdout",
     "output_type": "stream",
     "text": [
      "25\n",
      "169\n"
     ]
    }
   ],
   "source": [
    "def sum_of_squares(num1, num2):\n",
    "    def square(num):\n",
    "        return num**2\n",
    "    return square(num1) + square(num2)\n",
    "\n",
    "print(sum_of_squares(3, 4))   # 25 (3 * 3 + 4 * 4)\n",
    "print(sum_of_squares(5, 12))  # 169 (5 * 5 + 12 * 12)"
   ]
  },
  {
   "cell_type": "markdown",
   "id": "75a963b9-1029-4a86-bc05-94499f89999e",
   "metadata": {},
   "source": [
    "##### 4. Write a function called `increment_counter` that increments a `counter` variable every time it is called."
   ]
  },
  {
   "cell_type": "code",
   "execution_count": 11,
   "id": "ffe3f692-3223-40dd-8ad3-f3b31f2cf274",
   "metadata": {},
   "outputs": [
    {
     "name": "stdout",
     "output_type": "stream",
     "text": [
      "0\n",
      "1\n",
      "2\n",
      "101\n"
     ]
    }
   ],
   "source": [
    "counter = 0\n",
    "def increment_counter():\n",
    "    global counter\n",
    "    counter += 1\n",
    "\n",
    "print(counter)                # 0\n",
    "\n",
    "increment_counter()\n",
    "print(counter)                # 1\n",
    "\n",
    "increment_counter()\n",
    "print(counter)                # 2\n",
    "\n",
    "counter = 100\n",
    "increment_counter()\n",
    "print(counter)                # 101"
   ]
  },
  {
   "cell_type": "markdown",
   "id": "221177ee-162a-464b-94af-5527aeb08de2",
   "metadata": {},
   "source": [
    "##### 5. On reflection, we've decided that we don't want to rely on using a global variable in the code we wrote in the previous example. To fix this, we're going to nest the code from the previous example into an outer function. There's a bug in this code. Identify the bug, and fix it."
   ]
  },
  {
   "cell_type": "code",
   "execution_count": 12,
   "id": "a5768c64-7ca3-47e2-8df7-6e4937df8ee5",
   "metadata": {},
   "outputs": [
    {
     "name": "stdout",
     "output_type": "stream",
     "text": [
      "0\n",
      "1\n",
      "2\n",
      "101\n"
     ]
    }
   ],
   "source": [
    "def all_actions():\n",
    "    counter = 0\n",
    "\n",
    "    def increment_counter():\n",
    "        nonlocal counter\n",
    "        counter += 1\n",
    "\n",
    "    print(counter)                # 0\n",
    "\n",
    "    increment_counter()\n",
    "    print(counter)                # 1\n",
    "\n",
    "    increment_counter()\n",
    "    print(counter)                # 2\n",
    "\n",
    "    counter = 100\n",
    "    increment_counter()\n",
    "    print(counter)                # 101\n",
    "\n",
    "all_actions()"
   ]
  }
 ],
 "metadata": {
  "kernelspec": {
   "display_name": "Python 3 (ipykernel)",
   "language": "python",
   "name": "python3"
  },
  "language_info": {
   "codemirror_mode": {
    "name": "ipython",
    "version": 3
   },
   "file_extension": ".py",
   "mimetype": "text/x-python",
   "name": "python",
   "nbconvert_exporter": "python",
   "pygments_lexer": "ipython3",
   "version": "3.12.5"
  }
 },
 "nbformat": 4,
 "nbformat_minor": 5
}
