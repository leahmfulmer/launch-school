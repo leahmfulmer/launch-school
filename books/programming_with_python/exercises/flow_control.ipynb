{
 "cells": [
  {
   "cell_type": "markdown",
   "id": "31b3108e-0cd3-49e9-9c3e-780b5a02f893",
   "metadata": {},
   "source": [
    "# Introduction to Programming with Python\n",
    "### Flow Control: Exercises"
   ]
  },
  {
   "cell_type": "markdown",
   "id": "3c924095-3e82-4192-8544-9c50020e380d",
   "metadata": {},
   "source": [
    "##### 1. To what values do the following expressions evaluate?"
   ]
  },
  {
   "cell_type": "code",
   "execution_count": 14,
   "id": "832a1ac6-3613-4506-a386-043c584ec1c9",
   "metadata": {},
   "outputs": [
    {
     "name": "stdout",
     "output_type": "stream",
     "text": [
      "False\n",
      "True\n",
      "3\n",
      "3\n",
      "False\n",
      "True\n",
      "False\n",
      "False\n",
      "False\n",
      "True\n"
     ]
    }
   ],
   "source": [
    "print(False or (True and False)) # False\n",
    "print(True or (1 + 2))           # True\n",
    "print((1 + 2) or True)           # 3\n",
    "print(True and (1 + 2))          # 3\n",
    "print(False and (1 + 2))         # False\n",
    "print((1 + 2) and True)          # True\n",
    "print((32 * 4) >= 129)           # False\n",
    "print(False != (not True))       # False\n",
    "print(True == 4)                 # False\n",
    "print(False == (847 == '847'))   # True"
   ]
  },
  {
   "cell_type": "markdown",
   "id": "a8bbb4d5-255e-4aca-ada4-9c47f10492ab",
   "metadata": {},
   "source": [
    "##### 2. Write a function, `even_or_odd`, that determines whether its argument is an even or odd number. If it's even, the function should print `'even'`; otherwise, it should print `'odd'`. Assume the argument is always an integer."
   ]
  },
  {
   "cell_type": "code",
   "execution_count": 25,
   "id": "4baaafe8-4c36-40ca-8de6-2699c08834e8",
   "metadata": {},
   "outputs": [
    {
     "name": "stdout",
     "output_type": "stream",
     "text": [
      "odd\n"
     ]
    }
   ],
   "source": [
    "def even_or_odd(number):\n",
    "    if number % 2 == 0:\n",
    "        print('even')\n",
    "    else:\n",
    "        print('odd')\n",
    "\n",
    "even_or_odd(1)"
   ]
  },
  {
   "cell_type": "markdown",
   "id": "38116d9c-96bf-47ff-a6af-7fdc645e1bd6",
   "metadata": {},
   "source": [
    "##### 3. Without running the following code, what does it print? Why?\n",
    "\n",
    "`def bar_code_scanner(serial):`<br>\n",
    "`    match serial:`<br>\n",
    "`        case '123':`<br>\n",
    "`            print('Product1')`<br>\n",
    "`        case '113':`<br>\n",
    "`            print('Product2')`<br>\n",
    "`        case '142':`<br>\n",
    "`            print('Product3')`<br>\n",
    "`        case _:`<br>\n",
    "`            print('Product not found!')`\n",
    "\n",
    "`bar_code_scanner('113')`<br>\n",
    "`bar_code_scanner(142)`"
   ]
  },
  {
   "cell_type": "markdown",
   "id": "aa83aa35-0893-455a-bb21-1f8ecd7b722a",
   "metadata": {},
   "source": [
    "The code first prints `Product2` and then `Product not found!`. The string `'113'` matches the case `'113'` within `bar_code_scanner`; however, the integer `142` does not match any of the cases, which are all strings."
   ]
  },
  {
   "cell_type": "markdown",
   "id": "25a3becc-1718-4d49-9ef1-f6dea26f9a08",
   "metadata": {},
   "source": [
    "##### 4. Refactor this statement to use a regular if statement instead.\n",
    "\n",
    "`return ('bar' if foo() else qux())`"
   ]
  },
  {
   "cell_type": "code",
   "execution_count": 26,
   "id": "562d03f6-b3a7-4312-ad29-fc78a5e9a086",
   "metadata": {},
   "outputs": [
    {
     "ename": "SyntaxError",
     "evalue": "'return' outside function (3447832638.py, line 2)",
     "output_type": "error",
     "traceback": [
      "\u001b[0;36m  Cell \u001b[0;32mIn[26], line 2\u001b[0;36m\u001b[0m\n\u001b[0;31m    return 'bar'\u001b[0m\n\u001b[0m    ^\u001b[0m\n\u001b[0;31mSyntaxError\u001b[0m\u001b[0;31m:\u001b[0m 'return' outside function\n"
     ]
    }
   ],
   "source": [
    "if foo():\n",
    "    return 'bar'\n",
    "else:\n",
    "    return qux()"
   ]
  },
  {
   "cell_type": "markdown",
   "id": "664d4e80-fd0c-4230-85f5-eb4be856a000",
   "metadata": {},
   "source": [
    "##### 5. What does this code output, and why?\n",
    "\n",
    "`def is_list_empty(my_list):`<br>\n",
    "`    if my_list:`<br>\n",
    "`        print('Not Empty')`<br>\n",
    "`    else:`<br>\n",
    "`        print('Empty')`\n",
    "\n",
    "`is_list_empty([])`"
   ]
  },
  {
   "cell_type": "markdown",
   "id": "17288849-11f4-40bf-86d7-b1c91c9fcf66",
   "metadata": {},
   "source": [
    "The code outputs `Empty` because empty collections are falsy."
   ]
  },
  {
   "cell_type": "markdown",
   "id": "f733de44-30e9-443b-8114-4534ae6ac1cc",
   "metadata": {},
   "source": [
    "##### 6. Write a function that takes a string as an argument and returns an all-caps version of the string when the string is longer than 10 characters. Otherwise, it should return the original string. Example: change 'hello world' to 'HELLO WORLD', but don't change 'goodbye'."
   ]
  },
  {
   "cell_type": "code",
   "execution_count": 30,
   "id": "f0a03a54-89d0-46b7-a8fb-272f816ddfba",
   "metadata": {},
   "outputs": [
    {
     "name": "stdout",
     "output_type": "stream",
     "text": [
      "HELLO WORLD\n",
      "goodbye\n"
     ]
    }
   ],
   "source": [
    "def caps_if_long(my_string):\n",
    "    if len(my_string) > 10:\n",
    "        return my_string.upper()\n",
    "    else:\n",
    "        return my_string\n",
    "\n",
    "print(caps_if_long('hello world'))\n",
    "print(caps_if_long('goodbye'))"
   ]
  },
  {
   "cell_type": "markdown",
   "id": "6256785f-7ea5-49ea-a939-36263b592f2b",
   "metadata": {},
   "source": [
    "##### 7. Write a function that takes a single integer argument and prints a message that describes whether:\n",
    "* the value is between 0 and 50 (inclusive)\n",
    "* the value is between 51 and 100 (inclusive)\n",
    "* the value is greater than 100\n",
    "* the value is less than 0\n"
   ]
  },
  {
   "cell_type": "code",
   "execution_count": 37,
   "id": "ae5d74a2-c809-47a5-a784-0cd7f5d9561f",
   "metadata": {},
   "outputs": [
    {
     "name": "stdout",
     "output_type": "stream",
     "text": [
      "-1 is less than 0\n"
     ]
    }
   ],
   "source": [
    "def number_range(num):\n",
    "    if (0 <= num) and (num <= 50):\n",
    "        print(f'{num} is between 0 and 50')\n",
    "    elif (51 <= num) and (num <= 100):\n",
    "        print(f'{num} is between 51 and 100')\n",
    "    elif num > 100:\n",
    "        print(f'{num} is greater than 100')\n",
    "    elif num < 0:\n",
    "        print(f'{num} is less than 0')\n",
    "    else:\n",
    "        pass\n",
    "\n",
    "number_range(-1)"
   ]
  },
  {
   "cell_type": "markdown",
   "id": "35a9c2a2-05e0-41de-bf9d-9e7c7bce3e9f",
   "metadata": {},
   "source": [
    "##### *Note*: Here's a more efficient way to write this code..."
   ]
  },
  {
   "cell_type": "code",
   "execution_count": 45,
   "id": "b907566d-0f22-4b3e-91d1-bf3e05ff80bc",
   "metadata": {},
   "outputs": [
    {
     "name": "stdout",
     "output_type": "stream",
     "text": [
      "101 is greater than 100\n"
     ]
    }
   ],
   "source": [
    "def efficient_number_range(num):\n",
    "    if num < 0:\n",
    "        print(f'{num} is less than 0')\n",
    "    elif num <= 50:\n",
    "        print(f'{num} is between 0 and 50')\n",
    "    elif num <= 100:\n",
    "        print(f'{num} is between 51 and 100')\n",
    "    else: \n",
    "        print(f'{num} is greater than 100')\n",
    "\n",
    "efficient_number_range(101)"
   ]
  }
 ],
 "metadata": {
  "kernelspec": {
   "display_name": "Python 3 (ipykernel)",
   "language": "python",
   "name": "python3"
  },
  "language_info": {
   "codemirror_mode": {
    "name": "ipython",
    "version": 3
   },
   "file_extension": ".py",
   "mimetype": "text/x-python",
   "name": "python",
   "nbconvert_exporter": "python",
   "pygments_lexer": "ipython3",
   "version": "3.12.5"
  }
 },
 "nbformat": 4,
 "nbformat_minor": 5
}
