{
 "cells": [
  {
   "cell_type": "markdown",
   "id": "c417e7c9-b202-45f5-899b-5b8c0f99bc52",
   "metadata": {},
   "source": [
    "# Object Oriented Programming with Python\n",
    "### Magic Methods: Exercises"
   ]
  },
  {
   "cell_type": "markdown",
   "id": "e44c927a-1e7b-41d5-9383-9914bc0de197",
   "metadata": {},
   "source": [
    "##### 1. Create a `Car` class that makes the following code work as indicated:"
   ]
  },
  {
   "cell_type": "code",
   "execution_count": 1,
   "id": "2a3faff2-a80a-4755-a05f-c7b180fe3486",
   "metadata": {},
   "outputs": [],
   "source": [
    "class Car:\n",
    "\n",
    "    def __init__(self, model, year, color):\n",
    "        self.model = model\n",
    "        self.year = year\n",
    "        self.color = color\n",
    "\n",
    "    def __str__(self):\n",
    "        return f'{self.color.title()} {self.year} {self.model}'\n",
    "\n",
    "    def __repr__(self):\n",
    "        return f'Car({repr(self.model)}, {repr(self.year)}, {repr(self.color)})'"
   ]
  },
  {
   "cell_type": "code",
   "execution_count": 2,
   "id": "1f75fc74-f35c-44ee-9aa8-2d2fac24f4ce",
   "metadata": {},
   "outputs": [
    {
     "name": "stdout",
     "output_type": "stream",
     "text": [
      "Red 2024 ID.Buzz\n",
      "Car('ID.Buzz', 2024, 'red')\n"
     ]
    }
   ],
   "source": [
    "vwbuzz = Car('ID.Buzz', 2024, 'red')\n",
    "print(vwbuzz)        # Red 2024 ID.Buzz\n",
    "print(repr(vwbuzz))  # Car('ID.Buzz', 2024, 'red')"
   ]
  },
  {
   "cell_type": "markdown",
   "id": "6f7c54cf-45c0-4b9a-ac7b-6d755c69c9f8",
   "metadata": {},
   "source": [
    "##### 2. Earlier, we wrote the following class:"
   ]
  },
  {
   "cell_type": "code",
   "execution_count": 3,
   "id": "71bc6a6e-fb31-4ef1-85df-8fcc2626647c",
   "metadata": {},
   "outputs": [
    {
     "name": "stdout",
     "output_type": "stream",
     "text": [
      "Vector(18, 8)\n"
     ]
    }
   ],
   "source": [
    "class Vector:\n",
    "\n",
    "    def __init__(self, x, y):\n",
    "        self.x = x\n",
    "        self.y = y\n",
    "\n",
    "    def __add__(self, other):\n",
    "        if not isinstance(other, Vector):\n",
    "            return NotImplemented\n",
    "\n",
    "        new_x = self.x + other.x\n",
    "        new_y = self.y + other.y\n",
    "        return Vector(new_x, new_y)\n",
    "\n",
    "    # __iadd__ method omitted; we don't need it for this exercise\n",
    "\n",
    "    def __repr__(self):\n",
    "        x = repr(self.x)\n",
    "        y = repr(self.y)\n",
    "        return f'Vector({x}, {y})'\n",
    "\n",
    "v1 = Vector(5, 12)\n",
    "v2 = Vector(13, -4)\n",
    "print(v1 + v2)      # Vector(18, 8)"
   ]
  },
  {
   "cell_type": "markdown",
   "id": "3ee5155a-634b-4ece-9db3-f8687bda0e6e",
   "metadata": {},
   "source": [
    "##### Update this class so the following code works as indicated:\n",
    "\n",
    "`print(v1 - v2) # Vector(-8, 16)`<br>\n",
    "`print(v1 * v2) # 17`<br>\n",
    "`print(abs(v1)) # 13.0`"
   ]
  },
  {
   "cell_type": "code",
   "execution_count": 4,
   "id": "aaf77a1b-2c53-45ac-b669-0f3b446319c0",
   "metadata": {},
   "outputs": [],
   "source": [
    "from math import sqrt\n",
    "\n",
    "class Vector:\n",
    "\n",
    "    def __init__(self, x, y):\n",
    "        self.x = x\n",
    "        self.y = y\n",
    "\n",
    "    def __add__(self, other):\n",
    "        if not isinstance(other, Vector):\n",
    "            return NotImplemented\n",
    "\n",
    "        new_x = self.x + other.x\n",
    "        new_y = self.y + other.y\n",
    "        return Vector(new_x, new_y)\n",
    "\n",
    "    def __sub__(self, other):\n",
    "        if not isinstance(other, Vector):\n",
    "            return NotImplemented\n",
    "\n",
    "        new_x = self.x - other.x\n",
    "        new_y = self.y - other.y\n",
    "        return Vector(new_x, new_y)\n",
    "\n",
    "    def __mul__(self, other):\n",
    "        if not isinstance(other, Vector):\n",
    "            return NotImplemented\n",
    "\n",
    "        new_x = self.x * other.x\n",
    "        new_y = self.y * other.y\n",
    "        return new_x + new_y\n",
    "\n",
    "    def __abs__(self):\n",
    "        return sqrt(self.x**2 + self.y**2)\n",
    "\n",
    "    # Augmented assignments omitted; we don't need it for this exercise\n",
    "\n",
    "    def __repr__(self):\n",
    "        x = repr(self.x)\n",
    "        y = repr(self.y)\n",
    "        return f'Vector({x}, {y})'"
   ]
  },
  {
   "cell_type": "code",
   "execution_count": 5,
   "id": "38659b24-2cd6-4a28-a9df-12aa4ba7175a",
   "metadata": {},
   "outputs": [
    {
     "name": "stdout",
     "output_type": "stream",
     "text": [
      "Vector(18, 8)\n",
      "Vector(-8, 16)\n",
      "17\n",
      "13.0\n"
     ]
    }
   ],
   "source": [
    "v1 = Vector(5, 12)\n",
    "v2 = Vector(13, -4)\n",
    "\n",
    "print(v1 + v2)      # Vector(18, 8)\n",
    "print(v1 - v2)      # Vector(-8, 16)\n",
    "print(v1 * v2)      # 17\n",
    "print(abs(v1))      # 13.0"
   ]
  },
  {
   "cell_type": "markdown",
   "id": "e77c8780-b962-4c01-a714-408190a27730",
   "metadata": {},
   "source": [
    "##### 3. **Challenge:** Create the classes needed to make the following code work as shown:"
   ]
  },
  {
   "cell_type": "code",
   "execution_count": 6,
   "id": "31b68da5-e7c5-4548-ad3b-870cd659fd52",
   "metadata": {},
   "outputs": [],
   "source": [
    "class Candidate:\n",
    "\n",
    "    def __init__(self, name):\n",
    "        self.name = name\n",
    "        self.votes = 0\n",
    "\n",
    "    def __iadd__(self, other):\n",
    "        if not isinstance(other, int):\n",
    "            return NotImplemented\n",
    "\n",
    "        self.votes += other\n",
    "        return self.votes\n",
    "\n",
    "class Election:\n",
    "\n",
    "    def __init__(self, candidates):\n",
    "        self.total_votes = 0\n",
    "        self.max_votes = 0\n",
    "\n",
    "    def results(self):\n",
    "        \n",
    "        for candidate in candidates:\n",
    "            self.total_votes = self.total_votes + candidate.votes\n",
    "            print(f'{candidate.name}: {candidate.votes} votes')\n",
    "\n",
    "            if candidate.votes > self.max_votes:\n",
    "                self.max_votes = candidate.votes\n",
    "                winner = candidate.name\n",
    "\n",
    "        percentage = round(self.max_votes / self.total_votes * 100, 2)\n",
    "        print()\n",
    "        print(f'{winner} won: {percentage}% of votes')"
   ]
  },
  {
   "cell_type": "code",
   "execution_count": 7,
   "id": "36a81758-9f89-4e0e-853c-2c12ca2e30c6",
   "metadata": {},
   "outputs": [
    {
     "name": "stdout",
     "output_type": "stream",
     "text": [
      "Mike Jones: 3 votes\n",
      "Susan Dore: 4 votes\n",
      "Kim Waters: 1 votes\n",
      "\n",
      "Susan Dore won: 50.0% of votes\n"
     ]
    }
   ],
   "source": [
    "mike_jones = Candidate('Mike Jones')\n",
    "susan_dore = Candidate('Susan Dore')\n",
    "kim_waters = Candidate('Kim Waters')\n",
    "\n",
    "candidates = {\n",
    "    mike_jones,\n",
    "    susan_dore,\n",
    "    kim_waters,\n",
    "}\n",
    "\n",
    "votes = [\n",
    "    mike_jones,\n",
    "    susan_dore,\n",
    "    mike_jones,\n",
    "    susan_dore,\n",
    "    susan_dore,\n",
    "    kim_waters,\n",
    "    susan_dore,\n",
    "    mike_jones,\n",
    "]\n",
    "\n",
    "for candidate in votes:\n",
    "    candidate += 1\n",
    "\n",
    "election = Election(candidates)\n",
    "election.results()"
   ]
  }
 ],
 "metadata": {
  "kernelspec": {
   "display_name": "Python 3 (ipykernel)",
   "language": "python",
   "name": "python3"
  },
  "language_info": {
   "codemirror_mode": {
    "name": "ipython",
    "version": 3
   },
   "file_extension": ".py",
   "mimetype": "text/x-python",
   "name": "python",
   "nbconvert_exporter": "python",
   "pygments_lexer": "ipython3",
   "version": "3.12.5"
  }
 },
 "nbformat": 4,
 "nbformat_minor": 5
}
