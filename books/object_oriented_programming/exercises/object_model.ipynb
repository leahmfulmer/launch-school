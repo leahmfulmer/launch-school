{
 "cells": [
  {
   "cell_type": "markdown",
   "id": "aac082f4-e1ec-4bae-a0b3-8ab7caa22f0a",
   "metadata": {},
   "source": [
    "# Object Oriented Programming with Python\n",
    "### The Object Model: Exercises"
   ]
  },
  {
   "cell_type": "markdown",
   "id": "9d89ca5e-ed92-4da8-b31e-e6959f0276e7",
   "metadata": {},
   "source": [
    "##### 1. How do we create a class and an object in Python? \n",
    "\n",
    "##### Write a program that defines a class and creates two objects from that class. The class should have at least one instance variable that gets initialized by the initializer. \n",
    "\n",
    "##### What class you create doesn't matter, provided it satisfies the above requirements."
   ]
  },
  {
   "cell_type": "code",
   "execution_count": 1,
   "id": "7d8fd87b-d382-45b9-b924-f9b45d13bc1e",
   "metadata": {},
   "outputs": [],
   "source": [
    "class Devotee:\n",
    "\n",
    "    def __init__(self, name):\n",
    "        self.name = name\n",
    "        type_name = self.__class__.__name__\n",
    "        print(f'I am {self.name}, {type_name} of God.')\n",
    "\n",
    "    def grace(self):\n",
    "        print(f'by the grace of God alone.')\n",
    "\n",
    "class Servant(Devotee):\n",
    "\n",
    "    def worship(self):\n",
    "        print(f'{self.name} sings, \"Rama, Rama!\"', end=' ')\n",
    "\n",
    "class Beloved(Devotee):\n",
    "\n",
    "    def worship(self):\n",
    "        print(f'{self.name} sings, \"Krishna, Krishna!\"', end=' ')\n",
    "\n",
    "class Child(Devotee):\n",
    "\n",
    "    def worship(self):\n",
    "        print(f'{self.name} sings, \"Kali, Kali!\"', end=' ')"
   ]
  },
  {
   "cell_type": "code",
   "execution_count": 2,
   "id": "366996c3-2156-4741-b302-29bab705c43d",
   "metadata": {},
   "outputs": [
    {
     "name": "stdout",
     "output_type": "stream",
     "text": [
      "I am Hanuman, Servant of God.\n",
      "I am Radha, Beloved of God.\n",
      "I am Sri Ramakrishna, Child of God.\n"
     ]
    }
   ],
   "source": [
    "hanuman = Servant(\"Hanuman\")\n",
    "radha = Beloved(\"Radha\")\n",
    "sri_ramakrishna = Child(\"Sri Ramakrishna\")"
   ]
  },
  {
   "cell_type": "code",
   "execution_count": 3,
   "id": "e89a4e49-1d26-42db-b7a6-976e79f7cb67",
   "metadata": {},
   "outputs": [
    {
     "name": "stdout",
     "output_type": "stream",
     "text": [
      "Hanuman sings, \"Rama, Rama!\" by the grace of God alone.\n",
      "Radha sings, \"Krishna, Krishna!\" by the grace of God alone.\n",
      "Sri Ramakrishna sings, \"Kali, Kali!\" by the grace of God alone.\n"
     ]
    }
   ],
   "source": [
    "for devotee in [hanuman, radha, sri_ramakrishna]:\n",
    "    devotee.worship()\n",
    "    devotee.grace()"
   ]
  },
  {
   "cell_type": "markdown",
   "id": "44deff0b-cd28-432b-95af-d619ab898a1e",
   "metadata": {},
   "source": [
    "##### 2. Given an instance of a `Foo` object, show two ways to print `I am a Foo object` without hardcoding the word `Foo`."
   ]
  },
  {
   "cell_type": "code",
   "execution_count": 4,
   "id": "8f1d37cb-f5f3-4aef-8e29-4ca9109e366e",
   "metadata": {},
   "outputs": [],
   "source": [
    "class Foo:\n",
    "    pass"
   ]
  },
  {
   "cell_type": "code",
   "execution_count": 5,
   "id": "614831bf-d00e-4d32-9973-f8baf8582c13",
   "metadata": {},
   "outputs": [
    {
     "name": "stdout",
     "output_type": "stream",
     "text": [
      "I am a Foo object\n",
      "I am a Foo object\n"
     ]
    }
   ],
   "source": [
    "foo = Foo()\n",
    "print(f'I am a {foo.__class__.__name__} object')  # This is my preferred form\n",
    "print(f'I am a {type(foo).__name__} object')"
   ]
  }
 ],
 "metadata": {
  "kernelspec": {
   "display_name": "Python 3 (ipykernel)",
   "language": "python",
   "name": "python3"
  },
  "language_info": {
   "codemirror_mode": {
    "name": "ipython",
    "version": 3
   },
   "file_extension": ".py",
   "mimetype": "text/x-python",
   "name": "python",
   "nbconvert_exporter": "python",
   "pygments_lexer": "ipython3",
   "version": "3.12.5"
  }
 },
 "nbformat": 4,
 "nbformat_minor": 5
}
