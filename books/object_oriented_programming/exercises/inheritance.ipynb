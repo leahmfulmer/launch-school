{
 "cells": [
  {
   "cell_type": "markdown",
   "id": "1e48c7ad-f806-44b0-bbce-c8ccf4fe359a",
   "metadata": {},
   "source": [
    "# Object Oriented Programming with Python\n",
    "### Inheritance: Exercises"
   ]
  },
  {
   "cell_type": "markdown",
   "id": "8a4bd7f7-7d64-4585-82ed-153ef3b8e7cf",
   "metadata": {},
   "source": [
    "##### 1. For each of the following pairs of classes, try to determine whether they have an \"is-a\" or \"has-a\" relationship or neither."
   ]
  },
  {
   "cell_type": "markdown",
   "id": "1961cd28-1deb-4a1c-867c-6f1e19de56de",
   "metadata": {},
   "source": [
    "| First Class | Second Class | Relationship\n",
    "| :- | :- | :- |\n",
    "| Car | Engine | **Has-a**\n",
    "| Teacher | Student | **Has-a** \n",
    "| Flag | Color | **Has-a**\n",
    "| Apple | Orange | **Neither**\n",
    "| Ship | Vessel | **Is-a**\n",
    "| Structure | Home | **Is-a**\n",
    "| Shape | Circle | **Is-a**"
   ]
  },
  {
   "cell_type": "markdown",
   "id": "d6c2a599-09be-4477-b002-3e7eadbfbb34",
   "metadata": {},
   "source": [
    "##### 2. Write the code needed to make the following code work as shown:"
   ]
  },
  {
   "cell_type": "markdown",
   "id": "191a318b-8860-4dbf-bb39-36b2826911ac",
   "metadata": {},
   "source": [
    "The solutions for Exercises 2 and 3 are combined in the code below."
   ]
  },
  {
   "cell_type": "markdown",
   "id": "ad77396f-cce6-4d1f-8645-5693249278a7",
   "metadata": {},
   "source": [
    "##### 3. Create a mix-in for the `Car` and `Truck` classes from the previous exercise that lets you operate the turn signals: signal left, signal right, and signal off. Use the following code to test your code."
   ]
  },
  {
   "cell_type": "code",
   "execution_count": 1,
   "id": "a19895cb-088b-4216-b5e9-bfbd2ac5b1a5",
   "metadata": {},
   "outputs": [],
   "source": [
    "from signal_mixin import SignalMixin\n",
    "\n",
    "class Vehicle:\n",
    "    counter = 0\n",
    "    \n",
    "    def __init__(self):\n",
    "        Vehicle.counter += 1\n",
    "\n",
    "    @classmethod\n",
    "    def vehicles(cls):\n",
    "        return Vehicle.counter\n",
    "\n",
    "class Car(SignalMixin, Vehicle):\n",
    "    def __init__(self):\n",
    "        super().__init__()\n",
    "\n",
    "class Truck(SignalMixin, Vehicle):\n",
    "    def __init__(self):\n",
    "        super().__init__()\n",
    "\n",
    "class Boat(Vehicle):\n",
    "    def __init__(self):\n",
    "        super().__init__()"
   ]
  },
  {
   "cell_type": "code",
   "execution_count": 2,
   "id": "1b482281-337e-492b-9fb5-de7a40d7d674",
   "metadata": {},
   "outputs": [
    {
     "name": "stdout",
     "output_type": "stream",
     "text": [
      "0\n",
      "1\n",
      "4\n",
      "6\n",
      "8\n"
     ]
    }
   ],
   "source": [
    "# Exercise 2\n",
    "\n",
    "print(Car.vehicles())     # 0\n",
    "car1 = Car()\n",
    "print(Car.vehicles())     # 1\n",
    "car2 = Car()\n",
    "car3 = Car()\n",
    "car4 = Car()\n",
    "print(Car.vehicles())     # 4\n",
    "truck1 = Truck()\n",
    "truck2 = Truck()\n",
    "print(Truck.vehicles())   # 6\n",
    "boat1 = Boat()\n",
    "boat2 = Boat()\n",
    "print(Boat.vehicles())    # 8"
   ]
  },
  {
   "cell_type": "code",
   "execution_count": 3,
   "id": "80434363-5c46-4841-ad3d-8993258f1c92",
   "metadata": {},
   "outputs": [
    {
     "name": "stdout",
     "output_type": "stream",
     "text": [
      "Signalling left\n",
      "Signalling right\n",
      "Signal is now off\n",
      "Signal is now off\n"
     ]
    },
    {
     "ename": "AttributeError",
     "evalue": "'Boat' object has no attribute 'signal_left'",
     "output_type": "error",
     "traceback": [
      "\u001b[0;31m---------------------------------------------------------------------------\u001b[0m",
      "\u001b[0;31mAttributeError\u001b[0m                            Traceback (most recent call last)",
      "Cell \u001b[0;32mIn[3], line 7\u001b[0m\n\u001b[1;32m      5\u001b[0m car1\u001b[38;5;241m.\u001b[39msignal_off()        \u001b[38;5;66;03m# Signal is now off\u001b[39;00m\n\u001b[1;32m      6\u001b[0m truck1\u001b[38;5;241m.\u001b[39msignal_off()      \u001b[38;5;66;03m# Signal is now off\u001b[39;00m\n\u001b[0;32m----> 7\u001b[0m \u001b[43mboat1\u001b[49m\u001b[38;5;241;43m.\u001b[39;49m\u001b[43msignal_left\u001b[49m()      \u001b[38;5;66;03m# AttributeError: 'Boat' object \u001b[39;00m\n\u001b[1;32m      8\u001b[0m                          \u001b[38;5;66;03m# has no attribute 'signal_left'\u001b[39;00m\n",
      "\u001b[0;31mAttributeError\u001b[0m: 'Boat' object has no attribute 'signal_left'"
     ]
    }
   ],
   "source": [
    "# Exercise 3\n",
    "\n",
    "car1.signal_left()       # Signalling left\n",
    "truck1.signal_right()    # Signalling right\n",
    "car1.signal_off()        # Signal is now off\n",
    "truck1.signal_off()      # Signal is now off\n",
    "boat1.signal_left()      # AttributeError: 'Boat' object \n",
    "                         # has no attribute 'signal_left'"
   ]
  },
  {
   "cell_type": "markdown",
   "id": "c5a9e51d-366c-45e8-aa06-0279b60fc3bd",
   "metadata": {},
   "source": [
    "##### 4. Print the method resolution order for cars, trucks, boats, and vehicles as defined in the previous exercise."
   ]
  },
  {
   "cell_type": "code",
   "execution_count": 4,
   "id": "5e7a8c34-649b-4ab1-a53e-ac9f6cafbc34",
   "metadata": {},
   "outputs": [
    {
     "name": "stdout",
     "output_type": "stream",
     "text": [
      "[<class '__main__.Car'>, <class 'signal_mixin.SignalMixin'>, <class '__main__.Vehicle'>, <class 'object'>]\n",
      "[<class '__main__.Truck'>, <class 'signal_mixin.SignalMixin'>, <class '__main__.Vehicle'>, <class 'object'>]\n",
      "[<class '__main__.Boat'>, <class '__main__.Vehicle'>, <class 'object'>]\n"
     ]
    }
   ],
   "source": [
    "print(Car.mro())\n",
    "print(Truck.mro())\n",
    "print(Boat.mro())"
   ]
  },
  {
   "cell_type": "markdown",
   "id": "051f1464-1f7d-48f9-9e9a-00fec9c3f36c",
   "metadata": {},
   "source": [
    "`Car` and `Truck` class objects have `SignalMixin` in their MRO, but `Boat` class objects do not."
   ]
  },
  {
   "cell_type": "markdown",
   "id": "76310cc2-8a65-4312-8478-be51f5016176",
   "metadata": {},
   "source": [
    "##### 5. We've provided new `Car` and `Truck` classes and some tests below. Refactor them to use inheritance for as much behavior as possible. The tests shown in the code should still work as shown:"
   ]
  },
  {
   "cell_type": "code",
   "execution_count": 5,
   "id": "75531a8b-9787-476b-8a80-b49aeed2b88e",
   "metadata": {},
   "outputs": [],
   "source": [
    "class Vehicle:\n",
    "\n",
    "    def __init__(self, fuel_capacity, mpg):\n",
    "        self.capacity = fuel_capacity\n",
    "        self.mpg = mpg\n",
    "\n",
    "    def max_range_in_miles(self):\n",
    "        return self.capacity * self.mpg\n",
    "\n",
    "class Car(Vehicle):\n",
    "\n",
    "    def __init__(self, fuel_capacity, mpg):\n",
    "        super().__init__(fuel_capacity, mpg)\n",
    "\n",
    "    def family_drive(self):\n",
    "        print('Taking the family for a drive')\n",
    "\n",
    "class Truck(Vehicle):\n",
    "\n",
    "    def __init__(self, fuel_capacity, mpg):\n",
    "        super().__init__(fuel_capacity, mpg)\n",
    "\n",
    "    def hookup_trailer(self):\n",
    "        print('Hooking up trailer')"
   ]
  },
  {
   "cell_type": "code",
   "execution_count": 7,
   "id": "9f333d48-1910-47fc-83a8-cc07e6cf4f10",
   "metadata": {},
   "outputs": [
    {
     "name": "stdout",
     "output_type": "stream",
     "text": [
      "317.5\n",
      "937.5\n",
      "Taking the family for a drive\n",
      "Hooking up trailer\n",
      "No family_drive method for Truck\n",
      "No hookup_trailer method for Car\n"
     ]
    }
   ],
   "source": [
    "car = Car(12.5, 25.4)\n",
    "truck = Truck(150.0, 6.25)\n",
    "\n",
    "print(car.max_range_in_miles())         # 317.5\n",
    "print(truck.max_range_in_miles())       # 937.5\n",
    "\n",
    "car.family_drive()                      # Taking the family for a drive\n",
    "truck.hookup_trailer()                  # Hooking up trailer\n",
    "\n",
    "try:\n",
    "    truck.family_drive()\n",
    "except AttributeError:\n",
    "    print('No family_drive method for Truck')\n",
    "                                        # No family_drive method for Truck\n",
    "\n",
    "try:\n",
    "    car.hookup_trailer()\n",
    "except AttributeError:\n",
    "    print('No hookup_trailer method for Car')\n",
    "                                        # No hookup_trailer method for Car"
   ]
  },
  {
   "cell_type": "code",
   "execution_count": null,
   "id": "8211c2dd-472e-4b39-988f-44902d107a34",
   "metadata": {},
   "outputs": [],
   "source": []
  },
  {
   "cell_type": "code",
   "execution_count": null,
   "id": "1d89ff49-3d1d-4285-b914-c71c156c125b",
   "metadata": {},
   "outputs": [],
   "source": []
  },
  {
   "cell_type": "code",
   "execution_count": null,
   "id": "a864bd82-b924-4d89-9281-fa15d274706d",
   "metadata": {},
   "outputs": [],
   "source": []
  }
 ],
 "metadata": {
  "kernelspec": {
   "display_name": "Python 3 (ipykernel)",
   "language": "python",
   "name": "python3"
  },
  "language_info": {
   "codemirror_mode": {
    "name": "ipython",
    "version": 3
   },
   "file_extension": ".py",
   "mimetype": "text/x-python",
   "name": "python",
   "nbconvert_exporter": "python",
   "pygments_lexer": "ipython3",
   "version": "3.12.5"
  }
 },
 "nbformat": 4,
 "nbformat_minor": 5
}
