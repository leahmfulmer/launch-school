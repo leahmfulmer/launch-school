{
 "cells": [
  {
   "cell_type": "markdown",
   "id": "aac082f4-e1ec-4bae-a0b3-8ab7caa22f0a",
   "metadata": {},
   "source": [
    "# Object Oriented Programming with Python\n",
    "### Classes and Objects: Exercises"
   ]
  },
  {
   "cell_type": "markdown",
   "id": "d250a836-3cf8-4296-9f48-e1e929954f0e",
   "metadata": {},
   "source": [
    "##### 1. Create a `Car` class that meets these requirements:\n",
    "\n",
    "* ##### Each Car object should have a model, model year, and color provided at instantiation time.\n",
    "* ##### You should have an instance variable that keeps track of the current speed. Initialize it to `0` when you instantiate a new car.\n",
    "* ##### Create instance methods that let you turn the engine on, accelerate, brake, and turn the engine off. Each method should display an appropriate message.\n",
    "* ##### Create a method that prints a message about the car's current speed.\n",
    "* ##### Write some code to test the methods."
   ]
  },
  {
   "cell_type": "code",
   "execution_count": 1,
   "id": "65f7d402-dee2-42a0-829a-eedd49192e89",
   "metadata": {},
   "outputs": [],
   "source": [
    "class Car:\n",
    "\n",
    "    def __init__(self, model, year, color):\n",
    "        self.model = model\n",
    "        self.year = year\n",
    "        self.color = color\n",
    "        self.speed = 0\n",
    "        print(f'Welcome to your {color} {year} {model}!')\n",
    "\n",
    "    def current_speed(self):\n",
    "        print(f'Your speed is {self.speed} mph.\\n')\n",
    "\n",
    "    def engine_on(self):\n",
    "        print(\"The engine is on!\")\n",
    "\n",
    "    def accelerate(self, speed):\n",
    "        self.speed += speed\n",
    "        print(f'Accelerating by {speed} mph...')\n",
    "\n",
    "    def brake(self, speed):\n",
    "        if (self.speed - speed) < 0:\n",
    "            self.speed = 0\n",
    "        else:\n",
    "            self.speed -= speed\n",
    "        print(f'Braking by {speed} mph...')\n",
    "\n",
    "    def engine_off(self):\n",
    "        self.speed = 0\n",
    "        print(\"The engine is off.\")"
   ]
  },
  {
   "cell_type": "code",
   "execution_count": 2,
   "id": "43c87bfb-fb09-4fde-872f-b44c3e0f8b54",
   "metadata": {},
   "outputs": [
    {
     "name": "stdout",
     "output_type": "stream",
     "text": [
      "Welcome to your lime green 2007 Honda Fit!\n"
     ]
    }
   ],
   "source": [
    "car = Car(\"Honda Fit\", 2007, \"lime green\")"
   ]
  },
  {
   "cell_type": "code",
   "execution_count": 3,
   "id": "89edc24b-3cd5-422f-82e4-5969264ce768",
   "metadata": {},
   "outputs": [
    {
     "name": "stdout",
     "output_type": "stream",
     "text": [
      "The engine is on!\n",
      "Your speed is 0 mph.\n",
      "\n",
      "Accelerating by 60 mph...\n",
      "Your speed is 60 mph.\n",
      "\n",
      "Braking by 30 mph...\n",
      "Your speed is 30 mph.\n",
      "\n",
      "Braking by 400 mph...\n",
      "Your speed is 0 mph.\n",
      "\n",
      "The engine is off.\n",
      "Your speed is 0 mph.\n",
      "\n"
     ]
    }
   ],
   "source": [
    "car.engine_on()\n",
    "car.current_speed()\n",
    "\n",
    "car.accelerate(60)\n",
    "car.current_speed()\n",
    "\n",
    "car.brake(30)\n",
    "car.current_speed()\n",
    "\n",
    "car.brake(400)\n",
    "car.current_speed()\n",
    "\n",
    "car.engine_off()\n",
    "car.current_speed()"
   ]
  },
  {
   "cell_type": "markdown",
   "id": "8c20cc2d-e1af-4ef1-9788-f34507703a56",
   "metadata": {},
   "source": [
    "##### 2. Using decorators, add getter and setter methods to your `Car` class so you can view and change the color of your car. You should also add getter methods that let you view but not modify the car's model and year. Don't forget to write some tests."
   ]
  },
  {
   "cell_type": "code",
   "execution_count": 4,
   "id": "40277314-ab49-4acd-91f7-bb50b0f39dd7",
   "metadata": {},
   "outputs": [],
   "source": [
    "class Car:\n",
    "\n",
    "    def __init__(self, model, year, color):\n",
    "        self._model = model\n",
    "        self._year = year\n",
    "        self._color = color\n",
    "        print(f'Welcome to your {color} {year} {model}!')\n",
    "\n",
    "    @property\n",
    "    def model(self):\n",
    "        return self._model\n",
    "\n",
    "    @property\n",
    "    def year(self):\n",
    "        return self._year\n",
    "\n",
    "    @property\n",
    "    def color(self):\n",
    "        return self._color\n",
    "\n",
    "    @color.setter\n",
    "    def color(self, color):\n",
    "        if not isinstance(color, str):\n",
    "            raise TypeError(\"Color must be a string\")\n",
    "        self._color = color"
   ]
  },
  {
   "cell_type": "code",
   "execution_count": 5,
   "id": "9e755b56-697d-4124-94b2-51ac1aeb2c9e",
   "metadata": {},
   "outputs": [
    {
     "name": "stdout",
     "output_type": "stream",
     "text": [
      "Welcome to your lime green 2034 Jeep Wrangler!\n"
     ]
    }
   ],
   "source": [
    "car = Car(\"Jeep Wrangler\", 2034, \"lime green\")"
   ]
  },
  {
   "cell_type": "code",
   "execution_count": 6,
   "id": "d9e3c7a5-c16c-4d97-b4e6-22c1b2a41ef1",
   "metadata": {},
   "outputs": [
    {
     "name": "stdout",
     "output_type": "stream",
     "text": [
      "My car used to be lime green...\n",
      "... but now it's magenta ;)\n"
     ]
    }
   ],
   "source": [
    "print(f\"My car used to be {car.color}...\")\n",
    "\n",
    "# car.color = 42\n",
    "car.color = 'magenta'\n",
    "print(f\"... but now it's {car.color} ;)\")"
   ]
  },
  {
   "cell_type": "code",
   "execution_count": 7,
   "id": "c50d13a6-eb2a-426a-aa1f-e8aa6d0e1134",
   "metadata": {},
   "outputs": [
    {
     "name": "stdout",
     "output_type": "stream",
     "text": [
      "I used to have a 2034 Jeep Wrangler...\n"
     ]
    },
    {
     "ename": "AttributeError",
     "evalue": "property 'model' of 'Car' object has no setter",
     "output_type": "error",
     "traceback": [
      "\u001b[0;31m---------------------------------------------------------------------------\u001b[0m",
      "\u001b[0;31mAttributeError\u001b[0m                            Traceback (most recent call last)",
      "Cell \u001b[0;32mIn[7], line 3\u001b[0m\n\u001b[1;32m      1\u001b[0m \u001b[38;5;28mprint\u001b[39m(\u001b[38;5;124mf\u001b[39m\u001b[38;5;124m\"\u001b[39m\u001b[38;5;124mI used to have a \u001b[39m\u001b[38;5;132;01m{\u001b[39;00mcar\u001b[38;5;241m.\u001b[39myear\u001b[38;5;132;01m}\u001b[39;00m\u001b[38;5;124m \u001b[39m\u001b[38;5;132;01m{\u001b[39;00mcar\u001b[38;5;241m.\u001b[39mmodel\u001b[38;5;132;01m}\u001b[39;00m\u001b[38;5;124m...\u001b[39m\u001b[38;5;124m\"\u001b[39m)\n\u001b[0;32m----> 3\u001b[0m \u001b[43mcar\u001b[49m\u001b[38;5;241;43m.\u001b[39;49m\u001b[43mmodel\u001b[49m \u001b[38;5;241m=\u001b[39m \u001b[38;5;124m'\u001b[39m\u001b[38;5;124mHonda Fit\u001b[39m\u001b[38;5;124m'\u001b[39m\n\u001b[1;32m      4\u001b[0m car\u001b[38;5;241m.\u001b[39myear \u001b[38;5;241m=\u001b[39m \u001b[38;5;241m2007\u001b[39m\n\u001b[1;32m      6\u001b[0m \u001b[38;5;66;03m# ... and I still do! Properties unchanged as expected.\u001b[39;00m\n",
      "\u001b[0;31mAttributeError\u001b[0m: property 'model' of 'Car' object has no setter"
     ]
    }
   ],
   "source": [
    "print(f\"I used to have a {car.year} {car.model}...\")\n",
    "\n",
    "car.model = 'Honda Fit'\n",
    "car.year = 2007\n",
    "\n",
    "# ... and I still do! Properties unchanged as expected."
   ]
  },
  {
   "cell_type": "markdown",
   "id": "2ab28efb-3def-4c08-acd5-cb124e4be10d",
   "metadata": {},
   "source": [
    "##### 3. Add a method to the `Car` class that lets you spray paint the car a specific color. Don't use a setter method for this. Instead, create a method whose name accurately describes what it does. Don't forget to test your code."
   ]
  },
  {
   "cell_type": "code",
   "execution_count": 8,
   "id": "ac06dc62-9981-464e-a344-30a677996b72",
   "metadata": {},
   "outputs": [],
   "source": [
    "class Car:\n",
    "\n",
    "    def __init__(self, model, year, color):\n",
    "        self._model = model\n",
    "        self._year = year\n",
    "        self._color = color\n",
    "        print(f'Welcome to your {color} {year} {model}!')\n",
    "\n",
    "    @property\n",
    "    def model(self):\n",
    "        return self._model\n",
    "\n",
    "    @property\n",
    "    def year(self):\n",
    "        return self._year\n",
    "\n",
    "    @property\n",
    "    def color(self):\n",
    "        return self._color\n",
    "\n",
    "    @color.setter\n",
    "    def color(self, color):\n",
    "        if not isinstance(color, str):\n",
    "            raise TypeError(\"Color must be a string\")\n",
    "        self._color = color\n",
    "\n",
    "    def spray_paint(self, color):\n",
    "        if not isinstance(color, str):\n",
    "            raise TypeError(\"Spray paint color must be a string\")\n",
    "        self.color = color"
   ]
  },
  {
   "cell_type": "code",
   "execution_count": 9,
   "id": "008a3b10-ac33-46e9-9847-b1e31bb8313a",
   "metadata": {},
   "outputs": [
    {
     "name": "stdout",
     "output_type": "stream",
     "text": [
      "Welcome to your lime green 2345 USS Enterprise!\n"
     ]
    }
   ],
   "source": [
    "car = Car(\"USS Enterprise\", 2345, \"lime green\")"
   ]
  },
  {
   "cell_type": "code",
   "execution_count": 10,
   "id": "fd4faba7-a6b6-48a0-9fc3-56282e1f2a47",
   "metadata": {},
   "outputs": [
    {
     "name": "stdout",
     "output_type": "stream",
     "text": [
      "My spaceship is now spray painted RAINBOW!\n"
     ]
    }
   ],
   "source": [
    "car.spray_paint('RAINBOW')\n",
    "print(f\"My spaceship is now spray painted {car.color}!\")"
   ]
  },
  {
   "cell_type": "markdown",
   "id": "f5ea84cf-63a4-4c53-8387-0bb6733037c2",
   "metadata": {},
   "source": [
    "##### 4. Add a class method to your Car class that calculates and prints any car's average gas mileage (miles per gallon). You can compute the mileage by dividing the distance traveled (in miles) by the fuel burned (in gallons)."
   ]
  },
  {
   "cell_type": "code",
   "execution_count": 11,
   "id": "1976d52f-df9e-4152-8bfe-b4cf57589194",
   "metadata": {},
   "outputs": [],
   "source": [
    "class Car:\n",
    "\n",
    "    def __init__(self, model, year, color):\n",
    "        self._model = model\n",
    "        self._year = year\n",
    "        self._color = color\n",
    "        print(f'Welcome to your {color} {year} {model}!')\n",
    "\n",
    "    @property\n",
    "    def model(self):\n",
    "        return self._model\n",
    "\n",
    "    @property\n",
    "    def year(self):\n",
    "        return self._year\n",
    "\n",
    "    @property\n",
    "    def color(self):\n",
    "        return self._color\n",
    "\n",
    "    @color.setter\n",
    "    def color(self, color):\n",
    "        if not isinstance(color, str):\n",
    "            raise TypeError(\"Color must be a string\")\n",
    "        self._color = color\n",
    "\n",
    "    @classmethod\n",
    "    def gas_mileage(cls, distance, fuel):\n",
    "        gas_mileage = distance / fuel\n",
    "        print(f\"Your vehicle's gas mileage is {gas_mileage} miles per gallon!\")\n",
    "        return gas_mileage"
   ]
  },
  {
   "cell_type": "code",
   "execution_count": 12,
   "id": "d2bdbdb5-1506-41e6-80c8-588df51a797b",
   "metadata": {},
   "outputs": [
    {
     "name": "stdout",
     "output_type": "stream",
     "text": [
      "Welcome to your lime green 2345 USS Enterprise!\n",
      "Your vehicle's gas mileage is 670600.0 miles per gallon!\n"
     ]
    },
    {
     "data": {
      "text/plain": [
       "670600.0"
      ]
     },
     "execution_count": 12,
     "metadata": {},
     "output_type": "execute_result"
    }
   ],
   "source": [
    "car = Car(\"USS Enterprise\", 2345, \"lime green\")\n",
    "car.gas_mileage(6.706e8, 1000)"
   ]
  },
  {
   "cell_type": "markdown",
   "id": "8d6db01f-4e76-487f-9de5-a5b98a8099b0",
   "metadata": {},
   "source": [
    "##### 5. Create a `Person` class with two instance variables to hold a person's first and last names. The names should be passed to the constructor as arguments and stored separately. The first and last names are required and must consist entirely of alphabetic characters.\n",
    "\n",
    "##### The class should also have a getter method that returns the person's name as a full name (the first and last names are separated by spaces), with both first and last names capitalized correctly.\n",
    "\n",
    "##### The class should also have a setter method that takes the name from a two-element tuple. These names must meet the requirements given for the constructor."
   ]
  },
  {
   "cell_type": "code",
   "execution_count": 13,
   "id": "62aaaa54-1f01-488a-92e8-ddeae917a156",
   "metadata": {},
   "outputs": [],
   "source": [
    "# This was my first attempt. Functional, but not efficient.\n",
    "class Person:\n",
    "\n",
    "    def __init__(self, first, last):\n",
    "        if first.isalpha():\n",
    "            self._first = first\n",
    "        else:\n",
    "            raise ValueError(\"Name must be alphabetic\")\n",
    "        if last.isalpha():\n",
    "            self._last = last\n",
    "        else:\n",
    "            raise ValueError(\"Name must be alphabetic.\")\n",
    "\n",
    "    @property\n",
    "    def name(self):\n",
    "        return self._first.title()+\" \"+self._last.title()\n",
    "\n",
    "    @name.setter\n",
    "    def name(self, name_tuple):\n",
    "        first = name_tuple[0]\n",
    "        last = name_tuple[1]\n",
    "        \n",
    "        if first.isalpha():\n",
    "            self._first = first\n",
    "        else:\n",
    "            raise ValueError(\"Name must be alphabetic\")\n",
    "        if last.isalpha():\n",
    "            self._last = last\n",
    "        else:\n",
    "            raise ValueError(\"Name must be alphabetic.\")\n",
    "\n",
    "    def _check(self, name):\n",
    "        if not name.isalpha():\n",
    "            raise ValueError(\"Name must be alphabetic\")"
   ]
  },
  {
   "cell_type": "code",
   "execution_count": 14,
   "id": "e69f532f-b643-4747-8d86-e42da73ddb9c",
   "metadata": {},
   "outputs": [],
   "source": [
    "# This is the revised version.\n",
    "class Person:\n",
    "\n",
    "    def __init__(self, first, last):\n",
    "        self._join_name(first, last)\n",
    "\n",
    "    @property\n",
    "    def name(self):\n",
    "        return self._first.title()+\" \"+self._last.title()\n",
    "\n",
    "    @name.setter\n",
    "    def name(self, name_tuple):\n",
    "        first, last = name_tuple\n",
    "        self._join_name(first, last)\n",
    "\n",
    "    def _check(cls, name):\n",
    "        if not name.isalpha():\n",
    "            raise ValueError(\"Name must be alphabetic\")\n",
    "\n",
    "    def _join_name(self, first, last):\n",
    "        self._check(first)\n",
    "        self._check(last)\n",
    "        \n",
    "        self._first = first\n",
    "        self._last = last"
   ]
  },
  {
   "cell_type": "code",
   "execution_count": 15,
   "id": "c29b83d7-8302-4b3e-bb50-f052b9425006",
   "metadata": {},
   "outputs": [
    {
     "name": "stdout",
     "output_type": "stream",
     "text": [
      "Mark Sinclair\n",
      "Vin Diesel\n"
     ]
    },
    {
     "ename": "ValueError",
     "evalue": "Name must be alphabetic",
     "output_type": "error",
     "traceback": [
      "\u001b[0;31m---------------------------------------------------------------------------\u001b[0m",
      "\u001b[0;31mValueError\u001b[0m                                Traceback (most recent call last)",
      "Cell \u001b[0;32mIn[15], line 5\u001b[0m\n\u001b[1;32m      3\u001b[0m actor\u001b[38;5;241m.\u001b[39mname \u001b[38;5;241m=\u001b[39m (\u001b[38;5;124m'\u001b[39m\u001b[38;5;124mVin\u001b[39m\u001b[38;5;124m'\u001b[39m, \u001b[38;5;124m'\u001b[39m\u001b[38;5;124mDiesel\u001b[39m\u001b[38;5;124m'\u001b[39m)\n\u001b[1;32m      4\u001b[0m \u001b[38;5;28mprint\u001b[39m(actor\u001b[38;5;241m.\u001b[39mname)              \u001b[38;5;66;03m# Vin Diesel\u001b[39;00m\n\u001b[0;32m----> 5\u001b[0m \u001b[43mactor\u001b[49m\u001b[38;5;241;43m.\u001b[39;49m\u001b[43mname\u001b[49m \u001b[38;5;241m=\u001b[39m (\u001b[38;5;124m'\u001b[39m\u001b[38;5;124m'\u001b[39m, \u001b[38;5;124m'\u001b[39m\u001b[38;5;124mDiesel\u001b[39m\u001b[38;5;124m'\u001b[39m)    \u001b[38;5;66;03m# ValueError: Name must be alphabetic.\u001b[39;00m\n",
      "Cell \u001b[0;32mIn[14], line 14\u001b[0m, in \u001b[0;36mPerson.name\u001b[0;34m(self, name_tuple)\u001b[0m\n\u001b[1;32m     11\u001b[0m \u001b[38;5;129m@name\u001b[39m\u001b[38;5;241m.\u001b[39msetter\n\u001b[1;32m     12\u001b[0m \u001b[38;5;28;01mdef\u001b[39;00m \u001b[38;5;21mname\u001b[39m(\u001b[38;5;28mself\u001b[39m, name_tuple):\n\u001b[1;32m     13\u001b[0m     first, last \u001b[38;5;241m=\u001b[39m name_tuple\n\u001b[0;32m---> 14\u001b[0m     \u001b[38;5;28;43mself\u001b[39;49m\u001b[38;5;241;43m.\u001b[39;49m\u001b[43m_join_name\u001b[49m\u001b[43m(\u001b[49m\u001b[43mfirst\u001b[49m\u001b[43m,\u001b[49m\u001b[43m \u001b[49m\u001b[43mlast\u001b[49m\u001b[43m)\u001b[49m\n",
      "Cell \u001b[0;32mIn[14], line 21\u001b[0m, in \u001b[0;36mPerson._join_name\u001b[0;34m(self, first, last)\u001b[0m\n\u001b[1;32m     20\u001b[0m \u001b[38;5;28;01mdef\u001b[39;00m \u001b[38;5;21m_join_name\u001b[39m(\u001b[38;5;28mself\u001b[39m, first, last):\n\u001b[0;32m---> 21\u001b[0m     \u001b[38;5;28;43mself\u001b[39;49m\u001b[38;5;241;43m.\u001b[39;49m\u001b[43m_check\u001b[49m\u001b[43m(\u001b[49m\u001b[43mfirst\u001b[49m\u001b[43m)\u001b[49m\n\u001b[1;32m     22\u001b[0m     \u001b[38;5;28mself\u001b[39m\u001b[38;5;241m.\u001b[39m_check(last)\n\u001b[1;32m     24\u001b[0m     \u001b[38;5;28mself\u001b[39m\u001b[38;5;241m.\u001b[39m_first \u001b[38;5;241m=\u001b[39m first\n",
      "Cell \u001b[0;32mIn[14], line 18\u001b[0m, in \u001b[0;36mPerson._check\u001b[0;34m(cls, name)\u001b[0m\n\u001b[1;32m     16\u001b[0m \u001b[38;5;28;01mdef\u001b[39;00m \u001b[38;5;21m_check\u001b[39m(\u001b[38;5;28mcls\u001b[39m, name):\n\u001b[1;32m     17\u001b[0m     \u001b[38;5;28;01mif\u001b[39;00m \u001b[38;5;129;01mnot\u001b[39;00m name\u001b[38;5;241m.\u001b[39misalpha():\n\u001b[0;32m---> 18\u001b[0m         \u001b[38;5;28;01mraise\u001b[39;00m \u001b[38;5;167;01mValueError\u001b[39;00m(\u001b[38;5;124m\"\u001b[39m\u001b[38;5;124mName must be alphabetic\u001b[39m\u001b[38;5;124m\"\u001b[39m)\n",
      "\u001b[0;31mValueError\u001b[0m: Name must be alphabetic"
     ]
    }
   ],
   "source": [
    "actor = Person('Mark', 'Sinclair')\n",
    "print(actor.name)              # Mark Sinclair\n",
    "actor.name = ('Vin', 'Diesel')\n",
    "print(actor.name)              # Vin Diesel\n",
    "actor.name = ('', 'Diesel')    # ValueError: Name must be alphabetic."
   ]
  },
  {
   "cell_type": "code",
   "execution_count": 16,
   "id": "2f8f0e8a-5b6d-4ebd-851f-6705520d246e",
   "metadata": {},
   "outputs": [
    {
     "name": "stdout",
     "output_type": "stream",
     "text": [
      "Annie Hall\n"
     ]
    },
    {
     "ename": "ValueError",
     "evalue": "Name must be alphabetic",
     "output_type": "error",
     "traceback": [
      "\u001b[0;31m---------------------------------------------------------------------------\u001b[0m",
      "\u001b[0;31mValueError\u001b[0m                                Traceback (most recent call last)",
      "Cell \u001b[0;32mIn[16], line 3\u001b[0m\n\u001b[1;32m      1\u001b[0m character \u001b[38;5;241m=\u001b[39m Person(\u001b[38;5;124m'\u001b[39m\u001b[38;5;124mannIE\u001b[39m\u001b[38;5;124m'\u001b[39m, \u001b[38;5;124m'\u001b[39m\u001b[38;5;124mHAll\u001b[39m\u001b[38;5;124m'\u001b[39m)\n\u001b[1;32m      2\u001b[0m \u001b[38;5;28mprint\u001b[39m(character\u001b[38;5;241m.\u001b[39mname)                \u001b[38;5;66;03m# Annie Hall\u001b[39;00m\n\u001b[0;32m----> 3\u001b[0m character \u001b[38;5;241m=\u001b[39m \u001b[43mPerson\u001b[49m\u001b[43m(\u001b[49m\u001b[38;5;124;43m'\u001b[39;49m\u001b[38;5;124;43mDa5id\u001b[39;49m\u001b[38;5;124;43m'\u001b[39;49m\u001b[43m,\u001b[49m\u001b[43m \u001b[49m\u001b[38;5;124;43m'\u001b[39;49m\u001b[38;5;124;43mMeier\u001b[39;49m\u001b[38;5;124;43m'\u001b[39;49m\u001b[43m)\u001b[49m \u001b[38;5;66;03m# ValueError: Name must be alphabetic.\u001b[39;00m\n",
      "Cell \u001b[0;32mIn[14], line 5\u001b[0m, in \u001b[0;36mPerson.__init__\u001b[0;34m(self, first, last)\u001b[0m\n\u001b[1;32m      4\u001b[0m \u001b[38;5;28;01mdef\u001b[39;00m \u001b[38;5;21m__init__\u001b[39m(\u001b[38;5;28mself\u001b[39m, first, last):\n\u001b[0;32m----> 5\u001b[0m     \u001b[38;5;28;43mself\u001b[39;49m\u001b[38;5;241;43m.\u001b[39;49m\u001b[43m_join_name\u001b[49m\u001b[43m(\u001b[49m\u001b[43mfirst\u001b[49m\u001b[43m,\u001b[49m\u001b[43m \u001b[49m\u001b[43mlast\u001b[49m\u001b[43m)\u001b[49m\n",
      "Cell \u001b[0;32mIn[14], line 21\u001b[0m, in \u001b[0;36mPerson._join_name\u001b[0;34m(self, first, last)\u001b[0m\n\u001b[1;32m     20\u001b[0m \u001b[38;5;28;01mdef\u001b[39;00m \u001b[38;5;21m_join_name\u001b[39m(\u001b[38;5;28mself\u001b[39m, first, last):\n\u001b[0;32m---> 21\u001b[0m     \u001b[38;5;28;43mself\u001b[39;49m\u001b[38;5;241;43m.\u001b[39;49m\u001b[43m_check\u001b[49m\u001b[43m(\u001b[49m\u001b[43mfirst\u001b[49m\u001b[43m)\u001b[49m\n\u001b[1;32m     22\u001b[0m     \u001b[38;5;28mself\u001b[39m\u001b[38;5;241m.\u001b[39m_check(last)\n\u001b[1;32m     24\u001b[0m     \u001b[38;5;28mself\u001b[39m\u001b[38;5;241m.\u001b[39m_first \u001b[38;5;241m=\u001b[39m first\n",
      "Cell \u001b[0;32mIn[14], line 18\u001b[0m, in \u001b[0;36mPerson._check\u001b[0;34m(cls, name)\u001b[0m\n\u001b[1;32m     16\u001b[0m \u001b[38;5;28;01mdef\u001b[39;00m \u001b[38;5;21m_check\u001b[39m(\u001b[38;5;28mcls\u001b[39m, name):\n\u001b[1;32m     17\u001b[0m     \u001b[38;5;28;01mif\u001b[39;00m \u001b[38;5;129;01mnot\u001b[39;00m name\u001b[38;5;241m.\u001b[39misalpha():\n\u001b[0;32m---> 18\u001b[0m         \u001b[38;5;28;01mraise\u001b[39;00m \u001b[38;5;167;01mValueError\u001b[39;00m(\u001b[38;5;124m\"\u001b[39m\u001b[38;5;124mName must be alphabetic\u001b[39m\u001b[38;5;124m\"\u001b[39m)\n",
      "\u001b[0;31mValueError\u001b[0m: Name must be alphabetic"
     ]
    }
   ],
   "source": [
    "character = Person('annIE', 'HAll')\n",
    "print(character.name)                # Annie Hall\n",
    "character = Person('Da5id', 'Meier') # ValueError: Name must be alphabetic."
   ]
  },
  {
   "cell_type": "code",
   "execution_count": 17,
   "id": "ac045d2c-4331-4b3b-804e-0d613e043b55",
   "metadata": {},
   "outputs": [
    {
     "name": "stdout",
     "output_type": "stream",
     "text": [
      "Lynn Blake\n"
     ]
    },
    {
     "ename": "ValueError",
     "evalue": "Name must be alphabetic",
     "output_type": "error",
     "traceback": [
      "\u001b[0;31m---------------------------------------------------------------------------\u001b[0m",
      "\u001b[0;31mValueError\u001b[0m                                Traceback (most recent call last)",
      "Cell \u001b[0;32mIn[17], line 3\u001b[0m\n\u001b[1;32m      1\u001b[0m friend \u001b[38;5;241m=\u001b[39m Person(\u001b[38;5;124m'\u001b[39m\u001b[38;5;124mLynn\u001b[39m\u001b[38;5;124m'\u001b[39m, \u001b[38;5;124m'\u001b[39m\u001b[38;5;124mBlake\u001b[39m\u001b[38;5;124m'\u001b[39m)\n\u001b[1;32m      2\u001b[0m \u001b[38;5;28mprint\u001b[39m(friend\u001b[38;5;241m.\u001b[39mname)                   \u001b[38;5;66;03m# Lynn Blake\u001b[39;00m\n\u001b[0;32m----> 3\u001b[0m \u001b[43mfriend\u001b[49m\u001b[38;5;241;43m.\u001b[39;49m\u001b[43mname\u001b[49m \u001b[38;5;241m=\u001b[39m (\u001b[38;5;124m'\u001b[39m\u001b[38;5;124mLynn\u001b[39m\u001b[38;5;124m'\u001b[39m, \u001b[38;5;124m'\u001b[39m\u001b[38;5;124mBlake-John\u001b[39m\u001b[38;5;124m'\u001b[39m) \u001b[38;5;66;03m# ValueError: Name must be alphabetic.\u001b[39;00m\n",
      "Cell \u001b[0;32mIn[14], line 14\u001b[0m, in \u001b[0;36mPerson.name\u001b[0;34m(self, name_tuple)\u001b[0m\n\u001b[1;32m     11\u001b[0m \u001b[38;5;129m@name\u001b[39m\u001b[38;5;241m.\u001b[39msetter\n\u001b[1;32m     12\u001b[0m \u001b[38;5;28;01mdef\u001b[39;00m \u001b[38;5;21mname\u001b[39m(\u001b[38;5;28mself\u001b[39m, name_tuple):\n\u001b[1;32m     13\u001b[0m     first, last \u001b[38;5;241m=\u001b[39m name_tuple\n\u001b[0;32m---> 14\u001b[0m     \u001b[38;5;28;43mself\u001b[39;49m\u001b[38;5;241;43m.\u001b[39;49m\u001b[43m_join_name\u001b[49m\u001b[43m(\u001b[49m\u001b[43mfirst\u001b[49m\u001b[43m,\u001b[49m\u001b[43m \u001b[49m\u001b[43mlast\u001b[49m\u001b[43m)\u001b[49m\n",
      "Cell \u001b[0;32mIn[14], line 22\u001b[0m, in \u001b[0;36mPerson._join_name\u001b[0;34m(self, first, last)\u001b[0m\n\u001b[1;32m     20\u001b[0m \u001b[38;5;28;01mdef\u001b[39;00m \u001b[38;5;21m_join_name\u001b[39m(\u001b[38;5;28mself\u001b[39m, first, last):\n\u001b[1;32m     21\u001b[0m     \u001b[38;5;28mself\u001b[39m\u001b[38;5;241m.\u001b[39m_check(first)\n\u001b[0;32m---> 22\u001b[0m     \u001b[38;5;28;43mself\u001b[39;49m\u001b[38;5;241;43m.\u001b[39;49m\u001b[43m_check\u001b[49m\u001b[43m(\u001b[49m\u001b[43mlast\u001b[49m\u001b[43m)\u001b[49m\n\u001b[1;32m     24\u001b[0m     \u001b[38;5;28mself\u001b[39m\u001b[38;5;241m.\u001b[39m_first \u001b[38;5;241m=\u001b[39m first\n\u001b[1;32m     25\u001b[0m     \u001b[38;5;28mself\u001b[39m\u001b[38;5;241m.\u001b[39m_last \u001b[38;5;241m=\u001b[39m last\n",
      "Cell \u001b[0;32mIn[14], line 18\u001b[0m, in \u001b[0;36mPerson._check\u001b[0;34m(cls, name)\u001b[0m\n\u001b[1;32m     16\u001b[0m \u001b[38;5;28;01mdef\u001b[39;00m \u001b[38;5;21m_check\u001b[39m(\u001b[38;5;28mcls\u001b[39m, name):\n\u001b[1;32m     17\u001b[0m     \u001b[38;5;28;01mif\u001b[39;00m \u001b[38;5;129;01mnot\u001b[39;00m name\u001b[38;5;241m.\u001b[39misalpha():\n\u001b[0;32m---> 18\u001b[0m         \u001b[38;5;28;01mraise\u001b[39;00m \u001b[38;5;167;01mValueError\u001b[39;00m(\u001b[38;5;124m\"\u001b[39m\u001b[38;5;124mName must be alphabetic\u001b[39m\u001b[38;5;124m\"\u001b[39m)\n",
      "\u001b[0;31mValueError\u001b[0m: Name must be alphabetic"
     ]
    }
   ],
   "source": [
    "friend = Person('Lynn', 'Blake')\n",
    "print(friend.name)                   # Lynn Blake\n",
    "friend.name = ('Lynn', 'Blake-John') # ValueError: Name must be alphabetic."
   ]
  },
  {
   "cell_type": "markdown",
   "id": "f65d2f7d-1a17-4f3d-aeff-e32c38a9a7fe",
   "metadata": {},
   "source": [
    "##### 6. Going back to your solution to Exercise 1, refactor the code to replace any methods that can be converted to static methods. Once you have done that, ask yourself whether the conversion to a static method makes sense."
   ]
  },
  {
   "cell_type": "code",
   "execution_count": 18,
   "id": "e513a5ad-9660-4936-898c-0442836a9655",
   "metadata": {},
   "outputs": [],
   "source": [
    "class Car:\n",
    "\n",
    "    def __init__(self, model, year, color):\n",
    "        self.model = model\n",
    "        self.year = year\n",
    "        self.color = color\n",
    "        self.speed = 0\n",
    "        print(f'Welcome to your {color} {year} {model}!')\n",
    "\n",
    "    def current_speed(self):\n",
    "        print(f'Your speed is {self.speed} mph.\\n')\n",
    "\n",
    "    @staticmethod\n",
    "    def engine_on():\n",
    "        print(\"The engine is on!\")\n",
    "\n",
    "    def accelerate(self, speed):\n",
    "        self.speed += speed\n",
    "        print(f'Accelerating by {speed} mph...')\n",
    "\n",
    "    def brake(self, speed):\n",
    "        if (self.speed - speed) < 0:\n",
    "            self.speed = 0\n",
    "        else:\n",
    "            self.speed -= speed\n",
    "        print(f'Braking by {speed} mph...')\n",
    "\n",
    "    def engine_off(self):\n",
    "        self.speed = 0\n",
    "        print(\"The engine is off.\")"
   ]
  },
  {
   "cell_type": "code",
   "execution_count": 19,
   "id": "78d61620-4705-4b9b-9580-eab2b199182c",
   "metadata": {},
   "outputs": [
    {
     "name": "stdout",
     "output_type": "stream",
     "text": [
      "Welcome to your lime green 2007 Honda Fit!\n",
      "Welcome to your lime green 2345 USS Enterprise!\n",
      "The engine is on!\n"
     ]
    }
   ],
   "source": [
    "car1 = Car(\"Honda Fit\", 2007, \"lime green\")\n",
    "car2 = Car(\"USS Enterprise\", 2345, \"lime green\")\n",
    "Car.engine_on()"
   ]
  },
  {
   "cell_type": "markdown",
   "id": "ed9a102c-251b-4499-bd56-930a2429d6ce",
   "metadata": {},
   "source": [
    "Converting `engine_on` to a static method is fine; `engine_on` does not use the `self` or `cls` arguments. However, it's not necessary and it makes it harder to tell which car is on when you have more than one vehicle."
   ]
  }
 ],
 "metadata": {
  "kernelspec": {
   "display_name": "Python 3 (ipykernel)",
   "language": "python",
   "name": "python3"
  },
  "language_info": {
   "codemirror_mode": {
    "name": "ipython",
    "version": 3
   },
   "file_extension": ".py",
   "mimetype": "text/x-python",
   "name": "python",
   "nbconvert_exporter": "python",
   "pygments_lexer": "ipython3",
   "version": "3.12.5"
  }
 },
 "nbformat": 4,
 "nbformat_minor": 5
}
