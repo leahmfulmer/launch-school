{
 "cells": [
  {
   "cell_type": "markdown",
   "id": "aac082f4-e1ec-4bae-a0b3-8ab7caa22f0a",
   "metadata": {},
   "source": [
    "# Introduction to Programming with Python\n",
    "### Classes and Objects: Exercises"
   ]
  },
  {
   "cell_type": "markdown",
   "id": "d250a836-3cf8-4296-9f48-e1e929954f0e",
   "metadata": {},
   "source": [
    "##### 1. Create a `Car` class that meets these requirements:\n",
    "\n",
    "* ##### Each Car object should have a model, model year, and color provided at instantiation time.\n",
    "* ##### You should have an instance variable that keeps track of the current speed. Initialize it to `0` when you instantiate a new car.\n",
    "* ##### Create instance methods that let you turn the engine on, accelerate, brake, and turn the engine off. Each method should display an appropriate message.\n",
    "* ##### Create a method that prints a message about the car's current speed.\n",
    "* ##### Write some code to test the methods."
   ]
  },
  {
   "cell_type": "code",
   "execution_count": 85,
   "id": "65f7d402-dee2-42a0-829a-eedd49192e89",
   "metadata": {},
   "outputs": [],
   "source": [
    "class Car:\n",
    "\n",
    "    def __init__(self, model, year, color):\n",
    "        self.model = model\n",
    "        self.year = year\n",
    "        self.color = color\n",
    "        self.speed = 0\n",
    "        print(f'Welcome to your {color} {year} {model}!')\n",
    "\n",
    "    def current_speed(self):\n",
    "        print(f'Your speed is {self.speed} mph.\\n')\n",
    "\n",
    "    def engine_on(self):\n",
    "        print(\"The engine is on!\")\n",
    "\n",
    "    def accelerate(self, speed):\n",
    "        self.speed += speed\n",
    "        print(f'Accelerating by {speed} mph...')\n",
    "\n",
    "    def brake(self, speed):\n",
    "        if (self.speed - speed) < 0:\n",
    "            self.speed = 0\n",
    "        else:\n",
    "            self.speed -= speed\n",
    "        print(f'Braking by {speed} mph...')\n",
    "\n",
    "    def engine_off(self):\n",
    "        self.speed = 0\n",
    "        print(\"The engine is off.\")"
   ]
  },
  {
   "cell_type": "code",
   "execution_count": 88,
   "id": "43c87bfb-fb09-4fde-872f-b44c3e0f8b54",
   "metadata": {},
   "outputs": [
    {
     "name": "stdout",
     "output_type": "stream",
     "text": [
      "Welcome to your lime green 2007 Honda Fit!\n"
     ]
    }
   ],
   "source": [
    "car = Car(\"Honda Fit\", 2007, \"lime green\")"
   ]
  },
  {
   "cell_type": "code",
   "execution_count": 89,
   "id": "89edc24b-3cd5-422f-82e4-5969264ce768",
   "metadata": {},
   "outputs": [
    {
     "name": "stdout",
     "output_type": "stream",
     "text": [
      "The engine is on!\n",
      "Your speed is 0 mph.\n",
      "\n",
      "Accelerating by 60 mph...\n",
      "Your speed is 60 mph.\n",
      "\n",
      "Braking by 30 mph...\n",
      "Your speed is 30 mph.\n",
      "\n",
      "Braking by 400 mph...\n",
      "Your speed is 0 mph.\n",
      "\n",
      "The engine is off.\n",
      "Your speed is 0 mph.\n",
      "\n"
     ]
    }
   ],
   "source": [
    "car.engine_on()\n",
    "car.current_speed()\n",
    "\n",
    "car.accelerate(60)\n",
    "car.current_speed()\n",
    "\n",
    "car.brake(30)\n",
    "car.current_speed()\n",
    "\n",
    "car.brake(400)\n",
    "car.current_speed()\n",
    "\n",
    "car.engine_off()\n",
    "car.current_speed()"
   ]
  },
  {
   "cell_type": "markdown",
   "id": "8c20cc2d-e1af-4ef1-9788-f34507703a56",
   "metadata": {},
   "source": [
    "##### 2. Using decorators, add getter and setter methods to your `Car` class so you can view and change the color of your car. You should also add getter methods that let you view but not modify the car's model and year. Don't forget to write some tests."
   ]
  },
  {
   "cell_type": "code",
   "execution_count": 138,
   "id": "40277314-ab49-4acd-91f7-bb50b0f39dd7",
   "metadata": {},
   "outputs": [],
   "source": [
    "class Car:\n",
    "\n",
    "    def __init__(self, model, year, color):\n",
    "        self._model = model\n",
    "        self._year = year\n",
    "        self._color = color\n",
    "        print(f'Welcome to your {color} {year} {model}!')\n",
    "\n",
    "    @property\n",
    "    def model(self):\n",
    "        return self._model\n",
    "\n",
    "    @property\n",
    "    def year(self):\n",
    "        return self._year\n",
    "\n",
    "    @property\n",
    "    def color(self):\n",
    "        return self._color\n",
    "\n",
    "    @color.setter\n",
    "    def color(self, color):\n",
    "        if not isinstance(color, str):\n",
    "            raise TypeError(\"Color must be a string\")\n",
    "        self._color = color"
   ]
  },
  {
   "cell_type": "code",
   "execution_count": 139,
   "id": "9e755b56-697d-4124-94b2-51ac1aeb2c9e",
   "metadata": {},
   "outputs": [
    {
     "name": "stdout",
     "output_type": "stream",
     "text": [
      "Welcome to your lime green 2034 Jeep Wrangler!\n"
     ]
    }
   ],
   "source": [
    "car = Car(\"Jeep Wrangler\", 2034, \"lime green\")"
   ]
  },
  {
   "cell_type": "code",
   "execution_count": 140,
   "id": "d9e3c7a5-c16c-4d97-b4e6-22c1b2a41ef1",
   "metadata": {},
   "outputs": [
    {
     "name": "stdout",
     "output_type": "stream",
     "text": [
      "My car used to be lime green...\n",
      "... but now it's magenta ;)\n"
     ]
    }
   ],
   "source": [
    "print(f\"My car used to be {car.color}...\")\n",
    "\n",
    "# car.color = 42\n",
    "car.color = 'magenta'\n",
    "print(f\"... but now it's {car.color} ;)\")"
   ]
  },
  {
   "cell_type": "code",
   "execution_count": 141,
   "id": "c50d13a6-eb2a-426a-aa1f-e8aa6d0e1134",
   "metadata": {},
   "outputs": [
    {
     "name": "stdout",
     "output_type": "stream",
     "text": [
      "I used to have a 2034 Jeep Wrangler...\n"
     ]
    },
    {
     "ename": "AttributeError",
     "evalue": "property 'model' of 'Car' object has no setter",
     "output_type": "error",
     "traceback": [
      "\u001b[0;31m---------------------------------------------------------------------------\u001b[0m",
      "\u001b[0;31mAttributeError\u001b[0m                            Traceback (most recent call last)",
      "Cell \u001b[0;32mIn[141], line 3\u001b[0m\n\u001b[1;32m      1\u001b[0m \u001b[38;5;28mprint\u001b[39m(\u001b[38;5;124mf\u001b[39m\u001b[38;5;124m\"\u001b[39m\u001b[38;5;124mI used to have a \u001b[39m\u001b[38;5;132;01m{\u001b[39;00mcar\u001b[38;5;241m.\u001b[39myear\u001b[38;5;132;01m}\u001b[39;00m\u001b[38;5;124m \u001b[39m\u001b[38;5;132;01m{\u001b[39;00mcar\u001b[38;5;241m.\u001b[39mmodel\u001b[38;5;132;01m}\u001b[39;00m\u001b[38;5;124m...\u001b[39m\u001b[38;5;124m\"\u001b[39m)\n\u001b[0;32m----> 3\u001b[0m \u001b[43mcar\u001b[49m\u001b[38;5;241;43m.\u001b[39;49m\u001b[43mmodel\u001b[49m \u001b[38;5;241m=\u001b[39m \u001b[38;5;124m'\u001b[39m\u001b[38;5;124mHonda Fit\u001b[39m\u001b[38;5;124m'\u001b[39m\n\u001b[1;32m      4\u001b[0m car\u001b[38;5;241m.\u001b[39myear \u001b[38;5;241m=\u001b[39m \u001b[38;5;241m2007\u001b[39m\n\u001b[1;32m      6\u001b[0m \u001b[38;5;66;03m# ... and I still do! Properties unchanged as expected.\u001b[39;00m\n",
      "\u001b[0;31mAttributeError\u001b[0m: property 'model' of 'Car' object has no setter"
     ]
    }
   ],
   "source": [
    "print(f\"I used to have a {car.year} {car.model}...\")\n",
    "\n",
    "car.model = 'Honda Fit'\n",
    "car.year = 2007\n",
    "\n",
    "# ... and I still do! Properties unchanged as expected."
   ]
  },
  {
   "cell_type": "markdown",
   "id": "2ab28efb-3def-4c08-acd5-cb124e4be10d",
   "metadata": {},
   "source": [
    "##### 3. Add a method to the `Car` class that lets you spray paint the car a specific color. Don't use a setter method for this. Instead, create a method whose name accurately describes what it does. Don't forget to test your code."
   ]
  },
  {
   "cell_type": "code",
   "execution_count": 132,
   "id": "ac06dc62-9981-464e-a344-30a677996b72",
   "metadata": {},
   "outputs": [],
   "source": [
    "class Car:\n",
    "\n",
    "    def __init__(self, model, year, color):\n",
    "        self._model = model\n",
    "        self._year = year\n",
    "        self._color = color\n",
    "        self.speed = 0\n",
    "        print(f'Welcome to your {color} {year} {model}!')\n",
    "\n",
    "    @property\n",
    "    def model(self):\n",
    "        return self._model\n",
    "\n",
    "    @property\n",
    "    def year(self):\n",
    "        return self._year\n",
    "\n",
    "    @property\n",
    "    def color(self):\n",
    "        return self._color\n",
    "\n",
    "    @color.setter\n",
    "    def color(self, color):\n",
    "        if not isinstance(color, str):\n",
    "            raise TypeError(\"Color must be a string\")\n",
    "        self._color = color\n",
    "\n",
    "    def current_speed(self):\n",
    "        print(f'Your speed is {self.speed} mph.\\n')\n",
    "\n",
    "    def engine_on(self):\n",
    "        print(\"The engine is on!\")\n",
    "\n",
    "    def accelerate(self, speed):\n",
    "        self.speed += speed\n",
    "        print(f'Accelerating by {speed} mph...')\n",
    "\n",
    "    def brake(self, speed):\n",
    "        if (self.speed - speed) < 0:\n",
    "            self.speed = 0\n",
    "        else:\n",
    "            self.speed -= speed\n",
    "        print(f'Braking by {speed} mph...')\n",
    "\n",
    "    def engine_off(self):\n",
    "        self.speed = 0\n",
    "        print(\"The engine is off.\")\n",
    "\n",
    "    def spray_paint(self, color):\n",
    "        if not isinstance(color, str):\n",
    "            raise TypeError(\"Spray paint color must be a string\")\n",
    "        self.color = color"
   ]
  },
  {
   "cell_type": "code",
   "execution_count": 133,
   "id": "008a3b10-ac33-46e9-9847-b1e31bb8313a",
   "metadata": {},
   "outputs": [
    {
     "name": "stdout",
     "output_type": "stream",
     "text": [
      "Welcome to your lime green 2345 USS Enterprise!\n"
     ]
    }
   ],
   "source": [
    "car = Car(\"USS Enterprise\", 2345, \"lime green\")"
   ]
  },
  {
   "cell_type": "code",
   "execution_count": 137,
   "id": "fd4faba7-a6b6-48a0-9fc3-56282e1f2a47",
   "metadata": {},
   "outputs": [
    {
     "name": "stdout",
     "output_type": "stream",
     "text": [
      "My spaceship is now spray painted RAINBOW!\n"
     ]
    },
    {
     "data": {
      "text/plain": [
       "'RAINBOW'"
      ]
     },
     "execution_count": 137,
     "metadata": {},
     "output_type": "execute_result"
    }
   ],
   "source": [
    "car.spray_paint('RAINBOW')\n",
    "print(f\"My spaceship is now spray painted {car.color}!\")\n",
    "car._color"
   ]
  },
  {
   "cell_type": "code",
   "execution_count": null,
   "id": "5fb810f3-99cf-475c-b8d2-1b8f9feaa4cb",
   "metadata": {},
   "outputs": [],
   "source": []
  }
 ],
 "metadata": {
  "kernelspec": {
   "display_name": "Python 3 (ipykernel)",
   "language": "python",
   "name": "python3"
  },
  "language_info": {
   "codemirror_mode": {
    "name": "ipython",
    "version": 3
   },
   "file_extension": ".py",
   "mimetype": "text/x-python",
   "name": "python",
   "nbconvert_exporter": "python",
   "pygments_lexer": "ipython3",
   "version": "3.12.5"
  }
 },
 "nbformat": 4,
 "nbformat_minor": 5
}
