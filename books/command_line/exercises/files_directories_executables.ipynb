{
 "cells": [
  {
   "cell_type": "markdown",
   "id": "22a1c28c-3ebd-418e-ba67-9c3902546e87",
   "metadata": {},
   "source": [
    "# Introduction to the Command Line\n",
    "### Files, Directories, and Executables: Exercises"
   ]
  },
  {
   "cell_type": "markdown",
   "id": "723aabd1-04b5-4ac1-89b1-a642ea336a0e",
   "metadata": {},
   "source": [
    "##### 1. List the hidden files in a directory."
   ]
  },
  {
   "cell_type": "code",
   "execution_count": 1,
   "id": "0098673f-25eb-4164-85c2-5195c35cf91d",
   "metadata": {},
   "outputs": [
    {
     "name": "stdout",
     "output_type": "stream",
     "text": [
      "\u001b[34m.\u001b[m\u001b[m                                   my_file7\n",
      "\u001b[34m..\u001b[m\u001b[m                                  permissions.ipynb\n",
      "\u001b[34m.ipynb_checkpoints\u001b[m\u001b[m                  \u001b[34mtmp\u001b[m\u001b[m\n",
      "files_directories_executables.ipynb\n"
     ]
    }
   ],
   "source": [
    "! ls -a"
   ]
  },
  {
   "cell_type": "markdown",
   "id": "dc2ff7d0-04e1-4758-ba00-61d6d5f095be",
   "metadata": {},
   "source": [
    "##### 2. List the files in the parent directory. Then list the files in the parent directory's parent directory."
   ]
  },
  {
   "cell_type": "code",
   "execution_count": 2,
   "id": "3f9f63b3-df27-4402-8942-2c5d5f2a2b87",
   "metadata": {},
   "outputs": [
    {
     "name": "stdout",
     "output_type": "stream",
     "text": [
      "The parent directory contains...\n",
      "\u001b[34mancillary\u001b[m\u001b[m \u001b[34mexercises\u001b[m\u001b[m\n",
      "The parent directory's parent directory contains...\n",
      "\u001b[34mcommand_line\u001b[m\u001b[m            \u001b[34mgit_and_github\u001b[m\u001b[m          \u001b[34mprogramming_with_python\u001b[m\u001b[m\n"
     ]
    }
   ],
   "source": [
    "print(\"The parent directory contains...\")\n",
    "! ls ..\n",
    "\n",
    "print(\"The parent directory's parent directory contains...\")\n",
    "! ls ../.."
   ]
  },
  {
   "cell_type": "markdown",
   "id": "5d8c1ac7-e339-40d6-961f-f8a52352768d",
   "metadata": {},
   "source": [
    "##### 3. What's the difference between abc/ and /abc?"
   ]
  },
  {
   "cell_type": "markdown",
   "id": "c9fb81d1-104d-4245-8d41-557fa93f540c",
   "metadata": {},
   "source": [
    "The path `abc/` is located within the current working directory. The path `/abc` is found within the root directory."
   ]
  },
  {
   "cell_type": "markdown",
   "id": "e07fd4ca-e0ad-466d-ba22-f2cbac694c1d",
   "metadata": {},
   "source": [
    "##### 4. What does ../abc mean?"
   ]
  },
  {
   "cell_type": "markdown",
   "id": "06e42f02-899f-4851-8643-aa1e8accf557",
   "metadata": {},
   "source": [
    "The path `../abc` indicates a file or directory found in the parent directory of the current working directory."
   ]
  },
  {
   "cell_type": "markdown",
   "id": "aaf28195-fa3d-434d-b4cd-b6a5feac141c",
   "metadata": {},
   "source": [
    "##### 5. Suppose you are in a directory with 7 files. You need to move 6 of them into a \"tmp\" directory, that you have yet to create. How do you do that?"
   ]
  },
  {
   "cell_type": "code",
   "execution_count": 3,
   "id": "e92fa55f-5726-475f-b6eb-e554fd740281",
   "metadata": {},
   "outputs": [],
   "source": [
    "! mkdir ../ancillary/tmp\n",
    "! mv ../ancillary/my_file* ../ancillary/tmp\n",
    "! mv ../ancillary/tmp/my_file7 ../ancillary"
   ]
  },
  {
   "cell_type": "markdown",
   "id": "58da5f5e-5de9-48eb-8a45-319ff0df1a30",
   "metadata": {},
   "source": [
    "##### 6. Suppose you have two directories called xyz/ and abc/. How do you move all the files in abc/ that end with \".txt\" into xyz/?"
   ]
  },
  {
   "cell_type": "code",
   "execution_count": 4,
   "id": "d6ca324f-b788-4263-8070-e2839b6daa06",
   "metadata": {},
   "outputs": [],
   "source": [
    "# ! mv abc*.txt xyz"
   ]
  }
 ],
 "metadata": {
  "kernelspec": {
   "display_name": "Python 3 (ipykernel)",
   "language": "python",
   "name": "python3"
  },
  "language_info": {
   "codemirror_mode": {
    "name": "ipython",
    "version": 3
   },
   "file_extension": ".py",
   "mimetype": "text/x-python",
   "name": "python",
   "nbconvert_exporter": "python",
   "pygments_lexer": "ipython3",
   "version": "3.12.5"
  }
 },
 "nbformat": 4,
 "nbformat_minor": 5
}
