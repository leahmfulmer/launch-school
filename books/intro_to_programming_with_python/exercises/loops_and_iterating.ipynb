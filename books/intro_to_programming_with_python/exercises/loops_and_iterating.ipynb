{
 "cells": [
  {
   "cell_type": "markdown",
   "id": "062d6238-9854-48ed-8877-44e70337d5f2",
   "metadata": {},
   "source": [
    "# Introduction to Programming with Python\n",
    "### Loops and Iterating: Exercises"
   ]
  },
  {
   "cell_type": "markdown",
   "id": "e5481622-7c27-470a-8fd6-4348dd5fb5d0",
   "metadata": {},
   "source": [
    "##### 1. The following code causes an infinite loop (a loop that never stops iterating). Why?\n",
    "\n",
    "`counter = 0`<br>\n",
    "\n",
    "`while counter < 5:`<br>\n",
    "`    print(counter)`"
   ]
  },
  {
   "cell_type": "markdown",
   "id": "df9075f0-3771-4e7a-bc47-e7da91442fc4",
   "metadata": {},
   "source": [
    "This code causes an infinite loop because `counter` is not incremented. Throughout the loop, `counter` remains equal to `0` and the `while` condition remains truthy, continuing the loop infinitely."
   ]
  },
  {
   "cell_type": "markdown",
   "id": "d02a931a-fe5b-4f9a-84be-62cea55fc6f6",
   "metadata": {},
   "source": [
    "##### 2. Modify the `age.py` program you wrote in Exercise 3 of the Input/Output chapter. The updated code should use a `for` loop to display the future ages."
   ]
  },
  {
   "cell_type": "code",
   "execution_count": 1,
   "id": "957db2a8-7b63-48a3-a560-7c5d7bcd8204",
   "metadata": {},
   "outputs": [
    {
     "name": "stdin",
     "output_type": "stream",
     "text": [
      "How old are you?  29\n"
     ]
    },
    {
     "name": "stdout",
     "output_type": "stream",
     "text": [
      "You are 29 years old.\n",
      "In 10 years, you will be 39 years old.\n",
      "In 20 years, you will be 49 years old.\n",
      "In 30 years, you will be 59 years old.\n",
      "In 40 years, you will be 69 years old.\n"
     ]
    }
   ],
   "source": [
    "age = int(input(\"How old are you? \"))\n",
    "\n",
    "print(f\"You are {age} years old.\")\n",
    "\n",
    "for i in range(1,5):\n",
    "    print(f\"In {10 * i} years, you will be {age + (10 * i)} years old.\")"
   ]
  },
  {
   "cell_type": "markdown",
   "id": "f2efac14-c50e-434a-9a56-726dcdf019f8",
   "metadata": {},
   "source": [
    "##### 3. Use a `while` loop to print the numbers in `my_list`, one number per line. Then, do the same with a `for` loop."
   ]
  },
  {
   "cell_type": "code",
   "execution_count": 2,
   "id": "006270df-7b58-402d-8bbd-f7f6f2c13d3d",
   "metadata": {},
   "outputs": [],
   "source": [
    "my_list = [6, 3, 0, 11, 20, 4, 17]"
   ]
  },
  {
   "cell_type": "code",
   "execution_count": 3,
   "id": "71bdd810-4cd5-4812-b82b-a1bc4f72bfea",
   "metadata": {},
   "outputs": [
    {
     "name": "stdout",
     "output_type": "stream",
     "text": [
      "6\n",
      "3\n",
      "0\n",
      "11\n",
      "20\n",
      "4\n",
      "17\n"
     ]
    }
   ],
   "source": [
    "# while\n",
    "\n",
    "index = 0\n",
    "while index < len(my_list):\n",
    "    print(my_list[index])\n",
    "    index += 1"
   ]
  },
  {
   "cell_type": "code",
   "execution_count": 4,
   "id": "fbfd4ccb-73bc-4749-91b2-dd2442a93eb7",
   "metadata": {},
   "outputs": [
    {
     "name": "stdout",
     "output_type": "stream",
     "text": [
      "6\n",
      "3\n",
      "0\n",
      "11\n",
      "20\n",
      "4\n",
      "17\n"
     ]
    }
   ],
   "source": [
    "# for\n",
    "\n",
    "for item in my_list:\n",
    "    print(item)"
   ]
  },
  {
   "cell_type": "markdown",
   "id": "b2e384ac-092c-46cf-a2cb-99316730f4a9",
   "metadata": {},
   "source": [
    "##### 4. Use a `while` loop to print all numbers in `my_list` with **even** values, one number per line. Then, print the **odd** numbers using a `for` loop."
   ]
  },
  {
   "cell_type": "code",
   "execution_count": 5,
   "id": "acb1ce75-9a49-4541-9478-4960580f2d02",
   "metadata": {},
   "outputs": [],
   "source": [
    "my_list = [6, 3, 0, 11, 20, 4, 17]"
   ]
  },
  {
   "cell_type": "code",
   "execution_count": 6,
   "id": "1efd1273-818a-436c-a3b6-d0d3c8ccce12",
   "metadata": {},
   "outputs": [
    {
     "name": "stdout",
     "output_type": "stream",
     "text": [
      "6\n",
      "0\n",
      "20\n",
      "4\n"
     ]
    }
   ],
   "source": [
    "# while, even\n",
    "\n",
    "index = 0\n",
    "while index < len(my_list):\n",
    "    number = my_list[index]\n",
    "    if number % 2 == 0:\n",
    "        print(number)\n",
    "\n",
    "    index +=1"
   ]
  },
  {
   "cell_type": "code",
   "execution_count": 7,
   "id": "8a193bc6-9b62-41d7-9e88-ebb8ecb74d77",
   "metadata": {},
   "outputs": [
    {
     "name": "stdout",
     "output_type": "stream",
     "text": [
      "3\n",
      "11\n",
      "17\n"
     ]
    }
   ],
   "source": [
    "# for, odd\n",
    "\n",
    "for number in my_list:\n",
    "    if number % 2 != 0:\n",
    "        print(number)"
   ]
  },
  {
   "cell_type": "markdown",
   "id": "95b205cf-96a4-4eff-bb05-7eced21396bb",
   "metadata": {},
   "source": [
    "##### 5. Print all of the even numbers in the following list of nested lists. Don't use any `while` loops."
   ]
  },
  {
   "cell_type": "code",
   "execution_count": 8,
   "id": "e32e1839-0847-467f-8f81-4033d7e4063d",
   "metadata": {},
   "outputs": [],
   "source": [
    "my_list = [\n",
    "    [1, 3, 6, 11],\n",
    "    [4, 2, 4],\n",
    "    [9, 17, 16, 0],\n",
    "]"
   ]
  },
  {
   "cell_type": "code",
   "execution_count": 9,
   "id": "25a50234-bb44-4e09-ac7b-47bf2100a3a9",
   "metadata": {},
   "outputs": [
    {
     "name": "stdout",
     "output_type": "stream",
     "text": [
      "6\n",
      "4\n",
      "2\n",
      "4\n",
      "16\n",
      "0\n"
     ]
    }
   ],
   "source": [
    "# nested for loops\n",
    "\n",
    "for item in my_list:\n",
    "    for number in item:\n",
    "        if number % 2 == 0:\n",
    "            print(number)"
   ]
  },
  {
   "cell_type": "markdown",
   "id": "adb45ad0-088e-4606-a3c3-88a13899f17e",
   "metadata": {},
   "source": [
    "##### 6. Let's try another variation on the even/odd-numbers theme. We'll return to the simpler one-dimensional version of `my_list`. In this problem, you should write code that creates a new list with one element for each number in `my_list`. If the original number is an even, then the corresponding element in the new list should contain the string `'even'`; otherwise, the element should contain `'odd'`."
   ]
  },
  {
   "cell_type": "code",
   "execution_count": 10,
   "id": "8110dd68-3542-43c0-b25c-3e1c6ab21930",
   "metadata": {},
   "outputs": [],
   "source": [
    "my_list = [\n",
    "    1, 3, 6, 11,\n",
    "    4, 2, 4, 9,\n",
    "    17, 16, 0,\n",
    "]"
   ]
  },
  {
   "cell_type": "code",
   "execution_count": 11,
   "id": "d4d565e8-bbf9-4555-bf39-14bbfdcbf792",
   "metadata": {},
   "outputs": [
    {
     "name": "stdout",
     "output_type": "stream",
     "text": [
      "['odd', 'odd', 'even', 'odd', 'even', 'even', 'even', 'odd', 'odd', 'even', 'even']\n"
     ]
    }
   ],
   "source": [
    "new_list = []\n",
    "\n",
    "for number in my_list:\n",
    "    if number % 2 == 0:\n",
    "        new_list.append('even')\n",
    "    else:\n",
    "        new_list.append('odd')\n",
    "\n",
    "print(new_list)"
   ]
  },
  {
   "cell_type": "markdown",
   "id": "85c22f92-9aea-4204-8b57-c5c6d198e35f",
   "metadata": {},
   "source": [
    "##### 7. Write a `find_integers` function that returns a list of all the integers from `my_tuple`:"
   ]
  },
  {
   "cell_type": "code",
   "execution_count": 12,
   "id": "c30868c7-4eb2-4cba-941e-0a97b27b0618",
   "metadata": {},
   "outputs": [
    {
     "name": "stdout",
     "output_type": "stream",
     "text": [
      "[1, 3, -4]\n"
     ]
    }
   ],
   "source": [
    "def find_integers(my_tuple):\n",
    "    result = []\n",
    "    \n",
    "    for element in my_tuple:\n",
    "        if type(element) is int:\n",
    "            result.append(element)\n",
    "\n",
    "    return result\n",
    "\n",
    "my_tuple = (1, 'a', '1', 3, [7], 3.1415,\n",
    "            -4, None, {1, 2, 3}, False)\n",
    "integers = find_integers(my_tuple)\n",
    "print(integers)"
   ]
  },
  {
   "cell_type": "code",
   "execution_count": 13,
   "id": "6a691adb-7d1d-4203-bfe7-a24908574147",
   "metadata": {},
   "outputs": [
    {
     "name": "stdout",
     "output_type": "stream",
     "text": [
      "[1, 3, -4]\n"
     ]
    }
   ],
   "source": [
    "# Another solution...\n",
    "\n",
    "def find_integers(my_tuple):\n",
    "    return [ element\n",
    "             for element in my_tuple\n",
    "             if type(element) is int ]\n",
    "\n",
    "my_tuple = (1, 'a', '1', 3, [7], 3.1415,\n",
    "            -4, None, {1, 2, 3}, False)\n",
    "integers = find_integers(my_tuple)\n",
    "print(integers)"
   ]
  },
  {
   "cell_type": "markdown",
   "id": "1ecb3972-6f30-45a3-9c24-7577a7ce5837",
   "metadata": {},
   "source": [
    "##### 8. Write a comprehension that creates a `dict` object whose keys are strings and whose values are the length of the corresponding key. Only keys with odd lengths should be in the dict. Use the set given by `my_set` as the source of strings."
   ]
  },
  {
   "cell_type": "code",
   "execution_count": 14,
   "id": "a5b1407f-c3da-4889-b2bb-6473edb8e669",
   "metadata": {},
   "outputs": [
    {
     "name": "stdout",
     "output_type": "stream",
     "text": [
      "{'Cocoa': 5, 'Cheddar': 7, 'Pudding': 7}\n"
     ]
    }
   ],
   "source": [
    "my_set = {\n",
    "    'Fluffy',\n",
    "    'Butterscotch',\n",
    "    'Pudding',\n",
    "    'Cheddar',\n",
    "    'Cocoa',\n",
    "}\n",
    "\n",
    "my_dict = { element: len(element) for element in my_set if len(element) % 2 != 0 }\n",
    "print(my_dict)"
   ]
  },
  {
   "cell_type": "markdown",
   "id": "c3de6f6a-aaca-4ff6-b2e0-f9e818efe46f",
   "metadata": {},
   "source": [
    "##### 9. Write a function that computes and returns the factorial of a number by using a `for` or `while` loop. The factorial of a positive integer `n`, signified by `n!`, is defined as the product of all integers between `1` and `n`, inclusive:"
   ]
  },
  {
   "cell_type": "code",
   "execution_count": 15,
   "id": "a35d72e5-cbbb-4adc-9541-a381932f44a9",
   "metadata": {},
   "outputs": [
    {
     "name": "stdout",
     "output_type": "stream",
     "text": [
      "120\n"
     ]
    }
   ],
   "source": [
    "def factorial(n):\n",
    "    factorial = 1\n",
    "    \n",
    "    for number in range(1, n+1):\n",
    "        factorial *= number\n",
    "\n",
    "    return factorial\n",
    "\n",
    "print(factorial(5))"
   ]
  },
  {
   "cell_type": "markdown",
   "id": "77599daa-1792-45a8-83b9-b6f1cf083205",
   "metadata": {},
   "source": [
    "##### 10. The following code uses the `randrange` function from Python's `random` library to obtain and print a random integer within a given range. Using a `while` loop, it keeps running until it finds a random number that matches the last number in the range. Refactor the code so it doesn't require two different invocations of `randrange`."
   ]
  },
  {
   "cell_type": "code",
   "execution_count": 16,
   "id": "b133ed2b-4345-4edc-86ee-fdf8ee20a1aa",
   "metadata": {},
   "outputs": [
    {
     "name": "stdout",
     "output_type": "stream",
     "text": [
      "6\n",
      "5\n",
      "0\n",
      "0\n",
      "9\n",
      "3\n",
      "9\n",
      "10\n"
     ]
    }
   ],
   "source": [
    "import random\n",
    "\n",
    "highest = 10\n",
    "\n",
    "while True:\n",
    "    number = random.randrange(highest + 1)\n",
    "    print(number)\n",
    "    if number == highest:\n",
    "        break"
   ]
  },
  {
   "cell_type": "markdown",
   "id": "4b7cfd29-f5a9-42cc-9899-eb4878ce9eb2",
   "metadata": {},
   "source": [
    "##### 11. Print all of the even numbers in the following list of nested lists. This time, don't use any `for` loops."
   ]
  },
  {
   "cell_type": "code",
   "execution_count": 2,
   "id": "7d38da9a-fce3-40e2-ac96-3bb7066e92cd",
   "metadata": {},
   "outputs": [
    {
     "name": "stdout",
     "output_type": "stream",
     "text": [
      "6\n",
      "4\n",
      "2\n",
      "4\n",
      "16\n",
      "0\n"
     ]
    }
   ],
   "source": [
    "my_list = [\n",
    "  [1, 3, 6, 11],\n",
    "  [4, 2, 4],\n",
    "  [9, 17, 16, 0],\n",
    "]\n",
    "\n",
    "i = 0\n",
    "\n",
    "while i < len(my_list):\n",
    "    element = my_list[i]\n",
    "    j = 0\n",
    "    while j < len(element):\n",
    "        number = element[j]\n",
    "        \n",
    "        if number % 2 == 0:\n",
    "            print(my_list[i][j])\n",
    "\n",
    "        j += 1\n",
    "\n",
    "    i += 1"
   ]
  },
  {
   "cell_type": "code",
   "execution_count": null,
   "id": "1f8df8c9-9bb0-4c81-aa5d-b910309fe8ec",
   "metadata": {},
   "outputs": [],
   "source": []
  }
 ],
 "metadata": {
  "kernelspec": {
   "display_name": "Python 3 (ipykernel)",
   "language": "python",
   "name": "python3"
  },
  "language_info": {
   "codemirror_mode": {
    "name": "ipython",
    "version": 3
   },
   "file_extension": ".py",
   "mimetype": "text/x-python",
   "name": "python",
   "nbconvert_exporter": "python",
   "pygments_lexer": "ipython3",
   "version": "3.12.5"
  }
 },
 "nbformat": 4,
 "nbformat_minor": 5
}
