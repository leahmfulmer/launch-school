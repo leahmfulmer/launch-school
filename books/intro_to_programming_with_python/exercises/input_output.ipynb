{
 "cells": [
  {
   "cell_type": "markdown",
   "id": "e0d2a44b-1904-4e2a-ad2c-d486ad6b7eb7",
   "metadata": {},
   "source": [
    "# Introduction to Programming with Python\n",
    "### Input/Output: Exercises"
   ]
  },
  {
   "cell_type": "markdown",
   "id": "91231386-503c-4acd-8cca-30d616aec701",
   "metadata": {},
   "source": [
    "##### 1. Write a program named `greeter.py`. The program should ask for your name, then output `Hello, NAME!` where `NAME` is the name you entered:\n",
    "\n",
    "`$ python greeter.py`<br>\n",
    "`What is your name? Sue`<br>\n",
    "`Hello, Sue!`"
   ]
  },
  {
   "cell_type": "code",
   "execution_count": 8,
   "id": "1985f632-5c5a-48c1-8204-2a08360c6c5e",
   "metadata": {},
   "outputs": [
    {
     "name": "stdin",
     "output_type": "stream",
     "text": [
      "What is your name?  Leah\n"
     ]
    },
    {
     "name": "stdout",
     "output_type": "stream",
     "text": [
      "Hello, Leah!\n"
     ]
    }
   ],
   "source": [
    "first = input(\"What is your name? \")\n",
    "\n",
    "print(f'Hello, {first}!')"
   ]
  },
  {
   "cell_type": "markdown",
   "id": "df8a673d-66f7-499f-970c-f158d4865f91",
   "metadata": {},
   "source": [
    "##### 2. Modify the `greeter.py` program to ask for the user's first and last names separately, then greet the user with their full name."
   ]
  },
  {
   "cell_type": "code",
   "execution_count": 9,
   "id": "985276ff-478b-4cc6-b904-6285f901e59e",
   "metadata": {},
   "outputs": [
    {
     "name": "stdin",
     "output_type": "stream",
     "text": [
      "What is your first name?  Leah\n",
      "What is your last name?  Fulmer\n"
     ]
    },
    {
     "name": "stdout",
     "output_type": "stream",
     "text": [
      "Hello, Leah Fulmer!\n"
     ]
    }
   ],
   "source": [
    "first = input(\"What is your first name? \")\n",
    "last = input(\"What is your last name? \")\n",
    "\n",
    "print(f'Hello, {first} {last}!')"
   ]
  },
  {
   "cell_type": "markdown",
   "id": "60b772ad-78ef-46d0-9052-44b997c9bd1a",
   "metadata": {},
   "source": [
    "##### 3. Write a program named `age.py` that asks the user to enter their age, then calculates and reports the future age 10, 20, 30, and 40 years from now."
   ]
  },
  {
   "cell_type": "code",
   "execution_count": 1,
   "id": "7366b95e-b8be-4c4b-b42e-fbdf3990093f",
   "metadata": {},
   "outputs": [
    {
     "name": "stdin",
     "output_type": "stream",
     "text": [
      "How old are you?  29\n"
     ]
    },
    {
     "name": "stdout",
     "output_type": "stream",
     "text": [
      "You are 29 years old.\n",
      "In 10 years, you will be 39 years old.\n",
      "In 20 years, you will be 49 years old.\n",
      "In 30 years, you will be 59 years old.\n",
      "In 40 years, you will be 69 years old.\n"
     ]
    }
   ],
   "source": [
    "age = int(input(\"How old are you? \"))\n",
    "\n",
    "print(f\"You are {age} years old.\")\n",
    "\n",
    "for i in range(1,5):\n",
    "    print(f\"In {10 * i} years, you will be {age + (10 * i)} years old.\")"
   ]
  },
  {
   "cell_type": "code",
   "execution_count": null,
   "id": "cf202bd1-73b5-433c-a12d-43337fa40445",
   "metadata": {},
   "outputs": [],
   "source": []
  }
 ],
 "metadata": {
  "kernelspec": {
   "display_name": "Python 3 (ipykernel)",
   "language": "python",
   "name": "python3"
  },
  "language_info": {
   "codemirror_mode": {
    "name": "ipython",
    "version": 3
   },
   "file_extension": ".py",
   "mimetype": "text/x-python",
   "name": "python",
   "nbconvert_exporter": "python",
   "pygments_lexer": "ipython3",
   "version": "3.12.5"
  }
 },
 "nbformat": 4,
 "nbformat_minor": 5
}
