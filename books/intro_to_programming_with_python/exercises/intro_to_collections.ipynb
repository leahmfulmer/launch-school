{
 "cells": [
  {
   "cell_type": "markdown",
   "id": "4b5beca3-e9bf-4bc2-a6b0-9c1045ac25e6",
   "metadata": {},
   "source": [
    "# Introduction to Programming with Python\n",
    "### Intro to Collections: Exercises"
   ]
  },
  {
   "cell_type": "markdown",
   "id": "d2dcb3c7-c265-4dff-a5ab-090bc9370880",
   "metadata": {},
   "source": [
    "##### 1. If you have a list named `people`, how can you determine the number of entries in that list?\n"
   ]
  },
  {
   "cell_type": "markdown",
   "id": "f7c48041-af3d-4fb8-ad63-68763c009cfc",
   "metadata": {},
   "source": [
    "The built-in function `len()` can tell you the number of entries in `people`."
   ]
  },
  {
   "cell_type": "code",
   "execution_count": 1,
   "id": "70ef64ae-3619-40ed-9d22-82af98a91a0a",
   "metadata": {},
   "outputs": [
    {
     "data": {
      "text/plain": [
       "3"
      ]
     },
     "execution_count": 1,
     "metadata": {},
     "output_type": "execute_result"
    }
   ],
   "source": [
    "people = ['Leah', 'Maria', 'Fulmer']\n",
    "len(people)"
   ]
  },
  {
   "cell_type": "markdown",
   "id": "b0dbaa95-8ca6-4dc0-9647-5d291833b8e1",
   "metadata": {},
   "source": [
    "##### 2. Can you write some code to change the value `'bye'` in the following tuple to `'goodbye'`?"
   ]
  },
  {
   "cell_type": "code",
   "execution_count": 7,
   "id": "05c73956-2caf-4081-947b-1912b8d6af3e",
   "metadata": {},
   "outputs": [
    {
     "data": {
      "text/plain": [
       "('hello', 'world', 'goodbye', 'now')"
      ]
     },
     "execution_count": 7,
     "metadata": {},
     "output_type": "execute_result"
    }
   ],
   "source": [
    "stuff = ('hello', 'world', 'bye', 'now')\n",
    "stuff = list(stuff)\n",
    "stuff[2] = 'goodbye'\n",
    "stuff = tuple(stuff)\n",
    "stuff"
   ]
  },
  {
   "cell_type": "markdown",
   "id": "de943a38-3f9d-4aaa-a70a-5cf99a9bbb5a",
   "metadata": {},
   "source": [
    "##### 3. Identify at least 2 differences between lists and tuples. Identify at least 2 ways that lists and tuples are similar."
   ]
  },
  {
   "cell_type": "markdown",
   "id": "149522b2-a414-4fc0-83f0-93341e195e58",
   "metadata": {},
   "source": [
    "Lists are mutable and tuples are not; furthermore, lists use `[]` syntax and tuples use `()` syntax.\n",
    "\n",
    "Lists and tuples are similar in that they are both ordered sequences and both heterogeneous."
   ]
  },
  {
   "cell_type": "markdown",
   "id": "568ecfed-9125-4796-856e-1c50f88b0765",
   "metadata": {},
   "source": [
    "##### 4. Why can we treat strings as sequences?"
   ]
  },
  {
   "cell_type": "markdown",
   "id": "3e52adb8-5e10-41f4-afb4-62da6d0206d0",
   "metadata": {},
   "source": [
    "Strings behave closely enough to sequences (e.g., iterable, ordered, indexed) that we can enact similar behavior with them and thus treat them as sequences."
   ]
  },
  {
   "cell_type": "markdown",
   "id": "37570542-13c7-4e09-9259-05d8b7fa2949",
   "metadata": {},
   "source": [
    "##### 5. How do the set types differ from the sequence types?"
   ]
  },
  {
   "cell_type": "markdown",
   "id": "3f6bac07-e49d-476d-9ec4-f8053f61901c",
   "metadata": {},
   "source": [
    "Set types are unordered and thus not indexed, and they only contain unique elements."
   ]
  },
  {
   "cell_type": "markdown",
   "id": "f78ba449-dcdf-4a19-94b9-4c241962fb12",
   "metadata": {},
   "source": [
    "##### 6. Assuming you have the following assignment:\n",
    "\n",
    "`pi = 3.141592`\n",
    "\n",
    "Write some code that converts the value of `pi` to a string and assigns it to a variable named `str_pi`."
   ]
  },
  {
   "cell_type": "markdown",
   "id": "439a1a47-827d-4e43-975a-08c1435a33b8",
   "metadata": {},
   "source": [
    "pi = 3.141592\n",
    "str_pi = str(pi)\n",
    "str_pi"
   ]
  },
  {
   "cell_type": "markdown",
   "id": "e8781394-5c05-4b42-bd55-d2f34e8ccc9d",
   "metadata": {},
   "source": [
    "##### 7. Without running the following code, identify the numbers that are included in each of the following ranges:"
   ]
  },
  {
   "cell_type": "code",
   "execution_count": 10,
   "id": "27d006c8-ff3b-44a4-ab5f-1bdab5b73530",
   "metadata": {},
   "outputs": [
    {
     "data": {
      "text/plain": [
       "range(8, 3, -1)"
      ]
     },
     "execution_count": 10,
     "metadata": {},
     "output_type": "execute_result"
    }
   ],
   "source": [
    "range(7)         # [0, 1, 2, 3, 4, 5, 6]\n",
    "range(1, 6)      # [1, 2, 3, 4, 5]\n",
    "range(3, 15, 4)  # [3, 7, 11]\n",
    "range(3, 8, -1)  # []\n",
    "range(8, 3, -1)  # [8, 7, 6, 5, 4]"
   ]
  },
  {
   "cell_type": "code",
   "execution_count": 11,
   "id": "687e7e9f-feab-402e-a6c5-4bed28b35835",
   "metadata": {},
   "outputs": [
    {
     "name": "stdout",
     "output_type": "stream",
     "text": [
      "[0, 1, 2, 3, 4, 5, 6]\n",
      "[1, 2, 3, 4, 5]\n",
      "[3, 7, 11]\n",
      "[]\n",
      "[8, 7, 6, 5, 4]\n"
     ]
    }
   ],
   "source": [
    "# Checking my responses...\n",
    "print(list(range(7)))\n",
    "print(list(range(1, 6)))\n",
    "print(list(range(3, 15, 4)))\n",
    "print(list(range(3, 8, -1)))\n",
    "print(list(range(8, 3, -1)))"
   ]
  },
  {
   "cell_type": "markdown",
   "id": "34248698-641d-4b5b-874d-a9e10bdc4240",
   "metadata": {},
   "source": [
    "##### 8. How would you print all the numbers in the following range?"
   ]
  },
  {
   "cell_type": "code",
   "execution_count": 12,
   "id": "02fac249-f3da-4778-b19a-e097eaccdc10",
   "metadata": {},
   "outputs": [
    {
     "name": "stdout",
     "output_type": "stream",
     "text": [
      "[3, 7, 11, 15]\n"
     ]
    }
   ],
   "source": [
    "print(list(range(3, 17, 4)))"
   ]
  },
  {
   "cell_type": "markdown",
   "id": "40a48e5f-3778-4e61-896a-a89b46eb227b",
   "metadata": {},
   "source": [
    "##### 9. Given the below code, answer the following questions and explain your answers:\n",
    "\n",
    "`my_list = [1, 2, 3, [4, 5, 6]]`<br>\n",
    "`another_list = list(my_list)`\n",
    "\n",
    "* ##### Are the lists assigned to `my_list` and `another_list` equal?\n",
    "* ##### Are the lists assigned to `my_list` and `another_list` the same object?\n",
    "* ##### Are the nested lists at index 3 of `my_list` and `another_list` equal?\n",
    "* ##### Are the nested lists at index 3 of `my_list` and `another_list` the same object?\n"
   ]
  },
  {
   "cell_type": "markdown",
   "id": "825f94b7-0c19-40d9-9ef5-53e27d7e9fb1",
   "metadata": {},
   "source": [
    "* `my_list` and `another_list` **are equal** because they have the same values.\n",
    "* `my_list` and `another_list` **are not the same object**. `list()` always creates a new object.\n",
    "* The nested lists **are equal** because they have the same values.\n",
    "* The nested lists **are the same object**. They've been shallow copied, which does not create a new nested list."
   ]
  },
  {
   "cell_type": "markdown",
   "id": "9fa6bc47-5c27-4d35-9b3e-4a48bc703096",
   "metadata": {},
   "source": [
    "##### 10. Bob expects the following code to print the names in alphabetical order. Without running the code, can you say whether it will? Explain your answer.\n",
    "\n",
    "`names = { 'Chris', 'Clare', 'Karis', 'Karl', 'Max', 'Nick', 'Victor' }`<br>\n",
    "`print(names)`"
   ]
  },
  {
   "cell_type": "markdown",
   "id": "df2825c8-b61a-401d-8d63-a9c315fd3d47",
   "metadata": {},
   "source": [
    "The names will very likely not print in alphabetical order. They are part of a sequence (`{}`) and thus part of an unordered collection."
   ]
  },
  {
   "cell_type": "code",
   "execution_count": 13,
   "id": "14a54af8-5ed9-4c8b-ba59-4c60fba023cf",
   "metadata": {},
   "outputs": [
    {
     "name": "stdout",
     "output_type": "stream",
     "text": [
      "{'Karis', 'Chris', 'Karl', 'Clare', 'Victor', 'Nick', 'Max'}\n"
     ]
    }
   ],
   "source": [
    "# Checking...\n",
    "names = { 'Chris', 'Clare', 'Karis', 'Karl',\n",
    "          'Max', 'Nick', 'Victor' }\n",
    "print(names)"
   ]
  },
  {
   "cell_type": "markdown",
   "id": "96a7f0d1-d4c5-4ea0-8ca4-2fe915ff4920",
   "metadata": {},
   "source": [
    "##### 11. Consider the data in the following table:\n",
    "\n",
    "<table>\n",
    "  <thead>\n",
    "    <tr>\n",
    "      <th>Name</th>\n",
    "      <th>Country</th>\n",
    "    </tr>\n",
    "  </thead>\n",
    "  <tbody>\n",
    "    <tr>\n",
    "      <td>Alice</td>\n",
    "      <td>USA</td>\n",
    "    </tr>\n",
    "    <tr>\n",
    "      <td>Francois</td>\n",
    "      <td>Canada</td>\n",
    "    </tr>\n",
    "    <tr>\n",
    "      <td>Inti</td>\n",
    "      <td>Peru</td>\n",
    "    </tr>\n",
    "    <tr>\n",
    "      <td>Monika</td>\n",
    "      <td>Germany</td>\n",
    "    </tr>\n",
    "    <tr>\n",
    "      <td>Sanyu</td>\n",
    "      <td>Uganda</td>\n",
    "    </tr>\n",
    "    <tr>\n",
    "      <td>Yoshitaka</td>\n",
    "      <td>Japan</td>\n",
    "    </tr>\n",
    "  </tbody>\n",
    "</table>\n",
    "\n",
    "##### You need to write some Python code to determine the country name associated with one of the listed names. Your code should include the data structure(s) you need and at least one test case to ensure the code works."
   ]
  },
  {
   "cell_type": "code",
   "execution_count": 17,
   "id": "a927780d-efb2-4c6d-8795-42ce1a313d89",
   "metadata": {},
   "outputs": [
    {
     "data": {
      "text/plain": [
       "'Uganda'"
      ]
     },
     "execution_count": 17,
     "metadata": {},
     "output_type": "execute_result"
    }
   ],
   "source": [
    "names_countries = {'Alice':     'USA',\n",
    "                   'Francois':  'Canada',\n",
    "                   'Inti':      'Peru',\n",
    "                   'Monika':    'Germany',\n",
    "                   'Sanyu':     'Uganda',\n",
    "                   'Yoshitaka': 'Japan',\n",
    "                  }\n",
    "names_countries['Sanyu']"
   ]
  }
 ],
 "metadata": {
  "kernelspec": {
   "display_name": "Python 3 (ipykernel)",
   "language": "python",
   "name": "python3"
  },
  "language_info": {
   "codemirror_mode": {
    "name": "ipython",
    "version": 3
   },
   "file_extension": ".py",
   "mimetype": "text/x-python",
   "name": "python",
   "nbconvert_exporter": "python",
   "pygments_lexer": "ipython3",
   "version": "3.12.5"
  }
 },
 "nbformat": 4,
 "nbformat_minor": 5
}
