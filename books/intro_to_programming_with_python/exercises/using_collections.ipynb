{
 "cells": [
  {
   "cell_type": "markdown",
   "id": "6d6c9669-034c-41ac-8406-fa27f82e94ec",
   "metadata": {},
   "source": [
    "# Introduction to Programming with Python\n",
    "### Using Collections: Exercises"
   ]
  },
  {
   "cell_type": "markdown",
   "id": "11ad09b5-eb76-4053-94ad-c41c37bafb4f",
   "metadata": {},
   "source": [
    "##### 1. Write Python code to print the seventh number of `range(0, 25, 3)`."
   ]
  },
  {
   "cell_type": "code",
   "execution_count": 1,
   "id": "6085aedf-8c3c-4555-bf39-0de8e58fc957",
   "metadata": {},
   "outputs": [
    {
     "name": "stdout",
     "output_type": "stream",
     "text": [
      "my_range:  [0, 3, 6, 9, 12, 15, 18, 21, 24]\n",
      "seventh:  18\n"
     ]
    }
   ],
   "source": [
    "my_range = range(0, 25, 3)\n",
    "seventh = my_range[6]\n",
    "\n",
    "print(\"my_range: \", list(my_range))\n",
    "print(\"seventh: \", seventh)"
   ]
  },
  {
   "cell_type": "markdown",
   "id": "4d255295-e0bc-4b80-a413-061de1162b78",
   "metadata": {},
   "source": [
    "##### 2. Use slicing to write Python code to print a 6-character substring of `'Launch School'` that begins with the first c."
   ]
  },
  {
   "cell_type": "code",
   "execution_count": 2,
   "id": "bd1cd3c4-3031-451b-ab8e-ef706e20d2f6",
   "metadata": {},
   "outputs": [
    {
     "name": "stdout",
     "output_type": "stream",
     "text": [
      "ch Sch\n"
     ]
    }
   ],
   "source": [
    "my_text = 'Launch School'\n",
    "my_substring = my_text[4:10]\n",
    "\n",
    "print(my_substring)"
   ]
  },
  {
   "cell_type": "markdown",
   "id": "bb63205e-543e-40be-965c-1087532b3420",
   "metadata": {},
   "source": [
    "##### 3. Write Python code to create a new tuple from `(1, 2, 3, 4, 5)`. The new tuple should be in reverse order from the original. It should also exclude the first and last members of the original. The result should be the tuple `(4, 3, 2)`."
   ]
  },
  {
   "cell_type": "code",
   "execution_count": 3,
   "id": "d5a421c6-9b99-4bda-8e40-73106a043544",
   "metadata": {},
   "outputs": [
    {
     "name": "stdout",
     "output_type": "stream",
     "text": [
      "(4, 3, 2)\n"
     ]
    }
   ],
   "source": [
    "original = tuple(range(1, 6))\n",
    "new = list(original)\n",
    "new.reverse()\n",
    "\n",
    "final = new[1:-1]\n",
    "print(tuple(final))"
   ]
  },
  {
   "cell_type": "code",
   "execution_count": 4,
   "id": "05a6c704-a13a-421a-95f1-3652bd2da2ab",
   "metadata": {},
   "outputs": [
    {
     "name": "stdout",
     "output_type": "stream",
     "text": [
      "(4, 3, 2)\n"
     ]
    }
   ],
   "source": [
    "# Alternate solution!\n",
    "original = tuple(range(1, 6))\n",
    "new = original[-2:-5:-1]\n",
    "print(new)"
   ]
  },
  {
   "cell_type": "markdown",
   "id": "a27c32e4-9b33-4f66-937a-6323c761d077",
   "metadata": {},
   "source": [
    "4. This is a 3-part question. Consider the following dictionary:\n",
    "\n",
    "`pets = {`<br>\n",
    "`    'Cat':  'Meow',`<br>\n",
    "`    'Dog':  'Bark',`<br>\n",
    "`    'Bird': 'Tweet',`<br>\n",
    "`}`\n",
    "\n",
    "\n",
    "* **Part 1:** Write some code to print `Bark` by accessing the element associated with the key `Dog`.\n",
    "* **Part 2:** Write some code to print `None` when you try to print the value associated with the non-existent key, `Lizard`.\n",
    "* **Part 3:** Write some code to print `<silence>` when you try to print the value associated with the non-existent key, `Lizard`.\n"
   ]
  },
  {
   "cell_type": "code",
   "execution_count": 5,
   "id": "8dbd64c6-52ec-4d22-8743-dbbd9e159241",
   "metadata": {},
   "outputs": [
    {
     "name": "stdout",
     "output_type": "stream",
     "text": [
      "Bark\n"
     ]
    }
   ],
   "source": [
    "pets = {\n",
    "    'Cat':  'Meow',\n",
    "    'Dog':  'Bark',\n",
    "    'Bird': 'Tweet',\n",
    "}\n",
    "\n",
    "print(pets['Dog'])"
   ]
  },
  {
   "cell_type": "code",
   "execution_count": 6,
   "id": "2f558860-205d-4cf0-b7c6-5fab2eec749d",
   "metadata": {},
   "outputs": [
    {
     "name": "stdout",
     "output_type": "stream",
     "text": [
      "None\n"
     ]
    }
   ],
   "source": [
    "print(pets.get('Lizard', None))\n",
    "# Or... print(pets.get('Lizard'))\n",
    "#   ... because the default is None."
   ]
  },
  {
   "cell_type": "code",
   "execution_count": 7,
   "id": "5afbfcec-7cd0-4929-b731-42edbaacf0bc",
   "metadata": {},
   "outputs": [
    {
     "name": "stdout",
     "output_type": "stream",
     "text": [
      "<silence>\n"
     ]
    }
   ],
   "source": [
    "print(pets.get('Lizard', '<silence>'))"
   ]
  },
  {
   "cell_type": "markdown",
   "id": "9c5881ca-84af-41ab-ac9d-2dffd8c30d64",
   "metadata": {},
   "source": [
    "##### 5. Which of the following values can't be used as a key in a dict object, and why?\n",
    "\n",
    "`'cat'`<br>\n",
    "`(3, 1, 4, 1, 5, 9, 2)`<br>\n",
    "`['a', 'b']`<br>\n",
    "`{'a': 1, 'b': 2}`<br>\n",
    "`range(5)`<br>\n",
    "`{1, 4, 9, 16, 25}`<br>\n",
    "`3`<br>\n",
    "`0.0`<br>\n",
    "`frozenset({1, 4, 9, 16, 25})`"
   ]
  },
  {
   "cell_type": "markdown",
   "id": "3a9778b9-02b1-4d3c-bdaf-b3657e27acef",
   "metadata": {},
   "source": [
    "The keys of a dict object must be immutable. Therefore, the list ['a', 'b'], the dictionary `{'a': 1, 'b': 2}`, and the set `{1, 4, 9, 16, 25}` all cannot be keys because lists, dictionaries, and sets are all mutable. "
   ]
  },
  {
   "cell_type": "markdown",
   "id": "15240eea-2434-4a53-ad24-9bb509f8511d",
   "metadata": {},
   "source": [
    "##### 6. What will the following code print?"
   ]
  },
  {
   "cell_type": "code",
   "execution_count": 8,
   "id": "6218f4a2-8bce-49cf-bf8d-443096a8aed7",
   "metadata": {},
   "outputs": [
    {
     "name": "stdout",
     "output_type": "stream",
     "text": [
      "False\n",
      "False\n",
      "False\n",
      "False\n",
      "False\n",
      "True\n",
      "True\n",
      "False\n",
      "False\n",
      "False\n",
      "False\n"
     ]
    }
   ],
   "source": [
    "print('abc-def'.isalpha())       # False\n",
    "print('abc_def'.isalpha())       # False\n",
    "print('abc def'.isalpha())       # False\n",
    "print('abc def'.isalpha() and    \n",
    "      'abc def'.isspace())\n",
    "print('abc def'.isalpha() or\n",
    "      'abc def'.isspace())\n",
    "print('abcdef'.isalpha())\n",
    "print('31415'.isdigit())\n",
    "print('-31415'.isdigit())\n",
    "print('31_415'.isdigit())\n",
    "print('3.1415'.isdigit())\n",
    "print(''.isspace())"
   ]
  },
  {
   "cell_type": "markdown",
   "id": "11682538-da9c-4274-900d-2308c7567007",
   "metadata": {},
   "source": [
    "##### 7. Write Python code to replace all the `:` characters in the string below with `+`."
   ]
  },
  {
   "cell_type": "code",
   "execution_count": 9,
   "id": "3806c59f-794a-42fe-bd79-26923c714434",
   "metadata": {},
   "outputs": [
    {
     "name": "stdout",
     "output_type": "stream",
     "text": [
      "xyz+*+42+42+Lee Kim+/home/xyz+/bin/zsh\n"
     ]
    }
   ],
   "source": [
    "info = 'xyz:*:42:42:Lee Kim:/home/xyz:/bin/zsh'\n",
    "split = info.split(':')\n",
    "joined = '+'.join(split)\n",
    "print(joined)"
   ]
  },
  {
   "cell_type": "code",
   "execution_count": 10,
   "id": "fcd52653-70c7-4ee0-ace9-f5394bc8428d",
   "metadata": {},
   "outputs": [
    {
     "name": "stdout",
     "output_type": "stream",
     "text": [
      "xyz+*+42+42+Lee Kim+/home/xyz+/bin/zsh\n"
     ]
    }
   ],
   "source": [
    "info = 'xyz:*:42:42:Lee Kim:/home/xyz:/bin/zsh'\n",
    "replaced = info.replace(':', '+')\n",
    "print(replaced)"
   ]
  },
  {
   "cell_type": "markdown",
   "id": "45020f88-9760-4fc7-8e74-5272021b4544",
   "metadata": {},
   "source": [
    "##### 8. Explain why the code below prints different values on lines 3 and 4."
   ]
  },
  {
   "cell_type": "code",
   "execution_count": 11,
   "id": "eb81e6f1-3a3e-4020-bdf8-c5f05b3e1074",
   "metadata": {},
   "outputs": [
    {
     "name": "stdout",
     "output_type": "stream",
     "text": [
      "8\n",
      "for the fjords\n",
      "29\n"
     ]
    }
   ],
   "source": [
    "text = \"It's probably pining for the fjords!\"\n",
    "\n",
    "print(text[21:35].rfind('f'))     # 8\n",
    "print(text[21:35])\n",
    "print(text.rfind('f', 21, 35))    # 29"
   ]
  },
  {
   "cell_type": "markdown",
   "id": "ee9410b9-fe51-496f-a181-45b639706778",
   "metadata": {},
   "source": [
    "First `text` is spliced before the `rfind()` method is invoked, so `rfind()` locates the rightmost `'f'` at the 8th index from the spliced starting point. Next `rfind()` begins its search in the given range, but does not change the original indexing of `text`, thus locating the rightmost `'f'` at the original 29th index."
   ]
  },
  {
   "cell_type": "markdown",
   "id": "219960b2-869d-4392-aed8-46cb9ca2a7bc",
   "metadata": {},
   "source": [
    "##### 9. Write some code to replace the value 6 in the following nested list with 606:"
   ]
  },
  {
   "cell_type": "code",
   "execution_count": 12,
   "id": "cdd1d331-38b7-45ec-8411-27a35b182e45",
   "metadata": {},
   "outputs": [
    {
     "name": "stdout",
     "output_type": "stream",
     "text": [
      "[['hello', 'world'], ['example', 'mem', None, 606, 88], [4, 8, 12]]\n"
     ]
    }
   ],
   "source": [
    "stuff = [\n",
    "    ['hello', 'world'],\n",
    "    ['example', 'mem', None, 6, 88],\n",
    "    [4, 8, 12],\n",
    "]\n",
    "\n",
    "stuff[1][3] = 606\n",
    "print(stuff)"
   ]
  },
  {
   "cell_type": "markdown",
   "id": "1d2e905d-24b1-4e3c-82a5-e0bfd077b55f",
   "metadata": {},
   "source": [
    "##### 10. Consider the following nested collection. Write one line of code to print the activities that Cocoa enjoys."
   ]
  },
  {
   "cell_type": "code",
   "execution_count": 13,
   "id": "f748b4d8-4ab1-41e7-8958-1e3c57e0dc1e",
   "metadata": {},
   "outputs": [
    {
     "name": "stdout",
     "output_type": "stream",
     "text": [
      "{'chewing', 'eating', 'playing', 'sleeping'}\n"
     ]
    }
   ],
   "source": [
    "cats = {\n",
    "    'Pete': {\n",
    "        'Cheddar': {\n",
    "            'color': 'orange',\n",
    "            'enjoys': {\n",
    "                'sleeping',\n",
    "                'snuggling',\n",
    "                'meowing',\n",
    "                'eating',\n",
    "                'birdwatching',\n",
    "            },\n",
    "        },\n",
    "        'Cocoa': {\n",
    "            'color': 'black',\n",
    "            'enjoys': {\n",
    "                'eating',\n",
    "                'sleeping',\n",
    "                'playing',\n",
    "                'chewing',\n",
    "            },\n",
    "        },\n",
    "    },\n",
    "}\n",
    "\n",
    "print(cats['Pete']['Cocoa']['enjoys'])"
   ]
  },
  {
   "cell_type": "markdown",
   "id": "7557a504-8f1b-43bb-8b64-6d8bc462bac2",
   "metadata": {},
   "source": [
    "##### 11. Without running the following code, determine what each line should print."
   ]
  },
  {
   "cell_type": "code",
   "execution_count": 14,
   "id": "99ad6508-b840-48e1-95f6-ec31cc776810",
   "metadata": {},
   "outputs": [
    {
     "name": "stdout",
     "output_type": "stream",
     "text": [
      "False\n",
      "True\n",
      "True\n",
      "False\n",
      "True\n",
      "False\n",
      "False\n",
      "True\n",
      "False\n",
      "True\n"
     ]
    }
   ],
   "source": [
    "print('johnson' in 'Joe Johnson')        # False\n",
    "print('sen' not in 'Joe Johnson')        # True\n",
    "print('Joe J' in 'Joe Johnson')          # True\n",
    "print(5 in range(5))                     # False\n",
    "print(5 in range(6))                     # True\n",
    "print(5 not in range(5, 10))             # False\n",
    "print(0 in range(10, 0, -1))             # False\n",
    "print(4 in {6, 5, 4, 3, 2, 1})           # True\n",
    "print({1, 2, 3} in {1, 2, 3})            # False -- only checks if specific values in sets\n",
    "print({3, 2} in {1, frozenset({2, 3})})  # True"
   ]
  },
  {
   "cell_type": "markdown",
   "id": "3556a461-41b1-4d6b-bd1e-b294172fe52e",
   "metadata": {},
   "source": [
    "##### 12. Write some code that determines and prints whether the number `3` appears inside each of these lists:"
   ]
  },
  {
   "cell_type": "code",
   "execution_count": 15,
   "id": "1a241553-57e3-452c-9a02-c215e871f76d",
   "metadata": {},
   "outputs": [
    {
     "name": "stdout",
     "output_type": "stream",
     "text": [
      "True\n",
      "False\n",
      "False\n",
      "False\n",
      "True\n"
     ]
    }
   ],
   "source": [
    "numbers1 = [1, 3, 5, 7, 9, 11]\n",
    "numbers2 = []\n",
    "numbers3 = [2, 4, 6, 8]\n",
    "numbers4 = ['1', '3', '5']\n",
    "numbers5 = ['1', 3.0, '5']\n",
    "\n",
    "for given_list in [numbers1, numbers2, numbers3, numbers4, numbers5]:\n",
    "    print(3 in given_list)"
   ]
  },
  {
   "cell_type": "markdown",
   "id": "1b7e2307-1c99-41d6-92b5-ccc6da0f2a70",
   "metadata": {},
   "source": [
    "##### 13. Without running the following code, determine what each print statement should print."
   ]
  },
  {
   "cell_type": "code",
   "execution_count": 16,
   "id": "64389508-cfb9-4115-97a9-445d72b40aec",
   "metadata": {},
   "outputs": [
    {
     "name": "stdout",
     "output_type": "stream",
     "text": [
      "True\n",
      "False\n",
      "True\n",
      "False\n"
     ]
    }
   ],
   "source": [
    "cats = ('Cocoa', 'Cheddar',\n",
    "        'Pudding', 'Butterscotch')\n",
    "\n",
    "print('Butterscotch' in cats) # True\n",
    "print('Butter' in cats)       # False\n",
    "print('Butter' in cats[3])    # True\n",
    "print('cheddar' in cats)      # False"
   ]
  },
  {
   "cell_type": "markdown",
   "id": "03e1ff9f-a36f-4219-96e1-ea3e051af493",
   "metadata": {},
   "source": [
    "##### 14. Assume you have the following sequences. Write some code that combines the sequences into a list of tuples. Each tuple should contain one member of each sequence. Print the final result so you can see all the values, which should look like this:\n",
    "\n",
    "`[('a', 'Alpha', None, 10),`<br>\n",
    "` ('b', 'Bravo', True, 20),`<br>\n",
    "` ('c', 'Charlie', False, 30)]`"
   ]
  },
  {
   "cell_type": "code",
   "execution_count": 17,
   "id": "44f551f8-ca71-4785-82c5-f321dd347eee",
   "metadata": {},
   "outputs": [
    {
     "name": "stdout",
     "output_type": "stream",
     "text": [
      "[('a', 'Alpha', None, 10), ('b', 'Bravo', True, 20), ('c', 'Charlie', False, 30)]\n"
     ]
    }
   ],
   "source": [
    "my_str = 'abc'\n",
    "my_list = ['Alpha', 'Bravo', 'Charlie']\n",
    "my_tuple = (None, True, False)\n",
    "my_range = range(10, 60, 10)\n",
    "\n",
    "zipped = zip(my_str, my_list, my_tuple, my_range)\n",
    "print(list(zipped))"
   ]
  },
  {
   "cell_type": "markdown",
   "id": "aad4313f-543a-44c9-a9af-2db40d1da427",
   "metadata": {},
   "source": [
    "##### 15. Without running the following code, what values will be printed by line 10?"
   ]
  },
  {
   "cell_type": "code",
   "execution_count": 19,
   "id": "341dc18e-6fda-4a5a-b72d-eb7844291789",
   "metadata": {},
   "outputs": [
    {
     "name": "stdout",
     "output_type": "stream",
     "text": [
      "dict_keys(['Cat', 'Bird', 'Snake'])\n"
     ]
    }
   ],
   "source": [
    "pets = {\n",
    "    'Cat':  'Meow',\n",
    "    'Dog':  'Bark',\n",
    "    'Bird': 'Tweet',\n",
    "}\n",
    "\n",
    "keys = pets.keys()\n",
    "del pets['Dog']\n",
    "pets['Snake'] = 'Sssss'\n",
    "print(keys)              # {'Cat', 'Bird', 'Snake'}"
   ]
  },
  {
   "cell_type": "code",
   "execution_count": null,
   "id": "43615d41-d9e1-49b3-9a01-cf311e90706d",
   "metadata": {},
   "outputs": [],
   "source": []
  }
 ],
 "metadata": {
  "kernelspec": {
   "display_name": "Python 3 (ipykernel)",
   "language": "python",
   "name": "python3"
  },
  "language_info": {
   "codemirror_mode": {
    "name": "ipython",
    "version": 3
   },
   "file_extension": ".py",
   "mimetype": "text/x-python",
   "name": "python",
   "nbconvert_exporter": "python",
   "pygments_lexer": "ipython3",
   "version": "3.12.5"
  }
 },
 "nbformat": 4,
 "nbformat_minor": 5
}
