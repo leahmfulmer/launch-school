{
 "cells": [
  {
   "cell_type": "markdown",
   "id": "ed9e0d97-d42c-4fec-b8ef-4e24a0445061",
   "metadata": {},
   "source": [
    "# Introduction to Programming with Python\n",
    "### Data Types: Exercises"
   ]
  },
  {
   "cell_type": "markdown",
   "id": "cb91dd1e-5904-4141-969a-7e844c6db03c",
   "metadata": {},
   "source": [
    "##### 1. Identify the data type or class for each of the following values:"
   ]
  },
  {
   "cell_type": "code",
   "execution_count": 4,
   "id": "44accc7d-5e95-4a60-94af-fed879308e88",
   "metadata": {},
   "outputs": [],
   "source": [
    "values = ['True', \n",
    "          False, \n",
    "          (1, 2, 3), \n",
    "          1.5, \n",
    "          [1, 2, 3],\n",
    "          2,\n",
    "          range(5),\n",
    "          {1, 2, 3},\n",
    "          None,\n",
    "          {'foo': 'bar'},\n",
    "         ]\n",
    "\n",
    "types = [str,\n",
    "         bool,\n",
    "         tuple,\n",
    "         float,\n",
    "         list,\n",
    "         int,\n",
    "         range,\n",
    "         set,\n",
    "         'NoneType',\n",
    "         dict\n",
    "        ]"
   ]
  },
  {
   "cell_type": "markdown",
   "id": "681187a9-b3d6-47e7-a49c-e33763d035b5",
   "metadata": {},
   "source": [
    "##### 2. Create a tuple called names that contains several pet names."
   ]
  },
  {
   "cell_type": "code",
   "execution_count": 7,
   "id": "56663856-3850-4bbd-af7b-b0901480a080",
   "metadata": {},
   "outputs": [],
   "source": [
    "pets_tuple = ('Asta',\n",
    "              'Butterscotch',\n",
    "              'Neptune',\n",
    "              'Darwin',\n",
    "            )"
   ]
  },
  {
   "cell_type": "markdown",
   "id": "dd7e41c6-0457-4b88-877b-fbc8c7d1929f",
   "metadata": {},
   "source": [
    "##### 3. Create a dictionary named pets that contains a list of pet names and the type of animal."
   ]
  },
  {
   "cell_type": "code",
   "execution_count": 9,
   "id": "406ac0a4-bb22-468c-a155-5c352439ce1b",
   "metadata": {},
   "outputs": [],
   "source": [
    "pets_dict = {'Asta': 'dog',\n",
    "             'Butterscotch': 'cat',\n",
    "             'Neptune': 'fish',\n",
    "             'Darwin': 'lizard',\n",
    "            }"
   ]
  }
 ],
 "metadata": {
  "kernelspec": {
   "display_name": "Python 3 (ipykernel)",
   "language": "python",
   "name": "python3"
  },
  "language_info": {
   "codemirror_mode": {
    "name": "ipython",
    "version": 3
   },
   "file_extension": ".py",
   "mimetype": "text/x-python",
   "name": "python",
   "nbconvert_exporter": "python",
   "pygments_lexer": "ipython3",
   "version": "3.12.5"
  }
 },
 "nbformat": 4,
 "nbformat_minor": 5
}
