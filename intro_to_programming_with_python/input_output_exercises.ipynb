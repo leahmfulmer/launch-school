{
 "cells": [
  {
   "cell_type": "markdown",
   "id": "e0d2a44b-1904-4e2a-ad2c-d486ad6b7eb7",
   "metadata": {},
   "source": [
    "# Introduction to Programming with Python\n",
    "### Input/Output: Exercises"
   ]
  },
  {
   "cell_type": "markdown",
   "id": "91231386-503c-4acd-8cca-30d616aec701",
   "metadata": {},
   "source": [
    "##### 1. Write a program named `greeter.py`. The program should ask for your name, then output `Hello, NAME!` where `NAME` is the name you entered:\n",
    "\n",
    "`$ python greeter.py`<br>\n",
    "`What is your name? Sue`<br>\n",
    "`Hello, Sue!`"
   ]
  },
  {
   "cell_type": "markdown",
   "id": "b10182e9-240d-4a20-8da5-d35ba908176c",
   "metadata": {},
   "source": [
    "Find `greeter.py` in the directory `programs`."
   ]
  },
  {
   "cell_type": "markdown",
   "id": "df8a673d-66f7-499f-970c-f158d4865f91",
   "metadata": {},
   "source": [
    "##### 2. Modify the greeter.py program to ask for the user's first and last names separately, then greet the user with their full name."
   ]
  },
  {
   "cell_type": "markdown",
   "id": "59f4cfff-4f3f-445d-9b4a-655d0271f149",
   "metadata": {},
   "source": [
    "Find `greeter.py` in the directory `programs`."
   ]
  },
  {
   "cell_type": "markdown",
   "id": "60b772ad-78ef-46d0-9052-44b997c9bd1a",
   "metadata": {},
   "source": [
    "##### 3. Write a program named `age.py` that asks the user to enter their age, then calculates and reports the future age 10, 20, 30, and 40 years from now."
   ]
  },
  {
   "cell_type": "markdown",
   "id": "f1a20306-7e73-477f-9192-d463f83990a3",
   "metadata": {},
   "source": [
    "Find `age.py` in the directory `programs`."
   ]
  },
  {
   "cell_type": "code",
   "execution_count": null,
   "id": "ba138752-d594-481e-a8e2-938e787aa135",
   "metadata": {},
   "outputs": [],
   "source": []
  }
 ],
 "metadata": {
  "kernelspec": {
   "display_name": "Python 3 (ipykernel)",
   "language": "python",
   "name": "python3"
  },
  "language_info": {
   "codemirror_mode": {
    "name": "ipython",
    "version": 3
   },
   "file_extension": ".py",
   "mimetype": "text/x-python",
   "name": "python",
   "nbconvert_exporter": "python",
   "pygments_lexer": "ipython3",
   "version": "3.12.5"
  }
 },
 "nbformat": 4,
 "nbformat_minor": 5
}
