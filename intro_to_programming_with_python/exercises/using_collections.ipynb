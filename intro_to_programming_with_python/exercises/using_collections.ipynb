{
 "cells": [
  {
   "cell_type": "markdown",
   "id": "6d6c9669-034c-41ac-8406-fa27f82e94ec",
   "metadata": {},
   "source": [
    "# Introduction to Programming with Python\n",
    "### Using Collections: Exercises"
   ]
  },
  {
   "cell_type": "markdown",
   "id": "11ad09b5-eb76-4053-94ad-c41c37bafb4f",
   "metadata": {},
   "source": [
    "##### 1. Write Python code to print the seventh number of `range(0, 25, 3)`."
   ]
  },
  {
   "cell_type": "code",
   "execution_count": 25,
   "id": "6085aedf-8c3c-4555-bf39-0de8e58fc957",
   "metadata": {},
   "outputs": [
    {
     "name": "stdout",
     "output_type": "stream",
     "text": [
      "my_range:  [0, 3, 6, 9, 12, 15, 18, 21, 24]\n",
      "seventh:  18\n"
     ]
    }
   ],
   "source": [
    "my_range = range(0, 25, 3)\n",
    "seventh = my_range[6]\n",
    "\n",
    "print(\"my_range: \", list(my_range))\n",
    "print(\"seventh: \", seventh)"
   ]
  },
  {
   "cell_type": "markdown",
   "id": "4d255295-e0bc-4b80-a413-061de1162b78",
   "metadata": {},
   "source": [
    "##### 2. Use slicing to write Python code to print a 6-character substring of `'Launch School'` that begins with the first c."
   ]
  },
  {
   "cell_type": "code",
   "execution_count": 26,
   "id": "bd1cd3c4-3031-451b-ab8e-ef706e20d2f6",
   "metadata": {},
   "outputs": [
    {
     "name": "stdout",
     "output_type": "stream",
     "text": [
      "ch Sch\n"
     ]
    }
   ],
   "source": [
    "my_text = 'Launch School'\n",
    "my_substring = my_text[4:10]\n",
    "\n",
    "print(my_substring)"
   ]
  },
  {
   "cell_type": "markdown",
   "id": "bb63205e-543e-40be-965c-1087532b3420",
   "metadata": {},
   "source": [
    "##### 3. Write Python code to create a new tuple from `(1, 2, 3, 4, 5)`. The new tuple should be in reverse order from the original. It should also exclude the first and last members of the original. The result should be the tuple `(4, 3, 2)`."
   ]
  },
  {
   "cell_type": "code",
   "execution_count": 27,
   "id": "d5a421c6-9b99-4bda-8e40-73106a043544",
   "metadata": {},
   "outputs": [
    {
     "name": "stdout",
     "output_type": "stream",
     "text": [
      "(4, 3, 2)\n"
     ]
    }
   ],
   "source": [
    "original = tuple(range(1, 6))\n",
    "new = list(original)\n",
    "new.reverse()\n",
    "\n",
    "final = new[1:-1]\n",
    "print(tuple(final))"
   ]
  },
  {
   "cell_type": "code",
   "execution_count": 33,
   "id": "05a6c704-a13a-421a-95f1-3652bd2da2ab",
   "metadata": {},
   "outputs": [
    {
     "name": "stdout",
     "output_type": "stream",
     "text": [
      "(4, 3, 2)\n"
     ]
    }
   ],
   "source": [
    "# Alternate solution!\n",
    "original = tuple(range(1, 6))\n",
    "new = original[-2:-5:-1]\n",
    "print(new)"
   ]
  },
  {
   "cell_type": "markdown",
   "id": "a27c32e4-9b33-4f66-937a-6323c761d077",
   "metadata": {},
   "source": [
    "4. This is a 3-part question. Consider the following dictionary:\n",
    "\n",
    "`pets = {`<br>\n",
    "`    'Cat':  'Meow',`<br>\n",
    "`    'Dog':  'Bark',`<br>\n",
    "`    'Bird': 'Tweet',`<br>\n",
    "`}`\n",
    "\n",
    "\n",
    "* **Part 1:** Write some code to print `Bark` by accessing the element associated with the key `Dog`.\n",
    "* **Part 2:** Write some code to print `None` when you try to print the value associated with the non-existent key, `Lizard`.\n",
    "* **Part 3:** Write some code to print `<silence>` when you try to print the value associated with the non-existent key, `Lizard`.\n"
   ]
  },
  {
   "cell_type": "code",
   "execution_count": 36,
   "id": "8dbd64c6-52ec-4d22-8743-dbbd9e159241",
   "metadata": {},
   "outputs": [
    {
     "name": "stdout",
     "output_type": "stream",
     "text": [
      "Bark\n"
     ]
    }
   ],
   "source": [
    "pets = {\n",
    "    'Cat':  'Meow',\n",
    "    'Dog':  'Bark',\n",
    "    'Bird': 'Tweet',\n",
    "}\n",
    "\n",
    "print(pets['Dog'])"
   ]
  },
  {
   "cell_type": "code",
   "execution_count": 44,
   "id": "2f558860-205d-4cf0-b7c6-5fab2eec749d",
   "metadata": {},
   "outputs": [
    {
     "name": "stdout",
     "output_type": "stream",
     "text": [
      "None\n"
     ]
    }
   ],
   "source": [
    "print(pets.get('Lizard', None))\n",
    "# Or... print(pets.get('Lizard'))\n",
    "#   ... because the default is None."
   ]
  },
  {
   "cell_type": "code",
   "execution_count": 42,
   "id": "5afbfcec-7cd0-4929-b731-42edbaacf0bc",
   "metadata": {},
   "outputs": [
    {
     "name": "stdout",
     "output_type": "stream",
     "text": [
      "<silence>\n"
     ]
    }
   ],
   "source": [
    "print(pets.get('Lizard', '<silence>'))"
   ]
  },
  {
   "cell_type": "markdown",
   "id": "9c5881ca-84af-41ab-ac9d-2dffd8c30d64",
   "metadata": {},
   "source": [
    "##### 5. Which of the following values can't be used as a key in a dict object, and why?\n",
    "\n",
    "`'cat'`<br>\n",
    "`(3, 1, 4, 1, 5, 9, 2)`<br>\n",
    "`['a', 'b']`<br>\n",
    "`{'a': 1, 'b': 2}`<br>\n",
    "`range(5)`<br>\n",
    "`{1, 4, 9, 16, 25}`<br>\n",
    "`3`<br>\n",
    "`0.0`<br>\n",
    "`frozenset({1, 4, 9, 16, 25})`"
   ]
  },
  {
   "cell_type": "markdown",
   "id": "3a9778b9-02b1-4d3c-bdaf-b3657e27acef",
   "metadata": {},
   "source": [
    "The keys of a dict object must be immutable. Therefore, the list ['a', 'b'], the dictionary `{'a': 1, 'b': 2}`, and the set `{1, 4, 9, 16, 25}` all cannot be keys because lists, dictionaries, and sets are all mutable. "
   ]
  },
  {
   "cell_type": "markdown",
   "id": "15240eea-2434-4a53-ad24-9bb509f8511d",
   "metadata": {},
   "source": [
    "##### 6. What will the following code print?"
   ]
  },
  {
   "cell_type": "code",
   "execution_count": 48,
   "id": "6218f4a2-8bce-49cf-bf8d-443096a8aed7",
   "metadata": {},
   "outputs": [
    {
     "name": "stdout",
     "output_type": "stream",
     "text": [
      "False\n",
      "False\n",
      "False\n",
      "False\n",
      "False\n",
      "True\n",
      "True\n",
      "False\n",
      "False\n",
      "False\n",
      "False\n"
     ]
    }
   ],
   "source": [
    "print('abc-def'.isalpha())       # False\n",
    "print('abc_def'.isalpha())       # False\n",
    "print('abc def'.isalpha())       # False\n",
    "print('abc def'.isalpha() and    \n",
    "      'abc def'.isspace())\n",
    "print('abc def'.isalpha() or\n",
    "      'abc def'.isspace())\n",
    "print('abcdef'.isalpha())\n",
    "print('31415'.isdigit())\n",
    "print('-31415'.isdigit())\n",
    "print('31_415'.isdigit())\n",
    "print('3.1415'.isdigit())\n",
    "print(''.isspace())"
   ]
  },
  {
   "cell_type": "markdown",
   "id": "11682538-da9c-4274-900d-2308c7567007",
   "metadata": {},
   "source": [
    "##### 7. Write Python code to replace all the `:` characters in the string below with `+`."
   ]
  },
  {
   "cell_type": "code",
   "execution_count": 53,
   "id": "3806c59f-794a-42fe-bd79-26923c714434",
   "metadata": {},
   "outputs": [
    {
     "name": "stdout",
     "output_type": "stream",
     "text": [
      "xyz+*+42+42+Lee Kim+/home/xyz+/bin/zsh\n"
     ]
    }
   ],
   "source": [
    "info = 'xyz:*:42:42:Lee Kim:/home/xyz:/bin/zsh'\n",
    "split = info.split(':')\n",
    "joined = '+'.join(split)\n",
    "print(joined)"
   ]
  },
  {
   "cell_type": "code",
   "execution_count": null,
   "id": "fcd52653-70c7-4ee0-ace9-f5394bc8428d",
   "metadata": {},
   "outputs": [],
   "source": [
    "info = 'xyz:*:42:42:Lee Kim:/home/xyz:/bin/zsh'\n",
    "replaced = info.replace(':', '+')\n",
    "print(replaced)"
   ]
  }
 ],
 "metadata": {
  "kernelspec": {
   "display_name": "Python 3 (ipykernel)",
   "language": "python",
   "name": "python3"
  },
  "language_info": {
   "codemirror_mode": {
    "name": "ipython",
    "version": 3
   },
   "file_extension": ".py",
   "mimetype": "text/x-python",
   "name": "python",
   "nbconvert_exporter": "python",
   "pygments_lexer": "ipython3",
   "version": "3.12.5"
  }
 },
 "nbformat": 4,
 "nbformat_minor": 5
}
