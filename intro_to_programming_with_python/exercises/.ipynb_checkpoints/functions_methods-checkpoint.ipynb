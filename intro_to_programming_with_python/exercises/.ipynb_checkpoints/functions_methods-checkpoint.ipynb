{
 "cells": [
  {
   "cell_type": "markdown",
   "id": "f6b0052b-6a54-4a39-996c-2c779cd11ddb",
   "metadata": {},
   "source": [
    "# Introduction to Programming with Python\n",
    "### Functions and Methods: Exercises"
   ]
  },
  {
   "cell_type": "markdown",
   "id": "dd818696-d3b4-43c4-9e8a-538661e67ffa",
   "metadata": {},
   "source": [
    "##### 1. What happens when you run the following program? Why do we get that result?\n",
    "\n",
    "`def set_foo():`<br>\n",
    "`    foo = 'bar'`<br>\n",
    "<br>\n",
    "`set_foo()`<br>\n",
    "`print(foo)`"
   ]
  },
  {
   "cell_type": "markdown",
   "id": "1aee8470-f4f6-4507-bb70-6a49e7f34449",
   "metadata": {},
   "source": [
    "When the code runs we get an error because the identifier `foo` is not defined within the scope of `set_foo`."
   ]
  },
  {
   "cell_type": "code",
   "execution_count": 2,
   "id": "5fbf54e0-7b8b-49dc-a5f9-893d4107f1b2",
   "metadata": {},
   "outputs": [
    {
     "ename": "NameError",
     "evalue": "name 'foo' is not defined",
     "output_type": "error",
     "traceback": [
      "\u001b[0;31m---------------------------------------------------------------------------\u001b[0m",
      "\u001b[0;31mNameError\u001b[0m                                 Traceback (most recent call last)",
      "Cell \u001b[0;32mIn[2], line 5\u001b[0m\n\u001b[1;32m      2\u001b[0m     foo \u001b[38;5;241m=\u001b[39m \u001b[38;5;124m'\u001b[39m\u001b[38;5;124mbar\u001b[39m\u001b[38;5;124m'\u001b[39m\n\u001b[1;32m      4\u001b[0m set_foo()\n\u001b[0;32m----> 5\u001b[0m \u001b[38;5;28mprint\u001b[39m(\u001b[43mfoo\u001b[49m)\n",
      "\u001b[0;31mNameError\u001b[0m: name 'foo' is not defined"
     ]
    }
   ],
   "source": [
    "def set_foo():\n",
    "    foo = 'bar'\n",
    "\n",
    "set_foo()\n",
    "print(foo)"
   ]
  },
  {
   "cell_type": "markdown",
   "id": "13702fa5-5ac9-4a5f-bd00-00c4acfeedb4",
   "metadata": {},
   "source": [
    "##### 2. Take a look at this code snippet:\n",
    "\n",
    "`foo = 'bar'`<br>\n",
    "\n",
    "`def set_foo():`<br>\n",
    "`    foo = 'qux'`<br>\n",
    "\n",
    "`set_foo()`<br>\n",
    "`print(foo)`\n",
    "\n",
    "##### What does this program print? Why?"
   ]
  },
  {
   "cell_type": "markdown",
   "id": "1472e127-d7c3-44bf-8b51-6546ab507bc1",
   "metadata": {},
   "source": [
    "This program prints `bar`. Since `foo` is defined in the global scope, it will be recognized by `set_foo` and changed to `qux` within the function. However, this `foo` within the function is only a shadow of the global `foo`. Therefore, `foo` goes back to `bar` when printed outside the function."
   ]
  },
  {
   "cell_type": "code",
   "execution_count": 11,
   "id": "1a267611-eb93-4722-b20c-729fdf3bb241",
   "metadata": {},
   "outputs": [
    {
     "name": "stdout",
     "output_type": "stream",
     "text": [
      "Within the function foo = qux\n",
      "Outside the function foo = bar\n"
     ]
    }
   ],
   "source": [
    "foo = 'bar'\n",
    "\n",
    "def set_foo():\n",
    "    foo = 'qux'\n",
    "    print(\"Within the function foo = \"+foo)\n",
    "\n",
    "set_foo()\n",
    "print(\"Outside the function foo = \"+foo)"
   ]
  },
  {
   "cell_type": "markdown",
   "id": "a669abca-5b71-4c0f-8191-9fbe7f4180d2",
   "metadata": {},
   "source": [
    "##### 3. Write a program that uses a `multiply` function to multiply two numbers and returns the result. Ask the user to enter the two numbers, then output the numbers and result as a simple equation.\n",
    "\n",
    "`$ python multiply.py`<br>\n",
    "`Enter the first number: 3.1416`<br>\n",
    "`Enter the second number: 2.7183`<br>\n",
    "`3.1416 * 2.7183 = 8.53981128`"
   ]
  },
  {
   "cell_type": "code",
   "execution_count": 19,
   "id": "6f44b777-7e34-43b0-8517-69e85ee9a666",
   "metadata": {},
   "outputs": [
    {
     "name": "stdin",
     "output_type": "stream",
     "text": [
      "Enter the first number:  3.1416\n",
      "Enter the second number:  2.7183\n"
     ]
    },
    {
     "name": "stdout",
     "output_type": "stream",
     "text": [
      "3.1416 * 2.7183 = 8.53981128\n"
     ]
    }
   ],
   "source": [
    "def multiply(num1, num2):\n",
    "    return num1 * num2\n",
    "\n",
    "num1 = float((input(\"Enter the first number: \")))\n",
    "num2 = float((input(\"Enter the second number: \")))\n",
    "\n",
    "product = multiply(num1, num2)\n",
    "\n",
    "print(f\"{num1} * {num2} = {product}\")"
   ]
  },
  {
   "cell_type": "markdown",
   "id": "89a1be4c-4d14-4086-9783-4b43339921e6",
   "metadata": {},
   "source": [
    "##### 4. Consider this code:\n",
    "\n",
    "`def multiply_numbers(num1, num2, num3):`<br>\n",
    "`    result = num1 * num2 * num3`<br>\n",
    "`    return result`<br>\n",
    "\n",
    "`product = multiply_numbers(2, 3, 4)`\n",
    "\n",
    "##### Identify the following items in that code:"
   ]
  },
  {
   "cell_type": "code",
   "execution_count": 21,
   "id": "fe646ef7-fa50-4dfc-8bc4-ebb7cad18c0c",
   "metadata": {},
   "outputs": [],
   "source": [
    "items = {'function name',\n",
    "         'function arguments',\n",
    "         'function definition',\n",
    "         'function body',\n",
    "         'function parameters',\n",
    "         'function invocation',\n",
    "         'function return value',\n",
    "         'all identifiers',\n",
    "        }\n",
    "\n",
    "answers = {'multiply_numbers',\n",
    "           '2, 3, 4',\n",
    "           'def multiply_numbers(num1, num2, num3): \\\n",
    "               result = num1 * num2 * num3 \\\n",
    "               return result',\n",
    "           'result = num1 * num2 * num3 \\\n",
    "               return reselt',\n",
    "           'num1, num2, num3',\n",
    "           'multiply_numbers(2, 3, 4)',\n",
    "           '24',\n",
    "           'multiply_numbers, num1, num2, num3, result, product'\n",
    "          }"
   ]
  },
  {
   "cell_type": "markdown",
   "id": "9fb211c6-d572-4d44-ac59-a5d7fc2c6bc9",
   "metadata": {},
   "source": [
    "##### 5. What does the following code print?\n",
    "\n",
    "`def scream(words):`<br>\n",
    "`    return words + '!!!!'`<br>\n",
    "\n",
    "`scream('Yipeee')`<br>"
   ]
  },
  {
   "cell_type": "markdown",
   "id": "2cd35d21-98cd-4800-9d32-9c5f7197bc5b",
   "metadata": {},
   "source": [
    "The code doesn't print anything. The function invocation was never assigned to an identifier and was not instructed to print anything. However, the function returns `Yipeee!!!!`, which will show below the cell."
   ]
  },
  {
   "cell_type": "code",
   "execution_count": 24,
   "id": "544cc9aa-c40e-44f2-a42e-f911c5f8575a",
   "metadata": {},
   "outputs": [
    {
     "data": {
      "text/plain": [
       "'Yipeee!!!!'"
      ]
     },
     "execution_count": 24,
     "metadata": {},
     "output_type": "execute_result"
    }
   ],
   "source": [
    "def scream(words):\n",
    "    return words + '!!!!'\n",
    "\n",
    "scream('Yipeee')"
   ]
  },
  {
   "cell_type": "markdown",
   "id": "bcd4b4e2-57ff-42dd-ba12-865baa54a457",
   "metadata": {},
   "source": [
    "#####. 6. What does the following code print?\n",
    "\n",
    "`def scream(words):`<br>\n",
    "`    words = words + '!!!!'`<br>\n",
    "`    return`<br>\n",
    "`    print(words)`<br>\n",
    "\n",
    "`scream('Yipeee')`"
   ]
  },
  {
   "cell_type": "markdown",
   "id": "356f6270-bc97-4338-9470-c086351ef770",
   "metadata": {},
   "source": [
    "Again the code does not print anything. `print` is called after the function is instructed to `return` to the outer scope, so the print function is never invoked. Additionally, nothing is returned, so nothing will appear below the cell."
   ]
  },
  {
   "cell_type": "code",
   "execution_count": 25,
   "id": "f6807f04-3c04-4858-bf3c-b341a0a9f2b3",
   "metadata": {},
   "outputs": [],
   "source": [
    "def scream(words):\n",
    "    words = words + '!!!!'\n",
    "    return\n",
    "    print(words)\n",
    "\n",
    "scream('Yipeee')"
   ]
  },
  {
   "cell_type": "markdown",
   "id": "7e511f85-33fe-47ba-8e53-977e4c6146a0",
   "metadata": {},
   "source": [
    "##### 8. Without running the following code, what do you think it will do?\n",
    "\n",
    "`def foo(bar, qux):`<br>\n",
    "`    print(bar)`<br>\n",
    "`    print(qux)`<br>\n",
    "\n",
    "`foo(42, 3.141592, 2.718)`"
   ]
  },
  {
   "cell_type": "markdown",
   "id": "29118593-7a4f-4918-843a-4fee130ed6f7",
   "metadata": {},
   "source": [
    "This code will produce an error because too many arguments are given."
   ]
  },
  {
   "cell_type": "code",
   "execution_count": 26,
   "id": "04088f61-4815-45da-a569-123b6131413c",
   "metadata": {},
   "outputs": [
    {
     "ename": "TypeError",
     "evalue": "foo() takes 2 positional arguments but 3 were given",
     "output_type": "error",
     "traceback": [
      "\u001b[0;31m---------------------------------------------------------------------------\u001b[0m",
      "\u001b[0;31mTypeError\u001b[0m                                 Traceback (most recent call last)",
      "Cell \u001b[0;32mIn[26], line 5\u001b[0m\n\u001b[1;32m      2\u001b[0m     \u001b[38;5;28mprint\u001b[39m(bar)\n\u001b[1;32m      3\u001b[0m     \u001b[38;5;28mprint\u001b[39m(qux)\n\u001b[0;32m----> 5\u001b[0m \u001b[43mfoo\u001b[49m\u001b[43m(\u001b[49m\u001b[38;5;241;43m42\u001b[39;49m\u001b[43m,\u001b[49m\u001b[43m \u001b[49m\u001b[38;5;241;43m3.141592\u001b[39;49m\u001b[43m,\u001b[49m\u001b[43m \u001b[49m\u001b[38;5;241;43m2.718\u001b[39;49m\u001b[43m)\u001b[49m\n",
      "\u001b[0;31mTypeError\u001b[0m: foo() takes 2 positional arguments but 3 were given"
     ]
    }
   ],
   "source": [
    "def foo(bar, qux):\n",
    "    print(bar)\n",
    "    print(qux)\n",
    "\n",
    "foo(42, 3.141592, 2.718)"
   ]
  },
  {
   "cell_type": "markdown",
   "id": "ea3ff7a1-b244-4c1a-8cbf-f5c6ac1e09d4",
   "metadata": {},
   "source": [
    "##### 9. Without running the following code, what do you think it will do?\n",
    "\n",
    "`def foo(first, second=3, third=2):`<br>\n",
    "`    print(first)`<br>\n",
    "`    print(second)`<br>\n",
    "`    print(third)`<br>\n",
    "\n",
    "`foo(42, 3.141592, 2.718)`"
   ]
  },
  {
   "cell_type": "markdown",
   "id": "e8394c10-c17c-468b-9d7a-e622b1f4c00e",
   "metadata": {},
   "source": [
    "The code will print `42`, `3.141592`, and `2.718`."
   ]
  },
  {
   "cell_type": "code",
   "execution_count": 27,
   "id": "9844170b-212a-47b5-a55f-f5e198d3a6da",
   "metadata": {},
   "outputs": [
    {
     "name": "stdout",
     "output_type": "stream",
     "text": [
      "42\n",
      "3.141592\n",
      "2.718\n"
     ]
    }
   ],
   "source": [
    "def foo(first, second=3, third=2):\n",
    "    print(first)\n",
    "    print(second)\n",
    "    print(third)\n",
    "\n",
    "foo(42, 3.141592, 2.718)"
   ]
  },
  {
   "cell_type": "markdown",
   "id": "71ba9e68-8f3e-4677-a990-a45151e4f561",
   "metadata": {},
   "source": [
    "##### 10. Without running the following code, what do you think it will do?\n",
    "\n",
    "`def foo(first, second=3, third=2):`<br>\n",
    "`    print(first)`<br>\n",
    "`    print(second)`<br>\n",
    "`    print(third)`<br>\n",
    "\n",
    "`foo(42, 3.141592)`"
   ]
  },
  {
   "cell_type": "markdown",
   "id": "f914f622-4ae6-4847-97d4-e773a3f2c5bd",
   "metadata": {},
   "source": [
    "The code will print `42`, `3.141592`, and `2`."
   ]
  },
  {
   "cell_type": "code",
   "execution_count": 29,
   "id": "b2463776-d047-41cc-8f31-34d1180f955e",
   "metadata": {},
   "outputs": [
    {
     "name": "stdout",
     "output_type": "stream",
     "text": [
      "42\n",
      "3.141592\n",
      "2\n"
     ]
    }
   ],
   "source": [
    "def foo(first, second=3, third=2):\n",
    "    print(first)\n",
    "    print(second)\n",
    "    print(third)\n",
    "\n",
    "foo(42, 3.141592)"
   ]
  },
  {
   "cell_type": "markdown",
   "id": "34b2b681-c011-4368-ba4c-d69e37af9974",
   "metadata": {},
   "source": [
    "##### 11. Without running the following code, what do you think it will do?\n",
    "\n",
    "`def foo(first, second=3, third=2):`<br>\n",
    "`    print(first)`<br>\n",
    "`    print(second)`<br>\n",
    "`    print(third)`<br>\n",
    "\n",
    "`foo(42)`"
   ]
  },
  {
   "cell_type": "markdown",
   "id": "e5e7b925-78c4-4d78-8a0d-543841994c0e",
   "metadata": {},
   "source": [
    "The code will print `42`, `3`, and `2`."
   ]
  },
  {
   "cell_type": "code",
   "execution_count": 31,
   "id": "b8a7484f-56f1-4c25-b041-2d9dbc4b00ca",
   "metadata": {},
   "outputs": [
    {
     "name": "stdout",
     "output_type": "stream",
     "text": [
      "42\n",
      "3\n",
      "2\n"
     ]
    }
   ],
   "source": [
    "def foo(first, second=3, third=2):\n",
    "    print(first)\n",
    "    print(second)\n",
    "    print(third)\n",
    "\n",
    "foo(42)"
   ]
  },
  {
   "cell_type": "markdown",
   "id": "78c543f8-8116-463f-94d8-bbd8b83b6c1a",
   "metadata": {},
   "source": [
    "##### 12. Without running the following code, what do you think it will do?\n",
    "\n",
    "`def foo(first, second=3, third=2):`<br>\n",
    "`    print(first)`<br>\n",
    "`    print(second)`<br>\n",
    "`    print(third)`<br>\n",
    "\n",
    "`foo()`"
   ]
  },
  {
   "cell_type": "markdown",
   "id": "f1ac8624-4eac-4941-8be4-dbe85b7d6439",
   "metadata": {},
   "source": [
    "The code will throw an error because at least one explicit argument is required."
   ]
  },
  {
   "cell_type": "code",
   "execution_count": 33,
   "id": "cd6ab15f-9601-4835-bc9b-1106db0bbb54",
   "metadata": {},
   "outputs": [
    {
     "ename": "TypeError",
     "evalue": "foo() missing 1 required positional argument: 'first'",
     "output_type": "error",
     "traceback": [
      "\u001b[0;31m---------------------------------------------------------------------------\u001b[0m",
      "\u001b[0;31mTypeError\u001b[0m                                 Traceback (most recent call last)",
      "Cell \u001b[0;32mIn[33], line 6\u001b[0m\n\u001b[1;32m      3\u001b[0m     \u001b[38;5;28mprint\u001b[39m(second)\n\u001b[1;32m      4\u001b[0m     \u001b[38;5;28mprint\u001b[39m(third)\n\u001b[0;32m----> 6\u001b[0m \u001b[43mfoo\u001b[49m\u001b[43m(\u001b[49m\u001b[43m)\u001b[49m\n",
      "\u001b[0;31mTypeError\u001b[0m: foo() missing 1 required positional argument: 'first'"
     ]
    }
   ],
   "source": [
    "def foo(first, second=3, third=2):\n",
    "    print(first)\n",
    "    print(second)\n",
    "    print(third)\n",
    "\n",
    "foo()"
   ]
  },
  {
   "cell_type": "markdown",
   "id": "293d7097-bd86-4432-aad1-b79627f56132",
   "metadata": {},
   "source": [
    "##### 13. Without running the following code, what do you think it will do?\n",
    "\n",
    "`def foo(first, second=3, third):`<br>\n",
    "`    print(first)`<br>\n",
    "`    print(second)`<br>\n",
    "`    print(third)`<br>\n",
    "\n",
    "`foo(42)`"
   ]
  },
  {
   "cell_type": "markdown",
   "id": "880076b1-d63f-49ed-84cb-83522ae1f7dc",
   "metadata": {},
   "source": [
    "The code will throw an error because we've defined a non-default parameter after a default parameter in a function."
   ]
  },
  {
   "cell_type": "code",
   "execution_count": 35,
   "id": "2182773d-da9d-4353-a32c-939e5cfd04c2",
   "metadata": {},
   "outputs": [
    {
     "ename": "SyntaxError",
     "evalue": "parameter without a default follows parameter with a default (2241493982.py, line 1)",
     "output_type": "error",
     "traceback": [
      "\u001b[0;36m  Cell \u001b[0;32mIn[35], line 1\u001b[0;36m\u001b[0m\n\u001b[0;31m    def foo(first, second=3, third):\u001b[0m\n\u001b[0m                             ^\u001b[0m\n\u001b[0;31mSyntaxError\u001b[0m\u001b[0;31m:\u001b[0m parameter without a default follows parameter with a default\n"
     ]
    }
   ],
   "source": [
    "def foo(first, second=3, third):\n",
    "    print(first)\n",
    "    print(second)\n",
    "    print(third)\n",
    "\n",
    "foo(42)"
   ]
  },
  {
   "cell_type": "markdown",
   "id": "0b4a5aae-6e47-402f-8067-69d467370cd9",
   "metadata": {},
   "source": [
    "##### 14. Identify all of the identifiers on each line of the following code.\n",
    "\n",
    "`def multiply(left, right):`<br>\n",
    "`    return left * right`\n",
    "\n",
    "`def get_num(prompt):`<br>\n",
    "`    return float(input(prompt))`\n",
    "\n",
    "`first_number = get_num('Enter the first number: ')`<br>\n",
    "`second_number = get_num('Enter the second number: ')`<br>\n",
    "`product = multiply(first_number, second_number)`<br>\n",
    "`print(f'{first_number} * {second_number} = {product}')`"
   ]
  },
  {
   "cell_type": "code",
   "execution_count": 36,
   "id": "9e2c71cf-4e83-4b90-ae66-30941188a43b",
   "metadata": {},
   "outputs": [],
   "source": [
    "lines = {'Line 1',\n",
    "         'Line 2',\n",
    "         'Line 4',\n",
    "         'Line 5',\n",
    "         'Line 7',\n",
    "         'Line 8',\n",
    "         'Line 9',\n",
    "         'Line 10',\n",
    "        }\n",
    "\n",
    "identifiers = {'multiply, left, right',\n",
    "               'left, right',\n",
    "               'get_num, prompt',\n",
    "               'float, input, prompt',\n",
    "               'first_number, get_num',\n",
    "               'second_number, get_num',\n",
    "               'product, multiply, first_number, second_number',\n",
    "               'print, first_number, second_number, product',\n",
    "              }"
   ]
  },
  {
   "cell_type": "markdown",
   "id": "34174398-179f-4455-8a2e-6866255705c8",
   "metadata": {},
   "source": [
    "*Notice:* Built-in function names are also identifiers! They identify the built-in functions."
   ]
  },
  {
   "cell_type": "markdown",
   "id": "7416edd3-eddb-4a0f-a30a-e55e3f9fd2d6",
   "metadata": {},
   "source": [
    "##### 15. Using the code below, classify the identifiers as global, local, or built-in. For our purposes, you may assume this code is the entire program.\n",
    "\n",
    "`def multiply(left, right):`<br>\n",
    "`    return left * right`\n",
    "\n",
    "`def get_num(prompt):`<br>\n",
    "`    return float(input(prompt))`\n",
    "\n",
    "`first_number = get_num('Enter the first number: ')`<br>\n",
    "`second_number = get_num('Enter the second number: ')`<br>\n",
    "`product = multiply(first_number, second_number)`<br>\n",
    "`print(f'{first_number} * {second_number} = {product}')`"
   ]
  },
  {
   "cell_type": "code",
   "execution_count": 37,
   "id": "6ebfd858-293a-42f8-a55e-50282251b541",
   "metadata": {},
   "outputs": [],
   "source": [
    "identifiers = {'multiply',\n",
    "               'left',\n",
    "               'right',\n",
    "               'get_num',\n",
    "               'prompt',\n",
    "               'float',\n",
    "               'input',\n",
    "               'first_number',\n",
    "               'second_number',\n",
    "               'product',\n",
    "               'print',\n",
    "              }\n",
    "\n",
    "classifications = {'global',\n",
    "                   'local',\n",
    "                   'local',\n",
    "                   'global',\n",
    "                   'local',\n",
    "                   'built-in',\n",
    "                   'built-in',\n",
    "                   'global',\n",
    "                   'global',\n",
    "                   'global',\n",
    "                   'built-in',\n",
    "                  }"
   ]
  },
  {
   "cell_type": "markdown",
   "id": "b99532c3-2f35-4d38-8ed4-923c3905dd3a",
   "metadata": {},
   "source": [
    "##### 16. In the code shown below, identify all of the function names and parameters present in the code. Include the line numbers for each item identified.\n",
    "\n",
    "`def multiply(left, right):`<br>\n",
    "`    return left * right`\n",
    "\n",
    "`def get_num(prompt):`<br>\n",
    "`    return float(input(prompt))`\n",
    "\n",
    "`first_number = get_num('Enter the first number: ')`<br>\n",
    "`second_number = get_num('Enter the second number: ')`<br>\n",
    "`product = multiply(first_number, second_number)`<br>\n",
    "`print(f'{first_number} * {second_number} = {product}')`"
   ]
  },
  {
   "cell_type": "code",
   "execution_count": 38,
   "id": "5964c4cb-ee8e-467d-b09c-fb5c7df533b2",
   "metadata": {},
   "outputs": [],
   "source": [
    "function_names = {'multiply',\n",
    "                  'get_num',\n",
    "                  'input',\n",
    "                  'float',\n",
    "                  'print',\n",
    "                 }\n",
    "\n",
    "function_lines = {'Lines 1, 9',\n",
    "                  'Line 4, 7, 8',\n",
    "                  'Line 5',\n",
    "                  'Line 5',\n",
    "                  'Line 10',\n",
    "                 }\n",
    "\n",
    "function_parameters = {'left', \n",
    "                       'right',\n",
    "                       'prompt',\n",
    "                      }\n",
    "\n",
    "function_parameters_lines = {'Lines 1, 2',\n",
    "                             'Lines 1, 2',\n",
    "                             'Lines 4, 5',\n",
    "                            }"
   ]
  },
  {
   "cell_type": "markdown",
   "id": "31919fa4-da6f-49da-8bae-fcd21ffc5665",
   "metadata": {},
   "source": [
    "##### 17. Which of the identifiers in the following program are function names? Which are method names? Which are built-in functions?\n",
    "\n",
    "`def say(message):`<br>\n",
    "`    print(f'==> {message}')`\n",
    "\n",
    "`string1 = input()`<br>\n",
    "`string2 = input()`\n",
    "\n",
    "`say(max(string1.upper(), string2.lower()))`"
   ]
  },
  {
   "cell_type": "code",
   "execution_count": 39,
   "id": "ce7b0abb-2b64-4408-a43c-5944960e4ee7",
   "metadata": {},
   "outputs": [],
   "source": [
    "function_names = {'say',\n",
    "                 }\n",
    "\n",
    "method_names = {'upper',\n",
    "                'lower',\n",
    "               }\n",
    "\n",
    "built_in_functions = {'print',\n",
    "                      'input',\n",
    "                      'max',\n",
    "                     }"
   ]
  },
  {
   "cell_type": "markdown",
   "id": "b4e05765-d3a1-4332-949d-9efbe70b0903",
   "metadata": {},
   "source": [
    "##### 18. The following function returns a list of the remainders of dividing the numbers in `numbers` by 3:"
   ]
  },
  {
   "cell_type": "code",
   "execution_count": 67,
   "id": "6de467a3-86e1-4f26-83da-0c6a9b581c84",
   "metadata": {},
   "outputs": [],
   "source": [
    "def remainders_3(numbers):\n",
    "    return [number % 3 for number in numbers]"
   ]
  },
  {
   "cell_type": "markdown",
   "id": "f899f7dd-593c-45fc-90bd-92e593f61c03",
   "metadata": {},
   "source": [
    "##### Use this function to determine which of the following lists contains at least one number that is **not** evenly divisible by 3 (that is, the remainder is not 0):"
   ]
  },
  {
   "cell_type": "code",
   "execution_count": 68,
   "id": "29d4774d-2682-4fd4-888e-988a7c3cbf2c",
   "metadata": {},
   "outputs": [],
   "source": [
    "numbers_1 = [0, 1, 2, 3, 4, 5, 6]\n",
    "numbers_2 = [1, 2, 4, 5]\n",
    "numbers_3 = [0, 3, 6]\n",
    "numbers_4 = []"
   ]
  },
  {
   "cell_type": "code",
   "execution_count": 71,
   "id": "b07f6fc1-dcab-446c-bf11-99c1436242ef",
   "metadata": {},
   "outputs": [
    {
     "name": "stdout",
     "output_type": "stream",
     "text": [
      "[0, 1, 2, 3, 4, 5, 6] DOES contain numbers that are not divisible by 3.\n",
      "[1, 2, 4, 5] DOES contain numbers that are not divisible by 3.\n",
      "[0, 3, 6] does NOT contain numbers that are not divisible by 3.\n",
      "[] does NOT contain numbers that are not divisible by 3.\n"
     ]
    }
   ],
   "source": [
    "lists = numbers_1, numbers_2, numbers_3, numbers_4\n",
    "for list in lists:\n",
    "    if any(remainders_3(list)):\n",
    "        print(f'{list} DOES contain numbers that are not divisible by 3.')\n",
    "    else:\n",
    "        print(f'{list} does NOT contain numbers that are not divisible by 3.')"
   ]
  },
  {
   "cell_type": "markdown",
   "id": "07b1eb79-0d20-4b06-8257-4d68a40001bf",
   "metadata": {},
   "source": [
    "##### 19. The following function returns a list of the remainders of dividing the numbers in numbers by 5:"
   ]
  },
  {
   "cell_type": "code",
   "execution_count": 72,
   "id": "b1958699-4495-4a3f-bcb2-605cb218cb6b",
   "metadata": {},
   "outputs": [],
   "source": [
    "def remainders_5(numbers):\n",
    "    return [number % 5 for number in numbers]"
   ]
  },
  {
   "cell_type": "markdown",
   "id": "480487e4-8063-4664-93bc-bc24466cccf3",
   "metadata": {},
   "source": [
    "##### Use this function to determine which of the following lists do not contain any numbers that are divisible by 5:"
   ]
  },
  {
   "cell_type": "code",
   "execution_count": 73,
   "id": "e671593e-7f82-4b24-ba55-d2ae6fa9f5ff",
   "metadata": {},
   "outputs": [],
   "source": [
    "numbers_1 = [0, 1, 2, 3, 4, 5, 6, 7, 8, 9, 10]\n",
    "numbers_2 = [1, 2, 3, 4, 6, 7, 8, 9]\n",
    "numbers_3 = [0, 5, 10]\n",
    "numbers_4 = []"
   ]
  },
  {
   "cell_type": "code",
   "execution_count": 80,
   "id": "d3f277a3-ddbc-4771-8457-cba47223ec81",
   "metadata": {},
   "outputs": [
    {
     "name": "stdout",
     "output_type": "stream",
     "text": [
      "[0, 1, 2, 3, 4, 5, 6, 7, 8, 9, 10] DOES contain numbers that are divisible by 5.\n",
      "[1, 2, 3, 4, 6, 7, 8, 9] does NOT contain numbers that are divisible by 5.\n",
      "[0, 5, 10] DOES contain numbers that are divisible by 5.\n",
      "[] does NOT contain numbers that are divisible by 5.\n"
     ]
    }
   ],
   "source": [
    "lists = numbers_1, numbers_2, numbers_3, numbers_4\n",
    "\n",
    "for list in lists:\n",
    "    if all(remainders_5(list)):\n",
    "        print(f'{list} does NOT contain numbers that are divisible by 5.')\n",
    "    else:\n",
    "        print(f'{list} DOES contain numbers that are divisible by 5.')"
   ]
  }
 ],
 "metadata": {
  "kernelspec": {
   "display_name": "Python 3 (ipykernel)",
   "language": "python",
   "name": "python3"
  },
  "language_info": {
   "codemirror_mode": {
    "name": "ipython",
    "version": 3
   },
   "file_extension": ".py",
   "mimetype": "text/x-python",
   "name": "python",
   "nbconvert_exporter": "python",
   "pygments_lexer": "ipython3",
   "version": "3.12.5"
  }
 },
 "nbformat": 4,
 "nbformat_minor": 5
}
