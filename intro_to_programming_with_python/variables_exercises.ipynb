{
 "cells": [
  {
   "cell_type": "markdown",
   "id": "37f6894e-8309-4544-a92f-e8a9e78eb964",
   "metadata": {},
   "source": [
    "# Introduction to Programming with Python\n",
    "### Variables: Exercises"
   ]
  },
  {
   "cell_type": "markdown",
   "id": "faaf63a6-edbf-4b59-8215-2cbc73a07fd7",
   "metadata": {},
   "source": [
    "##### 1. Classify the following potential non-constant **variable** names as idiomatic, non-idiomatic, or illegal. For the non-idiomatic and illegal names, explain your choice."
   ]
  },
  {
   "cell_type": "code",
   "execution_count": 8,
   "id": "e2602cd7-832f-4c63-bfec-d34e790715e0",
   "metadata": {},
   "outputs": [
    {
     "ename": "SyntaxError",
     "evalue": "invalid decimal literal (2697894716.py, line 5)",
     "output_type": "error",
     "traceback": [
      "\u001b[0;36m  Cell \u001b[0;32mIn[8], line 5\u001b[0;36m\u001b[0m\n\u001b[0;31m    1stCharacter,\u001b[0m\n\u001b[0m    ^\u001b[0m\n\u001b[0;31mSyntaxError\u001b[0m\u001b[0;31m:\u001b[0m invalid decimal literal\n"
     ]
    }
   ],
   "source": [
    "name = [index,\n",
    "        CatName,\n",
    "        lazy_dog,\n",
    "        quick_Fox,\n",
    "        1stCharacter,\n",
    "        operand2,\n",
    "        BIG_NUMBER,\n",
    "        π\n",
    "         ]\n",
    "\n",
    "classification = [\"idiomatic\",\n",
    "                  \"non-idiomatic; no upper case\",\n",
    "                  \"idiomatic\",\n",
    "                  \"non-idiomatic; no upper case\",\n",
    "                  \"illegal; don't begin with a digit\",\n",
    "                  \"idiomatic\",\n",
    "                  \"non-idiomatic; no upper case\",\n",
    "                  \"illegal; don't use non-ASCII symbol\",\n",
    "        ]"
   ]
  },
  {
   "cell_type": "markdown",
   "id": "eee6ef33-bd1c-4b24-8840-63d2f50d18ac",
   "metadata": {},
   "source": [
    "##### 2. Classify the following potential **function** names as idiomatic, non-idiomatic, or illegal. For the non-idiomatic and illegal names, explain your choice."
   ]
  },
  {
   "cell_type": "code",
   "execution_count": 9,
   "id": "bb53a644-906a-473c-a860-8ac2591d8d5b",
   "metadata": {},
   "outputs": [
    {
     "ename": "SyntaxError",
     "evalue": "invalid decimal literal (3568383091.py, line 5)",
     "output_type": "error",
     "traceback": [
      "\u001b[0;36m  Cell \u001b[0;32mIn[9], line 5\u001b[0;36m\u001b[0m\n\u001b[0;31m    1stCharacter,\u001b[0m\n\u001b[0m    ^\u001b[0m\n\u001b[0;31mSyntaxError\u001b[0m\u001b[0;31m:\u001b[0m invalid decimal literal\n"
     ]
    }
   ],
   "source": [
    "name = [index,\n",
    "        CatName,\n",
    "        lazy_dog,\n",
    "        quick_Fox,\n",
    "        1stCharacter,\n",
    "        operand2,\n",
    "        BIG_NUMBER,\n",
    "        π\n",
    "         ]\n",
    "\n",
    "classification = [\"idiomatic\",\n",
    "                  \"non-idiomatic; no upper case\",\n",
    "                  \"idiomatic\",\n",
    "                  \"non-idiomatic; no upper case\",\n",
    "                  \"illegal; don't begin with a digit\",\n",
    "                  \"idiomatic\",\n",
    "                  \"non-idiomatic; no upper case\",\n",
    "                  \"illegal; don't use non-ASCII symbol\",\n",
    "        ]"
   ]
  },
  {
   "cell_type": "markdown",
   "id": "7bc8864f-7cab-41f6-a9d1-6ae443f84d0c",
   "metadata": {},
   "source": [
    "##### 3. Classify the following potential **constant** names as idiomatic, non-idiomatic, or illegal. For the non-idiomatic and illegal names, explain your choice."
   ]
  },
  {
   "cell_type": "code",
   "execution_count": 11,
   "id": "03ca9e4b-fe79-4c30-bd6f-c3151c578a2f",
   "metadata": {},
   "outputs": [
    {
     "ename": "SyntaxError",
     "evalue": "invalid decimal literal (917484219.py, line 5)",
     "output_type": "error",
     "traceback": [
      "\u001b[0;36m  Cell \u001b[0;32mIn[11], line 5\u001b[0;36m\u001b[0m\n\u001b[0;31m    1ST,\u001b[0m\n\u001b[0m    ^\u001b[0m\n\u001b[0;31mSyntaxError\u001b[0m\u001b[0;31m:\u001b[0m invalid decimal literal\n"
     ]
    }
   ],
   "source": [
    "name = [index,\n",
    "        CatName,\n",
    "        snake_case,\n",
    "        LAZY_DOG3,\n",
    "        1ST,\n",
    "        operand2,\n",
    "        BIG_NUMBER,\n",
    "        π\n",
    "         ]\n",
    "\n",
    "classification = [\"non-idiomatic; no lower case\",\n",
    "                  \"non-idiomatic; no lower case\",\n",
    "                  \"non-idiomatic; no lower case\",\n",
    "                  \"idiomatic\",\n",
    "                  \"illegal; don't begin with a digit\",\n",
    "                  \"non-idiomatic; no lower case\",\n",
    "                  \"idiomatic\",\n",
    "                  \"illegal; don't use non-ASCII symbol\",\n",
    "        ]"
   ]
  },
  {
   "cell_type": "markdown",
   "id": "9705a850-14df-4f43-a014-9ecba945fb30",
   "metadata": {},
   "source": [
    "##### 4. Classify the following potential **class** names as idiomatic, non-idiomatic, or illegal. For the non-idiomatic and illegal names, explain your choice."
   ]
  },
  {
   "cell_type": "code",
   "execution_count": null,
   "id": "42ee3fc7-767a-41ed-89c9-86fa17b3fcf2",
   "metadata": {},
   "outputs": [],
   "source": [
    "name = [index,\n",
    "        CatName,\n",
    "        Lazy_Dog\n",
    "        1ST,\n",
    "        operand2,\n",
    "        BigNumber3,\n",
    "        πi\n",
    "         ]\n",
    "\n",
    "classification = [\"non-idiomatic; don't begin with lower case\",\n",
    "                  \"idiomatic\",\n",
    "                  \"non-idiomatic; no underscore\",\n",
    "                  \"illegal; don't begin with a digit\",\n",
    "                  \"non-idiomatic; don't begin with lower case\",\n",
    "                  \"idiomatic\",\n",
    "                  \"illegal; don't use non-ASCII symbol\",\n",
    "        ]"
   ]
  },
  {
   "cell_type": "markdown",
   "id": "243116db-01af-4ea8-8c34-1fbe951d8218",
   "metadata": {},
   "source": [
    "##### 5. Write a program named greeter.py that greets 'Victor' three times. Your program should use a variable and not hard code the string value 'Victor' in each greeting.\n"
   ]
  },
  {
   "cell_type": "code",
   "execution_count": 12,
   "id": "8fedd081-fa37-424f-bc95-047b59ad22d8",
   "metadata": {},
   "outputs": [
    {
     "name": "stdout",
     "output_type": "stream",
     "text": [
      "Good Morning, Victor.\n",
      "Good Afternoon, Victor.\n",
      "Good Evening, Victor.\n"
     ]
    }
   ],
   "source": [
    "# greeter.py contains the following\n",
    "name = \"Victor\"\n",
    "\n",
    "print(f'Good Morning, {name}.')\n",
    "print(f'Good Afternoon, {name}.')\n",
    "print(f'Good Evening, {name}.')"
   ]
  },
  {
   "cell_type": "markdown",
   "id": "d73ca1e1-7932-4f77-96c4-fdfd0d6f173a",
   "metadata": {},
   "source": [
    "##### 6. Write a program named age.py that includes someone's age and then calculates and reports the future age 10, 20, 30, and 40 years from now. Here's the output for someone who is 22 years old."
   ]
  },
  {
   "cell_type": "code",
   "execution_count": 13,
   "id": "85f72a53-b25a-4ebf-a86c-b380fc67c22b",
   "metadata": {},
   "outputs": [
    {
     "name": "stdout",
     "output_type": "stream",
     "text": [
      "You are 29 years old.\n",
      "In 10 years, you will be 39 years old.\n",
      "In 20 years, you will be 49 years old.\n",
      "In 30 years, you will be 59 years old.\n",
      "In 40 years, you will be 69 years old.\n"
     ]
    }
   ],
   "source": [
    "# age.py contains the following\n",
    "age = 29\n",
    "\n",
    "print(f\"You are {age} years old.\")\n",
    "\n",
    "for i in range(1,5):\n",
    "    print(f\"In {10 * i} years, you will be {age + (10 * i)} years old.\")"
   ]
  },
  {
   "cell_type": "markdown",
   "id": "2b302b69-a0b3-4085-b74d-e0d93befc2fb",
   "metadata": {},
   "source": [
    "##### 7. What happens when you run the following code? Why?<br>\n",
    "\n",
    "`NAME = 'Victor'`<br>\n",
    "`print('Good Morning, ' + NAME)`<br>\n",
    "`print('Good Afternoon, ' + NAME)`<br>\n",
    "`print('Good Evening, ' + NAME)`\n",
    "\n",
    "`NAME = 'Nina'`<br>\n",
    "`print('Good Morning, ' + NAME)`<br>\n",
    "`print('Good Afternoon, ' + NAME)`<br>\n",
    "`print('Good Evening, ' + NAME)`"
   ]
  },
  {
   "cell_type": "markdown",
   "id": "4fe452db-46b4-41a6-9f60-842f152308fa",
   "metadata": {},
   "source": [
    "If you run the code, the output will be:<br>\n",
    "\n",
    "`Good Morning, Victor`<br>\n",
    "`Good Afternoon, Victor`<br>\n",
    "`Good Evening, Victor`<br>\n",
    "\n",
    "`Good Morning, Nina`<br>\n",
    "`Good Afternoon, Nina`<br>\n",
    "`Good Evening, Nina`\n",
    "\n",
    "because the constant NAME was reassigned to \"Nina\". This is an example of poor practice in naming variables."
   ]
  },
  {
   "cell_type": "markdown",
   "id": "84bdda46-0631-4ae8-b897-bb130d15edb7",
   "metadata": {},
   "source": [
    "##### 8. **Challenge:** This program uses a bit of math. Don't let that scare you away -- try it anyway."
   ]
  },
  {
   "cell_type": "code",
   "execution_count": 18,
   "id": "f008cd31-736f-4edc-aae9-a38e7364d938",
   "metadata": {},
   "outputs": [
    {
     "name": "stdout",
     "output_type": "stream",
     "text": [
      "The balance is $1276.\n"
     ]
    }
   ],
   "source": [
    "principle = 1000\n",
    "r = 0.05\n",
    "n = 1\n",
    "t = 5\n",
    "\n",
    "balance = principle * (1 + (r/n))**(n*t)\n",
    "print(f\"The balance is ${round(balance)}.\")"
   ]
  },
  {
   "cell_type": "markdown",
   "id": "0cb207d8-37f6-4572-a577-1bde89aadd4b",
   "metadata": {},
   "source": [
    "##### 9. Repeat the previous question but, this time, use augmented assignment to compute the final result, one year at a time."
   ]
  },
  {
   "cell_type": "code",
   "execution_count": 22,
   "id": "d832749d-de48-4939-ad16-0e22e4cd7dc2",
   "metadata": {},
   "outputs": [
    {
     "name": "stdout",
     "output_type": "stream",
     "text": [
      "The balance is originally $1000.\n",
      "After the first year, the balance is $1050.\n",
      "After the second year, the balance is $1102.\n",
      "After the third year, the balance is $1158.\n",
      "After the fourth year, the balance is $1216.\n",
      "After the fifth year, the balance is $1276.\n"
     ]
    }
   ],
   "source": [
    "# principle\n",
    "balance = principle\n",
    "print(f\"The balance is originally ${round(balance)}.\")\n",
    "\n",
    "# first year\n",
    "balance *= 1.05\n",
    "print(f\"After the first year, the balance is ${round(balance)}.\")\n",
    "\n",
    "# second year\n",
    "balance *= 1.05\n",
    "print(f\"After the second year, the balance is ${round(balance)}.\")\n",
    "\n",
    "# third year\n",
    "balance *= 1.05\n",
    "print(f\"After the third year, the balance is ${round(balance)}.\")\n",
    "\n",
    "# fourth year\n",
    "balance *= 1.05\n",
    "print(f\"After the fourth year, the balance is ${round(balance)}.\")\n",
    "\n",
    "# fifth year\n",
    "balance *= 1.05\n",
    "print(f\"After the fifth year, the balance is ${round(balance)}.\")"
   ]
  },
  {
   "cell_type": "markdown",
   "id": "c0e0f371-205e-42ce-9f41-3b269f75b6b0",
   "metadata": {},
   "source": [
    "##### 10. Assume that `obj` already has a value of `42` when the code below starts running. Which of the subsequent statements reassign the variable? Which statements mutate the value of the object that `obj` references? Which statements do neither? If necessary, you can read the documentation."
   ]
  },
  {
   "cell_type": "code",
   "execution_count": 23,
   "id": "88fa6168-c5f8-4530-b169-6dd64fcebada",
   "metadata": {},
   "outputs": [
    {
     "name": "stdout",
     "output_type": "stream",
     "text": [
      "4\n"
     ]
    }
   ],
   "source": [
    "o\n",
    "\n",
    "obj = 'ABcd'        # reassignment\n",
    "obj.upper()         # neither\n",
    "obj = obj.lower()   # reassignment\n",
    "print(len(obj))     # neither\n",
    "obj = list(obj)     # reassignment\n",
    "obj.pop()           # mutation\n",
    "obj[2] = 'X'        # mutation\n",
    "obj.sort()          # mutation\n",
    "set(obj)            # neither\n",
    "obj = tuple(obj)    # reassignment"
   ]
  },
  {
   "cell_type": "code",
   "execution_count": null,
   "id": "0137d93a-fa49-4516-a447-cc9dfbd60456",
   "metadata": {},
   "outputs": [],
   "source": []
  }
 ],
 "metadata": {
  "kernelspec": {
   "display_name": "Python 3 (ipykernel)",
   "language": "python",
   "name": "python3"
  },
  "language_info": {
   "codemirror_mode": {
    "name": "ipython",
    "version": 3
   },
   "file_extension": ".py",
   "mimetype": "text/x-python",
   "name": "python",
   "nbconvert_exporter": "python",
   "pygments_lexer": "ipython3",
   "version": "3.12.5"
  }
 },
 "nbformat": 4,
 "nbformat_minor": 5
}
