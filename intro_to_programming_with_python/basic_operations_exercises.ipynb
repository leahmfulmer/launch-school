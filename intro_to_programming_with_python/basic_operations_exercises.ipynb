{
 "cells": [
  {
   "cell_type": "markdown",
   "id": "6767e289-26b4-4253-b543-304fbe3f0ca9",
   "metadata": {},
   "source": [
    "# Introduction to Programming with Python\n",
    "### Basic Operations: Exercises"
   ]
  },
  {
   "cell_type": "markdown",
   "id": "2bd70349-a7d7-45bc-825c-8e688daeb203",
   "metadata": {},
   "source": [
    "##### 1. Concatenate two strings, one with your first name and one with your last, to create a new string with your full name as its value. "
   ]
  },
  {
   "cell_type": "code",
   "execution_count": 4,
   "id": "3adf7523-28ec-48b9-8662-f21af7608926",
   "metadata": {},
   "outputs": [
    {
     "name": "stdout",
     "output_type": "stream",
     "text": [
      "Leah Fulmer\n"
     ]
    }
   ],
   "source": [
    "my_string = \"Leah\" + \" \" + \"Fulmer\"\n",
    "print(my_string)"
   ]
  },
  {
   "cell_type": "markdown",
   "id": "51c06046-a072-4d7e-86e0-77c79db04abf",
   "metadata": {},
   "source": [
    "##### 2. This question may be a little challenging if your math skills are rusty. Don't be afraid to take advantage of the hints. Try your best to solve the problem, but don't feel compelled to complete it if you become frustrated. Use the REPL and the arithmetic operators to extract the individual digits of 4936."
   ]
  },
  {
   "cell_type": "code",
   "execution_count": 56,
   "id": "2cc98c3d-1e7e-46b0-813c-9c9c2c273e5a",
   "metadata": {},
   "outputs": [],
   "source": [
    "number = 4936\n",
    "\n",
    "ones = number % 10\n",
    "tens = (number // 10) % 10\n",
    "hundreds = (number // 100) % 10\n",
    "thousands = (number // 1000) % 10"
   ]
  },
  {
   "cell_type": "code",
   "execution_count": 57,
   "id": "709f1b50-5c66-4a9d-9755-10588d0ebcfa",
   "metadata": {},
   "outputs": [
    {
     "name": "stdout",
     "output_type": "stream",
     "text": [
      "Ones place is 6.\n",
      "Tens place is 3.\n",
      "Hundreds place is 9.\n",
      "Thousands place is 4.\n"
     ]
    }
   ],
   "source": [
    "print(f'Ones place is {ones}.')\n",
    "print(f'Tens place is {tens}.')\n",
    "print(f'Hundreds place is {hundreds}.')\n",
    "print(f'Thousands place is {thousands}.')"
   ]
  },
  {
   "cell_type": "markdown",
   "id": "753af9cd-433a-4acf-8d60-3e2bc94f3a98",
   "metadata": {},
   "source": [
    "##### 3. What does the following code do? Why?<br>\n",
    "`print('5' + '10')`"
   ]
  },
  {
   "cell_type": "markdown",
   "id": "d3ebbe35-d290-44a9-b178-bfb5da51ec3c",
   "metadata": {},
   "source": [
    "The code will print 510, because it is performing string concatenation."
   ]
  },
  {
   "cell_type": "code",
   "execution_count": 63,
   "id": "b3d5c0f5-2b4f-4017-a431-b2345907bb81",
   "metadata": {},
   "outputs": [
    {
     "name": "stdout",
     "output_type": "stream",
     "text": [
      "510\n"
     ]
    }
   ],
   "source": [
    "print('5' + '10')"
   ]
  },
  {
   "cell_type": "markdown",
   "id": "e44b245d-faa1-4035-a91b-4a80c84266d5",
   "metadata": {},
   "source": [
    "##### 4. Refactor the code from the previous exercise to use coercion to print 15 instead."
   ]
  },
  {
   "cell_type": "code",
   "execution_count": 60,
   "id": "6bf854da-7074-491f-82c1-bb8dae31fe42",
   "metadata": {},
   "outputs": [
    {
     "name": "stdout",
     "output_type": "stream",
     "text": [
      "15\n"
     ]
    }
   ],
   "source": [
    "print(5 + 10)"
   ]
  },
  {
   "cell_type": "markdown",
   "id": "ef843291-2891-480b-9c8c-1ad6d8228076",
   "metadata": {},
   "source": [
    "##### 5. Will an error occur if you try to access a list element with an index greater than or equal to the list's length? For example:<br>\n",
    "   `foo = ['a', 'b', 'c']`<br>\n",
    "    `print(foo[3])      # Will this result in an error?`"
   ]
  },
  {
   "cell_type": "markdown",
   "id": "d4a9ce07-a1a7-4cd2-bed8-bc885781922d",
   "metadata": {},
   "source": [
    "Yes, this will result in an error. You can only access a list element with an index less than the list's length."
   ]
  },
  {
   "cell_type": "code",
   "execution_count": 64,
   "id": "54f00b56-cbb4-4eb3-9100-e3105c7ff184",
   "metadata": {},
   "outputs": [
    {
     "ename": "IndexError",
     "evalue": "list index out of range",
     "output_type": "error",
     "traceback": [
      "\u001b[0;31m---------------------------------------------------------------------------\u001b[0m",
      "\u001b[0;31mIndexError\u001b[0m                                Traceback (most recent call last)",
      "Cell \u001b[0;32mIn[64], line 2\u001b[0m\n\u001b[1;32m      1\u001b[0m foo \u001b[38;5;241m=\u001b[39m [\u001b[38;5;124m'\u001b[39m\u001b[38;5;124ma\u001b[39m\u001b[38;5;124m'\u001b[39m, \u001b[38;5;124m'\u001b[39m\u001b[38;5;124mb\u001b[39m\u001b[38;5;124m'\u001b[39m, \u001b[38;5;124m'\u001b[39m\u001b[38;5;124mc\u001b[39m\u001b[38;5;124m'\u001b[39m]\n\u001b[0;32m----> 2\u001b[0m \u001b[38;5;28mprint\u001b[39m(\u001b[43mfoo\u001b[49m\u001b[43m[\u001b[49m\u001b[38;5;241;43m3\u001b[39;49m\u001b[43m]\u001b[49m)\n",
      "\u001b[0;31mIndexError\u001b[0m: list index out of range"
     ]
    }
   ],
   "source": [
    "foo = ['a', 'b', 'c']\n",
    "print(foo[3])"
   ]
  },
  {
   "cell_type": "markdown",
   "id": "76dee01e-bdc3-4cd5-8cd4-3d540f8e8ecf",
   "metadata": {},
   "source": [
    "##### 6. To what value does the following expression evaluate?<br>\n",
    "   `'foo' == 'Foo'`"
   ]
  },
  {
   "cell_type": "markdown",
   "id": "c9db6a9b-699f-4d3f-b248-c6c69b40edfc",
   "metadata": {},
   "source": [
    "The expression will evaluable to `False`."
   ]
  },
  {
   "cell_type": "code",
   "execution_count": 79,
   "id": "38d58119-4e18-4db5-8a4b-94ce8d7731b7",
   "metadata": {},
   "outputs": [
    {
     "data": {
      "text/plain": [
       "False"
      ]
     },
     "execution_count": 79,
     "metadata": {},
     "output_type": "execute_result"
    }
   ],
   "source": [
    "'foo' == 'Foo'"
   ]
  },
  {
   "cell_type": "markdown",
   "id": "aec39ec1-64f5-4642-9a85-8dac9c27bded",
   "metadata": {},
   "source": [
    "##### 7. What will the following code do? Why?<br>\n",
    "   `int('3.1415')`"
   ]
  },
  {
   "cell_type": "markdown",
   "id": "d8b024a1-4d20-4287-9f10-10039b1a9442",
   "metadata": {},
   "source": [
    "The code will produce a `ValueError` because `int()` cannot coerce a string representing a float into an integer. `int()` coerces strings to integers, and `float()` coerces floats to integers."
   ]
  },
  {
   "cell_type": "code",
   "execution_count": 82,
   "id": "0d1270e8-d259-4162-8cf2-a099faf1e8fe",
   "metadata": {},
   "outputs": [
    {
     "ename": "ValueError",
     "evalue": "invalid literal for int() with base 10: '3.1415'",
     "output_type": "error",
     "traceback": [
      "\u001b[0;31m---------------------------------------------------------------------------\u001b[0m",
      "\u001b[0;31mValueError\u001b[0m                                Traceback (most recent call last)",
      "Cell \u001b[0;32mIn[82], line 1\u001b[0m\n\u001b[0;32m----> 1\u001b[0m \u001b[38;5;28;43mint\u001b[39;49m\u001b[43m(\u001b[49m\u001b[38;5;124;43m'\u001b[39;49m\u001b[38;5;124;43m3.1415\u001b[39;49m\u001b[38;5;124;43m'\u001b[39;49m\u001b[43m)\u001b[49m\n",
      "\u001b[0;31mValueError\u001b[0m: invalid literal for int() with base 10: '3.1415'"
     ]
    }
   ],
   "source": [
    "int('3.1415')"
   ]
  },
  {
   "cell_type": "code",
   "execution_count": 83,
   "id": "a85a7794-f661-4128-9bf1-2dcf5d263262",
   "metadata": {},
   "outputs": [
    {
     "name": "stdout",
     "output_type": "stream",
     "text": [
      "3\n",
      "3.1415\n"
     ]
    }
   ],
   "source": [
    "# Alternatively...\n",
    "print(int('3'))\n",
    "print(float('3.1415'))"
   ]
  },
  {
   "cell_type": "markdown",
   "id": "4aa88062-a5df-44db-8275-07586bcef2a0",
   "metadata": {},
   "source": [
    "##### 8. To what value does the following expression evaluate?<br>\n",
    "   `'12' < '9'`"
   ]
  },
  {
   "cell_type": "markdown",
   "id": "568fa96b-eb07-479e-abbe-c62a38efdab5",
   "metadata": {},
   "source": [
    "The expression evaluates to `True` because it is evaluated lexicographically. 1 is less than 9."
   ]
  },
  {
   "cell_type": "code",
   "execution_count": 84,
   "id": "12640ba0-47c3-4e1a-a4d0-3d6086fd5c27",
   "metadata": {},
   "outputs": [
    {
     "data": {
      "text/plain": [
       "True"
      ]
     },
     "execution_count": 84,
     "metadata": {},
     "output_type": "execute_result"
    }
   ],
   "source": [
    "'12' < '9'"
   ]
  }
 ],
 "metadata": {
  "kernelspec": {
   "display_name": "Python 3 (ipykernel)",
   "language": "python",
   "name": "python3"
  },
  "language_info": {
   "codemirror_mode": {
    "name": "ipython",
    "version": 3
   },
   "file_extension": ".py",
   "mimetype": "text/x-python",
   "name": "python",
   "nbconvert_exporter": "python",
   "pygments_lexer": "ipython3",
   "version": "3.12.5"
  }
 },
 "nbformat": 4,
 "nbformat_minor": 5
}
