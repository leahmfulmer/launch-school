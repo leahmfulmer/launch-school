{
 "cells": [
  {
   "cell_type": "markdown",
   "id": "2c8c5ade-ed60-4ac8-9389-b28054a086fb",
   "metadata": {},
   "source": [
    "# PY100 - Python Basics\n",
    "### Loops"
   ]
  },
  {
   "cell_type": "markdown",
   "id": "9b76c82b-d865-4917-8e05-e315ff9ebd00",
   "metadata": {},
   "source": [
    "##### **Loop and Print:** Add some code inside the following for loop to print the current value of num on each iteration. Before you execute the code: What sequence of numbers do you expect to be printed?"
   ]
  },
  {
   "cell_type": "code",
   "execution_count": 2,
   "id": "20cb25c0-ec4d-4d23-b2ee-2ddcce7a3574",
   "metadata": {},
   "outputs": [
    {
     "name": "stdout",
     "output_type": "stream",
     "text": [
      "0\n",
      "2\n",
      "4\n",
      "6\n",
      "8\n",
      "10\n"
     ]
    }
   ],
   "source": [
    "for num in range(0, 11, 2):\n",
    "    print(num)                 # 0, 2, 4, 6, 8, 10"
   ]
  },
  {
   "cell_type": "markdown",
   "id": "ac8447ab-c47b-4b4a-9e8e-5e99b266f0c8",
   "metadata": {},
   "source": [
    "##### **Countdown:** The following code prints the numbers from `1` to `10`. Modify it so that it instead prints the numbers from `10` to `1` in descending order, followed by 'Launch!'."
   ]
  },
  {
   "cell_type": "code",
   "execution_count": 5,
   "id": "614559ea-8a0b-4fb3-8778-2922d177c953",
   "metadata": {},
   "outputs": [
    {
     "name": "stdout",
     "output_type": "stream",
     "text": [
      "10\n",
      "9\n",
      "8\n",
      "7\n",
      "6\n",
      "5\n",
      "4\n",
      "3\n",
      "2\n",
      "1\n",
      "Launch!\n"
     ]
    }
   ],
   "source": [
    "for i in range(10, 0, -1):\n",
    "    print(i)\n",
    "    \n",
    "print('Launch!')"
   ]
  },
  {
   "cell_type": "markdown",
   "id": "02179482-155e-4214-847a-344a3f0c7d15",
   "metadata": {},
   "source": [
    "##### **Triple Greeting:** Write a loop that prints the value of the `greeting` variable three times."
   ]
  },
  {
   "cell_type": "code",
   "execution_count": 6,
   "id": "f3d7dc09-44e5-4f9d-8d6a-789bd0af0799",
   "metadata": {},
   "outputs": [
    {
     "name": "stdout",
     "output_type": "stream",
     "text": [
      "Aloha!\n",
      "Aloha!\n",
      "Aloha!\n"
     ]
    }
   ],
   "source": [
    "greeting = 'Aloha!'\n",
    "\n",
    "for i in range(3):\n",
    "    print(greeting)"
   ]
  },
  {
   "cell_type": "markdown",
   "id": "384eda37-7b3c-41f5-84e1-a898a232c739",
   "metadata": {},
   "source": [
    "##### **Take Two:** Write a `for` loop that iterates over the integers from `1` to `100` and prints the result of multiplying each integer by `2`.\n"
   ]
  },
  {
   "cell_type": "code",
   "execution_count": 9,
   "id": "b63e6c9e-b14b-4932-96c1-04540b9c5e96",
   "metadata": {},
   "outputs": [
    {
     "name": "stdout",
     "output_type": "stream",
     "text": [
      "2\n",
      "4\n",
      "6\n",
      "8\n",
      "10\n",
      "12\n",
      "14\n",
      "16\n",
      "18\n",
      "20\n",
      "22\n",
      "24\n",
      "26\n",
      "28\n",
      "30\n",
      "32\n",
      "34\n",
      "36\n",
      "38\n",
      "40\n",
      "42\n",
      "44\n",
      "46\n",
      "48\n",
      "50\n",
      "52\n",
      "54\n",
      "56\n",
      "58\n",
      "60\n",
      "62\n",
      "64\n",
      "66\n",
      "68\n",
      "70\n",
      "72\n",
      "74\n",
      "76\n",
      "78\n",
      "80\n",
      "82\n",
      "84\n",
      "86\n",
      "88\n",
      "90\n",
      "92\n",
      "94\n",
      "96\n",
      "98\n",
      "100\n",
      "102\n",
      "104\n",
      "106\n",
      "108\n",
      "110\n",
      "112\n",
      "114\n",
      "116\n",
      "118\n",
      "120\n",
      "122\n",
      "124\n",
      "126\n",
      "128\n",
      "130\n",
      "132\n",
      "134\n",
      "136\n",
      "138\n",
      "140\n",
      "142\n",
      "144\n",
      "146\n",
      "148\n",
      "150\n",
      "152\n",
      "154\n",
      "156\n",
      "158\n",
      "160\n",
      "162\n",
      "164\n",
      "166\n",
      "168\n",
      "170\n",
      "172\n",
      "174\n",
      "176\n",
      "178\n",
      "180\n",
      "182\n",
      "184\n",
      "186\n",
      "188\n",
      "190\n",
      "192\n",
      "194\n",
      "196\n",
      "198\n",
      "200\n"
     ]
    }
   ],
   "source": [
    "for num in range(1, 101):\n",
    "    print(num * 2)"
   ]
  },
  {
   "cell_type": "markdown",
   "id": "c02622c1-24a7-40f6-a9aa-70cb34809307",
   "metadata": {},
   "source": [
    "##### **Looping over List Elements:** Using the code below as a starting point, write a `while` loop that prints the elements of `lst` at each index and terminates after printing the last element of the list."
   ]
  },
  {
   "cell_type": "code",
   "execution_count": 11,
   "id": "4ec60011-43bc-44e3-8047-05b71bb2d1ee",
   "metadata": {},
   "outputs": [
    {
     "name": "stdout",
     "output_type": "stream",
     "text": [
      "1\n",
      "3\n",
      "7\n",
      "15\n"
     ]
    }
   ],
   "source": [
    "lst = [1, 3, 7, 15]\n",
    "index = 0\n",
    "\n",
    "while index < len(lst):\n",
    "    print(lst[index])\n",
    "    index += 1"
   ]
  },
  {
   "cell_type": "markdown",
   "id": "c3d03762-8d31-4b8b-8435-d0ddad99ad06",
   "metadata": {},
   "source": [
    "##### **Greet Your Friends:** Your friends just showed up! Given the following list of names, use a `for` loop to greet each friend individually."
   ]
  },
  {
   "cell_type": "code",
   "execution_count": 12,
   "id": "176a1c99-0da3-4263-b682-2db7750ade9f",
   "metadata": {},
   "outputs": [
    {
     "name": "stdout",
     "output_type": "stream",
     "text": [
      "Hello, Sarah!\n",
      "Hello, John!\n",
      "Hello, Hannah!\n",
      "Hello, Dave!\n"
     ]
    }
   ],
   "source": [
    "friends = ['Sarah', 'John', 'Hannah', 'Dave']\n",
    "\n",
    "for friend in friends:\n",
    "    print(f'Hello, {friend}!')"
   ]
  },
  {
   "cell_type": "markdown",
   "id": "2b0d3e2d-80cd-41af-8851-40b31cce94c2",
   "metadata": {},
   "source": [
    "##### **Continue:** Take a moment to read the Python documentation on the continue statement. Write a `for` loop that iterates over the elements of the list `cities` and prints the length of each string. If the element is `None`, use the `continue` statement to skip forward to the next iteration without printing anything."
   ]
  },
  {
   "cell_type": "code",
   "execution_count": 14,
   "id": "ff9f11d2-0835-44a6-83ce-ccfc77b1e441",
   "metadata": {},
   "outputs": [
    {
     "name": "stdout",
     "output_type": "stream",
     "text": [
      "8\n",
      "11\n",
      "5\n",
      "6\n",
      "6\n",
      "7\n"
     ]
    }
   ],
   "source": [
    "cities = ['Istanbul', 'Los Angeles', 'Tokyo', None,\n",
    "          'Vienna', None, 'London', 'Beijing', None]\n",
    "\n",
    "for city in cities:\n",
    "    if city is None:\n",
    "        continue\n",
    "        \n",
    "    print(len(city))"
   ]
  },
  {
   "cell_type": "markdown",
   "id": "ac0ac87a-7953-4410-a16f-470cb67fccbd",
   "metadata": {},
   "source": [
    "##### **And on and on and on:** The following code keeps looping forever. (You can hit Ctrl-C to stop it.) Why does the loop keep running? Modify it so that it stops after the first iteration.\n",
    "\n",
    "`while True:`<br>\n",
    "`    print(\"and on\")`"
   ]
  },
  {
   "cell_type": "markdown",
   "id": "4fd488b3-d790-4433-a8ea-4349e17f92c1",
   "metadata": {},
   "source": [
    "This code is an infinite loop because the `while True` condition is never broken. There is no `break`."
   ]
  },
  {
   "cell_type": "code",
   "execution_count": 15,
   "id": "a98aeceb-913a-4a96-9ecd-50d0fb325642",
   "metadata": {},
   "outputs": [
    {
     "name": "stdout",
     "output_type": "stream",
     "text": [
      "and on\n"
     ]
    }
   ],
   "source": [
    "while True:\n",
    "    print(\"and on\")\n",
    "    break"
   ]
  },
  {
   "cell_type": "markdown",
   "id": "d8e5c0c1-e5b2-4ae3-8ac0-7ca00e136012",
   "metadata": {},
   "source": [
    "##### **Finding Nemo:** Loop over the elements of the `fish_list` list below, logging each one. Terminate the loop immediately after printing the string `'Nemo'`."
   ]
  },
  {
   "cell_type": "code",
   "execution_count": 20,
   "id": "172ca725-041d-4bb4-8aa1-753f0f1b2ca4",
   "metadata": {},
   "outputs": [
    {
     "name": "stdout",
     "output_type": "stream",
     "text": [
      "['Dory', 'Marlin', 'Gill', 'Nemo']\n"
     ]
    }
   ],
   "source": [
    "# My version\n",
    "\n",
    "fish_list = ['Dory', 'Marlin', 'Gill', 'Nemo', 'Bruce']\n",
    "fishes_found = []\n",
    "\n",
    "for fish in fish_list:\n",
    "    if fish == 'Nemo':\n",
    "        fishes_found.append(fish)\n",
    "        print(fishes_found)\n",
    "        break\n",
    "\n",
    "    fishes_found.append(fish)"
   ]
  },
  {
   "cell_type": "code",
   "execution_count": 21,
   "id": "c97244ed-7d47-49b3-b6f3-f97bec0152f6",
   "metadata": {},
   "outputs": [
    {
     "name": "stdout",
     "output_type": "stream",
     "text": [
      "Dory\n",
      "Marlin\n",
      "Gill\n",
      "Nemo\n"
     ]
    }
   ],
   "source": [
    "# More efficient version\n",
    "\n",
    "fish_list = ['Dory', 'Marlin', 'Gill', 'Nemo', 'Bruce']\n",
    "\n",
    "for fish in fish_list:\n",
    "    print(fish)\n",
    "    \n",
    "    if fish == 'Nemo':\n",
    "        break"
   ]
  },
  {
   "cell_type": "markdown",
   "id": "aef9df16-44b3-401e-afdb-e36c10a766e1",
   "metadata": {},
   "source": [
    "##### **Loop on Command:** Modify the following code so the loop continues iterating until the user inputs `'yes'`."
   ]
  },
  {
   "cell_type": "code",
   "execution_count": 22,
   "id": "871f0867-668c-4c1c-b097-060ac9affbe6",
   "metadata": {},
   "outputs": [
    {
     "name": "stdout",
     "output_type": "stream",
     "text": [
      "Should I stop looping?\n"
     ]
    },
    {
     "name": "stdin",
     "output_type": "stream",
     "text": [
      " no\n"
     ]
    },
    {
     "name": "stdout",
     "output_type": "stream",
     "text": [
      "Should I stop looping?\n"
     ]
    },
    {
     "name": "stdin",
     "output_type": "stream",
     "text": [
      " no\n"
     ]
    },
    {
     "name": "stdout",
     "output_type": "stream",
     "text": [
      "Should I stop looping?\n"
     ]
    },
    {
     "name": "stdin",
     "output_type": "stream",
     "text": [
      " no\n"
     ]
    },
    {
     "name": "stdout",
     "output_type": "stream",
     "text": [
      "Should I stop looping?\n"
     ]
    },
    {
     "name": "stdin",
     "output_type": "stream",
     "text": [
      " yes\n"
     ]
    }
   ],
   "source": [
    "while True:\n",
    "    print('Should I stop looping?')\n",
    "    answer = input()\n",
    "\n",
    "    if answer == 'yes':\n",
    "        break"
   ]
  },
  {
   "cell_type": "code",
   "execution_count": null,
   "id": "d4c3f4d2-ca6a-47a5-9ae7-e55c6fff3c77",
   "metadata": {},
   "outputs": [],
   "source": []
  }
 ],
 "metadata": {
  "kernelspec": {
   "display_name": "Python 3 (ipykernel)",
   "language": "python",
   "name": "python3"
  },
  "language_info": {
   "codemirror_mode": {
    "name": "ipython",
    "version": 3
   },
   "file_extension": ".py",
   "mimetype": "text/x-python",
   "name": "python",
   "nbconvert_exporter": "python",
   "pygments_lexer": "ipython3",
   "version": "3.12.5"
  }
 },
 "nbformat": 4,
 "nbformat_minor": 5
}
