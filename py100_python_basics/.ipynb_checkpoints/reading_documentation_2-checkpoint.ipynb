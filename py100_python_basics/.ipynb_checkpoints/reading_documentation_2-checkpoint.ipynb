{
 "cells": [
  {
   "cell_type": "markdown",
   "id": "f0f51c19-ada6-4c1e-83ab-6d7331315016",
   "metadata": {},
   "source": [
    "# PY100 - Python Basics\n",
    "### Reading Documentation 2"
   ]
  },
  {
   "cell_type": "markdown",
   "id": "a774c109-a73f-4577-b1be-91f1e7f0fe23",
   "metadata": {},
   "source": [
    "##### **String Formatting:** Python offers multiple ways to format strings. The `str.format` method is a popular method, but since Python 3.6, a new way called f-strings (formatted string literals) was introduced. F-strings offer a concise way to embed expressions inside string literals. Given the following variables:\n",
    "\n",
    "`name = \"Victor\"`<br>\n",
    "`profession = \"programmer\"`\n",
    "\n",
    "##### 1. How can you print the string `Hello, Victor. You are a programmer.` using the `str.format` method? You should fill in the name and profession in a string literal that contains the rest of the text.\n",
    "##### 2. How can you achieve the same result using an f-string?\n",
    "\n",
    "##### Refer to the Python documentation on [Format String Syntax](https://docs.python.org/3/library/string.html#format-string-syntax) and [Formatted String Literals](https://docs.python.org/3/reference/lexical_analysis.html#formatted-string-literals) for guidance."
   ]
  },
  {
   "cell_type": "code",
   "execution_count": 8,
   "id": "bc4b411f-1bbe-45e8-b076-5aa989ed26e9",
   "metadata": {},
   "outputs": [
    {
     "name": "stdout",
     "output_type": "stream",
     "text": [
      "Hello, Victor. You are a programmer.\n",
      "Hello, Victor. You are a programmer.\n"
     ]
    }
   ],
   "source": [
    "name = \"Victor\"\n",
    "profession = \"programmer\"\n",
    "\n",
    "# Question 1\n",
    "print('Hello, {0}. You are a {1}.'.format(name, profession))\n",
    "\n",
    "# Question 2\n",
    "print(f'Hello, {name}. You are a {profession}.')"
   ]
  },
  {
   "cell_type": "markdown",
   "id": "d8735c32-01f4-4482-860a-f886eb496fe4",
   "metadata": {},
   "source": [
    "##### **Style Guide:** In the following code snippet, find all violations of the [PEP8 style guide](https://peps.python.org/pep-0008/). Rewrite it so that it conforms with the guide."
   ]
  },
  {
   "cell_type": "code",
   "execution_count": 9,
   "id": "ed573c63-23cf-465c-86dd-23c32b0cf98c",
   "metadata": {},
   "outputs": [
    {
     "name": "stdout",
     "output_type": "stream",
     "text": [
      "Drip...\n",
      "Drip...\n",
      "Drip...\n",
      "Drip...\n",
      "Drip...\n",
      "Drip...\n",
      "Drip...\n",
      "Drip...\n",
      "Drip...\n",
      "Drip...\n",
      "The ice cream melted.\n"
     ]
    }
   ],
   "source": [
    "ice_cream_density = 10\n",
    "\n",
    "while ice_cream_density > 0:\n",
    "    print('Drip...')\n",
    "    ice_cream_density -= 1\n",
    "\n",
    "print('The ice cream melted.')"
   ]
  },
  {
   "cell_type": "markdown",
   "id": "875413c3-ae81-4ca8-8cdc-c7f1b7aafc04",
   "metadata": {},
   "source": [
    "##### **Arithmetic Operator Precedence:** Find the Python Documentation on operator precedence, and use it to determine the result of evaluating `4 * 5 + 3**2 / 10`."
   ]
  },
  {
   "cell_type": "code",
   "execution_count": 11,
   "id": "de052162-3d36-49d7-afa6-179170d0cba2",
   "metadata": {},
   "outputs": [
    {
     "name": "stdout",
     "output_type": "stream",
     "text": [
      "20.9\n"
     ]
    }
   ],
   "source": [
    "value = 4 * 5 + 3**2 / 10\n",
    "\n",
    "# Evaluating...\n",
    "# 4 * 5 + 9 / 10\n",
    "# 20 + 0.9\n",
    "# 20.9\n",
    "\n",
    "print(value)"
   ]
  },
  {
   "cell_type": "markdown",
   "id": "df156299-3943-4a77-92d1-9317075a0b84",
   "metadata": {},
   "source": [
    "##### **Date:** Using the `datetime` module in Python, how would you obtain the current date and time?"
   ]
  },
  {
   "cell_type": "code",
   "execution_count": 29,
   "id": "1dd99518-4855-44c4-8aeb-3384d0cb907b",
   "metadata": {},
   "outputs": [
    {
     "name": "stdout",
     "output_type": "stream",
     "text": [
      "2024-09-19 18:28:54.521174\n"
     ]
    }
   ],
   "source": [
    "# Source: https://docs.python.org/3/library/datetime.html#datetime.datetime.now\n",
    "\n",
    "import datetime\n",
    "print(datetime.datetime.now())"
   ]
  },
  {
   "cell_type": "markdown",
   "id": "f8eb6a54-aab7-4402-a756-9052f8fc0713",
   "metadata": {},
   "source": [
    "##### **Which Year is This?:** The [Python documentation](https://docs.python.org/3/library/datetime.html) for the `datetime` module provides two attributes to retrieve the year from a `date` or `datetime` object: `year` and `isocalendar`. What is the difference between the year attribute and the isocalendar method?"
   ]
  },
  {
   "cell_type": "code",
   "execution_count": 31,
   "id": "280da589-1002-42d7-901e-8904b0e6cd41",
   "metadata": {},
   "outputs": [
    {
     "name": "stdout",
     "output_type": "stream",
     "text": [
      "2024\n",
      "2024\n"
     ]
    }
   ],
   "source": [
    "from datetime import date\n",
    "\n",
    "today = date.today()\n",
    "\n",
    "today_year = today.year\n",
    "iso_year = today.isocalendar()[0]\n",
    "\n",
    "print(today_year)\n",
    "print(iso_year)"
   ]
  },
  {
   "cell_type": "markdown",
   "id": "650e9e35-2717-4ec5-8566-17c7c14992eb",
   "metadata": {},
   "source": [
    "The attribute `year` is the literal year according to the Gregorian calendar. The first element of the attribute `isocalendar` is the year according to the ISO calendar, \"a widely used variant of the Gregorian calendar\". According to the documentation...\n",
    "\n",
    "    The ISO year consists of 52 or 53 full weeks, and where a week starts on a Monday and ends on a Sunday. The first week of an ISO year is the first (Gregorian) calendar week of a year containing a Thursday. This is called week number 1, and the ISO year of that Thursday is the same as its Gregorian year.\n",
    "\n",
    "The `isocalendar()` method returns the `year`, `week`, and `weekday` according to the ISO calendar."
   ]
  },
  {
   "cell_type": "markdown",
   "id": "f5c6e032-28cf-466b-a2cf-595c6a263ae9",
   "metadata": {},
   "source": [
    "##### **Argument Signatures:** How many arguments does the `str.join` method expect? What happens if you call it with fewer or more arguments?"
   ]
  },
  {
   "cell_type": "markdown",
   "id": "a6f1bf9f-fdf3-457f-a74e-399f1a7e7399",
   "metadata": {},
   "source": [
    "The `str.join` method expects one argument, the list that it is meant to join. If you call it with fewer or more arguments it will return a `TypeError`."
   ]
  },
  {
   "cell_type": "markdown",
   "id": "7a9bdf4b-5b53-44ea-b1af-15742662f88b",
   "metadata": {},
   "source": [
    "##### **Find Substring:** Using the official Python documentation, can you determine how to check whether a string contains a specific substring?"
   ]
  },
  {
   "cell_type": "code",
   "execution_count": 37,
   "id": "ca614b1a-4bfc-41fa-bea7-ac5778675688",
   "metadata": {},
   "outputs": [
    {
     "name": "stdout",
     "output_type": "stream",
     "text": [
      "True\n",
      "False\n"
     ]
    }
   ],
   "source": [
    "string = 'Hello, world!'\n",
    "substring1 = 'world'\n",
    "substring2 = 'jai maa'\n",
    "\n",
    "print(substring1 in string)\n",
    "print(substring2 in string)"
   ]
  },
  {
   "cell_type": "markdown",
   "id": "f2e09026-3ca7-4d3c-813c-37a1dc64fb72",
   "metadata": {},
   "source": [
    "##### **SyntaxError:** The following code raises a `SyntaxError`. What does a `SyntaxError` indicate? Try running the below code, then use the resulting error message to fix the error."
   ]
  },
  {
   "cell_type": "code",
   "execution_count": 38,
   "id": "65d9570c-7553-45f6-a8ae-5b4eeab2cb83",
   "metadata": {},
   "outputs": [
    {
     "ename": "SyntaxError",
     "evalue": "expected ':' (1297629989.py, line 4)",
     "output_type": "error",
     "traceback": [
      "\u001b[0;36m  Cell \u001b[0;32mIn[38], line 4\u001b[0;36m\u001b[0m\n\u001b[0;31m    if current_speed > speed_limit\u001b[0m\n\u001b[0m                                  ^\u001b[0m\n\u001b[0;31mSyntaxError\u001b[0m\u001b[0;31m:\u001b[0m expected ':'\n"
     ]
    }
   ],
   "source": [
    "speed_limit = 60\n",
    "current_speed = 80\n",
    "\n",
    "if current_speed > speed_limit\n",
    "    print('\"People are so bad at driving cars that '\n",
    "          \"computers don\\'t have to be that good to be \"\n",
    "          'much better.\" -- Marc Andreessen')"
   ]
  },
  {
   "cell_type": "markdown",
   "id": "868da59e-d515-4dec-bb2c-f3584c533a7c",
   "metadata": {},
   "source": [
    "A `SyntaxError` means there's something nonsensical in your code with respect to Python syntax. In this case, `if` statements are always followed by a `:` before proceding to the indented code block. To correct the error:"
   ]
  },
  {
   "cell_type": "code",
   "execution_count": 39,
   "id": "04557f87-903d-4827-a99d-fbee86ce552b",
   "metadata": {},
   "outputs": [
    {
     "name": "stdout",
     "output_type": "stream",
     "text": [
      "\"People are so bad at driving cars that computers don't have to be that good to be much better.\" -- Marc Andreessen\n"
     ]
    }
   ],
   "source": [
    "speed_limit = 60\n",
    "current_speed = 80\n",
    "\n",
    "if current_speed > speed_limit:\n",
    "    print('\"People are so bad at driving cars that '\n",
    "          \"computers don\\'t have to be that good to be \"\n",
    "          'much better.\" -- Marc Andreessen')"
   ]
  },
  {
   "cell_type": "markdown",
   "id": "bd23c6b6-91f9-410d-b238-9bff6b06b5e9",
   "metadata": {},
   "source": [
    "##### **TypeError:** The following code raises a `TypeError`. What does a `TypeError` indicate? Try running the below code, then use the resulting error message to determine exactly what is wrong. (You don't have to fix this code.)"
   ]
  },
  {
   "cell_type": "code",
   "execution_count": 40,
   "id": "e56e7415-4e7e-478f-9d9b-36b61414b89c",
   "metadata": {},
   "outputs": [
    {
     "ename": "TypeError",
     "evalue": "can only concatenate str (not \"int\") to str",
     "output_type": "error",
     "traceback": [
      "\u001b[0;31m---------------------------------------------------------------------------\u001b[0m",
      "\u001b[0;31mTypeError\u001b[0m                                 Traceback (most recent call last)",
      "Cell \u001b[0;32mIn[40], line 6\u001b[0m\n\u001b[1;32m      3\u001b[0m \u001b[38;5;28;01mif\u001b[39;00m \u001b[38;5;28mlen\u001b[39m(tweet) \u001b[38;5;241m>\u001b[39m \u001b[38;5;241m140\u001b[39m:\n\u001b[1;32m      4\u001b[0m     \u001b[38;5;28mprint\u001b[39m(\u001b[38;5;124m'\u001b[39m\u001b[38;5;124mTweet is too long!\u001b[39m\u001b[38;5;124m'\u001b[39m)\n\u001b[0;32m----> 6\u001b[0m length_of_tweet \u001b[38;5;241m=\u001b[39m \u001b[38;5;28mlen\u001b[39m(\u001b[43mtweet\u001b[49m\u001b[43m \u001b[49m\u001b[38;5;241;43m+\u001b[39;49m\u001b[43m \u001b[49m\u001b[38;5;241;43m5\u001b[39;49m)\n",
      "\u001b[0;31mTypeError\u001b[0m: can only concatenate str (not \"int\") to str"
     ]
    }
   ],
   "source": [
    "tweet = 'Woohoo! :-)'\n",
    "\n",
    "if len(tweet) > 140:\n",
    "    print('Tweet is too long!')\n",
    "\n",
    "length_of_tweet = len(tweet + 5)"
   ]
  },
  {
   "cell_type": "markdown",
   "id": "90960db6-e49f-43ad-9d38-c4eab2f3278c",
   "metadata": {},
   "source": [
    "A `TypeError` indicates that the invoked function or method cannot be applied to the type of object that the user has placed as its argument. In this case, `len()` can be applied to a concatenation of strings, but not to a concatenation of a `str` with an `int`."
   ]
  }
 ],
 "metadata": {
  "kernelspec": {
   "display_name": "Python 3 (ipykernel)",
   "language": "python",
   "name": "python3"
  },
  "language_info": {
   "codemirror_mode": {
    "name": "ipython",
    "version": 3
   },
   "file_extension": ".py",
   "mimetype": "text/x-python",
   "name": "python",
   "nbconvert_exporter": "python",
   "pygments_lexer": "ipython3",
   "version": "3.12.5"
  }
 },
 "nbformat": 4,
 "nbformat_minor": 5
}
