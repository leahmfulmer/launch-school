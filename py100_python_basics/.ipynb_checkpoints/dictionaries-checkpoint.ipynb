{
 "cells": [
  {
   "cell_type": "markdown",
   "id": "35f547a1-1a87-4fee-9532-89c5934d73d6",
   "metadata": {},
   "source": [
    "# PY100 - Python Basics\n",
    "### Dictionaries"
   ]
  },
  {
   "cell_type": "markdown",
   "id": "ec3a9012-22a0-4c64-a80c-600c3d747ea7",
   "metadata": {},
   "source": [
    "##### **First Car:** Create a dictionary that contains the following data, and assign it to a variable named `car`."
   ]
  },
  {
   "cell_type": "code",
   "execution_count": 8,
   "id": "33d8145f-9bac-47a0-8bee-152ffa462ab2",
   "metadata": {},
   "outputs": [],
   "source": [
    "car = {'type': 'sedan',\n",
    "       'color': 'blue',\n",
    "       'mileage': 80000,\n",
    "      }"
   ]
  },
  {
   "cell_type": "markdown",
   "id": "a8f379e4-ec97-4eba-b3f6-e20e2618ca21",
   "metadata": {},
   "source": [
    "##### **Adding the Year:** Add some code below the following code to define a `year` key with a value of `2003`. Don't update the dictionary literal."
   ]
  },
  {
   "cell_type": "code",
   "execution_count": 9,
   "id": "d930d382-988b-4da0-bf0f-c6487d48adc6",
   "metadata": {},
   "outputs": [
    {
     "name": "stdout",
     "output_type": "stream",
     "text": [
      "{'type': 'sedan', 'color': 'blue', 'mileage': 80000, 'year': 2003}\n"
     ]
    }
   ],
   "source": [
    "car['year'] = 2003\n",
    "print(car)"
   ]
  },
  {
   "cell_type": "markdown",
   "id": "45ce7f8d-2dc0-4932-bb69-faaf971a96d4",
   "metadata": {},
   "source": [
    "##### **Broken Odometer:** Using the following code, delete the `'mileage'` key and its associated value from `car`."
   ]
  },
  {
   "cell_type": "code",
   "execution_count": 13,
   "id": "0cccdd51-438c-4832-9b6e-d84f458aa560",
   "metadata": {},
   "outputs": [
    {
     "name": "stdout",
     "output_type": "stream",
     "text": [
      "{'type': 'sedan', 'color': 'blue', 'year': 2003}\n"
     ]
    }
   ],
   "source": [
    "car = {\n",
    "    'type':    'sedan',\n",
    "    'color':   'blue',\n",
    "    'mileage': 80000,\n",
    "    'year':    2003,\n",
    "}\n",
    "\n",
    "car.pop('mileage')\n",
    "print(car)"
   ]
  },
  {
   "cell_type": "markdown",
   "id": "733424f0-82ff-4ab8-b41d-959d1b09ac82",
   "metadata": {},
   "source": [
    "##### **What Color?:** Using the following code, select and print the value `'blue'` from the `car` object:"
   ]
  },
  {
   "cell_type": "code",
   "execution_count": 14,
   "id": "88fde3bf-5784-4295-a320-6a33da5fbca1",
   "metadata": {},
   "outputs": [
    {
     "name": "stdout",
     "output_type": "stream",
     "text": [
      "blue\n"
     ]
    }
   ],
   "source": [
    "car = {\n",
    "    'type':  'sedan',\n",
    "    'color': 'blue',\n",
    "    'year':  2003,\n",
    "}\n",
    "\n",
    "print(car['color'])"
   ]
  },
  {
   "cell_type": "markdown",
   "id": "52841aab-6c4a-4918-b006-6cd857f07ae0",
   "metadata": {},
   "source": [
    "##### **What's My Length?:** Calculate and print the number of key/value pairs in the following dictionary:"
   ]
  },
  {
   "cell_type": "code",
   "execution_count": 15,
   "id": "8fb942bb-3f9c-4bcb-b956-9329ce7fab60",
   "metadata": {},
   "outputs": [
    {
     "name": "stdout",
     "output_type": "stream",
     "text": [
      "3\n"
     ]
    }
   ],
   "source": [
    "car = {\n",
    "    'type':  'sedan',\n",
    "    'color': 'blue',\n",
    "    'year':  2003,\n",
    "}\n",
    "\n",
    "print(len(car))"
   ]
  },
  {
   "cell_type": "markdown",
   "id": "5f31628d-60e8-467e-a1c9-e54998c72d3e",
   "metadata": {},
   "source": [
    "##### **Checking Key Existence:** Check whether the keys `'name'` and `'grade'` exist in the following dictionary:"
   ]
  },
  {
   "cell_type": "code",
   "execution_count": 20,
   "id": "95251ac6-f861-4b6c-af40-b0d606d8a548",
   "metadata": {},
   "outputs": [
    {
     "name": "stdout",
     "output_type": "stream",
     "text": [
      "False\n",
      "True\n"
     ]
    }
   ],
   "source": [
    "student = {\n",
    "    'id': 123,\n",
    "    'grade': 'B',\n",
    "}\n",
    "\n",
    "print('name' in student)\n",
    "print('grade' in student)"
   ]
  },
  {
   "cell_type": "markdown",
   "id": "952283aa-79cb-457c-8576-53c393229c38",
   "metadata": {},
   "source": [
    "##### **Multiple Cars:** Create a nested dictionary that contains the following data."
   ]
  },
  {
   "cell_type": "code",
   "execution_count": 21,
   "id": "9f199e7d-313e-4dc7-9144-d9bf3223c623",
   "metadata": {},
   "outputs": [],
   "source": [
    "cars = {'car': {'type':  'sedan',\n",
    "                'color': 'blue',\n",
    "                'year':  2003,\n",
    "               },\n",
    "        'truck': {'type': 'pickup',\n",
    "                  'color': 'red',\n",
    "                  'year': 1998,\n",
    "                 }\n",
    "       }"
   ]
  },
  {
   "cell_type": "markdown",
   "id": "5d25869b-f53f-4732-ba23-608664af2324",
   "metadata": {},
   "source": [
    "##### **Which Collection?:** Rewrite `car` as a list of lists in which each nested list contains two elements that represent the corresponding key/value pairs."
   ]
  },
  {
   "cell_type": "code",
   "execution_count": 34,
   "id": "b0cac86f-87c7-45a2-a8e3-bf7108c387b5",
   "metadata": {},
   "outputs": [
    {
     "name": "stdout",
     "output_type": "stream",
     "text": [
      "[['type', 'sedan'], ['color', 'blue'], ['year', 2003]]\n"
     ]
    }
   ],
   "source": [
    "car = {\n",
    "    'type':  'sedan',\n",
    "    'color': 'blue',\n",
    "    'year':  2003,\n",
    "}\n",
    "\n",
    "keys = ['type', 'color', 'year']\n",
    "values = ['sedan', 'blue', 2003]\n",
    "\n",
    "result = [list(item) for item in zip(keys, values)]\n",
    "print(result)"
   ]
  },
  {
   "cell_type": "markdown",
   "id": "27219ab5-6ef1-4302-95fe-ddbb3a1b0431",
   "metadata": {},
   "source": [
    "##### **Divided by Two:** Use a `for` loop to iterate over the `numbers` dictionary and return a list containing each number divided by 2 as an integer. The result should be truncated to an integer. Assign the returned list to a variable named `half_numbers` and print its value using `print`."
   ]
  },
  {
   "cell_type": "code",
   "execution_count": 43,
   "id": "8522b0b8-b286-42e2-916e-fe87bbe08a95",
   "metadata": {},
   "outputs": [
    {
     "name": "stdout",
     "output_type": "stream",
     "text": [
      "[50, 25, 12]\n"
     ]
    }
   ],
   "source": [
    "numbers = {\n",
    "    'high':   100,\n",
    "    'medium': 50,\n",
    "    'low':    25,\n",
    "}\n",
    "\n",
    "half_numbers = []\n",
    "for number in numbers.values():\n",
    "    half_numbers.append(number // 2)\n",
    "\n",
    "print(half_numbers)"
   ]
  },
  {
   "cell_type": "markdown",
   "id": "5e4b269c-76fa-48b3-9eca-dc3c5fc62a2f",
   "metadata": {},
   "source": [
    "##### **Labeled Numbers:** Use a `for` loop to iterate over the `numbers` dictionary and print each element's key/value pair."
   ]
  },
  {
   "cell_type": "code",
   "execution_count": 44,
   "id": "e0c681bf-ba78-40e4-9119-69cabbee90b7",
   "metadata": {},
   "outputs": [
    {
     "name": "stdout",
     "output_type": "stream",
     "text": [
      "A high number is 100.\n",
      "A medium number is 50.\n",
      "A low number is 10.\n"
     ]
    }
   ],
   "source": [
    "numbers = {\n",
    "    'high':   100,\n",
    "    'medium': 50,\n",
    "    'low':    10,\n",
    "}\n",
    "\n",
    "for key,value in numbers.items():\n",
    "    print(f'A {key} number is {value}.')"
   ]
  }
 ],
 "metadata": {
  "kernelspec": {
   "display_name": "Python 3 (ipykernel)",
   "language": "python",
   "name": "python3"
  },
  "language_info": {
   "codemirror_mode": {
    "name": "ipython",
    "version": 3
   },
   "file_extension": ".py",
   "mimetype": "text/x-python",
   "name": "python",
   "nbconvert_exporter": "python",
   "pygments_lexer": "ipython3",
   "version": "3.12.5"
  }
 },
 "nbformat": 4,
 "nbformat_minor": 5
}
