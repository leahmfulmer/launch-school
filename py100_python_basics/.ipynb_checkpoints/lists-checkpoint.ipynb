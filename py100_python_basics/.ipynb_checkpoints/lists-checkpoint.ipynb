{
 "cells": [
  {
   "cell_type": "markdown",
   "id": "aa6154d3-0262-4235-a7a2-2a29c0d2969a",
   "metadata": {},
   "source": [
    "# PY100 - Python Basics\n",
    "### Lists"
   ]
  },
  {
   "cell_type": "markdown",
   "id": "af041153-ad6b-41c8-b73a-ad5c802dfb55",
   "metadata": {},
   "source": [
    "##### **First Element:** Write a function that returns the first element of a list provided as an argument. Be sure to handle the case where the input list is empty."
   ]
  },
  {
   "cell_type": "code",
   "execution_count": 4,
   "id": "d06a737a-d7ee-4a8a-b4df-ea5b026deac2",
   "metadata": {},
   "outputs": [
    {
     "name": "stdout",
     "output_type": "stream",
     "text": [
      "Earth\n",
      "None\n"
     ]
    }
   ],
   "source": [
    "def first(my_list):\n",
    "    if len(my_list) == 0:\n",
    "        return None\n",
    "    else:\n",
    "        return my_list[0]\n",
    "\n",
    "print(first(['Earth', 'Moon', 'Mars']))  # Earth\n",
    "print(first([]))                         # None"
   ]
  },
  {
   "cell_type": "markdown",
   "id": "39f01152-9ed4-4a5f-bf18-926ec5452354",
   "metadata": {},
   "source": [
    "##### **Last Element:** Write a function that returns the last element of a list provided as an argument. Be sure to handle the case where the input list is empty."
   ]
  },
  {
   "cell_type": "code",
   "execution_count": 5,
   "id": "8a4b708f-acd0-49c1-96f9-e3ad53be43cf",
   "metadata": {},
   "outputs": [
    {
     "name": "stdout",
     "output_type": "stream",
     "text": [
      "Mars\n",
      "None\n"
     ]
    }
   ],
   "source": [
    "def last(my_list):\n",
    "    if len(my_list) == 0:\n",
    "        return None\n",
    "    else:\n",
    "        return my_list[-1]\n",
    "\n",
    "print(last(['Earth', 'Moon', 'Mars']))  # Mars\n",
    "print(last([]))                         # None"
   ]
  },
  {
   "cell_type": "markdown",
   "id": "4cc01902-0ff0-40ff-9f95-2a39f2bf691f",
   "metadata": {},
   "source": [
    "##### **Add + Delete:** We are given the following list of energy sources. Write some code to remove `'fossil'` from the list, then add `'geothermal'` to the end of the list."
   ]
  },
  {
   "cell_type": "code",
   "execution_count": 7,
   "id": "e4377f09-eebe-4703-ad66-1777802f348d",
   "metadata": {},
   "outputs": [
    {
     "name": "stdout",
     "output_type": "stream",
     "text": [
      "['solar', 'wind', 'tidal', 'fusion', 'geothermal']\n"
     ]
    }
   ],
   "source": [
    "energy = ['fossil', 'solar', 'wind', 'tidal', 'fusion']\n",
    "energy.remove('fossil')\n",
    "energy.append('geothermal')\n",
    "print(energy)"
   ]
  },
  {
   "cell_type": "markdown",
   "id": "ff171f30-3b1c-4382-bb16-9dcc6fb08ff9",
   "metadata": {},
   "source": [
    "##### **Alphabet:** Split the string alphabet into a list of characters."
   ]
  },
  {
   "cell_type": "code",
   "execution_count": 10,
   "id": "38c4e183-49ce-430f-8d85-ce666a6f9a1d",
   "metadata": {},
   "outputs": [
    {
     "name": "stdout",
     "output_type": "stream",
     "text": [
      "['a', 'b', 'c', 'd', 'e', 'f', 'g', 'h', 'i', 'j', 'k', 'l', 'm', 'n', 'o', 'p', 'q', 'r', 's', 't', 'u', 'v', 'w', 'x', 'y', 'z']\n"
     ]
    }
   ],
   "source": [
    "alphabet = 'abcdefghijklmnopqrstuvwxyz'\n",
    "print(list(alphabet))"
   ]
  },
  {
   "cell_type": "markdown",
   "id": "a346127a-7212-4102-b924-e691eab2af1e",
   "metadata": {},
   "source": [
    "##### **Filter:** Count the number of elements in scores that are 100 or above."
   ]
  },
  {
   "cell_type": "code",
   "execution_count": 11,
   "id": "42bb8563-fc8e-4159-91f6-caa013292404",
   "metadata": {},
   "outputs": [
    {
     "name": "stdout",
     "output_type": "stream",
     "text": [
      "3\n"
     ]
    }
   ],
   "source": [
    "scores = [96, 47, 113, 89, 100, 102]\n",
    "count = 0\n",
    "\n",
    "for score in scores:\n",
    "    if score >=100:\n",
    "        count += 1\n",
    "\n",
    "print(count)"
   ]
  },
  {
   "cell_type": "markdown",
   "id": "fdbe125d-4a49-435e-af54-473c09645429",
   "metadata": {},
   "source": [
    "##### **Vocabulary:** You've been given a list of vocabulary words grouped into sub-lists, by meaning. This is a *two-dimensional list* or a *nested list*. Write some code that iterates through and prints all the words, one per line."
   ]
  },
  {
   "cell_type": "code",
   "execution_count": 14,
   "id": "b3add86f-2535-4981-bb30-71fc3fea20c7",
   "metadata": {},
   "outputs": [
    {
     "name": "stdout",
     "output_type": "stream",
     "text": [
      "happy\n",
      "cheerful\n",
      "merry\n",
      "glad\n",
      "tired\n",
      "sleepy\n",
      "fatigued\n",
      "drained\n",
      "excited\n",
      "eager\n",
      "enthused\n",
      "animated\n"
     ]
    }
   ],
   "source": [
    "vocabulary = [\n",
    "    ['happy', 'cheerful', 'merry', 'glad'],\n",
    "    ['tired', 'sleepy', 'fatigued', 'drained'],\n",
    "    ['excited', 'eager', 'enthused', 'animated'],\n",
    "]\n",
    "\n",
    "for list_item in vocabulary:\n",
    "    for word in list_item:\n",
    "        print(word)"
   ]
  },
  {
   "cell_type": "markdown",
   "id": "22c415fb-4be3-4321-8f49-1f387ee08f4c",
   "metadata": {},
   "source": [
    "##### **Equality:** Predict the output of the code shown below. When you run the code, do you see what you expected? Why or why not?"
   ]
  },
  {
   "cell_type": "code",
   "execution_count": 15,
   "id": "49e82dfe-eb90-4dc5-9cb6-e80fd5b9c773",
   "metadata": {},
   "outputs": [
    {
     "name": "stdout",
     "output_type": "stream",
     "text": [
      "True\n"
     ]
    }
   ],
   "source": [
    "list1 = [2, 6, 4]\n",
    "list2 = [2, 6, 4]\n",
    "\n",
    "print(list1 == list2)    # True"
   ]
  },
  {
   "cell_type": "markdown",
   "id": "565949c6-7ecd-4ebe-bc71-91ff69651adc",
   "metadata": {},
   "source": [
    "The equality output is `True` because equality checks that the objects are of the same type and contain the same elements in the same order. This is true of `list1` and `list2`."
   ]
  },
  {
   "cell_type": "markdown",
   "id": "4ccebf2d-3c39-4344-a711-aecf518ca9cc",
   "metadata": {},
   "source": [
    "##### **Type:** How can you check if a variable holds a value that is a list? Given two variables, verify whether the values they hold are lists."
   ]
  },
  {
   "cell_type": "code",
   "execution_count": 20,
   "id": "79746e0d-aef5-4625-8c10-a4e38513b51b",
   "metadata": {},
   "outputs": [
    {
     "name": "stdout",
     "output_type": "stream",
     "text": [
      "True\n",
      "False\n"
     ]
    }
   ],
   "source": [
    "some_value1 = [0, 1, 0, 0, 1]\n",
    "some_value2 = 'I leave you my Kingdom, take good care of it.'\n",
    "\n",
    "print(type(some_value1) is list)\n",
    "print(type(some_value2) is list)"
   ]
  },
  {
   "cell_type": "markdown",
   "id": "6e858c38-013d-48fc-a078-f775bf4558f7",
   "metadata": {},
   "source": [
    "##### **Travel:** The destinations list contains a list of travel destinations. Write a function that, without using the built-in `in` operator, checks whether a specific destination is included within `destinations`. For example: When checking whether `'Barcelona'` is contained in `destinations`, the expected output is `True`, whereas the expected output for `'Nashville'` is `False`."
   ]
  },
  {
   "cell_type": "code",
   "execution_count": 27,
   "id": "7e6c740c-3304-4b1e-9e99-87ed0e25f501",
   "metadata": {},
   "outputs": [
    {
     "name": "stdout",
     "output_type": "stream",
     "text": [
      "True\n",
      "False\n"
     ]
    }
   ],
   "source": [
    "destinations = ['Prague', 'London', 'Sydney', 'Belfast',\n",
    "                'Rome', 'Aruba', 'Paris', 'Bora Bora',\n",
    "                'Barcelona', 'Rio de Janeiro', 'Marrakesh',\n",
    "                'New York City']\n",
    "\n",
    "def contains(destination, destination_list):\n",
    "    for item in destination_list:\n",
    "        if item == destination:\n",
    "            return True\n",
    "            \n",
    "    return False\n",
    "\n",
    "print(contains('Barcelona', destinations))  # True\n",
    "print(contains('Nashville', destinations))  # False"
   ]
  },
  {
   "cell_type": "markdown",
   "id": "5febac08-dd65-4720-bd47-11df5b8376da",
   "metadata": {},
   "source": [
    "##### **Passcode:** We generated parts of a passcode and now want to combine them into a string. Write some code that creates and prints a string that contains each portion of the passcode separated by hyphens (-)."
   ]
  },
  {
   "cell_type": "code",
   "execution_count": 29,
   "id": "c5fa2376-0e28-480e-a06b-5ff19d7eac42",
   "metadata": {},
   "outputs": [
    {
     "name": "stdout",
     "output_type": "stream",
     "text": [
      "11-jZ5-hQ3f*-8!7g3-p3Fs\n"
     ]
    }
   ],
   "source": [
    "passcode = ['11', 'jZ5', 'hQ3f*', '8!7g3', 'p3Fs']\n",
    "\n",
    "print('-'.join(passcode))"
   ]
  },
  {
   "cell_type": "markdown",
   "id": "8f1330d8-c83b-469b-81cc-4ebad92eeda0",
   "metadata": {},
   "source": [
    "##### **Checking items off the grocery list:** We have a grocery list. As we check off items on that list, we want to remove them from the list. Write code that removes the items from `grocery_list`, one by one, until it is empty. If you print the elements you remove, the expected behavior would look as follows."
   ]
  },
  {
   "cell_type": "code",
   "execution_count": 31,
   "id": "c1caa8c0-1727-408b-9d74-94cc0b78a113",
   "metadata": {},
   "outputs": [
    {
     "name": "stdout",
     "output_type": "stream",
     "text": [
      "paprika\n",
      "tofu\n",
      "garlic\n",
      "quinoa\n",
      "carrots\n",
      "broccoli\n",
      "hummus\n",
      "[]\n"
     ]
    }
   ],
   "source": [
    "grocery_list = ['paprika', 'tofu', 'garlic', 'quinoa',\n",
    "                'carrots', 'broccoli', 'hummus']\n",
    "\n",
    "while grocery_list:\n",
    "    print(grocery_list[0])\n",
    "    grocery_list.pop(0)\n",
    "    \n",
    "print(grocery_list)"
   ]
  }
 ],
 "metadata": {
  "kernelspec": {
   "display_name": "Python 3 (ipykernel)",
   "language": "python",
   "name": "python3"
  },
  "language_info": {
   "codemirror_mode": {
    "name": "ipython",
    "version": 3
   },
   "file_extension": ".py",
   "mimetype": "text/x-python",
   "name": "python",
   "nbconvert_exporter": "python",
   "pygments_lexer": "ipython3",
   "version": "3.12.5"
  }
 },
 "nbformat": 4,
 "nbformat_minor": 5
}
