{
 "cells": [
  {
   "cell_type": "markdown",
   "id": "ec78a6b7-d866-47c6-ba9d-9a87e94fcd0a",
   "metadata": {},
   "source": [
    "# PY100 - Python Basics\n",
    "### Variable Scope"
   ]
  },
  {
   "cell_type": "markdown",
   "id": "5d2bbd14-64b5-4f8b-a230-ce3b402ddda9",
   "metadata": {},
   "source": [
    "##### **What's my value? (Part 1)** What will the following code do and why? Don't run it until you have tried to answer."
   ]
  },
  {
   "cell_type": "code",
   "execution_count": 1,
   "id": "2a9fa9d0-6ceb-4200-89dd-e4778df5cdd5",
   "metadata": {},
   "outputs": [
    {
     "name": "stdout",
     "output_type": "stream",
     "text": [
      "20\n"
     ]
    }
   ],
   "source": [
    "if True:\n",
    "    my_value = 20\n",
    "\n",
    "print(my_value)   # 20"
   ]
  },
  {
   "cell_type": "markdown",
   "id": "7e937f4e-dbcf-4b43-a150-89c7397f2860",
   "metadata": {},
   "source": [
    "The initial condition is `True`, so `my_value` is seemlessly assigned to the value `20`."
   ]
  },
  {
   "cell_type": "markdown",
   "id": "20b67495-9632-4859-8158-b327c02d0785",
   "metadata": {},
   "source": [
    "##### **What's my value? (Part 2)** What will the following code do and why? Don't run it until you have tried to answer."
   ]
  },
  {
   "cell_type": "code",
   "execution_count": 15,
   "id": "3d1c4b60-de81-450c-bcbb-c04c8900eb0a",
   "metadata": {},
   "outputs": [
    {
     "ename": "UnboundLocalError",
     "evalue": "cannot access local variable 'x' where it is not associated with a value",
     "output_type": "error",
     "traceback": [
      "\u001b[0;31m---------------------------------------------------------------------------\u001b[0m",
      "\u001b[0;31mUnboundLocalError\u001b[0m                         Traceback (most recent call last)",
      "Cell \u001b[0;32mIn[15], line 7\u001b[0m\n\u001b[1;32m      4\u001b[0m     x \u001b[38;5;241m=\u001b[39m x \u001b[38;5;241m+\u001b[39m \u001b[38;5;241m5\u001b[39m\n\u001b[1;32m      5\u001b[0m     \u001b[38;5;28mprint\u001b[39m(x)\n\u001b[0;32m----> 7\u001b[0m \u001b[43mmy_function\u001b[49m\u001b[43m(\u001b[49m\u001b[43m)\u001b[49m     \u001b[38;5;66;03m# UnboundLocalError\u001b[39;00m\n",
      "Cell \u001b[0;32mIn[15], line 4\u001b[0m, in \u001b[0;36mmy_function\u001b[0;34m()\u001b[0m\n\u001b[1;32m      3\u001b[0m \u001b[38;5;28;01mdef\u001b[39;00m \u001b[38;5;21mmy_function\u001b[39m():\n\u001b[0;32m----> 4\u001b[0m     x \u001b[38;5;241m=\u001b[39m \u001b[43mx\u001b[49m \u001b[38;5;241m+\u001b[39m \u001b[38;5;241m5\u001b[39m\n\u001b[1;32m      5\u001b[0m     \u001b[38;5;28mprint\u001b[39m(x)\n",
      "\u001b[0;31mUnboundLocalError\u001b[0m: cannot access local variable 'x' where it is not associated with a value"
     ]
    }
   ],
   "source": [
    "x = 10\n",
    "\n",
    "def my_function():\n",
    "    x = x + 5\n",
    "    print(x)\n",
    "\n",
    "my_function()     # UnboundLocalError"
   ]
  },
  {
   "cell_type": "markdown",
   "id": "c3ca38be-d1e3-4573-9565-69e00b66f755",
   "metadata": {},
   "source": [
    "Because we assign `x` within `my_function` (`x = x + 5`), Python believes that `x` is a local variable. It cannot be augmented because it was never defined locally. Thus, we get an error."
   ]
  },
  {
   "cell_type": "markdown",
   "id": "610456dc-be19-4cd1-b165-068edc55a008",
   "metadata": {},
   "source": [
    "##### **What's my value? (Part 3)** What will the following code do and why? Don't run it until you have tried to answer."
   ]
  },
  {
   "cell_type": "code",
   "execution_count": 6,
   "id": "7a851f54-dc5f-411a-acbf-0e3057d350e4",
   "metadata": {},
   "outputs": [
    {
     "name": "stdout",
     "output_type": "stream",
     "text": [
      "1\n"
     ]
    }
   ],
   "source": [
    "def my_function():\n",
    "    a = 1\n",
    "\n",
    "    if True:\n",
    "        print(a)\n",
    "\n",
    "my_function()     # 1"
   ]
  },
  {
   "cell_type": "markdown",
   "id": "aee47f70-72a0-4400-bc2b-d1d7deddef95",
   "metadata": {},
   "source": [
    "The local variable `a` is accessible throughout the `my_function` code block. Since the conditional statement is `True`, `a` is assigned to the value `1`."
   ]
  },
  {
   "cell_type": "markdown",
   "id": "4c8e6a8f-4135-4a38-b863-60bc9815283e",
   "metadata": {},
   "source": [
    "##### **What's my value? (Part 4)** What will the following code do and why? Don't run it until you have tried to answer."
   ]
  },
  {
   "cell_type": "code",
   "execution_count": 7,
   "id": "d5365ae7-f761-4a28-ae26-0cbeb92fae73",
   "metadata": {},
   "outputs": [
    {
     "name": "stdout",
     "output_type": "stream",
     "text": [
      "1\n"
     ]
    }
   ],
   "source": [
    "a = 1\n",
    "\n",
    "def my_function():\n",
    "    print(a)\n",
    "\n",
    "my_function()     # 1"
   ]
  },
  {
   "cell_type": "markdown",
   "id": "c6203248-54d2-4262-abe2-1fb2d6e6aadd",
   "metadata": {},
   "source": [
    "Because `a` is not assigned within `my_function`, the function takes `a` from the global scope."
   ]
  },
  {
   "cell_type": "markdown",
   "id": "c0ca3fe6-14b3-49f8-947f-befea7e19dfc",
   "metadata": {},
   "source": [
    "##### **What's my value? (Part 5)** What will the following code do and why? Don't run it until you have tried to answer."
   ]
  },
  {
   "cell_type": "code",
   "execution_count": 9,
   "id": "bd8703a5-b3e3-413e-b0f0-0b9e77442b40",
   "metadata": {},
   "outputs": [
    {
     "ename": "UnboundLocalError",
     "evalue": "cannot access local variable 'a' where it is not associated with a value",
     "output_type": "error",
     "traceback": [
      "\u001b[0;31m---------------------------------------------------------------------------\u001b[0m",
      "\u001b[0;31mUnboundLocalError\u001b[0m                         Traceback (most recent call last)",
      "Cell \u001b[0;32mIn[9], line 7\u001b[0m\n\u001b[1;32m      4\u001b[0m     \u001b[38;5;28mprint\u001b[39m(a)\n\u001b[1;32m      5\u001b[0m     a \u001b[38;5;241m=\u001b[39m \u001b[38;5;241m2\u001b[39m\n\u001b[0;32m----> 7\u001b[0m \u001b[43mmy_function\u001b[49m\u001b[43m(\u001b[49m\u001b[43m)\u001b[49m     \u001b[38;5;66;03m# Error\u001b[39;00m\n",
      "Cell \u001b[0;32mIn[9], line 4\u001b[0m, in \u001b[0;36mmy_function\u001b[0;34m()\u001b[0m\n\u001b[1;32m      3\u001b[0m \u001b[38;5;28;01mdef\u001b[39;00m \u001b[38;5;21mmy_function\u001b[39m():\n\u001b[0;32m----> 4\u001b[0m     \u001b[38;5;28mprint\u001b[39m(\u001b[43ma\u001b[49m)\n\u001b[1;32m      5\u001b[0m     a \u001b[38;5;241m=\u001b[39m \u001b[38;5;241m2\u001b[39m\n",
      "\u001b[0;31mUnboundLocalError\u001b[0m: cannot access local variable 'a' where it is not associated with a value"
     ]
    }
   ],
   "source": [
    "a = 1\n",
    "\n",
    "def my_function():\n",
    "    print(a)\n",
    "    a = 2\n",
    "\n",
    "my_function()     # UnboundLocalError"
   ]
  },
  {
   "cell_type": "markdown",
   "id": "8636048c-9426-4eca-a452-fcdd83cb16bd",
   "metadata": {},
   "source": [
    "Because we assign `a` within `my_function` (`a = 2`), Python believes that `a` is a local variable. It cannot be printed because it was never defined locally. Thus, we get an error."
   ]
  },
  {
   "cell_type": "markdown",
   "id": "ebe9e870-6540-4f13-a0e3-f5b3dbca4ade",
   "metadata": {},
   "source": [
    "##### **What's my value? (Part 6)** What will the following code do and why? Don't run it until you have tried to answer."
   ]
  },
  {
   "cell_type": "code",
   "execution_count": 10,
   "id": "77c5a062-a219-4f79-8426-3ce08baf2e28",
   "metadata": {},
   "outputs": [
    {
     "name": "stdout",
     "output_type": "stream",
     "text": [
      "1\n"
     ]
    }
   ],
   "source": [
    "a = 1\n",
    "\n",
    "def my_function():\n",
    "    a = 2\n",
    "\n",
    "my_function()\n",
    "print(a)          # 1"
   ]
  },
  {
   "cell_type": "markdown",
   "id": "66162ed4-6ac4-4758-9207-ab9c4a480326",
   "metadata": {},
   "source": [
    "The local variable `a` is created and destroyed with the execution of `my_function`. Throughout the run of `my_function`, the global variable `a` maintains its value."
   ]
  },
  {
   "cell_type": "markdown",
   "id": "dbf33584-38f2-400b-83f0-7230d002ba49",
   "metadata": {},
   "source": [
    "##### **What's my value? (Part 7)** What will the following code do and why? Don't run it until you have tried to answer."
   ]
  },
  {
   "cell_type": "code",
   "execution_count": 11,
   "id": "4a31aead-249e-4e2d-aeef-a99e693e6232",
   "metadata": {},
   "outputs": [
    {
     "name": "stdout",
     "output_type": "stream",
     "text": [
      "2\n"
     ]
    }
   ],
   "source": [
    "a = 1\n",
    "\n",
    "def my_function():\n",
    "    global a\n",
    "    a = 2\n",
    "\n",
    "my_function()\n",
    "print(a)          # 2"
   ]
  },
  {
   "cell_type": "markdown",
   "id": "ebf71659-8c52-448a-a41f-4fb0e82286dd",
   "metadata": {},
   "source": [
    "The use of `global a` makes it possible to reassign the global variable `a` within `my_function`. "
   ]
  },
  {
   "cell_type": "markdown",
   "id": "0db62221-805a-412b-8ede-d4325e52a297",
   "metadata": {},
   "source": [
    "##### **What's my value? (Part 8)** What will the following code do and why? Don't run it until you have tried to answer."
   ]
  },
  {
   "cell_type": "code",
   "execution_count": 14,
   "id": "14fab035-277f-443e-bde7-c7269441ff70",
   "metadata": {},
   "outputs": [
    {
     "ename": "NameError",
     "evalue": "name 'greeting' is not defined",
     "output_type": "error",
     "traceback": [
      "\u001b[0;31m---------------------------------------------------------------------------\u001b[0m",
      "\u001b[0;31mNameError\u001b[0m                                 Traceback (most recent call last)",
      "Cell \u001b[0;32mIn[14], line 1\u001b[0m\n\u001b[0;32m----> 1\u001b[0m \u001b[38;5;28mprint\u001b[39m(\u001b[43mgreeting\u001b[49m)\n\u001b[1;32m      3\u001b[0m greeting \u001b[38;5;241m=\u001b[39m \u001b[38;5;124m'\u001b[39m\u001b[38;5;124mHello world!\u001b[39m\u001b[38;5;124m'\u001b[39m    \u001b[38;5;66;03m# Error\u001b[39;00m\n",
      "\u001b[0;31mNameError\u001b[0m: name 'greeting' is not defined"
     ]
    }
   ],
   "source": [
    "print(greeting)\n",
    "\n",
    "greeting = 'Hello world!'    # NameError"
   ]
  },
  {
   "cell_type": "markdown",
   "id": "ddab5fc8-b1ee-4ff6-9f37-c595850b5ed7",
   "metadata": {},
   "source": [
    "Because `greeting` is defined after `print(greeting)`, it doesn't exist at the point that it is called."
   ]
  },
  {
   "cell_type": "markdown",
   "id": "e773e799-e8e3-435a-b2f4-2c99c3e6c519",
   "metadata": {},
   "source": [
    "##### **What's my value? (Part 9)** What will the following code do and why? Don't run it until you have tried to answer."
   ]
  },
  {
   "cell_type": "code",
   "execution_count": 16,
   "id": "02147674-54c3-4f82-b24e-a1d8fe00e8bf",
   "metadata": {},
   "outputs": [
    {
     "name": "stdout",
     "output_type": "stream",
     "text": [
      "7\n"
     ]
    }
   ],
   "source": [
    "a = 7\n",
    "\n",
    "def my_function(b):\n",
    "    b += 10\n",
    "\n",
    "my_function(a)\n",
    "print(a)          # 7"
   ]
  },
  {
   "cell_type": "markdown",
   "id": "6275400c-63b0-4bff-acb0-0b35264c8d4d",
   "metadata": {},
   "source": [
    "The local variable `b` is created and destroyed with the execution of `my_function`. Throughout the run of `my_function`, the global variable `a` maintains its value."
   ]
  },
  {
   "cell_type": "markdown",
   "id": "fdee2f90-b4d7-45bf-9416-7ca55fbc0cba",
   "metadata": {},
   "source": [
    "##### **What's my value? (Part 10)** What will the following code do and why? Don't run it until you have tried to answer."
   ]
  },
  {
   "cell_type": "code",
   "execution_count": 20,
   "id": "4ab7cdd3-a092-4caa-8d14-6017550501c5",
   "metadata": {},
   "outputs": [
    {
     "name": "stdout",
     "output_type": "stream",
     "text": [
      "[10, 2, 3]\n"
     ]
    }
   ],
   "source": [
    "b = [1, 2, 3]\n",
    "\n",
    "def my_function():\n",
    "    b[0] = 10\n",
    "\n",
    "my_function()\n",
    "print(b)          # [10, 2, 3]"
   ]
  },
  {
   "cell_type": "markdown",
   "id": "17889532-06d2-4927-b161-bfe388324287",
   "metadata": {},
   "source": [
    "Because lists are mutable, they can be changed within a function. In the previous examples, `a` was an integer, an imutable object, and thus could not be changed within `my_function`."
   ]
  }
 ],
 "metadata": {
  "kernelspec": {
   "display_name": "Python 3 (ipykernel)",
   "language": "python",
   "name": "python3"
  },
  "language_info": {
   "codemirror_mode": {
    "name": "ipython",
    "version": 3
   },
   "file_extension": ".py",
   "mimetype": "text/x-python",
   "name": "python",
   "nbconvert_exporter": "python",
   "pygments_lexer": "ipython3",
   "version": "3.12.5"
  }
 },
 "nbformat": 4,
 "nbformat_minor": 5
}
