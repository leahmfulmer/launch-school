{
 "cells": [
  {
   "cell_type": "markdown",
   "id": "5f2e029a-fcce-4db6-80bd-56ca2b0e1efb",
   "metadata": {},
   "source": [
    "# PY100 - Python Basics\n",
    "### Strings"
   ]
  },
  {
   "cell_type": "markdown",
   "id": "02ad9b98-d911-45a4-b226-9551579e5297",
   "metadata": {},
   "source": [
    "##### **Length:** Determine the length of the string `\"These aren't the droids you're looking for.\"`."
   ]
  },
  {
   "cell_type": "code",
   "execution_count": 2,
   "id": "df4cc1f5-192d-4984-b171-23afc5beaac3",
   "metadata": {},
   "outputs": [
    {
     "name": "stdout",
     "output_type": "stream",
     "text": [
      "43\n"
     ]
    }
   ],
   "source": [
    "quote = \"These aren't the droids you're looking for.\"\n",
    "print(len(quote))"
   ]
  },
  {
   "cell_type": "markdown",
   "id": "28d6d89b-1d91-4211-b245-89805bdfc044",
   "metadata": {},
   "source": [
    "##### **ALL CAPS:** Convert the string `'confetti floating everywhere'` to all upper case."
   ]
  },
  {
   "cell_type": "code",
   "execution_count": 4,
   "id": "02bb5863-9fbe-4cbc-abb6-24905e7f0429",
   "metadata": {},
   "outputs": [
    {
     "name": "stdout",
     "output_type": "stream",
     "text": [
      "CONFETTI FLOATING EVERYWHERE\n"
     ]
    }
   ],
   "source": [
    "string = 'confetti floating everywhere'\n",
    "print(string.upper())"
   ]
  },
  {
   "cell_type": "markdown",
   "id": "871d6ecf-3685-46fb-b76b-95a6fd3909eb",
   "metadata": {},
   "source": [
    "##### **Ignoring Case:** Using the following code, compare the value of `name` with the string `'RoGeR'` while ignoring the case of both strings. Print `true` if the values are the same; print `false` if they aren't. Next, perform a case-insensitive comparison between the value of `name` and the string `'DAVE'`."
   ]
  },
  {
   "cell_type": "code",
   "execution_count": 7,
   "id": "e6ab4c6b-0aa1-4c15-a84b-44df5cd36b1c",
   "metadata": {},
   "outputs": [
    {
     "name": "stdout",
     "output_type": "stream",
     "text": [
      "true\n",
      "false\n"
     ]
    }
   ],
   "source": [
    "name = 'Roger'\n",
    "string1 = 'RoGeR'\n",
    "string2 = 'DAVE'\n",
    "\n",
    "def case_insensitive_comparison(string):\n",
    "    if name.casefold() == string.casefold():\n",
    "        print('true')\n",
    "    else:\n",
    "        print('false')\n",
    "\n",
    "case_insensitive_comparison(string1)\n",
    "case_insensitive_comparison(string2)"
   ]
  },
  {
   "cell_type": "code",
   "execution_count": 23,
   "id": "12fbba57-4abf-4c42-8254-d969984613ee",
   "metadata": {},
   "outputs": [],
   "source": [
    "# Alternative approach\n",
    "\n",
    "# name = 'Roger'\n",
    "\n",
    "# print(name.casefold() == 'RoGeR'.casefold())      # True\n",
    "# print(name.casefold() == 'DAVE'.casefold())       # False"
   ]
  },
  {
   "cell_type": "markdown",
   "id": "1536294e-142e-4676-85fd-3749216620fa",
   "metadata": {},
   "source": [
    "##### **Multiline String:** How can you assign the following rhyme to a single variable while preserving the line break?"
   ]
  },
  {
   "cell_type": "code",
   "execution_count": 9,
   "id": "9448b075-4229-441c-a434-8a4182468030",
   "metadata": {},
   "outputs": [
    {
     "name": "stdout",
     "output_type": "stream",
     "text": [
      "\n",
      "A pirate I was meant to be!\n",
      "Trim the sails and roam the sea!\n",
      "\n"
     ]
    }
   ],
   "source": [
    "rhyme = \"\"\"\n",
    "A pirate I was meant to be!\n",
    "Trim the sails and roam the sea!\n",
    "\"\"\"\n",
    "print(rhyme)"
   ]
  },
  {
   "cell_type": "markdown",
   "id": "f8dcc387-3d12-4109-8986-b628378f04e0",
   "metadata": {},
   "source": [
    "##### **Contains Character:** Write code that checks whether the string `char_sequence` contains the character `x`."
   ]
  },
  {
   "cell_type": "code",
   "execution_count": 10,
   "id": "bf3ee4d9-56f4-403d-9222-d6a7f46554ad",
   "metadata": {},
   "outputs": [
    {
     "name": "stdout",
     "output_type": "stream",
     "text": [
      "True\n"
     ]
    }
   ],
   "source": [
    "char_sequence = 'TXkgaG92ZXJjcmFmdCBpcyBmdWxsIG9mIGVlbHMu'\n",
    "print('x' in char_sequence)"
   ]
  },
  {
   "cell_type": "markdown",
   "id": "ba38b077-4fec-4067-ae06-808814e324ce",
   "metadata": {},
   "source": [
    "##### **Is Empty?:** Write a function that checks whether a string is empty or not."
   ]
  },
  {
   "cell_type": "code",
   "execution_count": 29,
   "id": "ed4755ee-7b7e-4f02-9b92-9a0de8c51619",
   "metadata": {},
   "outputs": [
    {
     "name": "stdout",
     "output_type": "stream",
     "text": [
      "False\n",
      "False\n",
      "True\n"
     ]
    }
   ],
   "source": [
    "def is_empty(string):\n",
    "    if string:\n",
    "        return False\n",
    "    else:\n",
    "        return True\n",
    "\n",
    "print(is_empty('mars'))  # False\n",
    "print(is_empty('  '))    # False\n",
    "print(is_empty(''))      # True"
   ]
  },
  {
   "cell_type": "code",
   "execution_count": 24,
   "id": "27ee224b-cb22-4d6f-9905-27f8082678e9",
   "metadata": {},
   "outputs": [],
   "source": [
    "# Alternative approach\n",
    "\n",
    "# def is_empty(string):\n",
    "#     return not string"
   ]
  },
  {
   "cell_type": "markdown",
   "id": "7a3be5dd-9e48-494b-b6fd-28048c0a6aa6",
   "metadata": {},
   "source": [
    "##### **Is Empty or Blank?:** Write an `is_empty_or_blank` function to determine whether a string is either empty or consists entirely of spaces."
   ]
  },
  {
   "cell_type": "code",
   "execution_count": 30,
   "id": "8a3a69a3-b262-42a0-a798-376789a838fc",
   "metadata": {},
   "outputs": [
    {
     "name": "stdout",
     "output_type": "stream",
     "text": [
      "False\n",
      "True\n",
      "True\n"
     ]
    }
   ],
   "source": [
    "def is_empty_or_blank(string):\n",
    "    return not string or string.isspace()\n",
    "\n",
    "print(is_empty_or_blank('mars'))  # False\n",
    "print(is_empty_or_blank('  '))    # True\n",
    "print(is_empty_or_blank(''))      # True"
   ]
  },
  {
   "cell_type": "markdown",
   "id": "0c5018c3-1527-429e-b44d-e13bb639b6f3",
   "metadata": {},
   "source": [
    "##### **Capitalize Words:** Write code that capitalizes the words in the string `'launch school tech & talk'`, so that you get the string `'Launch School Tech & Talk'`."
   ]
  },
  {
   "cell_type": "code",
   "execution_count": 31,
   "id": "a18e66f3-61fb-4d3d-bd43-49bbd7aee7db",
   "metadata": {},
   "outputs": [
    {
     "name": "stdout",
     "output_type": "stream",
     "text": [
      "Launch School Tech & Talk\n"
     ]
    }
   ],
   "source": [
    "string = 'launch school tech & talk'\n",
    "print(string.title())"
   ]
  },
  {
   "cell_type": "markdown",
   "id": "1c792a94-7176-42ac-965b-28a4a1d345e7",
   "metadata": {},
   "source": [
    "##### **Check Prefix:** Write a function that checks whether a string starts with a specific prefix."
   ]
  },
  {
   "cell_type": "code",
   "execution_count": 32,
   "id": "d2becf5c-7897-4d64-a254-3011520c108c",
   "metadata": {},
   "outputs": [
    {
     "name": "stdout",
     "output_type": "stream",
     "text": [
      "True\n",
      "False\n",
      "True\n"
     ]
    }
   ],
   "source": [
    "def starts_with(string, prefix):\n",
    "    return string.startswith(prefix)\n",
    "\n",
    "print(starts_with(\"launch\", \"la\"))   # True\n",
    "print(starts_with(\"school\", \"sah\"))  # False\n",
    "print(starts_with(\"school\", \"sch\"))  # True"
   ]
  },
  {
   "cell_type": "markdown",
   "id": "a7ddaa60-d5b9-49c9-b935-391438818842",
   "metadata": {},
   "source": [
    "##### **Count Substrings:** Write a function that counts the number of occurrences of a substring in a string."
   ]
  },
  {
   "cell_type": "code",
   "execution_count": 50,
   "id": "6aa8f106-7849-4005-996b-2ee5a0a121da",
   "metadata": {},
   "outputs": [
    {
     "name": "stdout",
     "output_type": "stream",
     "text": [
      "3\n",
      "2\n",
      "0\n"
     ]
    }
   ],
   "source": [
    "def count_substrings(string, substring):\n",
    "    count = 0\n",
    "    \n",
    "    while substring in string:\n",
    "        index = string.find(substring) # find substring in string\n",
    "        string = string[:index] + string[index + len(substring):] # remove substring\n",
    "        count += 1 # increment count\n",
    "\n",
    "    return count\n",
    "\n",
    "print(count_substrings(\"lemon lemon lemon\", \"lemon\")) # 3\n",
    "print(count_substrings(\"laLAlaLA\", \"la\")) # 2\n",
    "print(count_substrings(\"launch\", \"uno\")) # 0"
   ]
  },
  {
   "cell_type": "code",
   "execution_count": 51,
   "id": "5685ce83-3762-498d-a52d-ac35d548c388",
   "metadata": {},
   "outputs": [],
   "source": [
    "# Alternative approach\n",
    "\n",
    "# def count_substrings(string, substring):\n",
    "#     return string.count(substring)"
   ]
  }
 ],
 "metadata": {
  "kernelspec": {
   "display_name": "Python 3 (ipykernel)",
   "language": "python",
   "name": "python3"
  },
  "language_info": {
   "codemirror_mode": {
    "name": "ipython",
    "version": 3
   },
   "file_extension": ".py",
   "mimetype": "text/x-python",
   "name": "python",
   "nbconvert_exporter": "python",
   "pygments_lexer": "ipython3",
   "version": "3.12.5"
  }
 },
 "nbformat": 4,
 "nbformat_minor": 5
}
