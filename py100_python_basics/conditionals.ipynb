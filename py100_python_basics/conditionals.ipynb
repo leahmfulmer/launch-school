{
 "cells": [
  {
   "cell_type": "markdown",
   "id": "108d23b7-b2a4-4ba1-8d95-8b42844fa2c4",
   "metadata": {},
   "source": [
    "# PY100 - Python Basics\n",
    "### Conditionals"
   ]
  },
  {
   "cell_type": "markdown",
   "id": "eccfb964-d055-40b9-bec3-dc7aa19958eb",
   "metadata": {},
   "source": [
    "##### **Truthy vs. Falsy:** Without looking at your notes or the official documentation, try to recall all values that count as *falsy* in Python."
   ]
  },
  {
   "cell_type": "markdown",
   "id": "3d71e5f8-17b9-4860-ad1b-a1a4acc33753",
   "metadata": {},
   "source": [
    "As I recall, the following count as falsy:\n",
    "\n",
    "* `False`\n",
    "* `None`\n",
    "* `0` and `0.0`\n",
    "* Empty collections (including strings): `''`, `[]`, `{}`, `()`, `set()`, `range(0)`"
   ]
  },
  {
   "cell_type": "markdown",
   "id": "d98dfb05-e282-44b6-946c-b7a65898cb10",
   "metadata": {},
   "source": [
    "##### **Yes? No? Part 1:** The code provided below randomly initializes `random_number` to either `0` or `1` each time it is executed. Write an `if` statement that prints `Yes!` if `random_number` is `1`, and `No.` if random_number is `0`."
   ]
  },
  {
   "cell_type": "code",
   "execution_count": 5,
   "id": "6440b25c-9f3a-4c00-a74c-634e1eb9eb6c",
   "metadata": {},
   "outputs": [
    {
     "name": "stdout",
     "output_type": "stream",
     "text": [
      "Yes!\n"
     ]
    }
   ],
   "source": [
    "import random\n",
    "random_number = random.randint(0, 1)\n",
    "\n",
    "if random_number == 1:\n",
    "    print('Yes!')\n",
    "else:\n",
    "    print('No.')"
   ]
  },
  {
   "cell_type": "markdown",
   "id": "d2bdd7c7-bff5-47f2-8b2e-0d0d0eb2fcf6",
   "metadata": {},
   "source": [
    "##### **Yes? No? Part 2:** Rewrite your code from the previous exercise to use a ternary expression."
   ]
  },
  {
   "cell_type": "code",
   "execution_count": 6,
   "id": "70992be6-c3df-42f3-a581-bf974b89118e",
   "metadata": {},
   "outputs": [
    {
     "name": "stdout",
     "output_type": "stream",
     "text": [
      "Yes!\n"
     ]
    }
   ],
   "source": [
    "random_number = random.randint(0, 1)\n",
    "result = 'Yes!' if random_number == 1 else 'No.'\n",
    "print(result)"
   ]
  },
  {
   "cell_type": "code",
   "execution_count": 8,
   "id": "6f70951a-30cc-4f22-9015-446a7e3464ab",
   "metadata": {},
   "outputs": [
    {
     "name": "stdout",
     "output_type": "stream",
     "text": [
      "Yes!\n"
     ]
    }
   ],
   "source": [
    "# Note: It's enough to write the statement without '== 1'\n",
    "result = 'Yes!' if random_number else 'No.'\n",
    "print(result)"
   ]
  },
  {
   "cell_type": "markdown",
   "id": "c28f053b-bedd-4ecf-9da6-cc68a257ce7f",
   "metadata": {},
   "source": [
    "##### **Check the Weather Part 1:** Initialize a variable `weather` with a string value being `'sunny'`, `'rainy'`, or whatever weather condition you choose. Then, write an `if` statement that prints:\n",
    "\n",
    "##### * `It's a beautiful day!` if `weather`'s value is `'sunny'`\n",
    "##### * `Grab your umbrella.` if `weather`'s value is `'rainy'`\n",
    "##### * `Let's stay inside.` if `weather`'s value is anything else\n",
    "\n",
    "##### Test your code with different values for `weather`.\n"
   ]
  },
  {
   "cell_type": "code",
   "execution_count": 19,
   "id": "6d78e29c-5288-44a0-9d1a-9f62f5cbf701",
   "metadata": {},
   "outputs": [
    {
     "name": "stdout",
     "output_type": "stream",
     "text": [
      "It's a beautiful day!\n"
     ]
    }
   ],
   "source": [
    "weather_list = ['sunny', 'rainy', 'cloudy', 'snowy']\n",
    "weather = random.choice(weather_list)\n",
    "\n",
    "if weather == 'sunny':\n",
    "    print(\"It's a beautiful day!\")\n",
    "elif weather == 'rainy':\n",
    "    print(\"Grab your umbrella.\")\n",
    "else:\n",
    "    print(\"Let's stay inside.\")"
   ]
  },
  {
   "cell_type": "markdown",
   "id": "135bbe40-25c1-41ce-ad70-8e72671a0629",
   "metadata": {},
   "source": [
    "##### **Match-Case:** Examine the code shown below. Without running it, determine what it will print. If you're not sure, refer to our Python book."
   ]
  },
  {
   "cell_type": "code",
   "execution_count": 22,
   "id": "22ce1947-ae98-4e69-a673-e45925022455",
   "metadata": {},
   "outputs": [
    {
     "name": "stdout",
     "output_type": "stream",
     "text": [
      "neigh\n"
     ]
    }
   ],
   "source": [
    "animal = 'horse'\n",
    "\n",
    "match animal:\n",
    "    case 'duck':\n",
    "        print('quack')\n",
    "    case 'squirrel':\n",
    "        print('nook nook')\n",
    "    case 'horse':\n",
    "        print('neigh')\n",
    "    case 'bird':\n",
    "        print('tweet tweet')\n",
    "    case _:\n",
    "        print('*cricket*')     ## neigh"
   ]
  },
  {
   "cell_type": "markdown",
   "id": "fccceef0-37f6-4af3-a0af-c2a899e47608",
   "metadata": {},
   "source": [
    "##### **Check the Weather Part 2:** Take your code from the previous *Check the Weather* exercise and rewrite it as a match-case statement. Feel free to add more cases besides `'sunny'` and `'rainy'`."
   ]
  },
  {
   "cell_type": "code",
   "execution_count": 39,
   "id": "58eb28a6-8ddb-4b7b-af18-7069d9c3017f",
   "metadata": {},
   "outputs": [
    {
     "name": "stdout",
     "output_type": "stream",
     "text": [
      "It's a beautiful day!\n",
      "sunny\n"
     ]
    }
   ],
   "source": [
    "weather_list = ['sunny', 'rainy', 'cloudy', 'snowy']\n",
    "weather = random.choice(weather_list)\n",
    "\n",
    "match weather:\n",
    "    case 'sunny':\n",
    "        print(\"It's a beautiful day!\")\n",
    "    case 'rainy':\n",
    "        print(\"Grab your umbrella.\")\n",
    "    case _:\n",
    "        print(\"Let's stay inside.\")"
   ]
  },
  {
   "cell_type": "markdown",
   "id": "767747ac-248f-42b3-bddf-3a52bf5aebc4",
   "metadata": {},
   "source": [
    "##### **Logical Conditions 1:** Predict the output of the following code:"
   ]
  },
  {
   "cell_type": "code",
   "execution_count": 40,
   "id": "b12d7493-eb6a-4bcc-ad6b-4e7b787c4e74",
   "metadata": {},
   "outputs": [
    {
     "name": "stdout",
     "output_type": "stream",
     "text": [
      "Yes!\n"
     ]
    }
   ],
   "source": [
    "if False or True:\n",
    "    print('Yes!')\n",
    "else:\n",
    "    print('No...')    # Yes!"
   ]
  },
  {
   "cell_type": "markdown",
   "id": "b373e7f2-b233-43c2-ac5d-35d0f1da894e",
   "metadata": {},
   "source": [
    "##### **Logical Conditions 2:** Predict the output of the following code:"
   ]
  },
  {
   "cell_type": "code",
   "execution_count": 41,
   "id": "5bbf32e6-b4dd-4fc2-9fbe-4047f664f821",
   "metadata": {},
   "outputs": [
    {
     "name": "stdout",
     "output_type": "stream",
     "text": [
      "No...\n"
     ]
    }
   ],
   "source": [
    "if True and False:\n",
    "    print('Yes!')\n",
    "else:\n",
    "    print('No...')    # No..."
   ]
  },
  {
   "cell_type": "markdown",
   "id": "0faac72f-7b45-46a8-b995-bcc15f95ea7b",
   "metadata": {},
   "source": [
    "##### **Logical Conditions 3:** Without running the following code, determine what will be printed."
   ]
  },
  {
   "cell_type": "code",
   "execution_count": 42,
   "id": "a8a824df-9b3b-4a2c-97dc-1aa40ad88b8b",
   "metadata": {},
   "outputs": [
    {
     "name": "stdout",
     "output_type": "stream",
     "text": [
      "$3.99\n"
     ]
    }
   ],
   "source": [
    "sale = True\n",
    "admission_price = 5.25 if not sale else 3.99\n",
    "\n",
    "print(f\"${admission_price}\")    # $3.99"
   ]
  },
  {
   "cell_type": "markdown",
   "id": "fdf255b1-6192-4fbd-93fd-c7f44a73601e",
   "metadata": {},
   "source": [
    "##### **Are we moving?:** Determine what the following code snippet prints. First solve it in your head or on paper, then run it in your Python environment to check the result."
   ]
  },
  {
   "cell_type": "code",
   "execution_count": 43,
   "id": "14f824e8-8c60-4090-b278-5da2e9b4cb14",
   "metadata": {},
   "outputs": [
    {
     "name": "stdout",
     "output_type": "stream",
     "text": [
      "True\n"
     ]
    }
   ],
   "source": [
    "speed = 0\n",
    "acceleration = 24\n",
    "braking_force = 19\n",
    "is_moving = braking_force < acceleration and (speed > 0 or acceleration > 0)\n",
    "print(is_moving)         # True"
   ]
  },
  {
   "cell_type": "markdown",
   "id": "911af94d-f2fd-4df7-988a-fdb5286e3ba6",
   "metadata": {},
   "source": [
    "##### **Bonus question:** Do we need the parentheses in the boolean expression or could we have written the following?:\n",
    "\n",
    "`is_moving = braking_force < acceleration and speed > 0 or acceleration > 0`"
   ]
  },
  {
   "cell_type": "markdown",
   "id": "eb315f9d-5746-4764-9946-6f186fe56a3f",
   "metadata": {},
   "source": [
    "We do need the parentheses because `and` has a higher comparison operator precedence than `or`."
   ]
  }
 ],
 "metadata": {
  "kernelspec": {
   "display_name": "Python 3 (ipykernel)",
   "language": "python",
   "name": "python3"
  },
  "language_info": {
   "codemirror_mode": {
    "name": "ipython",
    "version": 3
   },
   "file_extension": ".py",
   "mimetype": "text/x-python",
   "name": "python",
   "nbconvert_exporter": "python",
   "pygments_lexer": "ipython3",
   "version": "3.12.5"
  }
 },
 "nbformat": 4,
 "nbformat_minor": 5
}
