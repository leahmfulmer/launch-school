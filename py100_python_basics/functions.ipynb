{
 "cells": [
  {
   "cell_type": "markdown",
   "id": "98687436-4171-4ff2-89e4-1b3d2186f016",
   "metadata": {},
   "source": [
    "# PY100 - Python Basics\n",
    "### Functions"
   ]
  },
  {
   "cell_type": "markdown",
   "id": "f8a2092e-a3c5-4e5e-ba5b-1e09a7af8136",
   "metadata": {},
   "source": [
    "##### **Multiply:** Examine the function invocation below. Write the function `multiply`, such that it accepts two arguments and returns the product of its arguments. You may assume that the function arguments will always be numbers."
   ]
  },
  {
   "cell_type": "code",
   "execution_count": 32,
   "id": "33101117-4357-4518-9110-06206661dc70",
   "metadata": {},
   "outputs": [
    {
     "data": {
      "text/plain": [
       "48"
      ]
     },
     "execution_count": 32,
     "metadata": {},
     "output_type": "execute_result"
    }
   ],
   "source": [
    "def multiply(num1, num2):\n",
    "    return(num1 * num2)\n",
    "\n",
    "multiply(12, 4)"
   ]
  },
  {
   "cell_type": "markdown",
   "id": "dcb9caf9-afd3-4106-aac3-ac2d3ed95232",
   "metadata": {},
   "source": [
    "##### **Print Quote:** Write a function that prints Bruce Eckel's quote `'Python is executable pseudocode.'`. What is the return value of the function?"
   ]
  },
  {
   "cell_type": "code",
   "execution_count": 33,
   "id": "336209e6-85d4-4e72-b106-128fab95e716",
   "metadata": {},
   "outputs": [
    {
     "name": "stdout",
     "output_type": "stream",
     "text": [
      "Python is executable pseudocode.\n"
     ]
    }
   ],
   "source": [
    "def bruce_eckel_quote():\n",
    "    print('Python is executable pseudocode.')\n",
    "\n",
    "bruce_eckel_quote()"
   ]
  },
  {
   "cell_type": "markdown",
   "id": "2a5df3c7-eba1-4785-b46a-8c77a8c701e7",
   "metadata": {},
   "source": [
    "The function's return value is `None`."
   ]
  },
  {
   "cell_type": "markdown",
   "id": "e332e03f-0895-4164-a691-2cd414e348d4",
   "metadata": {},
   "source": [
    "##### **Cite the Author:** Let's generalize the function from the previous exercise. Implement a function named `cite` that takes two string arguments: the author of the quote and what they said. It then prints the quote, as shown below."
   ]
  },
  {
   "cell_type": "code",
   "execution_count": 34,
   "id": "ccc5f61f-d184-4d8a-ae76-129059a7ca2c",
   "metadata": {},
   "outputs": [
    {
     "name": "stdout",
     "output_type": "stream",
     "text": [
      "Bruce Eckel said: \"Python is executable pseudocode.\"\n"
     ]
    }
   ],
   "source": [
    "def cite(author, quote):\n",
    "    print(f'{author} said: \"{quote}\"')\n",
    "\n",
    "cite('Bruce Eckel', 'Python is executable pseudocode.')"
   ]
  },
  {
   "cell_type": "markdown",
   "id": "1cc688ba-9b87-4ae0-b4da-7c9f1fb2ec97",
   "metadata": {},
   "source": [
    "##### **Squared Number:** Write a function that accepts a single argument, a number, and returns the result of multiplying its argument by an exponent of 2 (also known as squaring the number or raising the number to the power of 2)."
   ]
  },
  {
   "cell_type": "code",
   "execution_count": 35,
   "id": "e1d8756a-c773-4bb8-b7f2-01b506d79742",
   "metadata": {},
   "outputs": [
    {
     "data": {
      "text/plain": [
       "9"
      ]
     },
     "execution_count": 35,
     "metadata": {},
     "output_type": "execute_result"
    }
   ],
   "source": [
    "def squared_number(num):\n",
    "    return num**2\n",
    "\n",
    "squared_number(3)"
   ]
  },
  {
   "cell_type": "markdown",
   "id": "3c382d4c-1e47-4f53-8c08-bdefb7b290b1",
   "metadata": {},
   "source": [
    "##### **Display Division:** Without running the following code, determine what it will print:"
   ]
  },
  {
   "cell_type": "code",
   "execution_count": 36,
   "id": "cd96b66a-012a-4a36-870a-305e45473487",
   "metadata": {},
   "outputs": [
    {
     "data": {
      "text/plain": [
       "<function __main__.multiples_of_three()>"
      ]
     },
     "execution_count": 36,
     "metadata": {},
     "output_type": "execute_result"
    }
   ],
   "source": [
    "def multiples_of_three():\n",
    "    divisor = 1\n",
    "\n",
    "    for dividend in range(3, 31, 3):\n",
    "        print(f'{dividend} / {divisor} = 3')\n",
    "        divisor += 1\n",
    "\n",
    "multiples_of_three   # There won't be an output because multiples_of_three isn't being called.'"
   ]
  },
  {
   "cell_type": "markdown",
   "id": "d501e463-0f7c-4f80-bbf8-776f61fac454",
   "metadata": {},
   "source": [
    "##### **Three-Way Comparison:** Write a function that compares the length of two strings. It should return -1 if the first string is shorter, 1 if the second string is shorter, and 0 if they're of equal length."
   ]
  },
  {
   "cell_type": "code",
   "execution_count": 37,
   "id": "633df356-f474-449c-8fa7-5f36a127cd9d",
   "metadata": {},
   "outputs": [],
   "source": [
    "def compare_by_length(str1, str2):\n",
    "    if len(str1) < len(str2):\n",
    "        return -1\n",
    "    elif len(str2) < len(str1):\n",
    "        return 1\n",
    "    else:\n",
    "        return 0"
   ]
  },
  {
   "cell_type": "code",
   "execution_count": 38,
   "id": "5b6af495-065d-466d-8287-4959d170d8b2",
   "metadata": {},
   "outputs": [
    {
     "name": "stdout",
     "output_type": "stream",
     "text": [
      "-1\n",
      "1\n",
      "0\n"
     ]
    }
   ],
   "source": [
    "print(compare_by_length('patience', 'perseverance')) # -1\n",
    "print(compare_by_length('strength', 'dignity'))      #  1\n",
    "print(compare_by_length('humor', 'grace'))           #  0"
   ]
  },
  {
   "cell_type": "markdown",
   "id": "dea083af-c18b-4b7f-8569-e3d7ffce2b9c",
   "metadata": {},
   "source": [
    "##### **Transformation:** Use Python's string methods on the string `'Captain Ruby'` to create a string with the value `'Captain Python'`."
   ]
  },
  {
   "cell_type": "code",
   "execution_count": 55,
   "id": "1d7926d2-78b2-4467-93ac-5640434c884e",
   "metadata": {},
   "outputs": [
    {
     "name": "stdout",
     "output_type": "stream",
     "text": [
      "Captain Python\n"
     ]
    }
   ],
   "source": [
    "old = 'Captain Ruby'\n",
    "# print(old.replace('Ruby', 'Python'))\n",
    "print(old.split()[0] + ' Python')"
   ]
  },
  {
   "cell_type": "markdown",
   "id": "2827b88b-791e-49f5-a6f1-ccbc58bf0db0",
   "metadata": {},
   "source": [
    "##### **Internationalization 1:** Use Python's control structures to create a function that takes an ISO 639-1 language code and returns a greeting in that language."
   ]
  },
  {
   "cell_type": "markdown",
   "id": "677b2e35-7af3-497b-9814-1662eef2f1bd",
   "metadata": {},
   "source": [
    "def greet(language_code):\n",
    "    match language_code:\n",
    "        case 'en':\n",
    "            return 'Hi!' \n",
    "        case 'es':\n",
    "            return '¡Hola!'\n",
    "        case 'fr':\n",
    "            return 'Salut!'\n",
    "        case 'pt':\n",
    "            return 'Olá!'\n",
    "        case 'de':\n",
    "            return 'Hallo!'\n",
    "        case 'sv':\n",
    "            return 'Hej!'\n",
    "        case 'af':\n",
    "            return 'Haai!'"
   ]
  },
  {
   "cell_type": "code",
   "execution_count": 57,
   "id": "85248692-3153-4cf4-916e-01d42d128173",
   "metadata": {},
   "outputs": [
    {
     "name": "stdout",
     "output_type": "stream",
     "text": [
      "Hi!\n",
      "¡Hola!\n",
      "Salut!\n",
      "Olá!\n",
      "Hallo!\n",
      "Hej!\n",
      "Haai!\n"
     ]
    }
   ],
   "source": [
    "print(greet('en'))         # Hi!\n",
    "print(greet('es'))         # ¡Hola!\n",
    "print(greet('fr'))         # Salut!\n",
    "print(greet('pt'))         # Olá!\n",
    "print(greet('de'))         # Hallo!\n",
    "print(greet('sv'))         # Hej!\n",
    "print(greet('af'))         # Haai!"
   ]
  },
  {
   "cell_type": "markdown",
   "id": "144f13fd-54c1-460a-8173-b91aab7e6bed",
   "metadata": {},
   "source": [
    "##### **Locale Part 1:** Write a function that extracts the language code from a locale. A locale is a combination of a language code, a region, and usually also a character set, e.g `en_US.UTF-8`."
   ]
  },
  {
   "cell_type": "code",
   "execution_count": 58,
   "id": "65aa067a-3fd8-4953-ad51-a32cdf459020",
   "metadata": {},
   "outputs": [],
   "source": [
    "def extract_language(language):\n",
    "    # return language.split('_')[0]\n",
    "    return language[:2]"
   ]
  },
  {
   "cell_type": "code",
   "execution_count": 59,
   "id": "4d3e298c-9ed7-4032-a75f-89c05af4de55",
   "metadata": {},
   "outputs": [
    {
     "name": "stdout",
     "output_type": "stream",
     "text": [
      "en\n",
      "en\n",
      "ko\n"
     ]
    }
   ],
   "source": [
    "print(extract_language('en_US.UTF-8'))      # en\n",
    "print(extract_language('en_GB.UTF-8'))      # en\n",
    "print(extract_language('ko_KR.UTF-16'))     # ko"
   ]
  },
  {
   "cell_type": "markdown",
   "id": "f7da80c3-a8ea-4a85-9e60-8bc21f2d4f7b",
   "metadata": {},
   "source": [
    "##### **Locale Part 2:** Similar to the previous exercise, write a function that extracts the region code from a locale."
   ]
  },
  {
   "cell_type": "code",
   "execution_count": 64,
   "id": "1d5dac2b-96b7-4b6f-8513-8cf5329b6ba7",
   "metadata": {},
   "outputs": [],
   "source": [
    "def extract_region(language):\n",
    "    # return language.split('.')[0].split('_')[1]\n",
    "    return language.split('_')[1][:2]"
   ]
  },
  {
   "cell_type": "code",
   "execution_count": 65,
   "id": "243e7bf5-069d-410a-a8a5-dc52735c53c7",
   "metadata": {},
   "outputs": [
    {
     "name": "stdout",
     "output_type": "stream",
     "text": [
      "US\n",
      "GB\n",
      "KR\n"
     ]
    }
   ],
   "source": [
    "print(extract_region('en_US.UTF-8'))    # US\n",
    "print(extract_region('en_GB.UTF-8'))    # GB\n",
    "print(extract_region('ko_KR.UTF-16'))   # KR"
   ]
  },
  {
   "cell_type": "markdown",
   "id": "14893a2f-8403-492f-8729-dcca0d1cd369",
   "metadata": {},
   "source": [
    "##### **Internationalization 2:**\n",
    "\n",
    "Building on your solutions from the previous exercises, write a function `local_greet` that takes a locale as input, and returns a greeting. The locale lets us greet people from different countries appropriately, even when they share a common language. When implementing `local_greet`, make sure you re-use your `extract_language`, `extract_region`, and `greet` functions from the previous exercises."
   ]
  },
  {
   "cell_type": "code",
   "execution_count": 68,
   "id": "f9d761f5-2763-4e40-a5e6-0b6b22de68e9",
   "metadata": {},
   "outputs": [],
   "source": [
    "def local_greet(code):\n",
    "    language = extract_language(code)\n",
    "    region = extract_region(code)\n",
    "\n",
    "    match (language, region):\n",
    "        case ('en', 'US'):\n",
    "            return \"Hey!\"\n",
    "        case ('en', 'GB'):\n",
    "            return 'Hello!'\n",
    "        case ('en', 'AU'):\n",
    "            return \"G'day!\"\n",
    "        case _:\n",
    "            return greet(language)"
   ]
  },
  {
   "cell_type": "code",
   "execution_count": 69,
   "id": "5acd5ffe-7c6d-49fc-a2bc-5a9444ee4cc6",
   "metadata": {},
   "outputs": [
    {
     "name": "stdout",
     "output_type": "stream",
     "text": [
      "Hey!\n",
      "Hello!\n",
      "G'day!\n",
      "Salut!\n",
      "Salut!\n",
      "Salut!\n"
     ]
    }
   ],
   "source": [
    "print(local_greet('en_US.UTF-8'))       # Hey!\n",
    "print(local_greet('en_GB.UTF-8'))       # Hello!\n",
    "print(local_greet('en_AU.UTF-8'))       # Howdy!\n",
    "print(local_greet('fr_FR.UTF-8'))       # Salut!\n",
    "print(local_greet('fr_CA.UTF-8'))       # Salut!\n",
    "print(local_greet('fr_MA.UTF-8'))       # Salut!"
   ]
  }
 ],
 "metadata": {
  "kernelspec": {
   "display_name": "Python 3 (ipykernel)",
   "language": "python",
   "name": "python3"
  },
  "language_info": {
   "codemirror_mode": {
    "name": "ipython",
    "version": 3
   },
   "file_extension": ".py",
   "mimetype": "text/x-python",
   "name": "python",
   "nbconvert_exporter": "python",
   "pygments_lexer": "ipython3",
   "version": "3.12.5"
  }
 },
 "nbformat": 4,
 "nbformat_minor": 5
}
