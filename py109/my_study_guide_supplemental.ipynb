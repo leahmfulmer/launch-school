{
 "cells": [
  {
   "cell_type": "markdown",
   "id": "7c820a68-1dcb-452f-8761-7bd38796c1ec",
   "metadata": {},
   "source": [
    "# PY 109 Study Guide: Python Basics"
   ]
  },
  {
   "cell_type": "code",
   "execution_count": null,
   "id": "9edd76a3-4ed9-4d1a-9f99-be5c1fa6aadc",
   "metadata": {},
   "outputs": [],
   "source": [
    "# explicit coercion with the tuple() constructor\n",
    "my_list = [1, 2, 3]\n",
    "print(tuple(my_list))"
   ]
  },
  {
   "cell_type": "code",
   "execution_count": null,
   "id": "a9b8d71b-755b-4e67-aeae-a15e601499b6",
   "metadata": {},
   "outputs": [],
   "source": [
    "# plain division type coersion\n",
    "print(6/2)"
   ]
  },
  {
   "cell_type": "code",
   "execution_count": null,
   "id": "f46ef23d-0dda-4930-8eb5-42245b97d9f6",
   "metadata": {},
   "outputs": [],
   "source": [
    "# integer division type coersion\n",
    "print(8//2)"
   ]
  },
  {
   "cell_type": "code",
   "execution_count": null,
   "id": "ec19c907-1732-45ef-8ee6-ed5ccc3c2b5c",
   "metadata": {},
   "outputs": [],
   "source": [
    "# mixing integers and floats in mathematical expressions\n",
    "4 + 2.0"
   ]
  },
  {
   "cell_type": "code",
   "execution_count": null,
   "id": "766c6b6e-7de2-4123-b261-34ebde7075a9",
   "metadata": {},
   "outputs": [],
   "source": [
    "# using underscore to separate digits in sets of three\n",
    "print(1000 == 1_000)\n",
    "print(123.456_78 == 123.45678)"
   ]
  },
  {
   "cell_type": "code",
   "execution_count": null,
   "id": "378a949a-6807-493e-a0ca-5e17739ae06a",
   "metadata": {},
   "outputs": [],
   "source": [
    "# floats may be represented through scientific notation,\n",
    "# but integers are not\n",
    "print(float(-3e16))\n",
    "print(int(-3e16))"
   ]
  },
  {
   "cell_type": "code",
   "execution_count": null,
   "id": "c0f52ae2-782d-43ba-986e-324108eef782",
   "metadata": {},
   "outputs": [],
   "source": [
    "# creating a multi-line string\n",
    "my_string = '''hello, everyone!\n",
    "today is a beautiful day!'''\n",
    "print(my_string)"
   ]
  },
  {
   "cell_type": "code",
   "execution_count": null,
   "id": "989b7b3c-c6b3-4159-9b7f-4b7a02f52c35",
   "metadata": {},
   "outputs": [],
   "source": [
    "# using triple quotes and escape characters for strings\n",
    "# with both single and double quotes in their body\n",
    "string1 = '''What d'you mean by \"closed\"?'''\n",
    "string2 = \"What d'you mean by \\\"closed\\\"?\"\n",
    "print(string1, string2, sep='\\n')"
   ]
  },
  {
   "cell_type": "code",
   "execution_count": null,
   "id": "39b4a163-c61a-4e33-8234-52d922f67f31",
   "metadata": {},
   "outputs": [],
   "source": [
    "# string indexing, slicing\n",
    "print('hello'[0] == 'h')\n",
    "print('hello'[-4] == 'e')\n",
    "print('hello'[::2] == 'hlo')"
   ]
  },
  {
   "cell_type": "code",
   "execution_count": null,
   "id": "76bd8272-8991-441d-a7f7-3cea424ea3e9",
   "metadata": {},
   "outputs": [],
   "source": [
    "# f-strings for embedding expresssions\n",
    "age = 30\n",
    "print(f\"Use {{age}} to embed an expression. Today I'm {age} years old!\")"
   ]
  },
  {
   "cell_type": "code",
   "execution_count": null,
   "id": "948ab752-f00a-412b-ad70-24446d93d709",
   "metadata": {},
   "outputs": [],
   "source": [
    "# f-strings for large numbers\n",
    "my_number = 1234.5678\n",
    "print(f'{my_number:,}')\n",
    "print(f'{my_number:_}')"
   ]
  },
  {
   "cell_type": "code",
   "execution_count": null,
   "id": "6a4c2167-6a1c-4cb8-88ed-f958760b995f",
   "metadata": {},
   "outputs": [],
   "source": [
    "# str.strip()\n",
    "my_string = 'abbcccxyzaaabbc'\n",
    "my_string.strip('abc')"
   ]
  },
  {
   "cell_type": "code",
   "execution_count": null,
   "id": "0b2487a9-bb5e-49e8-b3cc-c1327cc8f888",
   "metadata": {},
   "outputs": [],
   "source": [
    "# str.replace(old, new)\n",
    "my_string = 'cat'\n",
    "my_string.replace('ca', 'haun')"
   ]
  },
  {
   "cell_type": "code",
   "execution_count": null,
   "id": "e31ec201-10aa-4e8c-ab6a-bb6c8d8f42ad",
   "metadata": {},
   "outputs": [],
   "source": [
    "# splitting\n",
    "my_string = 'I love you'\n",
    "print(my_string.split())\n",
    "\n",
    "my_next_string = 'I + love + you'\n",
    "print(my_next_string.split('+'))"
   ]
  },
  {
   "cell_type": "code",
   "execution_count": null,
   "id": "47a3abb8-403e-479e-a9eb-7f65575240f7",
   "metadata": {},
   "outputs": [],
   "source": [
    "# str.find()\n",
    "my_string = 'hello'\n",
    "\n",
    "print(my_string.find('h'))\n",
    "print(my_string.find('l'))"
   ]
  },
  {
   "cell_type": "code",
   "execution_count": null,
   "id": "5e05d32a-158d-4099-85df-eca5dd9133c3",
   "metadata": {},
   "outputs": [],
   "source": [
    "# str.rfind()\n",
    "my_string = 'hello'\n",
    "\n",
    "print(my_string.rfind('h'))\n",
    "print(my_string.rfind('l'))"
   ]
  },
  {
   "cell_type": "code",
   "execution_count": null,
   "id": "f9006548-c147-4194-9b86-86097661e2c6",
   "metadata": {},
   "outputs": [],
   "source": [
    "# boolean values and logical operators\n",
    "print(not 4)"
   ]
  },
  {
   "cell_type": "code",
   "execution_count": null,
   "id": "9fe449c0-ae88-4552-9778-6f80e28c98ee",
   "metadata": {},
   "outputs": [],
   "source": [
    "# do empty sequences require zero/falsy arguments?\n",
    "print(range(0))\n",
    "print(set())\n",
    "print(frozenset())"
   ]
  },
  {
   "cell_type": "code",
   "execution_count": null,
   "id": "e510a36e-e5e2-406b-a5a1-243f3a6af599",
   "metadata": {},
   "outputs": [],
   "source": [
    "# ranges\n",
    "# print(range(0.0, 0.5, 0.1))\n",
    "\n",
    "# print(range(2, 25, 4))\n",
    "# print(list(range(2, 25, 4)))\n",
    "\n",
    "print(range(1, 10, -1))\n",
    "print(list(range(1, 10, -1)))\n",
    "\n",
    "print(range(10, 10, -1))\n",
    "print(list(range(10, 10, -1)))"
   ]
  },
  {
   "cell_type": "code",
   "execution_count": null,
   "id": "46efbb71-ae18-496f-94ed-f13bde32c894",
   "metadata": {},
   "outputs": [],
   "source": [
    "# ranges, cont.\n",
    "for i in range (1, 10, -1):\n",
    "    print('hi')"
   ]
  },
  {
   "cell_type": "code",
   "execution_count": null,
   "id": "6cb6a244-69c7-4214-9722-99887a1ccdbb",
   "metadata": {},
   "outputs": [],
   "source": [
    "# list element retrieval, reassignment\n",
    "my_list = [True, 2, '3']\n",
    "print(my_list[0])\n",
    "\n",
    "my_list[0] = {True: 1}\n",
    "print(my_list)"
   ]
  },
  {
   "cell_type": "code",
   "execution_count": null,
   "id": "fb118923-e18a-4247-91c8-7a2b17fc0c9c",
   "metadata": {},
   "outputs": [],
   "source": [
    "# dictionary element retrieval, reassignment\n",
    "my_dict = {\n",
    "    True: 'I love you!',\n",
    "    2: {'Krishna': 'Radha'},\n",
    "    '3': ['rajas', 'tamas', 'sattva']\n",
    "}\n",
    "\n",
    "print(my_dict[True])\n",
    "\n",
    "my_dict[True] = 'I love you very much!'\n",
    "print(my_dict)"
   ]
  },
  {
   "cell_type": "code",
   "execution_count": null,
   "id": "e14523ca-17a0-42a0-a3fa-e59f8610850d",
   "metadata": {},
   "outputs": [],
   "source": [
    "# return value of list method list.append()\n",
    "my_list = [1, 2, 3]\n",
    "append_return_value = my_list.append(4)\n",
    "\n",
    "print(append_return_value)\n",
    "print(my_list)"
   ]
  },
  {
   "cell_type": "code",
   "execution_count": null,
   "id": "d5344ffd-aa78-44bd-9c30-4c0cd05c8bad",
   "metadata": {},
   "outputs": [],
   "source": [
    "# return value of list method list.pop()\n",
    "my_list = ['a', 'b', 'c', 'd']\n",
    "pop_return_value = my_list.pop()\n",
    "\n",
    "print(pop_return_value)\n",
    "print(my_list)\n",
    "\n",
    "print(my_list.pop(0))\n",
    "print(my_list)"
   ]
  },
  {
   "cell_type": "code",
   "execution_count": null,
   "id": "1c7aeba4-f6f8-4275-86e2-5ca1102fa713",
   "metadata": {},
   "outputs": [],
   "source": [
    "# return value of list method list.reverse()\n",
    "my_list = [1, 2, 3, 4, 5]\n",
    "reverse_return_value = my_list.reverse()\n",
    "\n",
    "print(reverse_return_value)\n",
    "print(my_list)"
   ]
  },
  {
   "cell_type": "code",
   "execution_count": null,
   "id": "0e63b6a2-090d-4621-b45b-cf5b01dbcf8b",
   "metadata": {},
   "outputs": [],
   "source": [
    "# return value of key-based access\n",
    "my_dict = {\n",
    "    True: 'I love you!',\n",
    "    2: {'Krishna': 'Radha'},\n",
    "    '3': ['rajas', 'tamas', 'sattva'],\n",
    "}\n",
    "\n",
    "print(my_dict[\"Shiva\"])"
   ]
  },
  {
   "cell_type": "code",
   "execution_count": null,
   "id": "e670049c-4c85-46e7-a999-df701087621b",
   "metadata": {},
   "outputs": [],
   "source": [
    "# dict.get()\n",
    "my_dict = {\n",
    "    True: 'I love you!',\n",
    "    2: {'Krishna': 'Radha'},\n",
    "    '3': ['rajas', 'tamas', 'sattva'],\n",
    "}\n",
    "\n",
    "get = True\n",
    "get_return_value = my_dict.get(get, f'No element {get}.')\n",
    "print(get_return_value)\n",
    "\n",
    "get = False\n",
    "get_return_value = my_dict.get(get, f'No element {get}.')\n",
    "print(get_return_value)"
   ]
  },
  {
   "cell_type": "code",
   "execution_count": null,
   "id": "da6d52cb-9b19-4cfd-8a9d-fb07926b4f2e",
   "metadata": {},
   "outputs": [],
   "source": [
    "# slicing return value\n",
    "my_tuple = (1, 2, 3, 4)\n",
    "slicing_return_value = my_tuple[::-1]\n",
    "\n",
    "print(slicing_return_value)\n",
    "print(my_tuple)"
   ]
  },
  {
   "cell_type": "code",
   "execution_count": null,
   "id": "1c59e10c-2fc1-4d9b-9268-b37f277ed8f1",
   "metadata": {},
   "outputs": [],
   "source": [
    "# arithmetic operations\n",
    "print(type(3.5//3))\n",
    "print(4.5%3)\n",
    "print(type(4.5%3))\n",
    "print(type(3**9))"
   ]
  },
  {
   "cell_type": "code",
   "execution_count": null,
   "id": "246929c6-c62f-4d88-93c8-bd1011f27c14",
   "metadata": {},
   "outputs": [],
   "source": [
    "# string concatenation\n",
    "string1 = \"I love you\"\n",
    "string2 = \" so much!\"\n",
    "print(id(string1))\n",
    "print(id(string2))\n",
    "print(id(string1 + string2))"
   ]
  },
  {
   "cell_type": "code",
   "execution_count": null,
   "id": "16de58ee-1a54-471b-9179-f15761364a25",
   "metadata": {},
   "outputs": [],
   "source": [
    "list1 = ['I', 'love', 'you']\n",
    "list2 = [4, 'ever']\n",
    "print(id(list1))\n",
    "print(id(list2))\n",
    "print(id(list1 + list2))\n",
    "\n",
    "print(list1)\n",
    "print(list2)"
   ]
  },
  {
   "cell_type": "code",
   "execution_count": null,
   "id": "10c3886d-dd29-42f3-867d-27d59066f3e6",
   "metadata": {},
   "outputs": [],
   "source": [
    "# list concatenation\n",
    "list1 = ['I', 'love', 'you']\n",
    "print(list1)\n",
    "print(id(list1))\n",
    "\n",
    "list2 = [4, 'ever']\n",
    "print(list2)\n",
    "print(id(list2))\n",
    "\n",
    "# list concatentation with augmented assignment \n",
    "# mutates a list in-place\n",
    "list1 += list2\n",
    "print(list1)\n",
    "print(id(list1))\n",
    "\n",
    "# list concatenation without augmented assignment\n",
    "# creates a new list\n",
    "list1 = list1 + list2\n",
    "print(list1)\n",
    "print(id(list1))"
   ]
  },
  {
   "cell_type": "code",
   "execution_count": null,
   "id": "d87df094-1728-4ab8-b729-5d902a396576",
   "metadata": {},
   "outputs": [],
   "source": []
  },
  {
   "cell_type": "code",
   "execution_count": null,
   "id": "8e47b6bd-636f-4138-b9f6-878d94541a75",
   "metadata": {},
   "outputs": [],
   "source": [
    "# comparison operators\n",
    "print('4' != 4)\n",
    "print('a' < 'c')\n",
    "print('Z' < 'a')"
   ]
  },
  {
   "cell_type": "code",
   "execution_count": null,
   "id": "c5259856-f311-4ec5-8e46-a3a201459217",
   "metadata": {},
   "outputs": [],
   "source": [
    "# comparison vs. is\n",
    "\n",
    "low1, high1 = -5, 256\n",
    "low2, high2 = -5, 256\n",
    "print(low1 == low2, high1 == high2)\n",
    "print(low1 is low2, high1 is high2)\n",
    "\n",
    "low3, high3 = -6, 257\n",
    "low4, high4 = -6, 257\n",
    "print(low3 == low4, high3 == high4)\n",
    "print(low3 is low4, high3 is high4)"
   ]
  },
  {
   "cell_type": "code",
   "execution_count": null,
   "id": "3a7afbe2-c5a2-4f26-88a0-4e4ae8a4a6e8",
   "metadata": {},
   "outputs": [],
   "source": [
    "my_list = [1, 2, 3, 4]\n",
    "my_list[::-2]"
   ]
  },
  {
   "cell_type": "code",
   "execution_count": null,
   "id": "45b287c1-9a5d-4276-ab6b-383d0573aa53",
   "metadata": {},
   "outputs": [],
   "source": [
    "# and, or, not\n",
    "\n",
    "print({} and [])\n",
    "print({} or [])\n",
    "print(not \"\")\n",
    "print(not \"I love you!\")"
   ]
  },
  {
   "cell_type": "code",
   "execution_count": null,
   "id": "d1fc5c32-a360-40cf-bce2-b40ff994b88f",
   "metadata": {},
   "outputs": [],
   "source": [
    "# operator precedence\n",
    "print(0 or 2 >= 1.5 and 'c' > 'a')\n",
    "print(1 or 2 >= 1.5 and 'c' > 'a')"
   ]
  },
  {
   "cell_type": "code",
   "execution_count": null,
   "id": "cda37b6e-ba8f-4fb5-bd5d-3df9dad735e1",
   "metadata": {},
   "outputs": [],
   "source": [
    "# string interning\n",
    "a = 'Leah'\n",
    "b = 'Leah'\n",
    "c = b\n",
    "\n",
    "print(a == b)\n",
    "print(a is b)\n",
    "print(id(a) == id(b))\n",
    "\n",
    "print(b == c)\n",
    "print(b is c)\n",
    "print(id(b) == id(c))"
   ]
  },
  {
   "cell_type": "code",
   "execution_count": null,
   "id": "92daf398-3b98-42b4-a29a-b2ccc7c9a75c",
   "metadata": {},
   "outputs": [],
   "source": [
    "# string interning\n",
    "d = 'Hello, Leah!'\n",
    "e = 'Hello, Leah!'\n",
    "f = e\n",
    "\n",
    "print(d == e)\n",
    "print(d is e)\n",
    "print(id(d) == id(e))\n",
    "\n",
    "print(e == f)\n",
    "print(e is f)\n",
    "print(id(e) == id(f))"
   ]
  },
  {
   "cell_type": "code",
   "execution_count": null,
   "id": "54a60885-f62a-4e46-a928-d20de89579a3",
   "metadata": {},
   "outputs": [],
   "source": [
    "# string interning\n",
    "s = 'supercalifragilisticexpialidocious'\n",
    "t = 'supercalifragilisticexpialidocious'\n",
    "print(id(s) == id(t))         # True"
   ]
  },
  {
   "cell_type": "code",
   "execution_count": null,
   "id": "9778974e-5328-4194-bb93-f010c8b69b23",
   "metadata": {},
   "outputs": [],
   "source": [
    "# mutability\n",
    "my_list = [1, 2, 3]\n",
    "print(my_list)\n",
    "print(id(my_list))\n",
    "\n",
    "my_list += [4]\n",
    "print(my_list)\n",
    "print(id(my_list))\n",
    "\n",
    "# immutability\n",
    "my_int = 4\n",
    "print(my_int)\n",
    "print(id(my_int))\n",
    "\n",
    "my_int += 4\n",
    "print(my_int)\n",
    "print(id(my_int))"
   ]
  },
  {
   "cell_type": "code",
   "execution_count": null,
   "id": "1158837a-fc70-4d34-8313-58ccde0ac618",
   "metadata": {},
   "outputs": [],
   "source": [
    "# variable reassignment\n",
    "my_var = \"Hello\"\n",
    "print(id(my_var))\n",
    "\n",
    "my_var = \"Hello\"\n",
    "print(id(my_var))\n",
    "\n",
    "\n",
    "my_var = \"Hello, world!\"\n",
    "print(id(my_var))\n",
    "\n",
    "my_var = \"Hello, world!\"\n",
    "print(id(my_var))"
   ]
  },
  {
   "cell_type": "code",
   "execution_count": null,
   "id": "ea2fc5e0-1340-45d7-9db7-4d7b9fc9acf4",
   "metadata": {},
   "outputs": [],
   "source": [
    "# variable reassignment\n",
    "my_var = ['Hello']\n",
    "print(id(my_var))\n",
    "\n",
    "my_var = ['Hello']\n",
    "print(id(my_var))"
   ]
  },
  {
   "cell_type": "code",
   "execution_count": null,
   "id": "9497fcb8-f865-4bf6-865d-5c375b08453d",
   "metadata": {},
   "outputs": [],
   "source": [
    "# variable reassignment\n",
    "my_var = -6\n",
    "print(id(my_var))\n",
    "\n",
    "my_var = -6\n",
    "print(id(my_var))"
   ]
  },
  {
   "cell_type": "code",
   "execution_count": 8,
   "id": "73820ca6-ea78-42e5-842d-1767fadcb39a",
   "metadata": {},
   "outputs": [
    {
     "name": "stdout",
     "output_type": "stream",
     "text": [
      "4421994752\n",
      "4421994752\n",
      "4421995664\n",
      "4422023728\n",
      "4422023792\n"
     ]
    }
   ],
   "source": [
    "# variable reassignment\n",
    "my_var = \"Hello\"\n",
    "print(id(my_var))        # 4395582784\n",
    "\n",
    "my_new_var = \"Hello\"\n",
    "print(id(my_new_var))    # 4395582784\n",
    "\n",
    "my_var = \"Hi\"\n",
    "print(id(my_var))        # 4395582784\n",
    "\n",
    "# The string object 'Hello, world!' is not interned\n",
    "my_var = \"Hello, world!\"\n",
    "print(id(my_var))        # 4395395376\n",
    "\n",
    "my_var = \"Hello, world!\"\n",
    "print(id(my_var))        # 4395395440"
   ]
  },
  {
   "cell_type": "code",
   "execution_count": 3,
   "id": "aa174a0b-a57a-48ff-bc26-4090fb3a301a",
   "metadata": {},
   "outputs": [
    {
     "name": "stdout",
     "output_type": "stream",
     "text": [
      "4381040896\n"
     ]
    }
   ],
   "source": [
    "my_var = 4\n",
    "print(id(my_var))    # 4343275776"
   ]
  },
  {
   "cell_type": "code",
   "execution_count": null,
   "id": "6546388c-1b27-418c-aff4-927b48733843",
   "metadata": {},
   "outputs": [],
   "source": [
    "# variables as pointers\n",
    "my_list = ['I', 'love', 'you']\n",
    "print(id(my_list))\n",
    "print(id(my_list[1]))\n",
    "\n",
    "my_list[1] = 'adore'\n",
    "print(id(my_list))\n",
    "print(id(my_list[1]))\n",
    "\n",
    "print(my_list)"
   ]
  },
  {
   "cell_type": "code",
   "execution_count": null,
   "id": "ba9faf1b-f168-4322-a409-c61d07888c8a",
   "metadata": {},
   "outputs": [],
   "source": [
    "# variable shadowing\n",
    "greeting = \"Hello\"\n",
    "\n",
    "def say_hi(name):\n",
    "    greeting = \"Hi\"\n",
    "    print(f'{greeting}, {name}!')\n",
    "\n",
    "say_hi(\"Leah\")\n",
    "print(greeting)"
   ]
  },
  {
   "cell_type": "code",
   "execution_count": null,
   "id": "767c5c27-47d2-4748-ad4a-8276db8778f5",
   "metadata": {},
   "outputs": [],
   "source": [
    "# variable shadowing\n",
    "greeting = \"Hello\"\n",
    "\n",
    "def say_hi(name):\n",
    "    global greeting\n",
    "    greeting = \"Hi\"\n",
    "    print(f'{greeting}, {name}!')\n",
    "\n",
    "say_hi(\"Leah\")\n",
    "print(greeting)"
   ]
  },
  {
   "cell_type": "code",
   "execution_count": null,
   "id": "e2d95755-c692-422a-a2e5-dac3aca35350",
   "metadata": {},
   "outputs": [],
   "source": [
    "# variable initialization in a function\n",
    "def initialize_greeting():\n",
    "    global greeting\n",
    "    greeting = \"Salutations!\"\n",
    "\n",
    "initialize_greeting()\n",
    "print(greeting)"
   ]
  },
  {
   "cell_type": "code",
   "execution_count": 19,
   "id": "f530fe5a-820c-466b-b2d2-6349c5a29680",
   "metadata": {},
   "outputs": [],
   "source": [
    "# exception handling\n",
    "\n",
    "def invalid_number(string):\n",
    "    try: \n",
    "        print(\"Executing try block...\")\n",
    "        int(string)\n",
    "    except TypeError:\n",
    "        print(\"Executing TypeError exception block...\")\n",
    "        return True\n",
    "    except ValueError:\n",
    "        print(\"Executing ValueError exception block...\")\n",
    "        return True\n",
    "    else:\n",
    "        print(\"Executing else block...\")\n",
    "    finally:\n",
    "        print(\"Executing finally block...\")\n",
    "\n",
    "    return False"
   ]
  },
  {
   "cell_type": "code",
   "execution_count": 24,
   "id": "3f11d677-1a8b-4f7f-a78f-43234a92a848",
   "metadata": {},
   "outputs": [
    {
     "name": "stdout",
     "output_type": "stream",
     "text": [
      "Executing try block...\n",
      "Executing else block...\n",
      "Executing finally block...\n",
      "False\n"
     ]
    }
   ],
   "source": [
    "print(invalid_number(\"10\"))"
   ]
  },
  {
   "cell_type": "code",
   "execution_count": 25,
   "id": "00269e8a-cbc9-47af-b0b0-c23de14f661d",
   "metadata": {},
   "outputs": [
    {
     "name": "stdout",
     "output_type": "stream",
     "text": [
      "Executing try block...\n",
      "Executing ValueError exception block...\n",
      "Executing finally block...\n",
      "True\n"
     ]
    }
   ],
   "source": [
    "print(invalid_number(\"10.0\"))"
   ]
  },
  {
   "cell_type": "code",
   "execution_count": 28,
   "id": "a09e3268-d476-488a-8435-1480cd350fa9",
   "metadata": {},
   "outputs": [
    {
     "name": "stdout",
     "output_type": "stream",
     "text": [
      "Executing try block...\n",
      "Executing TypeError exception block...\n",
      "Executing finally block...\n",
      "True\n"
     ]
    }
   ],
   "source": [
    "print(invalid_number([10]))"
   ]
  },
  {
   "cell_type": "code",
   "execution_count": null,
   "id": "5264c8b1-790f-465f-962b-5e32b95fdada",
   "metadata": {},
   "outputs": [],
   "source": []
  }
 ],
 "metadata": {
  "kernelspec": {
   "display_name": "Python 3 (ipykernel)",
   "language": "python",
   "name": "python3"
  },
  "language_info": {
   "codemirror_mode": {
    "name": "ipython",
    "version": 3
   },
   "file_extension": ".py",
   "mimetype": "text/x-python",
   "name": "python",
   "nbconvert_exporter": "python",
   "pygments_lexer": "ipython3",
   "version": "3.13.1"
  }
 },
 "nbformat": 4,
 "nbformat_minor": 5
}
