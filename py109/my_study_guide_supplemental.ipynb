{
 "cells": [
  {
   "cell_type": "markdown",
   "id": "7c820a68-1dcb-452f-8761-7bd38796c1ec",
   "metadata": {},
   "source": [
    "# PY 109 Study Guide: Python Basics"
   ]
  },
  {
   "cell_type": "code",
   "execution_count": 1,
   "id": "9edd76a3-4ed9-4d1a-9f99-be5c1fa6aadc",
   "metadata": {},
   "outputs": [
    {
     "name": "stdout",
     "output_type": "stream",
     "text": [
      "(1, 2, 3)\n"
     ]
    }
   ],
   "source": [
    "# explicit coercion with the tuple() constructor\n",
    "my_list = [1, 2, 3]\n",
    "print(tuple(my_list))"
   ]
  },
  {
   "cell_type": "code",
   "execution_count": 61,
   "id": "a9b8d71b-755b-4e67-aeae-a15e601499b6",
   "metadata": {},
   "outputs": [
    {
     "name": "stdout",
     "output_type": "stream",
     "text": [
      "3.0\n"
     ]
    }
   ],
   "source": [
    "# plain division type coersion\n",
    "print(6/2)"
   ]
  },
  {
   "cell_type": "code",
   "execution_count": 66,
   "id": "f46ef23d-0dda-4930-8eb5-42245b97d9f6",
   "metadata": {},
   "outputs": [
    {
     "name": "stdout",
     "output_type": "stream",
     "text": [
      "4\n"
     ]
    }
   ],
   "source": [
    "# integer division type coersion\n",
    "print(8//2)"
   ]
  },
  {
   "cell_type": "code",
   "execution_count": 3,
   "id": "ec19c907-1732-45ef-8ee6-ed5ccc3c2b5c",
   "metadata": {},
   "outputs": [
    {
     "data": {
      "text/plain": [
       "6.0"
      ]
     },
     "execution_count": 3,
     "metadata": {},
     "output_type": "execute_result"
    }
   ],
   "source": [
    "# mixing integers and floats in mathematical expressions\n",
    "4 + 2.0"
   ]
  },
  {
   "cell_type": "code",
   "execution_count": 67,
   "id": "766c6b6e-7de2-4123-b261-34ebde7075a9",
   "metadata": {},
   "outputs": [
    {
     "name": "stdout",
     "output_type": "stream",
     "text": [
      "True\n",
      "True\n"
     ]
    }
   ],
   "source": [
    "# using underscore to separate digits in sets of three\n",
    "print(1000 == 1_000)\n",
    "print(123.456_78 == 123.45678)"
   ]
  },
  {
   "cell_type": "code",
   "execution_count": 22,
   "id": "378a949a-6807-493e-a0ca-5e17739ae06a",
   "metadata": {},
   "outputs": [
    {
     "name": "stdout",
     "output_type": "stream",
     "text": [
      "-3e+16\n",
      "-30000000000000000\n"
     ]
    }
   ],
   "source": [
    "# floats may be represented through scientific notation,\n",
    "# but integers are not\n",
    "print(float(-3e16))\n",
    "print(int(-3e16))"
   ]
  },
  {
   "cell_type": "code",
   "execution_count": 25,
   "id": "c0f52ae2-782d-43ba-986e-324108eef782",
   "metadata": {},
   "outputs": [
    {
     "name": "stdout",
     "output_type": "stream",
     "text": [
      "hello, everyone!\n",
      "today is a beautiful day!\n"
     ]
    }
   ],
   "source": [
    "# creating a multi-line string\n",
    "my_string = '''hello, everyone!\n",
    "today is a beautiful day!'''\n",
    "print(my_string)"
   ]
  },
  {
   "cell_type": "code",
   "execution_count": 30,
   "id": "989b7b3c-c6b3-4159-9b7f-4b7a02f52c35",
   "metadata": {},
   "outputs": [
    {
     "name": "stdout",
     "output_type": "stream",
     "text": [
      "What d'you mean by \"closed\"?\n",
      "What d'you mean by \"closed\"?\n"
     ]
    }
   ],
   "source": [
    "# using triple quotes and escape characters for strings\n",
    "# with both single and double quotes in their body\n",
    "string1 = '''What d'you mean by \"closed\"?'''\n",
    "string2 = \"What d'you mean by \\\"closed\\\"?\"\n",
    "print(string1, string2, sep='\\n')"
   ]
  },
  {
   "cell_type": "code",
   "execution_count": 39,
   "id": "39b4a163-c61a-4e33-8234-52d922f67f31",
   "metadata": {},
   "outputs": [
    {
     "name": "stdout",
     "output_type": "stream",
     "text": [
      "True\n",
      "True\n",
      "True\n"
     ]
    }
   ],
   "source": [
    "# string indexing, slicing\n",
    "print('hello'[0] == 'h')\n",
    "print('hello'[-4] == 'e')\n",
    "print('hello'[::2] == 'hlo')"
   ]
  },
  {
   "cell_type": "code",
   "execution_count": 51,
   "id": "76bd8272-8991-441d-a7f7-3cea424ea3e9",
   "metadata": {},
   "outputs": [
    {
     "name": "stdout",
     "output_type": "stream",
     "text": [
      "Use {age} to embed an expression. Today I'm 30 years old!\n",
      "12,345,678\n",
      "12_345_678\n"
     ]
    }
   ],
   "source": [
    "# f-strings for embedding expresssions\n",
    "age = 30\n",
    "print(f\"Use {{age}} to embed an expression. Today I'm {age} years old!\")"
   ]
  },
  {
   "cell_type": "code",
   "execution_count": 52,
   "id": "948ab752-f00a-412b-ad70-24446d93d709",
   "metadata": {},
   "outputs": [
    {
     "name": "stdout",
     "output_type": "stream",
     "text": [
      "1,234.5678\n",
      "1_234.5678\n"
     ]
    }
   ],
   "source": [
    "# f-strings for large numbers\n",
    "my_number = 1234.5678\n",
    "print(f'{my_number:,}')\n",
    "print(f'{my_number:_}')"
   ]
  },
  {
   "cell_type": "code",
   "execution_count": 54,
   "id": "6a4c2167-6a1c-4cb8-88ed-f958760b995f",
   "metadata": {},
   "outputs": [
    {
     "data": {
      "text/plain": [
       "'xyz'"
      ]
     },
     "execution_count": 54,
     "metadata": {},
     "output_type": "execute_result"
    }
   ],
   "source": [
    "# str.strip()\n",
    "my_string = 'abbcccxyzaaabbc'\n",
    "my_string.strip('abc')"
   ]
  },
  {
   "cell_type": "code",
   "execution_count": 55,
   "id": "0b2487a9-bb5e-49e8-b3cc-c1327cc8f888",
   "metadata": {},
   "outputs": [
    {
     "data": {
      "text/plain": [
       "'hat'"
      ]
     },
     "execution_count": 55,
     "metadata": {},
     "output_type": "execute_result"
    }
   ],
   "source": [
    "# str.replace(old, new)\n",
    "my_string = 'cat'\n",
    "my_string.replace('c', 'h')"
   ]
  },
  {
   "cell_type": "code",
   "execution_count": 59,
   "id": "e31ec201-10aa-4e8c-ab6a-bb6c8d8f42ad",
   "metadata": {},
   "outputs": [
    {
     "name": "stdout",
     "output_type": "stream",
     "text": [
      "['I', 'love', 'you']\n",
      "['I ', ' love ', ' you']\n"
     ]
    }
   ],
   "source": [
    "# splitting\n",
    "my_string = 'I love you'\n",
    "print(my_string.split())\n",
    "\n",
    "my_next_string = 'I + love + you'\n",
    "print(my_next_string.split('+'))"
   ]
  },
  {
   "cell_type": "code",
   "execution_count": 68,
   "id": "47a3abb8-403e-479e-a9eb-7f65575240f7",
   "metadata": {},
   "outputs": [
    {
     "name": "stdout",
     "output_type": "stream",
     "text": [
      "0\n",
      "2\n"
     ]
    }
   ],
   "source": [
    "# str.find()\n",
    "my_string = 'hello'\n",
    "\n",
    "print(my_string.find('h'))\n",
    "print(my_string.find('l'))"
   ]
  },
  {
   "cell_type": "code",
   "execution_count": 69,
   "id": "5e05d32a-158d-4099-85df-eca5dd9133c3",
   "metadata": {},
   "outputs": [
    {
     "name": "stdout",
     "output_type": "stream",
     "text": [
      "0\n",
      "3\n"
     ]
    }
   ],
   "source": [
    "# str.rfind()\n",
    "my_string = 'hello'\n",
    "\n",
    "print(my_string.rfind('h'))\n",
    "print(my_string.rfind('l'))"
   ]
  },
  {
   "cell_type": "code",
   "execution_count": 70,
   "id": "f9006548-c147-4194-9b86-86097661e2c6",
   "metadata": {},
   "outputs": [
    {
     "name": "stdout",
     "output_type": "stream",
     "text": [
      "False\n"
     ]
    }
   ],
   "source": [
    "# boolean values and logical operators\n",
    "print(not 4)"
   ]
  },
  {
   "cell_type": "code",
   "execution_count": 82,
   "id": "9fe449c0-ae88-4552-9778-6f80e28c98ee",
   "metadata": {},
   "outputs": [
    {
     "name": "stdout",
     "output_type": "stream",
     "text": [
      "range(0, 0)\n",
      "set()\n",
      "frozenset()\n"
     ]
    }
   ],
   "source": [
    "# do empty sequences require zero/falsy arguments?\n",
    "print(range(0))\n",
    "print(set())\n",
    "print(frozenset())"
   ]
  },
  {
   "cell_type": "code",
   "execution_count": 96,
   "id": "e510a36e-e5e2-406b-a5a1-243f3a6af599",
   "metadata": {},
   "outputs": [
    {
     "name": "stdout",
     "output_type": "stream",
     "text": [
      "range(1, 10, -1)\n",
      "[]\n",
      "range(10, 10, -1)\n",
      "[]\n"
     ]
    }
   ],
   "source": [
    "# ranges\n",
    "# print(range(0.0, 0.5, 0.1))\n",
    "\n",
    "# print(range(2, 25, 4))\n",
    "# print(list(range(2, 25, 4)))\n",
    "\n",
    "print(range(1, 10, -1))\n",
    "print(list(range(1, 10, -1)))\n",
    "\n",
    "print(range(10, 10, -1))\n",
    "print(list(range(10, 10, -1)))"
   ]
  },
  {
   "cell_type": "code",
   "execution_count": null,
   "id": "46efbb71-ae18-496f-94ed-f13bde32c894",
   "metadata": {},
   "outputs": [],
   "source": []
  }
 ],
 "metadata": {
  "kernelspec": {
   "display_name": "Python 3 (ipykernel)",
   "language": "python",
   "name": "python3"
  },
  "language_info": {
   "codemirror_mode": {
    "name": "ipython",
    "version": 3
   },
   "file_extension": ".py",
   "mimetype": "text/x-python",
   "name": "python",
   "nbconvert_exporter": "python",
   "pygments_lexer": "ipython3",
   "version": "3.13.1"
  }
 },
 "nbformat": 4,
 "nbformat_minor": 5
}
