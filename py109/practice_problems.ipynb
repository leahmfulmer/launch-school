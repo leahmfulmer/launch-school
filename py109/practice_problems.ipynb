{
 "cells": [
  {
   "cell_type": "markdown",
   "id": "4afeaa30-e134-4131-8a79-4027f6498399",
   "metadata": {},
   "source": [
    "# Assessment PY109: Python Basics\n",
    "## Practice Problems"
   ]
  },
  {
   "cell_type": "markdown",
   "id": "61bb439a-d72b-4f3c-bd9e-0b246a6ef74c",
   "metadata": {},
   "source": [
    "##### **Data Types:** List all of the Python data types, then their class, category, (non)primitive kind, and (im)mutability."
   ]
  },
  {
   "cell_type": "markdown",
   "id": "39219006-9ef3-4f87-ba5e-86536071580f",
   "metadata": {},
   "source": [
    "The twelve Python data types are as follows...\n",
    "\n",
    "Data Type | Class | Category | Kind | Mutability\n",
    "------------- | ------------- | ------------- | ------------- | -------------\n",
    "strings | str | text sequences | primitive | immutable\n",
    "integers | int | numerics | primitive | immutable\n",
    "floats | float | numerics | primitive | immutable\n",
    "booleans | bool | booleans | primitive | immutable\n",
    "lists | list | sequences | non-primitive | mutable\n",
    "tuples | tuple | sequences | non-primitive | immutable\n",
    "ranges | range | sequences | non-primitive | immutable\n",
    "dictionaries | dict | mappings | non-primitive | mutable\n",
    "sets | set | sets | non-primitive | mutable\n",
    "frozen sets | frozenset | sets | non-primitive | immutable\n",
    "functions | function | functions | non-primitive | mutable\n",
    "`None` | NoneType | nulls | inconclusive | immutable"
   ]
  },
  {
   "cell_type": "markdown",
   "id": "37c83204-c05d-468f-8603-42e64836d2b1",
   "metadata": {},
   "source": [
    "##### **Error Types:** List all of the Python error types, then the circumstances in which they occur."
   ]
  },
  {
   "cell_type": "markdown",
   "id": "0b33d0ae-76d0-4d14-b1c2-e37d3b284fce",
   "metadata": {},
   "source": [
    "The seven Python error types that Launch School highlights are as follows...\n",
    "\n",
    "Error Type | Occurs when...\n",
    "------------- | -------------\n",
    "ZeroDivisionError | ... there is an attempt to divide by zero.\n",
    "ValueError | ... there is an attempt in perform a function on an invalid value.\n",
    "TypeError | ... there is an attempt to perform a function on an invalid data type.\n",
    "KeyError | ... there is an attempt to access a non-existent key.\n",
    "IndexError | ... there is an attempt to access an index that is out of range.\n",
    "NameError | ... there is an attempt to invoke a variable that is undefined.\n",
    "SyntaxError | ... Python's syntax is violated."
   ]
  },
  {
   "cell_type": "code",
   "execution_count": 1,
   "id": "e82c15b2-bb42-44c2-8961-23fc0f695aee",
   "metadata": {},
   "outputs": [
    {
     "ename": "ZeroDivisionError",
     "evalue": "division by zero",
     "output_type": "error",
     "traceback": [
      "\u001b[0;31m---------------------------------------------------------------------------\u001b[0m",
      "\u001b[0;31mZeroDivisionError\u001b[0m                         Traceback (most recent call last)",
      "Cell \u001b[0;32mIn[1], line 2\u001b[0m\n\u001b[1;32m      1\u001b[0m \u001b[38;5;66;03m# ZeroDivisionError\u001b[39;00m\n\u001b[0;32m----> 2\u001b[0m \u001b[38;5;241;43m1\u001b[39;49m\u001b[38;5;241;43m/\u001b[39;49m\u001b[38;5;241;43m0\u001b[39;49m\n",
      "\u001b[0;31mZeroDivisionError\u001b[0m: division by zero"
     ]
    }
   ],
   "source": [
    "# ZeroDivisionError\n",
    "1/0"
   ]
  },
  {
   "cell_type": "code",
   "execution_count": 2,
   "id": "6b3f6c3f-578c-4ca0-967b-f3997a14c82c",
   "metadata": {},
   "outputs": [
    {
     "ename": "ValueError",
     "evalue": "invalid literal for int() with base 10: 'hello'",
     "output_type": "error",
     "traceback": [
      "\u001b[0;31m---------------------------------------------------------------------------\u001b[0m",
      "\u001b[0;31mValueError\u001b[0m                                Traceback (most recent call last)",
      "Cell \u001b[0;32mIn[2], line 2\u001b[0m\n\u001b[1;32m      1\u001b[0m \u001b[38;5;66;03m# ValueError\u001b[39;00m\n\u001b[0;32m----> 2\u001b[0m \u001b[38;5;28;43mint\u001b[39;49m\u001b[43m(\u001b[49m\u001b[38;5;124;43m'\u001b[39;49m\u001b[38;5;124;43mhello\u001b[39;49m\u001b[38;5;124;43m'\u001b[39;49m\u001b[43m)\u001b[49m\n",
      "\u001b[0;31mValueError\u001b[0m: invalid literal for int() with base 10: 'hello'"
     ]
    }
   ],
   "source": [
    "# ValueError\n",
    "int('hello')"
   ]
  },
  {
   "cell_type": "code",
   "execution_count": 3,
   "id": "58011813-d347-4093-9f0f-3c1c4fb28309",
   "metadata": {},
   "outputs": [
    {
     "ename": "TypeError",
     "evalue": "int() argument must be a string, a bytes-like object or a real number, not 'list'",
     "output_type": "error",
     "traceback": [
      "\u001b[0;31m---------------------------------------------------------------------------\u001b[0m",
      "\u001b[0;31mTypeError\u001b[0m                                 Traceback (most recent call last)",
      "Cell \u001b[0;32mIn[3], line 2\u001b[0m\n\u001b[1;32m      1\u001b[0m \u001b[38;5;66;03m# TypeError\u001b[39;00m\n\u001b[0;32m----> 2\u001b[0m \u001b[38;5;28;43mint\u001b[39;49m\u001b[43m(\u001b[49m\u001b[43m[\u001b[49m\u001b[38;5;241;43m1\u001b[39;49m\u001b[43m,\u001b[49m\u001b[38;5;241;43m2\u001b[39;49m\u001b[43m]\u001b[49m\u001b[43m)\u001b[49m\n",
      "\u001b[0;31mTypeError\u001b[0m: int() argument must be a string, a bytes-like object or a real number, not 'list'"
     ]
    }
   ],
   "source": [
    "# TypeError\n",
    "int([1,2])"
   ]
  },
  {
   "cell_type": "code",
   "execution_count": 4,
   "id": "1738d16b-e727-4559-9561-1f6050094f84",
   "metadata": {},
   "outputs": [
    {
     "ename": "KeyError",
     "evalue": "'c'",
     "output_type": "error",
     "traceback": [
      "\u001b[0;31m---------------------------------------------------------------------------\u001b[0m",
      "\u001b[0;31mKeyError\u001b[0m                                  Traceback (most recent call last)",
      "Cell \u001b[0;32mIn[4], line 3\u001b[0m\n\u001b[1;32m      1\u001b[0m \u001b[38;5;66;03m# KeyError\u001b[39;00m\n\u001b[1;32m      2\u001b[0m my_dict \u001b[38;5;241m=\u001b[39m {\u001b[38;5;124m'\u001b[39m\u001b[38;5;124ma\u001b[39m\u001b[38;5;124m'\u001b[39m: \u001b[38;5;241m1\u001b[39m, \u001b[38;5;124m'\u001b[39m\u001b[38;5;124mb\u001b[39m\u001b[38;5;124m'\u001b[39m: \u001b[38;5;241m2\u001b[39m}\n\u001b[0;32m----> 3\u001b[0m \u001b[43mmy_dict\u001b[49m\u001b[43m[\u001b[49m\u001b[38;5;124;43m'\u001b[39;49m\u001b[38;5;124;43mc\u001b[39;49m\u001b[38;5;124;43m'\u001b[39;49m\u001b[43m]\u001b[49m\n",
      "\u001b[0;31mKeyError\u001b[0m: 'c'"
     ]
    }
   ],
   "source": [
    "# KeyError\n",
    "my_dict = {'a': 1, 'b': 2}\n",
    "my_dict['c']"
   ]
  },
  {
   "cell_type": "code",
   "execution_count": 5,
   "id": "22b1c115-45a7-4ded-a830-969600ab21dd",
   "metadata": {},
   "outputs": [
    {
     "ename": "IndexError",
     "evalue": "list index out of range",
     "output_type": "error",
     "traceback": [
      "\u001b[0;31m---------------------------------------------------------------------------\u001b[0m",
      "\u001b[0;31mIndexError\u001b[0m                                Traceback (most recent call last)",
      "Cell \u001b[0;32mIn[5], line 3\u001b[0m\n\u001b[1;32m      1\u001b[0m \u001b[38;5;66;03m# IndexError\u001b[39;00m\n\u001b[1;32m      2\u001b[0m my_list \u001b[38;5;241m=\u001b[39m [\u001b[38;5;241m1\u001b[39m, \u001b[38;5;241m2\u001b[39m]\n\u001b[0;32m----> 3\u001b[0m \u001b[43mmy_list\u001b[49m\u001b[43m[\u001b[49m\u001b[38;5;241;43m2\u001b[39;49m\u001b[43m]\u001b[49m\n",
      "\u001b[0;31mIndexError\u001b[0m: list index out of range"
     ]
    }
   ],
   "source": [
    "# IndexError\n",
    "my_list = [1, 2]\n",
    "my_list[2]"
   ]
  },
  {
   "cell_type": "code",
   "execution_count": 6,
   "id": "64b24a9e-c423-43e2-b9f3-38d7da568939",
   "metadata": {},
   "outputs": [
    {
     "ename": "NameError",
     "evalue": "name 'greeting' is not defined",
     "output_type": "error",
     "traceback": [
      "\u001b[0;31m---------------------------------------------------------------------------\u001b[0m",
      "\u001b[0;31mNameError\u001b[0m                                 Traceback (most recent call last)",
      "Cell \u001b[0;32mIn[6], line 2\u001b[0m\n\u001b[1;32m      1\u001b[0m \u001b[38;5;66;03m# NameError\u001b[39;00m\n\u001b[0;32m----> 2\u001b[0m \u001b[43mgreeting\u001b[49m\n",
      "\u001b[0;31mNameError\u001b[0m: name 'greeting' is not defined"
     ]
    }
   ],
   "source": [
    "# NameError\n",
    "greeting"
   ]
  },
  {
   "cell_type": "code",
   "execution_count": 7,
   "id": "27a026b3-d3ba-41e6-b604-96673bb14aeb",
   "metadata": {},
   "outputs": [
    {
     "ename": "SyntaxError",
     "evalue": "Missing parentheses in call to 'print'. Did you mean print(...)? (2124710157.py, line 2)",
     "output_type": "error",
     "traceback": [
      "\u001b[0;36m  Cell \u001b[0;32mIn[7], line 2\u001b[0;36m\u001b[0m\n\u001b[0;31m    print 'hello'\u001b[0m\n\u001b[0m    ^\u001b[0m\n\u001b[0;31mSyntaxError\u001b[0m\u001b[0;31m:\u001b[0m Missing parentheses in call to 'print'. Did you mean print(...)?\n"
     ]
    }
   ],
   "source": [
    "# Syntax Error\n",
    "print 'hello'"
   ]
  },
  {
   "cell_type": "markdown",
   "id": "8984ff15-9f37-46d9-893a-ed7b6218705e",
   "metadata": {},
   "source": [
    "##### **Mutability and Variable Reassignment:** Consider the following code snippet.\n",
    "\n",
    "```python\n",
    "def modify_list(lst):\n",
    "    lst.append(4)\n",
    "    lst = [1, 2, 3]\n",
    "    lst.append(5)\n",
    "\n",
    "my_list = [10, 20, 30]\n",
    "modify_list(my_list)\n",
    "print(my_list)\n",
    "```\n",
    "##### What will be the output of this code? Explain your answer, focusing on the concepts of mutability and variable reassignment within function scope."
   ]
  },
  {
   "cell_type": "markdown",
   "id": "d67e9464-908f-45b1-93b8-5294f1cd77da",
   "metadata": {},
   "source": [
    "The output of this code will be `[10, 20, 30, 4]`. Within the function `modify_list`, the command `lst.append(4)` directly mutates the argument `my_list`. However, once `lst` is reassigned with the command `lst = [1, 2, 3]`, it becomes a shadow variable within the local scope of the function `modify_list`. It no longer points to `my_list`. "
   ]
  },
  {
   "cell_type": "code",
   "execution_count": 18,
   "id": "e8630e7d-543b-4d2e-9126-413fa8eff9fc",
   "metadata": {},
   "outputs": [
    {
     "name": "stdout",
     "output_type": "stream",
     "text": [
      "[10, 20, 30, 4]\n"
     ]
    }
   ],
   "source": [
    "def modify_list(lst):\n",
    "    lst.append(4)\n",
    "    lst = [1, 2, 3]\n",
    "    lst.append(5)\n",
    "\n",
    "my_list = [10, 20, 30]\n",
    "modify_list(my_list)\n",
    "print(my_list)"
   ]
  },
  {
   "cell_type": "markdown",
   "id": "07a0d8e6-5659-4ebc-a138-cfec3ca6f188",
   "metadata": {},
   "source": [
    "##### **Type Coercion:** Examine this function:\n",
    "\n",
    "```python\n",
    "def mysterious_function(x):\n",
    "    if isinstance(x, str):\n",
    "        return x.upper()\n",
    "    elif isinstance(x, (int, float)):\n",
    "        return x * 2\n",
    "    else:\n",
    "        return str(x)\n",
    "\n",
    "result = mysterious_function(5) + mysterious_function(\"hello\")\n",
    "print(result)\n",
    "```\n",
    "\n",
    "##### What will be printed? Discuss how this function demonstrates Python's dynamic typing and type coercion. How does the behavior change if we modify the last line to `print(mysterious_function(5) + mysterious_function(2.5))`?"
   ]
  },
  {
   "cell_type": "code",
   "execution_count": null,
   "id": "a5244a2f-6008-40a3-97cc-652f63fd51fb",
   "metadata": {},
   "outputs": [],
   "source": [
    "# result = mysterious_function(5) + mysterious_function(\"hello\")\n",
    "# result = 10 + \"HELLO\"\n",
    "# TypeError: cannot concatonate type int with type str"
   ]
  },
  {
   "cell_type": "markdown",
   "id": "7475f837-5d91-4e9e-9c56-2520f5cdeb27",
   "metadata": {},
   "source": [
    "The code will output a `TypeError` that says that it cannot concatenate a type `int` with a type `str`. The first part of result, `mysterious_function(5)`, returns `10` because `5` is an instance of an `int` data type. The next part, mysterious_function(\"hello\") returns `\"HELLO\"` because `\"hello\"` is an instance of a `str` data type. When there is an attempt to concatenate them, Python throws an error. If the last line was changed to `print(mysterious_function(5) + mysterious_function(2.5))`, then the result would be `15.0` because `int` data types and `float` data types can be added together by way of implicit type coersion to `float`."
   ]
  },
  {
   "cell_type": "code",
   "execution_count": 20,
   "id": "d099dc51-e6ba-4a40-a6a0-655035e0fa54",
   "metadata": {},
   "outputs": [
    {
     "ename": "TypeError",
     "evalue": "unsupported operand type(s) for +: 'int' and 'str'",
     "output_type": "error",
     "traceback": [
      "\u001b[0;31m---------------------------------------------------------------------------\u001b[0m",
      "\u001b[0;31mTypeError\u001b[0m                                 Traceback (most recent call last)",
      "Cell \u001b[0;32mIn[20], line 9\u001b[0m\n\u001b[1;32m      6\u001b[0m     \u001b[38;5;28;01melse\u001b[39;00m:\n\u001b[1;32m      7\u001b[0m         \u001b[38;5;28;01mreturn\u001b[39;00m \u001b[38;5;28mstr\u001b[39m(x)\n\u001b[0;32m----> 9\u001b[0m result \u001b[38;5;241m=\u001b[39m \u001b[43mmysterious_function\u001b[49m\u001b[43m(\u001b[49m\u001b[38;5;241;43m5\u001b[39;49m\u001b[43m)\u001b[49m\u001b[43m \u001b[49m\u001b[38;5;241;43m+\u001b[39;49m\u001b[43m \u001b[49m\u001b[43mmysterious_function\u001b[49m\u001b[43m(\u001b[49m\u001b[38;5;124;43m\"\u001b[39;49m\u001b[38;5;124;43mhello\u001b[39;49m\u001b[38;5;124;43m\"\u001b[39;49m\u001b[43m)\u001b[49m\n\u001b[1;32m     10\u001b[0m \u001b[38;5;28mprint\u001b[39m(result)\n",
      "\u001b[0;31mTypeError\u001b[0m: unsupported operand type(s) for +: 'int' and 'str'"
     ]
    }
   ],
   "source": [
    "def mysterious_function(x):\n",
    "    if isinstance(x, str):\n",
    "        return x.upper()\n",
    "    elif isinstance(x, (int, float)):\n",
    "        return x * 2\n",
    "    else:\n",
    "        return str(x)\n",
    "\n",
    "result = mysterious_function(5) + mysterious_function(\"hello\")\n",
    "print(result)"
   ]
  },
  {
   "cell_type": "code",
   "execution_count": 21,
   "id": "0892c319-5c39-4047-8d57-f4b456be74b0",
   "metadata": {},
   "outputs": [
    {
     "name": "stdout",
     "output_type": "stream",
     "text": [
      "15.0\n"
     ]
    }
   ],
   "source": [
    "def mysterious_function(x):\n",
    "    if isinstance(x, str):\n",
    "        return x.upper()\n",
    "    elif isinstance(x, (int, float)):\n",
    "        return x * 2\n",
    "    else:\n",
    "        return str(x)\n",
    "\n",
    "result = mysterious_function(5) + mysterious_function(2.5)\n",
    "print(result)"
   ]
  },
  {
   "cell_type": "markdown",
   "id": "71e35efb-cb4f-4a71-a895-825d6eb485ba",
   "metadata": {},
   "source": [
    "##### **Analyze the following code:**\n",
    "```python\n",
    "def outer_function(x):\n",
    "    y = 10\n",
    "    def inner_function(z):\n",
    "        nonlocal y\n",
    "        y += 1\n",
    "        return x + y + z\n",
    "    return inner_function\n",
    "\n",
    "closure = outer_function(5)\n",
    "print(closure(3))\n",
    "print(closure(3))\n",
    "```\n",
    "##### What will be the output of this code? Explain your answer, focusing on the concepts of closure, nonlocal variables, and function scope. How would the behavior change if we removed the `nonlocal y` line?"
   ]
  },
  {
   "cell_type": "code",
   "execution_count": null,
   "id": "6b0127b3-018e-4bef-85b1-7e741496928f",
   "metadata": {},
   "outputs": [],
   "source": [
    "# First print(closure(3))\n",
    "# x, y, z = 5, 11, 3\n",
    "# x + y + z = 19\n",
    "\n",
    "# Second print(closure(3))\n",
    "# x, y, z = 5, 12, 3\n",
    "# x + y + z = 20"
   ]
  },
  {
   "cell_type": "markdown",
   "id": "154b655e-8cd5-45a0-961a-cef59d9fe81d",
   "metadata": {},
   "source": [
    "The code will first output `19` and then `20`. The expression `closure = outer_function(5)` assigns the variable `x` to the value `5`. Because the function `outer_function` returns an unclosed function of `inner_function`, both instances of `print(closure(3))` invoke the function `inner_function` with the variable `z` assigned to the value `3`. However, with every instance of `closure(3)` the nonlocal variable `y` is incremented by `1`. Therefore, the two print statements will first return `19` and then `20`."
   ]
  },
  {
   "cell_type": "code",
   "execution_count": 22,
   "id": "704fb7dd-0de5-4924-87d8-15bffb39dfd1",
   "metadata": {},
   "outputs": [
    {
     "name": "stdout",
     "output_type": "stream",
     "text": [
      "19\n",
      "20\n"
     ]
    }
   ],
   "source": [
    "def outer_function(x):\n",
    "    y = 10\n",
    "    def inner_function(z):\n",
    "        nonlocal y\n",
    "        y += 1\n",
    "        return x + y + z\n",
    "    return inner_function\n",
    "\n",
    "closure = outer_function(5)\n",
    "print(closure(3))\n",
    "print(closure(3))"
   ]
  },
  {
   "cell_type": "markdown",
   "id": "7d5b0931-606f-463b-9423-95f1dc9a1b45",
   "metadata": {},
   "source": [
    "If we removed the line `nonlocal y`, then the code would throw an error at the line `y += 1`. Augmented assignment is not allowed in a function scope if the augmented variable has not been defined within the local scope. While the function `inner_function` can search for variables within its outer scope, that process is usurped by the augmented assignment which always expects a variable to be defined in the current scope. When the variable is not found in the current scope, in this case in `inner_function`, Python throws an `UnboundLocalError`."
   ]
  },
  {
   "cell_type": "code",
   "execution_count": 23,
   "id": "a6fd2a86-ac1d-453f-94e9-426ec15e6eb1",
   "metadata": {},
   "outputs": [
    {
     "ename": "UnboundLocalError",
     "evalue": "cannot access local variable 'y' where it is not associated with a value",
     "output_type": "error",
     "traceback": [
      "\u001b[0;31m---------------------------------------------------------------------------\u001b[0m",
      "\u001b[0;31mUnboundLocalError\u001b[0m                         Traceback (most recent call last)",
      "Cell \u001b[0;32mIn[23], line 9\u001b[0m\n\u001b[1;32m      6\u001b[0m     \u001b[38;5;28;01mreturn\u001b[39;00m inner_function\n\u001b[1;32m      8\u001b[0m closure \u001b[38;5;241m=\u001b[39m outer_function(\u001b[38;5;241m5\u001b[39m)\n\u001b[0;32m----> 9\u001b[0m \u001b[38;5;28mprint\u001b[39m(\u001b[43mclosure\u001b[49m\u001b[43m(\u001b[49m\u001b[38;5;241;43m3\u001b[39;49m\u001b[43m)\u001b[49m)\n\u001b[1;32m     10\u001b[0m \u001b[38;5;28mprint\u001b[39m(closure(\u001b[38;5;241m3\u001b[39m))\n",
      "Cell \u001b[0;32mIn[23], line 4\u001b[0m, in \u001b[0;36mouter_function.<locals>.inner_function\u001b[0;34m(z)\u001b[0m\n\u001b[1;32m      3\u001b[0m \u001b[38;5;28;01mdef\u001b[39;00m \u001b[38;5;21minner_function\u001b[39m(z):\n\u001b[0;32m----> 4\u001b[0m     \u001b[43my\u001b[49m \u001b[38;5;241m+\u001b[39m\u001b[38;5;241m=\u001b[39m \u001b[38;5;241m1\u001b[39m\n\u001b[1;32m      5\u001b[0m     \u001b[38;5;28;01mreturn\u001b[39;00m x \u001b[38;5;241m+\u001b[39m y \u001b[38;5;241m+\u001b[39m z\n",
      "\u001b[0;31mUnboundLocalError\u001b[0m: cannot access local variable 'y' where it is not associated with a value"
     ]
    }
   ],
   "source": [
    "def outer_function(x):\n",
    "    y = 10\n",
    "    def inner_function(z):\n",
    "        y += 1\n",
    "        return x + y + z\n",
    "    return inner_function\n",
    "\n",
    "closure = outer_function(5)\n",
    "print(closure(3))\n",
    "print(closure(3))"
   ]
  },
  {
   "cell_type": "code",
   "execution_count": null,
   "id": "19c48ace-23a8-445e-bfb2-c9ced26f17fc",
   "metadata": {},
   "outputs": [],
   "source": []
  },
  {
   "cell_type": "code",
   "execution_count": null,
   "id": "78c6e8d6-60bb-4cd1-89ac-bdd1528ca6e2",
   "metadata": {},
   "outputs": [],
   "source": []
  },
  {
   "cell_type": "code",
   "execution_count": null,
   "id": "beb3f256-acb1-4cc5-9dfc-3d31992ebfab",
   "metadata": {},
   "outputs": [],
   "source": []
  },
  {
   "cell_type": "code",
   "execution_count": null,
   "id": "8c52f0d5-5821-4f35-bcc7-2b26d9aad808",
   "metadata": {},
   "outputs": [],
   "source": []
  },
  {
   "cell_type": "code",
   "execution_count": null,
   "id": "7762ac1b-6d77-4fcf-956f-f94e8212bea3",
   "metadata": {},
   "outputs": [],
   "source": []
  },
  {
   "cell_type": "code",
   "execution_count": null,
   "id": "844eab3c-0842-4e9d-8d74-b1dae495278f",
   "metadata": {},
   "outputs": [],
   "source": []
  },
  {
   "cell_type": "code",
   "execution_count": null,
   "id": "e04f0046-f183-426f-967f-34ff80650ef5",
   "metadata": {},
   "outputs": [],
   "source": []
  },
  {
   "cell_type": "code",
   "execution_count": null,
   "id": "27e6d1cd-da27-4a4d-abe1-56bdeb7f5b43",
   "metadata": {},
   "outputs": [],
   "source": []
  },
  {
   "cell_type": "code",
   "execution_count": null,
   "id": "36505250-6b2a-43f9-81f3-95bfa15e8f58",
   "metadata": {},
   "outputs": [],
   "source": []
  },
  {
   "cell_type": "code",
   "execution_count": null,
   "id": "5eebc313-0a72-4019-b970-0bf937914747",
   "metadata": {},
   "outputs": [],
   "source": []
  },
  {
   "cell_type": "markdown",
   "id": "8c86b665-7fc4-4070-b6eb-e09dfb2a8d3e",
   "metadata": {},
   "source": [
    "1. Explain the concept of variable scope in Python and how it relates to function definitions. How does Python's approach to scope impact the way functions interact with variables defined outside their local scope?\n",
    "2. Describe the principle of immutability in Python. How does this concept apply to different data types, and what are the implications for how we work with strings, lists, and dictionaries?\n",
    "3. Compare and contrast implicit and explicit type coercion in Python. How do these concepts relate to Python's dynamic typing system, and what are the potential benefits and drawbacks of each approach?"
   ]
  },
  {
   "cell_type": "code",
   "execution_count": null,
   "id": "844fbdb5-1130-44a4-952c-de64f9e87142",
   "metadata": {},
   "outputs": [],
   "source": []
  }
 ],
 "metadata": {
  "kernelspec": {
   "display_name": "Python 3 (ipykernel)",
   "language": "python",
   "name": "python3"
  },
  "language_info": {
   "codemirror_mode": {
    "name": "ipython",
    "version": 3
   },
   "file_extension": ".py",
   "mimetype": "text/x-python",
   "name": "python",
   "nbconvert_exporter": "python",
   "pygments_lexer": "ipython3",
   "version": "3.13.1"
  }
 },
 "nbformat": 4,
 "nbformat_minor": 5
}
