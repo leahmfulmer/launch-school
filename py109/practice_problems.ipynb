{
 "cells": [
  {
   "cell_type": "markdown",
   "id": "4afeaa30-e134-4131-8a79-4027f6498399",
   "metadata": {},
   "source": [
    "# Assessment PY109: Python Basics\n",
    "## Practice Problems"
   ]
  },
  {
   "cell_type": "markdown",
   "id": "61bb439a-d72b-4f3c-bd9e-0b246a6ef74c",
   "metadata": {},
   "source": [
    "##### **Question 1:** List all of the Python data types, then their class, category, (non)primitive kind, and (im)mutability."
   ]
  },
  {
   "cell_type": "markdown",
   "id": "39219006-9ef3-4f87-ba5e-86536071580f",
   "metadata": {},
   "source": [
    "Data Type | Class | Category | Kind | Mutability\n",
    "------------- | ------------- | ------------- | ------------- | -------------\n",
    "strings | str | text sequences | primitive | immutable\n",
    "integers | int | numerics | primitive | immutable\n",
    "floats | float | numerics | primitive | immutable\n",
    "booleans | bool | booleans | primitive | immutable\n",
    "lists | list | sequences | non-primitive | mutable\n",
    "tuples | tuple | sequences | non-primitive | immutable\n",
    "ranges | range | sequences | non-primitive | immutable\n",
    "dictionaries | dict | mappings | non-primitive | mutable\n",
    "sets | set | sets | non-primitive | mutable\n",
    "frozen sets | frozenset | sets | non-primitive | immutable\n",
    "functions | function | functions | non-primitive | mutable\n",
    "`None` | NoneType | nulls | inconclusive | immutable"
   ]
  },
  {
   "cell_type": "code",
   "execution_count": null,
   "id": "983f4198-6998-4a62-950a-4cffff5712ca",
   "metadata": {},
   "outputs": [],
   "source": []
  },
  {
   "cell_type": "code",
   "execution_count": null,
   "id": "73bd63bc-c411-4dd4-90ed-6a1f57f1497a",
   "metadata": {},
   "outputs": [],
   "source": []
  },
  {
   "cell_type": "code",
   "execution_count": null,
   "id": "e82c15b2-bb42-44c2-8961-23fc0f695aee",
   "metadata": {},
   "outputs": [],
   "source": []
  },
  {
   "cell_type": "code",
   "execution_count": null,
   "id": "6b3f6c3f-578c-4ca0-967b-f3997a14c82c",
   "metadata": {},
   "outputs": [],
   "source": []
  },
  {
   "cell_type": "code",
   "execution_count": null,
   "id": "58011813-d347-4093-9f0f-3c1c4fb28309",
   "metadata": {},
   "outputs": [],
   "source": []
  },
  {
   "cell_type": "code",
   "execution_count": null,
   "id": "1738d16b-e727-4559-9561-1f6050094f84",
   "metadata": {},
   "outputs": [],
   "source": []
  },
  {
   "cell_type": "code",
   "execution_count": null,
   "id": "22b1c115-45a7-4ded-a830-969600ab21dd",
   "metadata": {},
   "outputs": [],
   "source": []
  },
  {
   "cell_type": "code",
   "execution_count": null,
   "id": "64b24a9e-c423-43e2-b9f3-38d7da568939",
   "metadata": {},
   "outputs": [],
   "source": []
  },
  {
   "cell_type": "code",
   "execution_count": null,
   "id": "27a026b3-d3ba-41e6-b604-96673bb14aeb",
   "metadata": {},
   "outputs": [],
   "source": []
  },
  {
   "cell_type": "code",
   "execution_count": null,
   "id": "6d65a3e0-e6c3-485d-b22f-971a6415295d",
   "metadata": {},
   "outputs": [],
   "source": []
  },
  {
   "cell_type": "code",
   "execution_count": null,
   "id": "eb657cd7-56a9-456e-8004-09c30dc05564",
   "metadata": {},
   "outputs": [],
   "source": []
  },
  {
   "cell_type": "code",
   "execution_count": null,
   "id": "e20c9439-0a4e-41e3-87e8-27e37b639fc8",
   "metadata": {},
   "outputs": [],
   "source": []
  },
  {
   "cell_type": "code",
   "execution_count": null,
   "id": "cc0fc058-797e-412e-b829-cd29d322f367",
   "metadata": {},
   "outputs": [],
   "source": []
  },
  {
   "cell_type": "code",
   "execution_count": null,
   "id": "6698ae34-4ce4-4c72-8009-2819b1a03f2d",
   "metadata": {},
   "outputs": [],
   "source": []
  },
  {
   "cell_type": "code",
   "execution_count": null,
   "id": "ac59c42d-b214-4469-a5c9-c92e4946e238",
   "metadata": {},
   "outputs": [],
   "source": []
  },
  {
   "cell_type": "code",
   "execution_count": null,
   "id": "8986ce90-d06d-4773-892a-de5158d1131a",
   "metadata": {},
   "outputs": [],
   "source": []
  },
  {
   "cell_type": "code",
   "execution_count": null,
   "id": "998a91c8-50c2-4992-81db-5041653ab6b6",
   "metadata": {},
   "outputs": [],
   "source": []
  },
  {
   "cell_type": "code",
   "execution_count": null,
   "id": "650c99b4-62d4-4f51-aa88-d232673815c6",
   "metadata": {},
   "outputs": [],
   "source": []
  },
  {
   "cell_type": "code",
   "execution_count": null,
   "id": "1c3e096f-46ef-4b6e-8c52-86cee032022b",
   "metadata": {},
   "outputs": [],
   "source": []
  },
  {
   "cell_type": "code",
   "execution_count": null,
   "id": "93aeec99-af78-402c-97bc-73d4811059d6",
   "metadata": {},
   "outputs": [],
   "source": []
  }
 ],
 "metadata": {
  "kernelspec": {
   "display_name": "Python 3 (ipykernel)",
   "language": "python",
   "name": "python3"
  },
  "language_info": {
   "codemirror_mode": {
    "name": "ipython",
    "version": 3
   },
   "file_extension": ".py",
   "mimetype": "text/x-python",
   "name": "python",
   "nbconvert_exporter": "python",
   "pygments_lexer": "ipython3",
   "version": "3.13.1"
  }
 },
 "nbformat": 4,
 "nbformat_minor": 5
}
