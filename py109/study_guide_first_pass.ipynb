{
 "cells": [
  {
   "cell_type": "markdown",
   "id": "789737a3-6bfd-4d17-be7e-9159b7e3057d",
   "metadata": {},
   "source": [
    "# Assessment PY109: Python Basics\n",
    "## Study Guide\n",
    "#### In general, you should be familiar with Python syntax and operators. You should also be able to clearly explain, talk about, or demonstrate the following topics. For each topic, give examples to highlight various use cases."
   ]
  },
  {
   "cell_type": "markdown",
   "id": "1a9f122d-713a-4bf8-9459-f69556489e5f",
   "metadata": {},
   "source": [
    "### **naming conventions: legal vs. idiomatic, illegal vs. non-idiomatic**"
   ]
  },
  {
   "cell_type": "markdown",
   "id": "dcfc5306-d49c-4d72-afbb-90fed1ee8de6",
   "metadata": {},
   "source": [
    "*Legal* naming conventions describe variables names that follow Python syntax. Legal names include alphabetic characters, underscores, and digits (as long as digits are not the first character). These will not produce an error when the variable is initialized. *Illegal* naming conventions describe variables names that do not follow Python syntax and will produce a `SyntaxError` when the variable is initialized. Illegal characters include non-alphabetic characters, symbols, and digits as the first character."
   ]
  },
  {
   "cell_type": "code",
   "execution_count": 1,
   "id": "dcd54d74-75cd-46f4-9b08-bf2c05fba45b",
   "metadata": {},
   "outputs": [],
   "source": [
    "# Legal\n",
    "\n",
    "my_variable_is_5 = 5\n",
    "JaiMa = \"Jai!\"\n",
    "PYTHON_ROCKS = True"
   ]
  },
  {
   "cell_type": "code",
   "execution_count": 2,
   "id": "41eab052-129d-420d-b0c6-a31b79127a7a",
   "metadata": {},
   "outputs": [
    {
     "ename": "SyntaxError",
     "evalue": "invalid decimal literal (455777378.py, line 3)",
     "output_type": "error",
     "traceback": [
      "\u001b[0;36m  Cell \u001b[0;32mIn[2], line 3\u001b[0;36m\u001b[0m\n\u001b[0;31m    5_is_my_variable = 5\u001b[0m\n\u001b[0m     ^\u001b[0m\n\u001b[0;31mSyntaxError\u001b[0m\u001b[0;31m:\u001b[0m invalid decimal literal\n"
     ]
    }
   ],
   "source": [
    "# Illegal\n",
    "\n",
    "5_is_my_variable = 5\n",
    "+will-this*work/ = \"No\"\n",
    "lend_me_a_$10 = True"
   ]
  },
  {
   "cell_type": "markdown",
   "id": "dca9576c-9671-43a4-b627-49554929fb7a",
   "metadata": {},
   "source": [
    "*Idiomatic* naming conventions describe variable names that the Python community has agreed to use in certain scenarios. The names are both legal and legible to other Python programmers. *Non-idiomatic* naming conventions describe variable names that contradict the agreements set forth by the Python community. They are legal, but they are not easily legible by other Python programmers. Of course, it it recommended that Python programmers follow idiomatic naming conventions."
   ]
  },
  {
   "cell_type": "code",
   "execution_count": 3,
   "id": "5dde246d-4558-4751-a5bc-b02e362012fd",
   "metadata": {},
   "outputs": [],
   "source": [
    "# Idiomatic\n",
    "\n",
    "snake_case = True # for variables, function, methods, etc.\n",
    "PascalCase = True # for classes\n",
    "SCREAMING_SNAKE_CASE = True # for constants"
   ]
  },
  {
   "cell_type": "code",
   "execution_count": 4,
   "id": "8992cf15-d497-4080-a03b-ff7ae987eba2",
   "metadata": {},
   "outputs": [],
   "source": [
    "# Non-idiomatic\n",
    "\n",
    "not_SnakeCASE = False\n",
    "camelCase = False\n",
    "SCREAMING_VARIABLES = False"
   ]
  },
  {
   "cell_type": "markdown",
   "id": "084b402e-4dca-412d-9ffb-e015a74ce2f4",
   "metadata": {},
   "source": [
    "Notice how these variable names do not raise `SyntaxError`s; however, they are unexpected and may confuse other Python prorammers."
   ]
  },
  {
   "cell_type": "markdown",
   "id": "291734d6-5649-48cd-b817-d8e6dc023b7c",
   "metadata": {},
   "source": [
    "### **type coercions: explicit (e.g., using `int()` , `str()`) and implicit**"
   ]
  },
  {
   "cell_type": "markdown",
   "id": "15c1145d-1abb-4bf2-8959-49b6c72b6155",
   "metadata": {},
   "source": [
    "*Explicit* type coercions occur when one variable type is literally, directly, and intentionally converted into another. *Implicit* type coercion occur when one variable type is converted to another in a way that is built-in or behind the scenes; the programmer did not explicitly tell Python to perform the coercio, but it still happened."
   ]
  },
  {
   "cell_type": "code",
   "execution_count": 5,
   "id": "1853cbc9-bff5-4435-89bb-8dcf41d64600",
   "metadata": {},
   "outputs": [
    {
     "name": "stdout",
     "output_type": "stream",
     "text": [
      "<class 'int'>\n",
      "<class 'float'>\n",
      "<class 'str'>\n"
     ]
    }
   ],
   "source": [
    "# Explicit\n",
    "\n",
    "my_float = 3.45\n",
    "my_int = int(my_float)                # int() converts input to an integer\n",
    "print(type(my_int))\n",
    "\n",
    "my_next_int = 345\n",
    "my_next_float = float(my_next_int)    # float() converts input to a floating point number\n",
    "print(type(my_next_float))\n",
    "\n",
    "my_number = 3.45\n",
    "my_str = str(3.45)                    # str() converts input to a string\n",
    "print(type(my_str))"
   ]
  },
  {
   "cell_type": "code",
   "execution_count": 6,
   "id": "da8c0fef-483c-4f4c-b8a3-2ab102495878",
   "metadata": {},
   "outputs": [
    {
     "name": "stdout",
     "output_type": "stream",
     "text": [
      "100\n",
      "<class 'int'> <class 'float'> <class 'float'>\n",
      "<class 'bool'> <class 'bool'> <class 'int'>\n"
     ]
    }
   ],
   "source": [
    "# Implicit\n",
    "\n",
    "print(100)                                           # print() automatically converts any input into a str type.\n",
    "\n",
    "my_sum = 3 + 4.5\n",
    "print(type(3), type(4.5), type(my_sum))              # When mixing data types, one type is coerced into the other.\n",
    "\n",
    "boolean_sum = True + False\n",
    "print(type(True), type(False), type(boolean_sum))    # True and False are implicitly coerced to 1 and 0 in arithmetic."
   ]
  },
  {
   "cell_type": "code",
   "execution_count": 7,
   "id": "ee857425-d863-4a6d-a74b-d3f5f5c69fe7",
   "metadata": {},
   "outputs": [
    {
     "name": "stdout",
     "output_type": "stream",
     "text": [
      "True\n",
      "False\n"
     ]
    }
   ],
   "source": [
    "# NOTE\n",
    "# isinstance(object, type) confirms whether the \n",
    "# given object is of the give type; returns boolean\n",
    "numbers = [1, 2, 3]\n",
    "table = {'first': 1, 'second': 2, 'third': 3}\n",
    "print(isinstance(numbers, list))\n",
    "print(isinstance(table, list))"
   ]
  },
  {
   "cell_type": "markdown",
   "id": "680c76e4-6b3a-4426-af20-d22ef8b3cb83",
   "metadata": {},
   "source": [
    "### **numbers, including handling exceptions (`ValueError`,`ZeroDivisionError`)**"
   ]
  },
  {
   "cell_type": "markdown",
   "id": "9de58f33-fe05-4670-ba5d-475cd350b2d5",
   "metadata": {},
   "source": [
    "Python has several data types to represent numbers, including `int` for integers and `float` for floating point numbers. Integers are whole numbers of unlimited length; they can be positive, negative, or zero. Examples include `-444`, `0`, and `1234`. Floating point numbers are real numbers with decimal places; they can likewise be positive, negative, or zero. Examples include `-123.4`, `0.0`, and `44.4`. Scientific notation can be represented with floating point numbers, using `e`: `-3e8`, `0e0`, and `5.67e12` are examples. Complex numbers also exist in Python, but are not taught in the Launch School curriculum.\n",
    "\n",
    "Numbers can be converted to an `int` type using the built-in function `int()` and to a `float` type using `float()`. One thing to note is that floating point numbers contain **imprecision**. Floating point numbers are stored in binary format, which cannot precisely represent many decimals using only powers of two. Some values become recurring decimals in binary, and thus cannot be completely represented with limited data storage. This may cause unexpected errors; use `math.isclose()`."
   ]
  },
  {
   "cell_type": "code",
   "execution_count": 7,
   "id": "a736c666-952a-40bd-860d-9a709e23a3bd",
   "metadata": {},
   "outputs": [
    {
     "name": "stdout",
     "output_type": "stream",
     "text": [
      "False\n"
     ]
    }
   ],
   "source": [
    "print(0.1 + 0.2 == 0.3)"
   ]
  },
  {
   "cell_type": "code",
   "execution_count": 8,
   "id": "985858fd-5ba6-4e55-a6c7-e373abd39571",
   "metadata": {},
   "outputs": [
    {
     "data": {
      "text/plain": [
       "True"
      ]
     },
     "execution_count": 8,
     "metadata": {},
     "output_type": "execute_result"
    }
   ],
   "source": [
    "import math\n",
    "\n",
    "math.isclose(0.1 + 0.2, 0.3)"
   ]
  },
  {
   "cell_type": "markdown",
   "id": "e0810b05-4a67-4d29-8c75-fba2d7448c5f",
   "metadata": {},
   "source": [
    "*Exception handling* can be broken down into four steps:\n",
    "\n",
    "1. **Try**: This block contains the code that might raise an exception.\n",
    "2. **Except**: If an exception is raised in `try` block, Python will look for a matching except block that can handle that specific type of exception. If a match is found, the code within the corresponding `except` block will execute.\n",
    "3. **Else (optional)**: Executed only if no exceptions raised in `try` block. Contains code that should run when no errors are encountered.\n",
    "4. **Finally (optional)**: Always executed (whether errors raised or not). Used for cleanup operations or mandatory tasks (\"releasasing resources\")."
   ]
  },
  {
   "cell_type": "code",
   "execution_count": 9,
   "id": "597c23cd-7506-4e50-bccd-15a221fb2b9d",
   "metadata": {},
   "outputs": [],
   "source": [
    "# Example of a function that handles exceptions\n",
    "\n",
    "def invalid_number(number_string):\n",
    "    try:\n",
    "        print(\"Executing 'try' block...\")\n",
    "        int(number_string)\n",
    "    except ValueError:\n",
    "        print(\"Executing 'except' block...\")\n",
    "        return True\n",
    "    else:\n",
    "        print(\"Executing 'else' block...\")\n",
    "    finally:\n",
    "        print(\"Executing 'finally' block...\")\n",
    "\n",
    "    return False"
   ]
  },
  {
   "cell_type": "code",
   "execution_count": 10,
   "id": "a9c09fee-1a01-44db-9e7b-e98b2871c406",
   "metadata": {},
   "outputs": [
    {
     "name": "stdout",
     "output_type": "stream",
     "text": [
      "Executing 'try' block...\n",
      "Executing 'else' block...\n",
      "Executing 'finally' block...\n"
     ]
    },
    {
     "data": {
      "text/plain": [
       "False"
      ]
     },
     "execution_count": 10,
     "metadata": {},
     "output_type": "execute_result"
    }
   ],
   "source": [
    "# Execution 1\n",
    "# 10 is a valid number, so the `except` block is \n",
    "# not executed and the function returns False.\n",
    "# Instead, the `else` block is executed. The `try` \n",
    "# and `finally` block are always executed.\n",
    "\n",
    "invalid_number(\"10\")"
   ]
  },
  {
   "cell_type": "code",
   "execution_count": 11,
   "id": "db71d76d-b86c-4b3c-b07f-b0fd57c34491",
   "metadata": {},
   "outputs": [
    {
     "name": "stdout",
     "output_type": "stream",
     "text": [
      "Executing 'try' block...\n",
      "Executing 'except' block...\n",
      "Executing 'finally' block...\n"
     ]
    },
    {
     "data": {
      "text/plain": [
       "True"
      ]
     },
     "execution_count": 11,
     "metadata": {},
     "output_type": "execute_result"
    }
   ],
   "source": [
    "# Execution 2\n",
    "# 10.0 is an invalid number, so the `except` block \n",
    "# is executed and the function returns True. The \n",
    "# `try` and `finally` block are always executed.\n",
    "\n",
    "invalid_number(\"10.0\")"
   ]
  },
  {
   "cell_type": "code",
   "execution_count": 12,
   "id": "11b16fc2-c090-4a18-b054-8d694118aa85",
   "metadata": {},
   "outputs": [
    {
     "name": "stdout",
     "output_type": "stream",
     "text": [
      "Executing 'try' block...\n",
      "Executing 'except' block...\n",
      "Executing 'finally' block...\n"
     ]
    },
    {
     "data": {
      "text/plain": [
       "True"
      ]
     },
     "execution_count": 12,
     "metadata": {},
     "output_type": "execute_result"
    }
   ],
   "source": [
    "# Execution 3\n",
    "# 'abc' is an invalid input, so the `except` block \n",
    "# is executed and the function returns True. The\n",
    "# `try` and `finally` block are always executed.\n",
    "\n",
    "invalid_number(\"abc\")"
   ]
  },
  {
   "cell_type": "markdown",
   "id": "dba1937a-e76b-416d-a462-f83ab1b90526",
   "metadata": {},
   "source": [
    "There are seven different types of *exceptions* or *errors* that one may encounter in Python. Below are definitions and code examples of each type."
   ]
  },
  {
   "cell_type": "code",
   "execution_count": 13,
   "id": "b7a9e67c-fef6-403c-ac60-a8d8d9fb7004",
   "metadata": {},
   "outputs": [
    {
     "ename": "ZeroDivisionError",
     "evalue": "division by zero",
     "output_type": "error",
     "traceback": [
      "\u001b[0;31m---------------------------------------------------------------------------\u001b[0m",
      "\u001b[0;31mZeroDivisionError\u001b[0m                         Traceback (most recent call last)",
      "Cell \u001b[0;32mIn[13], line 4\u001b[0m\n\u001b[1;32m      1\u001b[0m \u001b[38;5;66;03m# ZeroDivisionError (1) \u001b[39;00m\n\u001b[1;32m      2\u001b[0m \u001b[38;5;66;03m# Occurs when one attempt to divide ( / ), integer divide( // ), or modulo ( % ) by 0.\u001b[39;00m\n\u001b[0;32m----> 4\u001b[0m \u001b[38;5;28mprint\u001b[39m(\u001b[38;5;241;43m10\u001b[39;49m\u001b[43m \u001b[49m\u001b[38;5;241;43m/\u001b[39;49m\u001b[43m \u001b[49m\u001b[38;5;241;43m0\u001b[39;49m)\n",
      "\u001b[0;31mZeroDivisionError\u001b[0m: division by zero"
     ]
    }
   ],
   "source": [
    "# ZeroDivisionError (1) \n",
    "# Occurs when one attempt to divide ( / ), integer divide( // ), or modulo ( % ) by 0.\n",
    "\n",
    "print(10 / 0)"
   ]
  },
  {
   "cell_type": "code",
   "execution_count": 14,
   "id": "3527df81-9f74-4917-a807-d142aa90f33e",
   "metadata": {},
   "outputs": [
    {
     "ename": "ZeroDivisionError",
     "evalue": "integer division or modulo by zero",
     "output_type": "error",
     "traceback": [
      "\u001b[0;31m---------------------------------------------------------------------------\u001b[0m",
      "\u001b[0;31mZeroDivisionError\u001b[0m                         Traceback (most recent call last)",
      "Cell \u001b[0;32mIn[14], line 1\u001b[0m\n\u001b[0;32m----> 1\u001b[0m \u001b[38;5;28mprint\u001b[39m(\u001b[38;5;241;43m10\u001b[39;49m\u001b[43m \u001b[49m\u001b[38;5;241;43m/\u001b[39;49m\u001b[38;5;241;43m/\u001b[39;49m\u001b[43m \u001b[49m\u001b[38;5;241;43m0\u001b[39;49m)\n",
      "\u001b[0;31mZeroDivisionError\u001b[0m: integer division or modulo by zero"
     ]
    }
   ],
   "source": [
    "print(10 // 0)"
   ]
  },
  {
   "cell_type": "code",
   "execution_count": 15,
   "id": "e0cc1b20-04fb-4dbf-a64b-e0f4e5e320f9",
   "metadata": {},
   "outputs": [
    {
     "ename": "ZeroDivisionError",
     "evalue": "integer modulo by zero",
     "output_type": "error",
     "traceback": [
      "\u001b[0;31m---------------------------------------------------------------------------\u001b[0m",
      "\u001b[0;31mZeroDivisionError\u001b[0m                         Traceback (most recent call last)",
      "Cell \u001b[0;32mIn[15], line 1\u001b[0m\n\u001b[0;32m----> 1\u001b[0m \u001b[38;5;28mprint\u001b[39m(\u001b[38;5;241;43m10\u001b[39;49m\u001b[43m \u001b[49m\u001b[38;5;241;43m%\u001b[39;49m\u001b[43m \u001b[49m\u001b[38;5;241;43m0\u001b[39;49m)\n",
      "\u001b[0;31mZeroDivisionError\u001b[0m: integer modulo by zero"
     ]
    }
   ],
   "source": [
    "print(10 % 0)"
   ]
  },
  {
   "cell_type": "code",
   "execution_count": 16,
   "id": "d86bf7c4-027e-4b15-a8b8-4addcbf9c2fe",
   "metadata": {},
   "outputs": [
    {
     "ename": "ValueError",
     "evalue": "invalid literal for int() with base 10: 'abc'",
     "output_type": "error",
     "traceback": [
      "\u001b[0;31m---------------------------------------------------------------------------\u001b[0m",
      "\u001b[0;31mValueError\u001b[0m                                Traceback (most recent call last)",
      "Cell \u001b[0;32mIn[16], line 4\u001b[0m\n\u001b[1;32m      1\u001b[0m \u001b[38;5;66;03m# ValueError (2)\u001b[39;00m\n\u001b[1;32m      2\u001b[0m \u001b[38;5;66;03m# Occurs when a function receives an argument of the right type, but with a value that is inappropriate for that function\u001b[39;00m\n\u001b[0;32m----> 4\u001b[0m \u001b[38;5;28;43mint\u001b[39;49m\u001b[43m(\u001b[49m\u001b[38;5;124;43m'\u001b[39;49m\u001b[38;5;124;43mabc\u001b[39;49m\u001b[38;5;124;43m'\u001b[39;49m\u001b[43m)\u001b[49m\n",
      "\u001b[0;31mValueError\u001b[0m: invalid literal for int() with base 10: 'abc'"
     ]
    }
   ],
   "source": [
    "# ValueError (2)\n",
    "# Occurs when a function receives an argument of the right type, but with a value that is inappropriate for that function\n",
    "\n",
    "int('abc')"
   ]
  },
  {
   "cell_type": "code",
   "execution_count": 17,
   "id": "8ba0dd57-bd0c-41f8-899b-b55f5d5a97df",
   "metadata": {},
   "outputs": [
    {
     "name": "stdout",
     "output_type": "stream",
     "text": [
      "1\n"
     ]
    },
    {
     "ename": "KeyError",
     "evalue": "'d'",
     "output_type": "error",
     "traceback": [
      "\u001b[0;31m---------------------------------------------------------------------------\u001b[0m",
      "\u001b[0;31mKeyError\u001b[0m                                  Traceback (most recent call last)",
      "Cell \u001b[0;32mIn[17], line 7\u001b[0m\n\u001b[1;32m      4\u001b[0m my_dict \u001b[38;5;241m=\u001b[39m {\u001b[38;5;124m'\u001b[39m\u001b[38;5;124ma\u001b[39m\u001b[38;5;124m'\u001b[39m: \u001b[38;5;241m1\u001b[39m, \u001b[38;5;124m'\u001b[39m\u001b[38;5;124mb\u001b[39m\u001b[38;5;124m'\u001b[39m: \u001b[38;5;241m2\u001b[39m, \u001b[38;5;124m'\u001b[39m\u001b[38;5;124mc\u001b[39m\u001b[38;5;124m'\u001b[39m: \u001b[38;5;241m3\u001b[39m}\n\u001b[1;32m      6\u001b[0m \u001b[38;5;28mprint\u001b[39m(my_dict[\u001b[38;5;124m'\u001b[39m\u001b[38;5;124ma\u001b[39m\u001b[38;5;124m'\u001b[39m])\n\u001b[0;32m----> 7\u001b[0m \u001b[38;5;28mprint\u001b[39m(\u001b[43mmy_dict\u001b[49m\u001b[43m[\u001b[49m\u001b[38;5;124;43m'\u001b[39;49m\u001b[38;5;124;43md\u001b[39;49m\u001b[38;5;124;43m'\u001b[39;49m\u001b[43m]\u001b[49m)\n",
      "\u001b[0;31mKeyError\u001b[0m: 'd'"
     ]
    }
   ],
   "source": [
    "# KeyError (3)\n",
    "# Occurs when one attempts to access a key that does not exist within a given dictionary.\n",
    "\n",
    "my_dict = {'a': 1, 'b': 2, 'c': 3}\n",
    "\n",
    "print(my_dict['a'])\n",
    "print(my_dict['d'])"
   ]
  },
  {
   "cell_type": "code",
   "execution_count": 18,
   "id": "768c1e35-5dca-4e36-b1f6-0bdc8016f3d5",
   "metadata": {},
   "outputs": [
    {
     "ename": "TypeError",
     "evalue": "int() argument must be a string, a bytes-like object or a real number, not 'list'",
     "output_type": "error",
     "traceback": [
      "\u001b[0;31m---------------------------------------------------------------------------\u001b[0m",
      "\u001b[0;31mTypeError\u001b[0m                                 Traceback (most recent call last)",
      "Cell \u001b[0;32mIn[18], line 4\u001b[0m\n\u001b[1;32m      1\u001b[0m \u001b[38;5;66;03m# TypeError (4)\u001b[39;00m\n\u001b[1;32m      2\u001b[0m \u001b[38;5;66;03m# Occurs when a function receives an argument of the wrong type.\u001b[39;00m\n\u001b[0;32m----> 4\u001b[0m \u001b[38;5;28;43mint\u001b[39;49m\u001b[43m(\u001b[49m\u001b[43m[\u001b[49m\u001b[38;5;124;43m'\u001b[39;49m\u001b[38;5;124;43ma\u001b[39;49m\u001b[38;5;124;43m'\u001b[39;49m\u001b[43m,\u001b[49m\u001b[43m \u001b[49m\u001b[38;5;124;43m'\u001b[39;49m\u001b[38;5;124;43mb\u001b[39;49m\u001b[38;5;124;43m'\u001b[39;49m\u001b[43m,\u001b[49m\u001b[43m \u001b[49m\u001b[38;5;124;43m'\u001b[39;49m\u001b[38;5;124;43mc\u001b[39;49m\u001b[38;5;124;43m'\u001b[39;49m\u001b[43m]\u001b[49m\u001b[43m)\u001b[49m\n",
      "\u001b[0;31mTypeError\u001b[0m: int() argument must be a string, a bytes-like object or a real number, not 'list'"
     ]
    }
   ],
   "source": [
    "# TypeError (4)\n",
    "# Occurs when a function receives an argument of the wrong type.\n",
    "\n",
    "int(['a', 'b', 'c'])"
   ]
  },
  {
   "cell_type": "code",
   "execution_count": 19,
   "id": "cbe869c4-9781-4ee5-a408-e8a7b7756eaa",
   "metadata": {},
   "outputs": [
    {
     "ename": "NameError",
     "evalue": "name 'hello' is not defined",
     "output_type": "error",
     "traceback": [
      "\u001b[0;31m---------------------------------------------------------------------------\u001b[0m",
      "\u001b[0;31mNameError\u001b[0m                                 Traceback (most recent call last)",
      "Cell \u001b[0;32mIn[19], line 4\u001b[0m\n\u001b[1;32m      1\u001b[0m \u001b[38;5;66;03m# NameError (5)\u001b[39;00m\n\u001b[1;32m      2\u001b[0m \u001b[38;5;66;03m# Occurs when one attempts to access a variable or function that does not exist.\u001b[39;00m\n\u001b[0;32m----> 4\u001b[0m \u001b[38;5;28mprint\u001b[39m(\u001b[43mhello\u001b[49m)\n",
      "\u001b[0;31mNameError\u001b[0m: name 'hello' is not defined"
     ]
    }
   ],
   "source": [
    "# NameError (5)\n",
    "# Occurs when one attempts to access a variable or function that does not exist.\n",
    "\n",
    "print(hello)"
   ]
  },
  {
   "cell_type": "code",
   "execution_count": 20,
   "id": "10d47a9b-d17b-4594-b149-96526bd18d5f",
   "metadata": {},
   "outputs": [
    {
     "name": "stdout",
     "output_type": "stream",
     "text": [
      "c\n"
     ]
    },
    {
     "ename": "IndexError",
     "evalue": "list index out of range",
     "output_type": "error",
     "traceback": [
      "\u001b[0;31m---------------------------------------------------------------------------\u001b[0m",
      "\u001b[0;31mIndexError\u001b[0m                                Traceback (most recent call last)",
      "Cell \u001b[0;32mIn[20], line 7\u001b[0m\n\u001b[1;32m      4\u001b[0m my_list \u001b[38;5;241m=\u001b[39m [\u001b[38;5;124m'\u001b[39m\u001b[38;5;124ma\u001b[39m\u001b[38;5;124m'\u001b[39m, \u001b[38;5;124m'\u001b[39m\u001b[38;5;124mb\u001b[39m\u001b[38;5;124m'\u001b[39m, \u001b[38;5;124m'\u001b[39m\u001b[38;5;124mc\u001b[39m\u001b[38;5;124m'\u001b[39m]\n\u001b[1;32m      6\u001b[0m \u001b[38;5;28mprint\u001b[39m(my_list[\u001b[38;5;241m-\u001b[39m\u001b[38;5;241m1\u001b[39m])\n\u001b[0;32m----> 7\u001b[0m \u001b[38;5;28mprint\u001b[39m(\u001b[43mmy_list\u001b[49m\u001b[43m[\u001b[49m\u001b[38;5;241;43m3\u001b[39;49m\u001b[43m]\u001b[49m)\n",
      "\u001b[0;31mIndexError\u001b[0m: list index out of range"
     ]
    }
   ],
   "source": [
    "# IndexError (6)\n",
    "# Occurs when one attempts to access an index that is out of range\n",
    "\n",
    "my_list = ['a', 'b', 'c']\n",
    "\n",
    "print(my_list[-1])\n",
    "print(my_list[3])"
   ]
  },
  {
   "cell_type": "code",
   "execution_count": 21,
   "id": "0f343554-d245-471b-8e84-c4b21b3305f8",
   "metadata": {},
   "outputs": [
    {
     "ename": "SyntaxError",
     "evalue": "Missing parentheses in call to 'print'. Did you mean print(...)? (1650208686.py, line 4)",
     "output_type": "error",
     "traceback": [
      "\u001b[0;36m  Cell \u001b[0;32mIn[21], line 4\u001b[0;36m\u001b[0m\n\u001b[0;31m    print 5\u001b[0m\n\u001b[0m    ^\u001b[0m\n\u001b[0;31mSyntaxError\u001b[0m\u001b[0;31m:\u001b[0m Missing parentheses in call to 'print'. Did you mean print(...)?\n"
     ]
    }
   ],
   "source": [
    "# SyntaxError (7)\n",
    "# Occurs when one violates Python syntax\n",
    "\n",
    "print 5"
   ]
  },
  {
   "cell_type": "markdown",
   "id": "aa8b876e-6541-46a1-8a67-dcf4f12e5f05",
   "metadata": {},
   "source": [
    "In sum, we have `ZeroDivisionError`, `ValueError`, `KeyError`, `TypeError`, `NameError`, `IndexError`, `SyntaxError`. To remember this, you can say... Zebras Value Keys (that) Type (and) Name In Sin."
   ]
  },
  {
   "cell_type": "markdown",
   "id": "78f94f79-b940-482e-9049-ce7c8eec19ec",
   "metadata": {},
   "source": [
    "### **strings**"
   ]
  },
  {
   "cell_type": "markdown",
   "id": "bf9b8ee8-2eca-424c-a780-f32b242c06d6",
   "metadata": {},
   "source": [
    "Strings are a Python data type that represent a sequence of characters surrounded by single quotes (`' '`) and double quotes (`\" \"`) for single-line strings, or triple double-quotes for multi-line strings (`\"\"\" ... \"\"\"`)."
   ]
  },
  {
   "cell_type": "code",
   "execution_count": 22,
   "id": "20ac43bf-920b-438b-ae61-cc2b59352ef8",
   "metadata": {},
   "outputs": [
    {
     "name": "stdout",
     "output_type": "stream",
     "text": [
      "Hello,\n",
      "world!\n",
      "\n",
      "Hello, world!\n",
      "If I need to add anything else,\n",
      "I can do it on the next line!\n",
      "\n"
     ]
    }
   ],
   "source": [
    "single_quote_string = 'Hello,'\n",
    "double_quote_string = \"world!\"\n",
    "multiline_string = \"\"\"\n",
    "Hello, world!\n",
    "If I need to add anything else,\n",
    "I can do it on the next line!\n",
    "\"\"\"\n",
    "\n",
    "print(single_quote_string)\n",
    "print(double_quote_string)\n",
    "print(multiline_string)"
   ]
  },
  {
   "cell_type": "markdown",
   "id": "8d765047-53ce-4830-aa43-2ff7e962a78f",
   "metadata": {},
   "source": [
    "Strings have unqiue syntactical properties. Strings are immutable, meaning they can not be directly modified. Strings are *not* considered sequences in Python, but like sequences they can be indexed and sliced. There are also many string methods that can modify or evaluate a given string. First let's look at simple string modifications..."
   ]
  },
  {
   "cell_type": "markdown",
   "id": "6f40ef7f-9002-4822-a72f-050a6cc4bbac",
   "metadata": {},
   "source": [
    "#### indexing, slicing, and reversing"
   ]
  },
  {
   "cell_type": "code",
   "execution_count": 23,
   "id": "f6b4126e-dd7a-4bd7-ac04-4cb92a0eb706",
   "metadata": {},
   "outputs": [
    {
     "name": "stdout",
     "output_type": "stream",
     "text": [
      "my_string\n",
      "i love you very much\n",
      "\n",
      "select index\n",
      "v\n",
      "\n",
      "shallow copy\n",
      "i love you very much\n",
      "\n",
      "reverse\n",
      "hcum yrev uoy evol i\n",
      "\n",
      "str.index()\n",
      "11\n",
      "\n"
     ]
    }
   ],
   "source": [
    "my_string = 'i love you very much'\n",
    "print('my_string', my_string, sep='\\n', end='\\n\\n')\n",
    "\n",
    "# str[index] selects a specific character from the string\n",
    "print('select index', my_string[11], sep='\\n', end='\\n\\n')\n",
    "\n",
    "# str[start_index : stop_index : step_size] slices the string\n",
    "# according to start-inclusive and stop-exclusive step sizes.\n",
    "\n",
    "# return entire list as shallow copy\n",
    "copy = my_string[:]\n",
    "print('shallow copy', copy, sep='\\n', end='\\n\\n')\n",
    "\n",
    "# return list backwards\n",
    "print('reverse', my_string[::-1], sep='\\n', end='\\n\\n')\n",
    "\n",
    "# str.index('element') returns the index of the first\n",
    "# instance of the given element\n",
    "print('str.index()', my_string.index('very'), sep='\\n', end='\\n\\n')"
   ]
  },
  {
   "cell_type": "markdown",
   "id": "b7d555e6-8609-45c0-897d-681e9358e258",
   "metadata": {},
   "source": [
    "#### modifying case"
   ]
  },
  {
   "cell_type": "code",
   "execution_count": 24,
   "id": "bcecc621-28a2-49eb-896e-dc715132f756",
   "metadata": {},
   "outputs": [
    {
     "name": "stdout",
     "output_type": "stream",
     "text": [
      "my_string\n",
      "aBc\n",
      "\n",
      "str.capitalize()\n",
      "Abc\n",
      "\n",
      "str.swapcase()\n",
      "AbC\n",
      "\n",
      "str.upper()\n",
      "ABC\n",
      "\n",
      "str.lower()\n",
      "abc\n",
      "\n",
      "my_string\n",
      "aBc\n",
      "\n"
     ]
    }
   ],
   "source": [
    "my_string = 'aBc'\n",
    "print('my_string', my_string, sep='\\n', end='\\n\\n')\n",
    "\n",
    "# str.capitalize() capitalizes the first letter and \n",
    "# makes the remaining letters lowercase.\n",
    "print('str.capitalize()', my_string.capitalize(), sep='\\n', end='\\n\\n')\n",
    "\n",
    "# str.swapcase() switches ever uppercase letter to\n",
    "# lowercase and every lowercase letter to uppercase\n",
    "print('str.swapcase()', my_string.swapcase(), sep='\\n', end='\\n\\n')\n",
    "\n",
    "# str.upper() makes every letter uppercase\n",
    "my_string_upper = my_string.upper()\n",
    "print('str.upper()', my_string_upper, sep='\\n', end='\\n\\n')\n",
    "\n",
    "# str.lower() makes every letter lowercase\n",
    "my_string_lower = my_string.lower()\n",
    "print('str.lower()', my_string_lower, sep='\\n', end='\\n\\n')\n",
    "\n",
    "# given string\n",
    "print('my_string', my_string, sep='\\n', end='\\n\\n')"
   ]
  },
  {
   "cell_type": "markdown",
   "id": "564ebf62-728f-49c6-a98c-579899031457",
   "metadata": {},
   "source": [
    "In each case, we observe that `my_string` was not mutated by the string method. Rather, a new string was created and at times assigned to a new variable."
   ]
  },
  {
   "cell_type": "markdown",
   "id": "e087f746-9d42-4a64-98c1-783940bc2f11",
   "metadata": {},
   "source": [
    "#### formatting titles"
   ]
  },
  {
   "cell_type": "code",
   "execution_count": 25,
   "id": "a5dc833c-911f-4342-a926-d9cd39ad77d6",
   "metadata": {},
   "outputs": [
    {
     "name": "stdout",
     "output_type": "stream",
     "text": [
      "my_title\n",
      "bless my mother's lotus feet\n",
      "\n",
      "str.title()\n",
      "Bless My Mother'S Lotus Feet\n",
      "\n",
      "string.capwords(my_string)\n",
      "Bless My Mother's Lotus Feet\n",
      "\n",
      "str.center()\n",
      "|                          bless my mother's lotus feet                         |\n",
      "\n"
     ]
    }
   ],
   "source": [
    "my_title = \"bless my mother's lotus feet\"\n",
    "print('my_title', my_title, sep='\\n', end='\\n\\n')\n",
    "\n",
    "# str.title() capitalizes each word after a spaces\n",
    "# and following punctuational characters\n",
    "print('str.title()', my_title.title(), sep='\\n', end='\\n\\n')\n",
    "\n",
    "# The method string.capwords(my_string) capitalizes words that follow \n",
    "# whitespaces, but does not capitalize words following punctuation\n",
    "import string\n",
    "print('string.capwords(my_string)', string.capwords(my_title), sep='\\n', end='\\n\\n')\n",
    "\n",
    "# str.center() centers a string in a given width\n",
    "print('str.center()', '|' + my_title.center(79) + '|', sep='\\n', end='\\n\\n')"
   ]
  },
  {
   "cell_type": "markdown",
   "id": "e0d62b20-6727-4cf0-abf2-80133ccb4b30",
   "metadata": {},
   "source": [
    "#### stripping"
   ]
  },
  {
   "cell_type": "code",
   "execution_count": 26,
   "id": "f6f3dec8-5262-4b16-8ad9-5804f52248ce",
   "metadata": {},
   "outputs": [
    {
     "name": "stdout",
     "output_type": "stream",
     "text": [
      "my_string\n",
      "+-+-+love you!+-+-+\n",
      "\n",
      "str.strip()\n",
      "love you!\n",
      "\n",
      "str.rstrip()\n",
      "+-+-+love you!\n",
      "\n",
      "str.lstrip()\n",
      "love you!+-+-+\n",
      "\n"
     ]
    }
   ],
   "source": [
    "my_string = '+-+-+love you!+-+-+'\n",
    "print('my_string', my_string, sep='\\n', end='\\n\\n')\n",
    "\n",
    "# str.strip('to_remove') removes all characters within the given\n",
    "# collection of characters to remove; order doesn't matter\n",
    "print('str.strip()', my_string.strip('+-'), sep='\\n', end='\\n\\n') \n",
    "\n",
    "# str.rrstrip() removes trailing characters within given collection\n",
    "print('str.rstrip()', my_string.rstrip('+-'), sep='\\n', end='\\n\\n') \n",
    "\n",
    "# str.lstrip()removes leading characters within given collection\n",
    "print('str.lstrip()', my_string.lstrip('+-'), sep='\\n', end='\\n\\n') "
   ]
  },
  {
   "cell_type": "markdown",
   "id": "733f5f48-dd12-4f4a-918d-65e0c7b951e4",
   "metadata": {},
   "source": [
    "#### replacing and repr()"
   ]
  },
  {
   "cell_type": "code",
   "execution_count": 27,
   "id": "16b0dd42-1d01-4b0a-8994-56bea0ca04e4",
   "metadata": {},
   "outputs": [
    {
     "name": "stdout",
     "output_type": "stream",
     "text": [
      "my_string\n",
      "jai \t ma!\n",
      "\n",
      "str.replace()\n",
      "jai \t ma!!!\n",
      "\n",
      "repr(string)\n",
      "'jai \\t ma!'\n",
      "\n"
     ]
    }
   ],
   "source": [
    "my_string = 'jai \\t ma!'\n",
    "print('my_string', my_string, sep='\\n', end='\\n\\n')\n",
    "\n",
    "# str.replace('previous_character', 'new_character') replaces\n",
    "# the previous_character in a string with the new_character\n",
    "print('str.replace()', my_string.replace('!', '!!!'), sep='\\n', end='\\n\\n')\n",
    "\n",
    "# repr(string) formats the string with quotes and clearly\n",
    "# literally articulates the presence of whitespace characters\n",
    "print('repr(string)', repr(my_string), sep='\\n', end='\\n\\n')"
   ]
  },
  {
   "cell_type": "markdown",
   "id": "6cb6bcb3-d126-4385-b3d4-503d8db6cc0b",
   "metadata": {},
   "source": [
    "#### evaluating characters"
   ]
  },
  {
   "cell_type": "code",
   "execution_count": 28,
   "id": "ffa83983-f838-4be8-a151-0e4a984c2152",
   "metadata": {},
   "outputs": [
    {
     "name": "stdout",
     "output_type": "stream",
     "text": [
      "my_string\n",
      "aBc_123_dEf\n",
      "\n",
      "str.isascii() True False\n",
      "str.isalpha() False True\n",
      "str.isdigit() False True\n",
      "str.isalnum() False True\n",
      "str.isupper() False True\n",
      "str.islower() False True\n",
      "str.isspace() False True\n"
     ]
    }
   ],
   "source": [
    "my_string = 'aBc_123_dEf'\n",
    "print('my_string', my_string, sep='\\n', end='\\n\\n')\n",
    "\n",
    "# str.isascii() returns True if all characters \n",
    "# in a string are ASCII characters\n",
    "print('str.isascii()', my_string.isascii(), 'তৃপ্তি'.isascii())\n",
    "\n",
    "# str.isalpha() returns True if all characters \n",
    "# in a string are alphabetic\n",
    "print('str.isalpha()', my_string.isalpha(), 'abc'.isalpha())\n",
    "\n",
    "# str.isdigit() returns True if all characters \n",
    "# in a string are digits\n",
    "print('str.isdigit()', my_string.isdigit(), '123'.isdigit())\n",
    "\n",
    "# str.isalnum() returns True if all characters \n",
    "# in a string are alphabetic or digits\n",
    "print('str.isalnum()', my_string.isalnum(), 'abc123'.isalnum())\n",
    "\n",
    "# str.isupper() returns True if all characters \n",
    "# in a string are uppercase\n",
    "print('str.isupper()', my_string.isupper(), 'ABC'.isupper())\n",
    "\n",
    "# str.islower() returns True if all characters \n",
    "# in a string are lowercase\n",
    "print('str.islower()', my_string.islower(), 'abc123'.islower())\n",
    "\n",
    "# str.isspace() returns True if all characters \n",
    "# in a string are whitespace, including spaces,\n",
    "# tabs (\\t), newlines (\\n), carriage returns (\\r), \n",
    "# vertical tabs (\\v), and form feeds (\\f)\n",
    "print('str.isspace()', my_string.isspace(), '\\t'.isspace())"
   ]
  },
  {
   "cell_type": "markdown",
   "id": "b93a0907-99ca-41ec-8d12-d642eec667dd",
   "metadata": {},
   "source": [
    "#### find"
   ]
  },
  {
   "cell_type": "code",
   "execution_count": 29,
   "id": "653087c2-620d-4864-89c7-4b73806d880e",
   "metadata": {},
   "outputs": [
    {
     "name": "stdout",
     "output_type": "stream",
     "text": [
      "my_string\n",
      "aBc_123_321_dEf\n",
      "\n",
      "str.find()\n",
      "4\n",
      "10\n",
      "-1\n",
      "\n",
      "str.rfind()\n",
      "10\n",
      "-1\n",
      "4\n"
     ]
    }
   ],
   "source": [
    "my_string = 'aBc_123_321_dEf'\n",
    "print('my_string', my_string, sep='\\n', end='\\n\\n')\n",
    "\n",
    "# str.find('substring', start_index, end_index) finds\n",
    "# the first instance of a substring in a given string,\n",
    "# searching only within the slice if start and stop \n",
    "# indices given; returns -1 if substring not found.\n",
    "print(\"str.find()\", my_string.find('1'), my_string.find('1', 5), my_string.find('1', 11, -1), sep=\"\\n\", end=\"\\n\\n\")\n",
    "\n",
    "# str.rfind() executes the same operation as str.find()\n",
    "# but searches from right to left; indexing remains the same.\n",
    "print(\"str.rfind()\", my_string.rfind('1'), my_string.rfind('1', 11), my_string.rfind('1', 0, 10), sep=\"\\n\")"
   ]
  },
  {
   "cell_type": "markdown",
   "id": "fd24cb7f-0816-41f8-b0bd-5bd9491fff39",
   "metadata": {},
   "source": [
    "#### startswith, endswith"
   ]
  },
  {
   "cell_type": "code",
   "execution_count": 30,
   "id": "bce1951c-8158-4758-968c-425322fb2683",
   "metadata": {},
   "outputs": [
    {
     "name": "stdout",
     "output_type": "stream",
     "text": [
      "str.startswith()\n",
      "True\n",
      "False\n",
      "\n",
      "str.startswith(tuple)\n",
      "True\n",
      "False\n",
      "\n",
      "str.startswith(range)\n",
      "False\n",
      "True\n",
      "\n",
      "str.endswith()\n",
      "True\n",
      "False\n",
      "\n",
      "str.endswith(tuple)\n",
      "True\n",
      "False\n",
      "\n",
      "str.endswith(range)\n",
      "False\n",
      "True\n",
      "\n"
     ]
    }
   ],
   "source": [
    "my_string = 'i love you very much!'\n",
    "\n",
    "# str.startswith(substring) returns whether \n",
    "# string starts with the given substring\n",
    "print(\"str.startswith()\", my_string.startswith('i love'), my_string.startswith('you'), sep=\"\\n\", end=\"\\n\\n\")\n",
    "\n",
    "# str.startswith(tuple) returns whether string\n",
    "# starts with any of the given substrings in\n",
    "# the tuple\n",
    "print(\"str.startswith(tuple)\", my_string.startswith(('i', 'love', 'you')), my_string.startswith(('love', 'you')), sep=\"\\n\", end=\"\\n\\n\")\n",
    "\n",
    "# str.startswith(substring, start_index, end_index\n",
    "# controls the search range\n",
    "print(\"str.startswith(range)\", my_string.startswith('i love', 7), my_string.startswith('you', 7), sep=\"\\n\", end=\"\\n\\n\")\n",
    "\n",
    "# str.endswith() works the same way\n",
    "print(\"str.endswith()\", my_string.endswith('much!'), my_string.startswith('you'), sep=\"\\n\", end=\"\\n\\n\")\n",
    "print(\"str.endswith(tuple)\", my_string.endswith(('love', 'you', 'much!')), my_string.endswith(('love', 'you')), sep=\"\\n\", end=\"\\n\\n\")\n",
    "print(\"str.endswith(range)\", my_string.endswith('much', 7), my_string.endswith('much', 7, -1), sep=\"\\n\", end=\"\\n\\n\")"
   ]
  },
  {
   "cell_type": "markdown",
   "id": "3606e731-67cb-4470-ab67-ed1ccb31a740",
   "metadata": {},
   "source": [
    "#### splitting"
   ]
  },
  {
   "cell_type": "code",
   "execution_count": 31,
   "id": "b5e6eef9-4fe9-4fa9-80e9-0b828228b6a0",
   "metadata": {},
   "outputs": [
    {
     "name": "stdout",
     "output_type": "stream",
     "text": [
      "my_string\n",
      "hello! \n",
      "i love you! \n",
      "won't you tell me your name!\n",
      "\n",
      "str.split()\n",
      "['hello!', 'i', 'love', 'you!', \"won't\", 'you', 'tell', 'me', 'your', 'name!']\n",
      "\n",
      "str.split()\n",
      "['hello! ', 'i love you! ', \"won't you tell me your name!\"]\n",
      "\n",
      "str.splitlines()\n",
      "['hello! ', 'i love you! ', \"won't you tell me your name!\"]\n",
      "\n"
     ]
    }
   ],
   "source": [
    "my_string = \"hello! \\ni love you! \\nwon't you tell me your name!\"\n",
    "print('my_string', my_string, sep='\\n', end='\\n\\n')\n",
    "\n",
    "# str.split('delimiter') splits a string at the given\n",
    "# delimiter, or at whitespace if no delimiter given.\n",
    "print('str.split()', my_string.split(), sep='\\n', end='\\n\\n')\n",
    "print('str.split()', my_string.split('\\n'), sep='\\n', end='\\n\\n')\n",
    "\n",
    "# str.splitlines splits an extended string (text) into\n",
    "# a list of individual lines, each as their own string.\n",
    "# Delimiters include ., !, ? \\n, \\r, etc.\n",
    "print('str.splitlines()', my_string.splitlines(), sep='\\n', end='\\n\\n')"
   ]
  },
  {
   "cell_type": "markdown",
   "id": "90138e7d-3bff-48c1-a5e0-22785bd632e2",
   "metadata": {},
   "source": [
    "#### joining"
   ]
  },
  {
   "cell_type": "code",
   "execution_count": 32,
   "id": "9118410d-8aef-4205-b7cd-a2b3d0bb8892",
   "metadata": {},
   "outputs": [
    {
     "name": "stdout",
     "output_type": "stream",
     "text": [
      "my_words\n",
      "['i', 'love', 'you']\n",
      "\n",
      "' '.join()\n",
      "i love you\n",
      "\n"
     ]
    }
   ],
   "source": [
    "my_words = ['i', 'love', 'you']\n",
    "print('my_words', my_words, sep='\\n', end='\\n\\n')\n",
    "\n",
    "# str.join(['list', 'of', 'strings']) takes a delimiter\n",
    "# and joines the elements in a list of strings using\n",
    "# the given delimeter.\n",
    "print(\"' '.join()\", ' '.join(my_words), sep='\\n', end='\\n\\n')"
   ]
  },
  {
   "cell_type": "markdown",
   "id": "1bb5571f-245b-4ce1-b9e6-d053633a7494",
   "metadata": {},
   "source": [
    "#### formatting strings with variables"
   ]
  },
  {
   "cell_type": "code",
   "execution_count": 33,
   "id": "6975db1c-6fc8-4286-b09d-f42fa531fafc",
   "metadata": {},
   "outputs": [
    {
     "name": "stdout",
     "output_type": "stream",
     "text": [
      "my_adjectives\n",
      "great\n",
      "powerful\n",
      "\n",
      "I am Oz, the great and powerful!\n"
     ]
    }
   ],
   "source": [
    "adjective1 = 'great'\n",
    "adjective2 = 'powerful'\n",
    "print('my_adjectives', adjective1, adjective2, sep='\\n', end='\\n\\n')\n",
    "\n",
    "my_string = f'I am Oz, the {adjective1} and {adjective2}!'\n",
    "print(my_string)"
   ]
  },
  {
   "cell_type": "markdown",
   "id": "834999a6-67dd-4244-b91f-8a896544b392",
   "metadata": {},
   "source": [
    "### **boolean vs. truthiness**"
   ]
  },
  {
   "cell_type": "markdown",
   "id": "a2777287-0f74-4ef7-9a16-2b5000c78652",
   "metadata": {},
   "source": [
    "The two boolean values are `True` and `False`. However, all objects in Python can be described as \"truthy\" or \"falsy\". Falsy values are below. All other values are truthy.\n",
    "\n",
    "* `False`\n",
    "* `None`\n",
    "* 0, 0.0, and 0j\n",
    "* Empty sequences:\n",
    "    * strings: \" \"\n",
    "    * lists: []\n",
    "    * tuples: ()\n",
    "    * dictionaries: {}\n",
    "    * sets: set()\n",
    "    * frozensets: frozenset()\n",
    "    * ranges: range(0)"
   ]
  },
  {
   "cell_type": "markdown",
   "id": "d843111e-e707-4ea1-9acc-e574851d2855",
   "metadata": {},
   "source": [
    "While truthy values are not `True`, they do evaluate to `True` in some circumstances, such as `while` loops. In these cases, it's important to use the language \"evaluates to `True`\" rather than \"is `True`\" to describe their behavior."
   ]
  },
  {
   "cell_type": "code",
   "execution_count": 34,
   "id": "a492a26a-0031-4717-a76c-0d38e2118667",
   "metadata": {},
   "outputs": [
    {
     "name": "stdout",
     "output_type": "stream",
     "text": [
      "3 is truthy!\n",
      "2 is truthy!\n",
      "1 is truthy!\n"
     ]
    }
   ],
   "source": [
    "count = 3\n",
    "\n",
    "while count:\n",
    "    print(f\"{count} is truthy!\")\n",
    "    count -= 1"
   ]
  },
  {
   "cell_type": "markdown",
   "id": "608b428d-19d3-4057-93c8-19f0cb56d6b7",
   "metadata": {},
   "source": [
    "### **`None`**"
   ]
  },
  {
   "cell_type": "markdown",
   "id": "ab51aa74-d5eb-4470-b1b5-be6ed1c4bc23",
   "metadata": {},
   "source": [
    "`None` describes a Python object with no value. `None` has its own object type, a `Nonetype`. In a function, `None` is returned when there is no return value specified."
   ]
  },
  {
   "cell_type": "code",
   "execution_count": 35,
   "id": "fb4aac63-e307-4486-8f58-e9e4a5694954",
   "metadata": {},
   "outputs": [
    {
     "name": "stdout",
     "output_type": "stream",
     "text": [
      "Hello!\n",
      "None\n"
     ]
    }
   ],
   "source": [
    "def say_hello():\n",
    "    print(\"Hello!\")\n",
    "\n",
    "hello = say_hello()\n",
    "print(hello)"
   ]
  },
  {
   "cell_type": "markdown",
   "id": "99cbf5bc-d304-4e68-8710-d0286407212d",
   "metadata": {},
   "source": [
    "### **ranges**"
   ]
  },
  {
   "cell_type": "markdown",
   "id": "8189fd62-6db6-471d-93c1-14ac0f424cea",
   "metadata": {},
   "source": [
    "The `range` function produces a sequence of numbers that increment arithmetically according to a given step pattern. Ranges are known as *lazy sequences*, meaning that they are represented as `range` objects until they are needed in the program or coerced into lists. The syntax for creating a range is `range(start_inclusive, stop_exclusive, step_size)`. If no `step_size` is given, the default value is `1`. `step_size` can be negative for decreasing increments, in which case `start` must be greater than `stop`."
   ]
  },
  {
   "cell_type": "code",
   "execution_count": 36,
   "id": "9ac2a434-88e0-4744-96bb-792eb5e32a85",
   "metadata": {},
   "outputs": [
    {
     "name": "stdout",
     "output_type": "stream",
     "text": [
      "standard range\n",
      "[0, 2, 4, 6, 8]\n",
      "\n",
      "reversed range\n",
      "[10, 9, 8, 7, 6, 5, 4, 3, 2]\n",
      "\n",
      "erroneous reversed range\n",
      "[]\n",
      "\n"
     ]
    }
   ],
   "source": [
    "# range(start_inclusive, stop_exclusive, step)\n",
    "\n",
    "# standard range\n",
    "print('standard range', list(range(0, 10, 2)), sep='\\n', end='\\n\\n')\n",
    "\n",
    "# reversed range\n",
    "print('reversed range', list(range(10, 1, -1)), sep='\\n', end='\\n\\n')\n",
    "\n",
    "# erroneous reversed range\n",
    "print('erroneous reversed range', list(range(0, 10, -1)), sep='\\n', end='\\n\\n')"
   ]
  },
  {
   "cell_type": "markdown",
   "id": "a9a63d5d-8451-43a1-b915-b139dc8df1d6",
   "metadata": {},
   "source": [
    "### **list and dictionary syntax**"
   ]
  },
  {
   "cell_type": "markdown",
   "id": "25a67fe5-310e-40b2-90d9-eeadf0c6424d",
   "metadata": {},
   "source": [
    "Lists contain collections of heterogeneous elements within square brackets `[]` and separated by commas `[1, 2, 3]`. Dictionaries contain collections of key-value pairs within curly backets `{}`. Each key-value pair is connected by a colon and adjacent key-vlaue pairs are separated by commas `{1:'a', 2:'b', 3:'c'}`. Dictionary elements may be heterogeneous, but their keys must be unique and hashable (e.g., integers, floats, strings, booleans and tuples with hashable elements). Lists are ordered, whereas dictionaries are unordered. The values within a dictionary are called by their keys. Both lists and dictionaries are mutable."
   ]
  },
  {
   "cell_type": "markdown",
   "id": "7c3d63bf-38fb-4da6-a3fc-8c5a09c54278",
   "metadata": {},
   "source": [
    "### **list methods**"
   ]
  },
  {
   "cell_type": "markdown",
   "id": "4a4b9923-d75a-4dc0-836c-411900886798",
   "metadata": {},
   "source": [
    "#### length, appending, popping / deleting, reversing"
   ]
  },
  {
   "cell_type": "code",
   "execution_count": 6,
   "id": "12db25ff-117b-41e3-ab1e-3c18e142049c",
   "metadata": {},
   "outputs": [
    {
     "name": "stdout",
     "output_type": "stream",
     "text": [
      "my_list\n",
      "[0, 1, 2, 3, 4, 5, 6, 7, 8, 9, 10]\n",
      "\n",
      "len(list)\n",
      "11\n",
      "\n",
      "list.append()\n",
      "[0, 1, 2, 3, 4, 5, 6, 7, 8, 9, 10, 11]\n",
      "\n",
      "list.pop(), list.pop(index)\n",
      "11\n",
      "10\n",
      "\n",
      "del keyword\n",
      "[1, 2, 3, 4, 5, 6, 7, 8, 9]\n",
      "\n",
      "list.reverse()\n",
      "[9, 8, 7, 6, 5, 4, 3, 2, 1]\n",
      "\n",
      "reversed(list)\n",
      "[1, 2, 3, 4, 5, 6, 7, 8, 9]\n",
      "\n"
     ]
    }
   ],
   "source": [
    "my_list = list(range(11))\n",
    "print('my_list', my_list, sep='\\n', end='\\n\\n')\n",
    "\n",
    "# len(list) returns the number of elements in the list\n",
    "print('len(list)', len(my_list), sep='\\n', end='\\n\\n')\n",
    "\n",
    "# list.append('element') appends the given element\n",
    "# to the end of the list; returns None\n",
    "my_list.append(11)\n",
    "print('list.append()', my_list, sep='\\n', end='\\n\\n')\n",
    "\n",
    "# list.pop('index') removes the element at the given index,\n",
    "# or the last element if no index given; returns popped element\n",
    "print('list.pop(), list.pop(index)', my_list.pop(), my_list.pop(-1), sep='\\n', end='\\n\\n')\n",
    "\n",
    "# del keyword removes objects from memory; this can be \n",
    "# used for mutating lists, or removing variables entirely\n",
    "del my_list[0]\n",
    "print('del keyword', my_list, sep='\\n', end='\\n\\n')\n",
    "\n",
    "# list.reverse() reverses the list by mutating the original\n",
    "# list (without creating a new list); returns None\n",
    "my_list.reverse()\n",
    "print('list.reverse()', my_list, sep='\\n', end='\\n\\n')\n",
    "\n",
    "# reversed(list) reverses the list by creating a new \n",
    "# list; returns the new list\n",
    "reversed_list = list(reversed(my_list))\n",
    "print('reversed(list)', reversed_list, sep='\\n', end='\\n\\n')"
   ]
  },
  {
   "cell_type": "markdown",
   "id": "3d55d80e-a577-4579-bc58-47f4027a8054",
   "metadata": {},
   "source": [
    "#### inserting, extending, removing, sorting, clearing"
   ]
  },
  {
   "cell_type": "code",
   "execution_count": 38,
   "id": "6bb78637-a558-4c12-b87f-eaaf1f38b018",
   "metadata": {},
   "outputs": [
    {
     "name": "stdout",
     "output_type": "stream",
     "text": [
      "my_list\n",
      "[0, 1, 2, 3, 4, 5, 6, 7, 8, 9, 10]\n",
      "\n",
      "list.insert()\n",
      "[0, 1, 2, 200, 3, 4, 5, 6, 7, 8, 9, 10]\n",
      "\n",
      "list.extend()\n",
      "[0, 1, 2, 200, 3, 4, 5, 6, 7, 8, 9, 10, -1, -2, -3]\n",
      "\n",
      "list.remove()\n",
      "[0, 1, 2, 3, 4, 5, 6, 7, 8, 9, 10, -1, -2, -3]\n",
      "\n",
      "sorted(list)\n",
      "[-3, -2, -1, 0, 1, 2, 3, 4, 5, 6, 7, 8, 9, 10]\n",
      "original list unmutated\n",
      "[0, 1, 2, 3, 4, 5, 6, 7, 8, 9, 10, -1, -2, -3]\n",
      "\n",
      "list.sort()\n",
      "[-3, -2, -1, 0, 1, 2, 3, 4, 5, 6, 7, 8, 9, 10]\n",
      "\n",
      "list.clear()\n",
      "[]\n",
      "\n"
     ]
    }
   ],
   "source": [
    "my_list = list(range(11))\n",
    "print('my_list', my_list, sep='\\n', end='\\n\\n')\n",
    "\n",
    "# list.insert(index, value) inserts the given value\n",
    "# into the list before the given index. If index < 0\n",
    "# it counts from the end of the list. If index > len(list)\n",
    "# then the value is appended; returns None\n",
    "my_list.insert(3, 200)\n",
    "print('list.insert()', my_list, sep='\\n', end='\\n\\n')\n",
    "\n",
    "# list.extend(iterable) appends iterable to list;\n",
    "# returns extended list\n",
    "my_list.extend([-1, -2, -3])\n",
    "print('list.extend()', my_list, sep='\\n', end='\\n\\n')\n",
    "\n",
    "# list.remove('element') removes the given element;\n",
    "# returns None\n",
    "my_list.remove(200)\n",
    "print('list.remove()', my_list, sep='\\n', end='\\n\\n')\n",
    "\n",
    "# sorted(list) sorts the list by creating a new \n",
    "# list; returns the new list\n",
    "sorted_list = list(sorted(my_list))\n",
    "print('sorted(list)', sorted_list, 'original list unmutated', \n",
    "      my_list, sep='\\n', end='\\n\\n')\n",
    "\n",
    "# list.sort() sorts the list by mutating the original\n",
    "# list (without creating a new list); returns None\n",
    "my_list.sort()\n",
    "print('list.sort()', my_list, sep='\\n', end='\\n\\n')\n",
    "\n",
    "# For sorting, use the keyword argument reverse=True to \n",
    "# reverse the sort order. Use key=func (e.g., key=str.casefold)\n",
    "# to tell .sort/sorted how to determine the values it should sort.\n",
    "# E.g., if you have a list of numbers as strings, key=int will\n",
    "# sort them according to the number values rather than string values.\n",
    "\n",
    "# list.clear() removes all elements, producing empty\n",
    "# list; returns None\n",
    "my_list.clear()\n",
    "print('list.clear()', my_list, sep='\\n', end='\\n\\n')"
   ]
  },
  {
   "cell_type": "markdown",
   "id": "21d81949-d8b8-4fc4-abb1-c3e89bcb20af",
   "metadata": {},
   "source": [
    "#### zipping"
   ]
  },
  {
   "cell_type": "code",
   "execution_count": 39,
   "id": "dfb9bafc-a929-425d-a5b8-5764d55962da",
   "metadata": {},
   "outputs": [
    {
     "name": "stdout",
     "output_type": "stream",
     "text": [
      "my_lists\n",
      "[1, 2, 3, 4, 5]\n",
      "['a', 'b', 'c', 'd']\n",
      "[True, False, None]\n",
      "\n",
      "unstrict zip\n",
      "[(1, 'a', True), (2, 'b', False), (3, 'c', None)]\n",
      "\n",
      "strict zip\n"
     ]
    },
    {
     "ename": "ValueError",
     "evalue": "zip() argument 3 is shorter than arguments 1-2",
     "output_type": "error",
     "traceback": [
      "\u001b[0;31m---------------------------------------------------------------------------\u001b[0m",
      "\u001b[0;31mValueError\u001b[0m                                Traceback (most recent call last)",
      "Cell \u001b[0;32mIn[39], line 18\u001b[0m\n\u001b[1;32m     16\u001b[0m zipped_strict \u001b[38;5;241m=\u001b[39m \u001b[38;5;28mzip\u001b[39m(list1, list2, list3, strict\u001b[38;5;241m=\u001b[39m\u001b[38;5;28;01mTrue\u001b[39;00m)\n\u001b[1;32m     17\u001b[0m \u001b[38;5;28mprint\u001b[39m(\u001b[38;5;124m'\u001b[39m\u001b[38;5;124mstrict zip\u001b[39m\u001b[38;5;124m'\u001b[39m)\n\u001b[0;32m---> 18\u001b[0m \u001b[38;5;28mprint\u001b[39m(\u001b[38;5;28;43mlist\u001b[39;49m\u001b[43m(\u001b[49m\u001b[43mzipped_strict\u001b[49m\u001b[43m)\u001b[49m)\n",
      "\u001b[0;31mValueError\u001b[0m: zip() argument 3 is shorter than arguments 1-2"
     ]
    }
   ],
   "source": [
    "list1 = [1, 2, 3, 4, 5]\n",
    "list2 = ['a', 'b', 'c', 'd']\n",
    "list3 = [True, False, None]\n",
    "print('my_lists', list1, list2, list3, sep='\\n', end='\\n\\n')\n",
    "\n",
    "# zip(it1, it2, it3) iterates through 0 or more iterables\n",
    "# in parallel and returns a list of tuples. Each tuples contains\n",
    "# objects from each iterable. Zip is a \"lazy sequence\", meaning\n",
    "# that the sequence is only created when it is called. Use\n",
    "# zip(it1, it2, it3, strict=True) to raise an error if the\n",
    "# iterables are of different lengths. If not included, zip stops \n",
    "# after exhausting shortest iterable.\n",
    "zipped_unstrict = zip(list1, list2, list3, strict=False)\n",
    "print('unstrict zip', list(zipped_unstrict), sep='\\n', end='\\n\\n')\n",
    "\n",
    "zipped_strict = zip(list1, list2, list3, strict=True)\n",
    "print('strict zip')\n",
    "print(list(zipped_strict))"
   ]
  },
  {
   "cell_type": "markdown",
   "id": "a3734294-49a9-4a72-9d0f-7d6d12144905",
   "metadata": {},
   "source": [
    "### **dictionary methods**"
   ]
  },
  {
   "cell_type": "markdown",
   "id": "c20cdbba-ab66-4eff-a766-5a1a0387b0c3",
   "metadata": {},
   "source": [
    "#### key-based access, mutation, and updating"
   ]
  },
  {
   "cell_type": "code",
   "execution_count": 40,
   "id": "b977fd85-f50e-4b47-abe2-42ce090abcda",
   "metadata": {},
   "outputs": [
    {
     "name": "stdout",
     "output_type": "stream",
     "text": [
      "my_dict\n",
      "{1: 'a', 2: 'b', 3: 'c'}\n",
      "\n",
      "dict[key]\n",
      "a\n",
      "\n",
      "dict.get()\n",
      "b\n",
      "Not there!\n",
      "\n",
      "dict[existing_key] = changed_value\n",
      "{1: 'z', 2: 'b', 3: 'c'}\n",
      "\n",
      "dict[new_key] = new_value\n",
      "{1: 'z', 2: 'b', 3: 'c', 4: 'd'}\n",
      "\n",
      "dict.update(new_dict)\n",
      "{1: 'z', 2: 'b', 3: 'c', 4: 'd', 5: 'e', 6: 'f'}\n",
      "\n"
     ]
    }
   ],
   "source": [
    "my_dict = {1:'a', 2:'b', 3:'c'}\n",
    "print('my_dict', my_dict, sep='\\n', end='\\n\\n')\n",
    "\n",
    "# dict[key] returns the value associated with\n",
    "# the given key\n",
    "print('dict[key]', my_dict[1], sep='\\n', end='\\n\\n')\n",
    "\n",
    "# dict.get(key, else) returns value associated with\n",
    "# given key or returns else if key not present\n",
    "print('dict.get()', my_dict.get(2, 'Not there!'), my_dict.get(4, 'Not there!'), sep='\\n', end='\\n\\n')\n",
    "\n",
    "# dict[existing_key] = changed_value mutates the value\n",
    "# associated with a given key\n",
    "my_dict[1] = 'z'\n",
    "print('dict[existing_key] = changed_value', my_dict, sep='\\n', end='\\n\\n')\n",
    "\n",
    "# dict[new_key] = new_value creates a key-value\n",
    "# pair within the dictionary\n",
    "my_dict[4] = 'd'\n",
    "print('dict[new_key] = new_value', my_dict, sep='\\n', end='\\n\\n')\n",
    "\n",
    "# dict.update(new_dict) appends items from a given dictionary \n",
    "# to an existing dictionary\n",
    "new_dict = {5:'e', 6:'f'}\n",
    "my_dict.update(new_dict)\n",
    "print('dict.update(new_dict)', my_dict, sep='\\n', end='\\n\\n')"
   ]
  },
  {
   "cell_type": "markdown",
   "id": "115382c2-28d1-4564-862d-46af476a2acc",
   "metadata": {},
   "source": [
    "#### returning keys, values, and items"
   ]
  },
  {
   "cell_type": "code",
   "execution_count": 41,
   "id": "ad7154a8-6cd6-4906-bc7d-0a2e1a1b5527",
   "metadata": {},
   "outputs": [
    {
     "name": "stdout",
     "output_type": "stream",
     "text": [
      "my_dict\n",
      "{1: 'a', 2: 'b', 3: 'c'}\n",
      "\n",
      "dict.keys()\n",
      "dict_keys([1, 2, 3])\n",
      "\n",
      "dict.values()\n",
      "dict_values(['a', 'b', 'c'])\n",
      "\n",
      "dict.items()\n",
      "dict_items([(1, 'a'), (2, 'b'), (3, 'c')])\n",
      "\n",
      "dict.update() updates dictionary view objects, too\n",
      "dict_keys([1, 2, 3, 25, 26])\n",
      "dict_values(['a', 'b', 'c', 'y', 'z'])\n",
      "dict_items([(1, 'a'), (2, 'b'), (3, 'c'), (25, 'y'), (26, 'z')])\n",
      "\n"
     ]
    }
   ],
   "source": [
    "my_dict = {1:'a', 2:'b', 3:'c'}\n",
    "print('my_dict', my_dict, sep='\\n', end='\\n\\n')\n",
    "\n",
    "# dict.keys() returns a dictionary view object\n",
    "# of the keys in a dictionary\n",
    "print('dict.keys()', my_dict.keys(), sep='\\n', end='\\n\\n')\n",
    "\n",
    "# dict.values() returns a dictionary view object\n",
    "# of the values in a dictionary\n",
    "print('dict.values()', my_dict.values(), sep='\\n', end='\\n\\n')\n",
    "\n",
    "# dict.items() returns a dictionary view object\n",
    "# of the (key, value) tuple items in a dictionary\n",
    "print('dict.items()', my_dict.items(), sep='\\n', end='\\n\\n')\n",
    "\n",
    "# when the original dictionary is mutated, so are\n",
    "# these dictionary view objects\n",
    "my_dict.update({25:'y', 26:'z'})\n",
    "print('dict.update() updates dictionary view objects, too', my_dict.keys(), my_dict.values(), my_dict.items(), sep='\\n', end='\\n\\n')"
   ]
  },
  {
   "cell_type": "markdown",
   "id": "e9848eef-3a90-42c8-a352-9d791b495ac9",
   "metadata": {},
   "source": [
    "### **slicing (strings, lists, tuples)**"
   ]
  },
  {
   "cell_type": "markdown",
   "id": "99e04acb-cbf9-4e0e-8f52-09615fe0aead",
   "metadata": {},
   "source": [
    "Slicing lists and tuples functions exaclty like slicing strings above."
   ]
  },
  {
   "cell_type": "code",
   "execution_count": 42,
   "id": "9335053c-c339-40ab-a314-7af41a639925",
   "metadata": {},
   "outputs": [
    {
     "name": "stdout",
     "output_type": "stream",
     "text": [
      "my_list\n",
      "[0, 1, 2, 3, 4, 5, 6, 7, 8, 9, 10]\n",
      "\n",
      "select index\n",
      "2\n",
      "\n",
      "select slice\n",
      "[2, 5, 8]\n",
      "\n",
      "shallow copy\n",
      "[0, 1, 2, 3, 4, 5, 6, 7, 8, 9, 10]\n",
      "\n",
      "reverse\n",
      "[10, 9, 8, 7, 6, 5, 4, 3, 2, 1, 0]\n",
      "\n"
     ]
    }
   ],
   "source": [
    "my_list = list(range(11))\n",
    "print('my_list', my_list, sep='\\n', end='\\n\\n')\n",
    "\n",
    "# lst[index] selects a specific character from the string\n",
    "print('select index', my_list[2], sep='\\n', end='\\n\\n')\n",
    "\n",
    "# lst[start_index : stop_index : step_size] slices the string\n",
    "# according to start-inclusive and stop-exclusive step sizes.\n",
    "print('select slice', my_list[2:9:3], sep='\\n', end='\\n\\n')\n",
    "\n",
    "# return entire list as shallow copy\n",
    "copy = my_list[:]\n",
    "print('shallow copy', copy, sep='\\n', end='\\n\\n')\n",
    "\n",
    "# return list backwards\n",
    "print('reverse', my_list[::-1], sep='\\n', end='\\n\\n')"
   ]
  },
  {
   "cell_type": "markdown",
   "id": "6c81fdf8-46eb-4db0-8eda-003eadc6757c",
   "metadata": {},
   "source": [
    "### **operators**"
   ]
  },
  {
   "cell_type": "markdown",
   "id": "a0ea28e1-4232-41e9-a44e-d0632c236d5d",
   "metadata": {},
   "source": [
    "#### arithmetic\n",
    "\n",
    "Addition `+`, subtraction `-`, multiplication `*`, and division `/` operate as expected."
   ]
  },
  {
   "cell_type": "code",
   "execution_count": 43,
   "id": "5534bfb4-af6b-4969-b116-713f5e95e998",
   "metadata": {},
   "outputs": [
    {
     "name": "stdout",
     "output_type": "stream",
     "text": [
      "my_numbers\n",
      "10\n",
      "6\n",
      "\n",
      "integer division\n",
      "1.6666666666666667\n",
      "1\n",
      "\n",
      "modulo\n",
      "1.6666666666666667\n",
      "4\n",
      "\n",
      "exponent\n",
      "1000000\n",
      "\n"
     ]
    }
   ],
   "source": [
    "num1 = 10\n",
    "num2 = 6\n",
    "print('my_numbers', num1, num2, sep='\\n', end='\\n\\n')\n",
    "\n",
    "# integer division // rounds down to the nearest whole number\n",
    "print('integer division', num1/num2, num1//num2, sep='\\n', end='\\n\\n')\n",
    "\n",
    "# modulo % produces the remainder of the division operation\n",
    "print('modulo', num1/num2, num1%num2, sep='\\n', end='\\n\\n')\n",
    "\n",
    "# exponent ** raises the former number to the power\n",
    "# of the latter number\n",
    "print('exponent', num1**num2, sep='\\n', end='\\n\\n')"
   ]
  },
  {
   "cell_type": "markdown",
   "id": "7cf07c72-68cc-40a2-bfad-9b28c1c692bc",
   "metadata": {},
   "source": [
    "#### string operators"
   ]
  },
  {
   "cell_type": "code",
   "execution_count": 44,
   "id": "b63ec250-143c-4cd6-b5ba-f0b91e9a99cd",
   "metadata": {},
   "outputs": [
    {
     "name": "stdout",
     "output_type": "stream",
     "text": [
      "my_strings\n",
      "i love \n",
      "you so \n",
      "much, friend!\n",
      "\n",
      "join strings with +\n",
      "i love you so much, friend!\n",
      "\n"
     ]
    }
   ],
   "source": [
    "string1 = 'i love '\n",
    "string2 = 'you so '\n",
    "string3 = 'much, friend!'\n",
    "print('my_strings', string1, string2, string3, sep='\\n', end='\\n\\n')\n",
    "\n",
    "# join strings together with +\n",
    "print('join strings with +', string1 + string2 + string3, sep='\\n', end='\\n\\n')"
   ]
  },
  {
   "cell_type": "markdown",
   "id": "65b2620e-d767-4f00-a84a-992d1bccd571",
   "metadata": {},
   "source": [
    "#### list operators"
   ]
  },
  {
   "cell_type": "code",
   "execution_count": 45,
   "id": "535337aa-ffc4-484c-a6d2-2081ae5d5778",
   "metadata": {},
   "outputs": [
    {
     "name": "stdout",
     "output_type": "stream",
     "text": [
      "my_lists\n",
      "[1, 2]\n",
      "[3, 4]\n",
      "[5, 6]\n",
      "\n",
      "concatenate lists with +\n",
      "[1, 2, 3, 4, 5, 6]\n",
      "\n"
     ]
    }
   ],
   "source": [
    "list1 = [1, 2]\n",
    "list2 = [3, 4]\n",
    "list3 = [5, 6]\n",
    "print('my_lists', list1, list2, list3, sep='\\n', end='\\n\\n')\n",
    "\n",
    "# concatenate lists with +\n",
    "print(\"concatenate lists with +\", list1 + list2 + list3, sep='\\n', end='\\n\\n')"
   ]
  },
  {
   "cell_type": "markdown",
   "id": "1b9c275b-b152-4ef9-98ba-1a09e6ecdb3d",
   "metadata": {},
   "source": [
    "#### comparison\n",
    "\n",
    "Equal `==`, not equal `!=`, less than `<`, less than or equal to `<=`, greater than `>`, and greater than or equal to `>=` all operate as expected."
   ]
  },
  {
   "cell_type": "markdown",
   "id": "e74da423-56a4-42ef-905b-58dfa4c4404b",
   "metadata": {},
   "source": [
    "#### logical"
   ]
  },
  {
   "cell_type": "code",
   "execution_count": 46,
   "id": "883c62cd-6cf9-4fda-94ca-bb4119ae7911",
   "metadata": {},
   "outputs": [
    {
     "name": "stdout",
     "output_type": "stream",
     "text": [
      "True and False\n",
      "False\n",
      "\n",
      "True and True\n",
      "True\n",
      "\n",
      "True or False\n",
      "True\n",
      "\n",
      "True or True\n",
      "True\n",
      "\n",
      "True xor False\n",
      "True\n",
      "\n",
      "True xor True\n",
      "False\n",
      "\n",
      "not True or False\n",
      "False\n",
      "\n",
      "not False or False\n",
      "True\n",
      "\n"
     ]
    }
   ],
   "source": [
    "# and returns True if both inputs are truthy\n",
    "print('True and False', True and False, sep='\\n', end='\\n\\n')\n",
    "print('True and True', True and True, sep='\\n', end='\\n\\n')\n",
    "\n",
    "# or returns True if at least one input is truthy\n",
    "print('True or False', True or False, sep='\\n', end='\\n\\n')\n",
    "print('True or True', True or True, sep='\\n', end='\\n\\n')\n",
    "\n",
    "# xor returns True if only one input is truthy\n",
    "print('True xor False', True ^ False, sep='\\n', end='\\n\\n')\n",
    "print('True xor True', True ^ True, sep='\\n', end='\\n\\n')\n",
    "\n",
    "# not returns its opposite boolean\n",
    "print('not True or False', not True or False, sep='\\n', end='\\n\\n')\n",
    "print('not False or False', not False or False, sep='\\n', end='\\n\\n')"
   ]
  },
  {
   "cell_type": "code",
   "execution_count": 23,
   "id": "791eb36b-0deb-4581-a83d-31b75510bc57",
   "metadata": {},
   "outputs": [
    {
     "name": "stdout",
     "output_type": "stream",
     "text": [
      "0 or []\n",
      "[]\n",
      "\n",
      "3 and 4\n",
      "4\n",
      "\n"
     ]
    }
   ],
   "source": [
    "# NOTE: In Python, the logical `or` operator returns \n",
    "# the first truthy value it encounters, or the last \n",
    "# value if both are falsy.\n",
    "print('0 or []', 0 or [], sep='\\n', end='\\n\\n')\n",
    "\n",
    "# NOTE: In Python, the logical `and` operator returns \n",
    "# the first falsy value it encounters, or the last \n",
    "# value if both are truthy.\n",
    "print('3 and 4', 3 and 4, sep='\\n', end='\\n\\n')"
   ]
  },
  {
   "cell_type": "markdown",
   "id": "af49d6f7-9b0b-458e-9279-877c93e08085",
   "metadata": {},
   "source": [
    "#### identity\n",
    "\n",
    "The `is` identity verifies whether two variables point to the same object in memory. It compares the memory addresses of the objects, which can also be obtained through the function `id()`. The `is not` identity returns its opposite boolean."
   ]
  },
  {
   "cell_type": "code",
   "execution_count": 47,
   "id": "49154f2c-ca69-4ac9-a1ee-9dc6af131f14",
   "metadata": {},
   "outputs": [
    {
     "name": "stdout",
     "output_type": "stream",
     "text": [
      "my_objects\n",
      "[1, 2, 3]\n",
      "[1, 2, 3]\n",
      "[1, 2, 3]\n",
      "None\n",
      "None\n",
      "\n",
      "different objects, same value\n",
      "False\n",
      "\n",
      "different variables, same object\n",
      "True\n",
      "\n",
      "different variables, same singleton object\n",
      "True\n",
      "\n"
     ]
    }
   ],
   "source": [
    "a = [1, 2, 3]\n",
    "b = [1, 2, 3]\n",
    "c = a\n",
    "d = None\n",
    "e = None\n",
    "print('my_objects', a, b, c, d, e, sep='\\n', end='\\n\\n')\n",
    "\n",
    "# compare different objects with same value\n",
    "print('different objects, same value', a is b, sep='\\n', end='\\n\\n')\n",
    "\n",
    "# compare different variables that point to the same object\n",
    "print('different variables, same object', a is c, sep='\\n', end='\\n\\n')\n",
    "\n",
    "# compare different variables that point to singleton object\n",
    "print('different variables, same singleton object', d is e, sep='\\n', end='\\n\\n')"
   ]
  },
  {
   "cell_type": "markdown",
   "id": "f01dbc35-b47a-496c-ae16-7a116483a876",
   "metadata": {},
   "source": [
    "#### membership"
   ]
  },
  {
   "cell_type": "code",
   "execution_count": 48,
   "id": "fc8a0100-825a-4a6a-b89e-69e2db59098c",
   "metadata": {},
   "outputs": [
    {
     "name": "stdout",
     "output_type": "stream",
     "text": [
      "my_list, my_dict\n",
      "[1, 2, 3]\n",
      "{1: 'a', 2: 'b', 3: 'c'}\n",
      "\n",
      "in\n",
      "True\n",
      "True\n",
      "\n",
      "in\n",
      "False\n",
      "False\n",
      "\n",
      "not in\n",
      "False\n",
      "False\n",
      "\n",
      "not in\n",
      "True\n",
      "True\n",
      "\n"
     ]
    }
   ],
   "source": [
    "my_list = [1, 2, 3]\n",
    "my_dict = {1:'a', 2:'b', 3:'c'}\n",
    "print('my_list, my_dict', my_list, my_dict, sep='\\n', end='\\n\\n')\n",
    "\n",
    "# in determines if left is in right, returns True or False\n",
    "print('in', 1 in my_list, 1 in my_dict, sep='\\n', end='\\n\\n')\n",
    "print('in', 4 in my_list, 4 in my_dict, sep='\\n', end='\\n\\n')\n",
    "\n",
    "# not in is the inverse of in\n",
    "print('not in', 1 not in my_list, 1 not in my_dict, sep='\\n', end='\\n\\n')\n",
    "print('not in', 4 not in my_list, 4 not in my_dict, sep='\\n', end='\\n\\n')"
   ]
  },
  {
   "cell_type": "markdown",
   "id": "9eab7b8c-1024-43a5-8945-36a071186482",
   "metadata": {},
   "source": [
    "#### min, max"
   ]
  },
  {
   "cell_type": "code",
   "execution_count": 49,
   "id": "47dc193a-85ac-4dc4-b36c-05aae17c454c",
   "metadata": {},
   "outputs": [
    {
     "name": "stdout",
     "output_type": "stream",
     "text": [
      "my_list\n",
      "[12, -2, 15, 8]\n",
      "\n",
      "min()\n",
      "-2\n",
      "\n",
      "max()\n",
      "15\n",
      "\n"
     ]
    }
   ],
   "source": [
    "my_list = [12, -2, 15, 8]\n",
    "print('my_list', my_list, sep='\\n', end='\\n\\n')\n",
    "\n",
    "# min and max return the minimum / maximum members of \n",
    "# a sequence; elements must be comparable with >, <\n",
    "print('min()', min(my_list), sep='\\n', end='\\n\\n')\n",
    "\n",
    "# max()\n",
    "print('max()', max(my_list), sep='\\n', end='\\n\\n')"
   ]
  },
  {
   "cell_type": "markdown",
   "id": "b69d6765-3311-4ca3-8856-ebef56a353b2",
   "metadata": {},
   "source": [
    "### **operator precedence**"
   ]
  },
  {
   "cell_type": "markdown",
   "id": "8ce4e85b-c9d2-469d-af01-1b9ba72cc3de",
   "metadata": {},
   "source": [
    "Operations in Python are executed in this order...\n",
    "\n",
    "| Precedence | Operator | Description|\n",
    "| :--- | :---  | :-----      |\n",
    "| 1 | (expressions...), [expressions...], {key:value...}, {expressions...} | Binding or parenthesized expression, list display, dictionary display, set display |\n",
    "| 2 | x[index], x[index:index], x(arguments...), x.attribute | Subscription, slicing, call, attribute reference |\n",
    "| 3 | await x | Await expression |\n",
    "| 4 | ** | Exponentiation |\n",
    "| 5 | +x, -x, ~x | Positive, negative, bitwise NOT |\n",
    "| 6 | *, @, /, //, % | Multiplication, matrix multiplication, division, floor division, remainder (modulo) |\n",
    "| 7 | +, - | Addition and subtraction |\n",
    "| 8 | <<, >> | Shifts |\n",
    "| 9 | & | Bitwise AND |\n",
    "| 10 | ^ | Bitwise XOR |\n",
    "| 11 | \\| | Bitwise OR |\n",
    "| 12 | in, not in, is, is not, <, <=, >, >=, !=, == | Comparisons, including membership tests and identity tests |\n",
    "| 13 | not x | Boolean NOT |\n",
    "| 14 | and | Boolean AND |\n",
    "| 15 | or | Boolean OR |\n",
    "| 16 | if - else | Conditional expression |\n",
    "| 17 | lambda | Lambda expression |\n",
    "| 18 | := | Assignment expression |"
   ]
  },
  {
   "cell_type": "markdown",
   "id": "8b5e3025-c09c-4ec8-a66d-cf1b42717a87",
   "metadata": {},
   "source": [
    "### **mutability and immutability**"
   ]
  },
  {
   "cell_type": "markdown",
   "id": "a4820ec9-0acc-47e6-b1cb-b27cb6056bc4",
   "metadata": {},
   "source": [
    "Mutable objects are those whose value can be reassigned after initiation. Mutable objects include lists, dictionaries, sets, frozensets, and functions. Immutable objects are those whose value cannot be reassigned after initiation. To change an immutable objects, you have to create a new object with the desired value. Immutable objects include integers, floats, booleans, strings, ranges, tuples, frozen sets, and `NoneType`."
   ]
  },
  {
   "cell_type": "markdown",
   "id": "ad5b5f7c-beee-4438-bcaf-01ad17bae780",
   "metadata": {},
   "source": [
    "### **variables**"
   ]
  },
  {
   "cell_type": "markdown",
   "id": "96706cec-a8ce-46c1-9b62-3758fbcdc75a",
   "metadata": {},
   "source": [
    "#### naming conventions"
   ]
  },
  {
   "cell_type": "markdown",
   "id": "996af1f6-3a7d-4331-9103-4445e2676405",
   "metadata": {},
   "source": [
    "Variables and functions use `snake_case`, constants use `SCREAMING_SNAKE_CASE`, and classes use `PascalCase`."
   ]
  },
  {
   "cell_type": "markdown",
   "id": "501a8038-5662-4c5b-ae58-d8cb80347e62",
   "metadata": {},
   "source": [
    "#### initialization, assignment, and reassignment"
   ]
  },
  {
   "cell_type": "code",
   "execution_count": 50,
   "id": "fdd24d20-a38e-475d-a9e7-13c4bbfa6390",
   "metadata": {},
   "outputs": [
    {
     "name": "stdout",
     "output_type": "stream",
     "text": [
      "initialization\n",
      "initiated\n",
      "\n",
      "reassignment\n",
      "reassigned\n",
      "\n"
     ]
    }
   ],
   "source": [
    "# initialize and assign a variable by setting it \n",
    "# equal to a value\n",
    "a = 'initiated'\n",
    "print('initialization', a, sep='\\n', end='\\n\\n')\n",
    "\n",
    "# reassign a variable by setting the same pointer\n",
    "# to a new value\n",
    "a = 'reassigned'\n",
    "print('reassignment', a, sep='\\n', end='\\n\\n')"
   ]
  },
  {
   "cell_type": "markdown",
   "id": "c9d86fab-88bd-490f-8d7b-69d079bee854",
   "metadata": {},
   "source": [
    "#### scope\n",
    "\n",
    "A variable's scope is the part of the program that can access the variable by name. Any particular variable's scope is determined by where it is initialized. Variables initialized outside any function have *global* scope. They can be accessed from anywhere including inside functions. Functions define a *new, inner scope* for local variables. Nested functions created nested scopes. Variable scoping rules describe how and where Python finds previously-defined variables. The rules are as follows...\n",
    "\n",
    "**1.** Variables defined in a function are local to that function and can't be accessed in the outer scope.<br>\n",
    "**2.** Variables defined in a function are local unless explicitly marked as `global` or `nonlocal`. See examples below.<br>\n",
    "**3.** Variables used but not reassigned in a function may be in the outer scope.<br>\n",
    "**4.** Peer scopes do not conflict. A variable `a` defined in `function_a` is unbeknownst to `function_b`.<br>\n",
    "**5.** Nested functions have their own scope."
   ]
  },
  {
   "cell_type": "markdown",
   "id": "eaa13636-ead7-4971-b2ea-9af59c64119f",
   "metadata": {},
   "source": [
    "#### `global` and `nonlocal` keyword\n",
    "\n",
    "The `global` keyword alerts Python to look for a variable in the global scope. The `nonlocal` keyword does the same, but for the outer scope, rather than the global scope."
   ]
  },
  {
   "cell_type": "code",
   "execution_count": 51,
   "id": "6ba3fb0b-c418-4d34-a2db-938b8414c76d",
   "metadata": {},
   "outputs": [
    {
     "name": "stdout",
     "output_type": "stream",
     "text": [
      "10\n",
      "20\n"
     ]
    }
   ],
   "source": [
    "# Example 1\n",
    "global_var = 10\n",
    "print(global_var)\n",
    "\n",
    "def my_func():\n",
    "    global global_var\n",
    "    global_var = 20\n",
    "\n",
    "my_func()\n",
    "print(global_var)"
   ]
  },
  {
   "cell_type": "code",
   "execution_count": 52,
   "id": "3167a394-bf1e-4339-bdb2-32007a5fbe4e",
   "metadata": {},
   "outputs": [
    {
     "name": "stdout",
     "output_type": "stream",
     "text": [
      "global 10\n",
      "local  30\n",
      "local  40\n",
      "global 20\n"
     ]
    }
   ],
   "source": [
    "# Example 2\n",
    "global_var = 10\n",
    "print('global', global_var)\n",
    "\n",
    "def my_outer_func():\n",
    "    global global_var\n",
    "    global_var = 20\n",
    "\n",
    "    local_var = 30\n",
    "    print('local ', local_var)\n",
    "    \n",
    "    def my_inner_func():\n",
    "        nonlocal local_var\n",
    "        local_var = 40\n",
    "\n",
    "    my_inner_func()\n",
    "    print('local ', local_var)\n",
    "\n",
    "my_outer_func()\n",
    "print('global', global_var)"
   ]
  },
  {
   "cell_type": "markdown",
   "id": "b5f2bb48-2bd4-42ad-86b2-1ebdb00b4855",
   "metadata": {},
   "source": [
    "#### variables as pointers"
   ]
  },
  {
   "cell_type": "markdown",
   "id": "efb693b6-1493-45f1-8dbe-2560a4963b6a",
   "metadata": {},
   "source": [
    "Variables are references or *pointers* to an *address space* in memory that contains the object assigned to the variable. When you assign a value to a variable, Python creates an object in memory and assigns the variable pointer to that object's location in memory. If you assign the same object to multiple variables, they will all reference the same object; this is known as aliasing. When you reassign a variable, Python changes what object the variable references, *not* the objects themselves. When you mutate an object, Python changes the object directly. The `id()` function returns the memory address of the object to which a variable points.\n",
    "\n",
    "A *shallow copy* of an object is a duplicate of the original object's outermost (topmost) level. Any nested objects within the copied object are NOT duplicated; they still reference the nested objects from the original object. Therefore, if you mutate the nested object in the original, those mutations will be visible in the duplicate.\n",
    "\n",
    "A *deep copy* of an object is an exact duplicate of the original object at the outermost (topmost) level *and every nested object*, no matter how deeply nested. Therefore, if you mutate the nested object in the original, those mutations will *not* be visible in the duplicate.\n",
    "\n",
    "Only use deep copies when shallow copies won't work. E.g., nested lists, other collections with mutable elements."
   ]
  },
  {
   "cell_type": "code",
   "execution_count": 53,
   "id": "c5d5bd67-ea7e-4696-8d6e-89022b621b55",
   "metadata": {},
   "outputs": [
    {
     "name": "stdout",
     "output_type": "stream",
     "text": [
      "my_list\n",
      "[{'first': 'value1'}, {'second': 'value2'}, 3, 4, 5]\n",
      "\n",
      "my_list_deep\n",
      "[{'first': 'value1'}, {'second': 'value2'}, 3, 4, 5]\n",
      "4363746944\n",
      "4363752192\n",
      "\n",
      "my_list_shallow\n",
      "[{'first': 'value1'}, {'second': 'value2'}, 3, 4, 5]\n",
      "4363746944\n",
      "4363746944\n",
      "\n",
      "mutate original list\n",
      "{'first': 'value1'}\n",
      "{'first': 'new_value'}\n",
      "\n"
     ]
    }
   ],
   "source": [
    "my_list = [{'first': 'value1'}, {'second': 'value2'}, 3, 4, 5]\n",
    "print('my_list', my_list, sep='\\n', end='\\n\\n')\n",
    "\n",
    "# list.deepcopy()\n",
    "import copy\n",
    "my_list_deep = copy.deepcopy(my_list)\n",
    "print('my_list_deep', my_list_deep, id(my_list[0]), id(my_list_deep[0]), sep='\\n', end='\\n\\n')\n",
    "\n",
    "\n",
    "# list.copy()\n",
    "my_list_shallow = copy.copy(my_list)\n",
    "print('my_list_shallow', my_list_shallow, id(my_list[0]), id(my_list_shallow[0]), sep='\\n', end='\\n\\n')\n",
    "\n",
    "# mutate the original list and observe changes in the copies\n",
    "my_list[0]['first'] = 'new_value'\n",
    "print('mutate original list', my_list_deep[0], my_list_shallow[0], sep='\\n', end='\\n\\n')"
   ]
  },
  {
   "cell_type": "markdown",
   "id": "b783b04e-3149-4828-ad67-9cd27379c37a",
   "metadata": {},
   "source": [
    "#### variable shadowing\n",
    "\n",
    "Variable shadowing is a process by which a variable is defined in an outer scope and a variable of the same name is defined in a child inner scope. The variable in the inner scope becomes the variable that Python finds first when the variable is invoked, and thus *shadows* the variable from the outer scope."
   ]
  },
  {
   "cell_type": "code",
   "execution_count": 2,
   "id": "b3b65e1b-fc5e-4d2a-88ad-1a71ccea4fc2",
   "metadata": {},
   "outputs": [
    {
     "name": "stdout",
     "output_type": "stream",
     "text": [
      "greeting\n",
      "Hi!\n"
     ]
    }
   ],
   "source": [
    "# Example 1\n",
    "\n",
    "greeting = 'Hi!'\n",
    "\n",
    "def change_greeting():\n",
    "    greeting = 'Hola'\n",
    "\n",
    "change_greeting()\n",
    "print('greeting', greeting, sep='\\n')"
   ]
  },
  {
   "cell_type": "markdown",
   "id": "24fdeef9-3d6b-4b00-bab5-d9c67f87da5e",
   "metadata": {},
   "source": [
    "The global variable `greeting` remains unchanged despite the execution of the function `change_greeting`. The local variable `greeting` within the `change_greeting` function is different than the global variable `greeting` and *shadows* it. The global `greeting` is never mutated. If one wants to use a function to mutate a variable from the global scope, they must use the `global` keyword."
   ]
  },
  {
   "cell_type": "code",
   "execution_count": 1,
   "id": "40adbad3-bf0e-40ec-b84c-700179752990",
   "metadata": {},
   "outputs": [
    {
     "name": "stdout",
     "output_type": "stream",
     "text": [
      "greeting\n",
      "Hola\n"
     ]
    }
   ],
   "source": [
    "# Example 2\n",
    "\n",
    "greeting = 'Hi!'\n",
    "\n",
    "def change_greeting():\n",
    "    global greeting\n",
    "    greeting = 'Hola'\n",
    "\n",
    "change_greeting()\n",
    "print('greeting', greeting, sep='\\n')"
   ]
  },
  {
   "cell_type": "markdown",
   "id": "81fc5e0b-5658-4cee-ba7f-f5a33fe55124",
   "metadata": {},
   "source": [
    "Here, the `global` keyword tells Python to search for the variable `greeting` within the global scope. Python finds the `global` greeting, and thus the `greeting` variable within the function `change_greeting` is the same as the global `greeting`. This variable is mutated by `change_greeting`."
   ]
  },
  {
   "cell_type": "markdown",
   "id": "eadf845b-536f-4324-955f-e31da5f802b7",
   "metadata": {},
   "source": [
    "### **conditionals and loops**\n",
    "\n",
    "*Conditionals* take part in the control flow of a program. A conditional is like a fork in the road that tells Python to do something under a certain set of circumstances or *conditions*. Conditionals use a combination of `if`, `elif`, and `else` statements along with comparison, logical, and membership operators (`==`, `!=`, `<`, `<=`, `>`, `>=`, `in`, `not in`, `is`, `is not`, `and`, `or`, `not`).\n",
    "\n",
    "*Loops* efficiently execute many repetitions of the same piece of code. The two main types of loops in Python are `for` loops and `while` loops. For loops iterate over a specified collection of values and execute code relative to each member in the collection. They are definite, and stop when the collection over which the for loop iterates has been exhausted. While loops, on the other hand, continue to iterate until some condition has been met. Therefore, while loops are indefinite, and only stop when the stopping condition has been met."
   ]
  },
  {
   "cell_type": "code",
   "execution_count": 57,
   "id": "1fe5eb4d-53e6-4695-b576-2fdd831d5e9b",
   "metadata": {},
   "outputs": [
    {
     "name": "stdout",
     "output_type": "stream",
     "text": [
      "I love apples!\n",
      "I love bananas!\n",
      "I love lemons!\n"
     ]
    }
   ],
   "source": [
    "# Example 1\n",
    "my_fruits = ['apples', 'bananas', 'lemons']\n",
    "\n",
    "for fruit in my_fruits:\n",
    "    print(f'I love {fruit}!')"
   ]
  },
  {
   "cell_type": "code",
   "execution_count": 69,
   "id": "67a650df-17f0-476b-9805-295a1a575de0",
   "metadata": {},
   "outputs": [
    {
     "name": "stdout",
     "output_type": "stream",
     "text": [
      "Launching in...\n",
      "\n",
      "10...\n",
      "9...\n",
      "8...\n",
      "7...\n",
      "6...\n",
      "5...\n",
      "4...\n",
      "3...\n",
      "2...\n",
      "1...\n",
      "\n",
      "BLASTOFF!\n"
     ]
    }
   ],
   "source": [
    "# Example 2\n",
    "countdown = 10\n",
    "\n",
    "print('Launching in...\\n')\n",
    "while countdown > 0:\n",
    "    print(f'{countdown}...')\n",
    "    countdown -= 1\n",
    "\n",
    "print('\\nBLASTOFF!')"
   ]
  },
  {
   "cell_type": "markdown",
   "id": "9848671a-188f-4a17-bef9-3d78b29654af",
   "metadata": {},
   "source": [
    "### **`print()` and `input()`**\n",
    "\n",
    "The built-in function `print()` coerces its argument into a user-readable string and displays the string in the terminal or below the execution cell. `print()` is effective for debugging without a built-in debugger because it allows you to \"check in\" with your program at various intervals and locate exactly where the program's behavior deviates from expected behavior.\n",
    "\n",
    "The function `input()` accepts user input as its argument and coerces it into a string for further use within the program. `input()` always returns strings."
   ]
  },
  {
   "cell_type": "code",
   "execution_count": 70,
   "id": "ff45bee8-fe58-4064-b536-bc5824b50899",
   "metadata": {},
   "outputs": [
    {
     "name": "stdin",
     "output_type": "stream",
     "text": [
      "What's your name?  Leah Maria Fulmer\n"
     ]
    },
    {
     "name": "stdout",
     "output_type": "stream",
     "text": [
      "Hello, Leah Maria Fulmer!\n"
     ]
    }
   ],
   "source": [
    "# Example 1\n",
    "name = input(\"What's your name? \")\n",
    "print(f\"Hello, {name}!\")"
   ]
  },
  {
   "cell_type": "markdown",
   "id": "d917bf4f-006a-4bdb-b115-28837eeaa3f5",
   "metadata": {},
   "source": [
    "### **functions**"
   ]
  },
  {
   "cell_type": "markdown",
   "id": "28a33462-3561-4120-81d7-4cb83b816ed3",
   "metadata": {},
   "source": [
    "#### definitions and calls\n",
    "\n",
    "Functions are defined and called with the following syntax."
   ]
  },
  {
   "cell_type": "code",
   "execution_count": 76,
   "id": "a06ba749-4d0b-4d3f-bfac-bd70e6f1e9ec",
   "metadata": {},
   "outputs": [
    {
     "name": "stdout",
     "output_type": "stream",
     "text": [
      "this function has been defined or declared\n"
     ]
    }
   ],
   "source": [
    "# Example 1\n",
    "\n",
    "# define a function\n",
    "def my_function():\n",
    "    #function_body\n",
    "    print('this function has been defined or declared')\n",
    "\n",
    "# call the function\n",
    "my_function()"
   ]
  },
  {
   "cell_type": "markdown",
   "id": "3c6f1089-5355-4527-bcb9-e2cd411d8bee",
   "metadata": {},
   "source": [
    "#### return values\n",
    "\n",
    "`None` is the implicit return value; or, set an explicit return value by using the `return` statement. Functions that always return a boolean value are called *predicates*."
   ]
  },
  {
   "cell_type": "code",
   "execution_count": 77,
   "id": "4e0629cb-fc5a-401f-990f-a1e49f66502b",
   "metadata": {},
   "outputs": [
    {
     "data": {
      "text/plain": [
       "'CATS (1998)'"
      ]
     },
     "execution_count": 77,
     "metadata": {},
     "output_type": "execute_result"
    }
   ],
   "source": [
    "# Example 1\n",
    "\n",
    "# define and call a function with a return value\n",
    "def all_caps(string):\n",
    "    return string.upper()\n",
    "\n",
    "all_caps('cats (1998)')"
   ]
  },
  {
   "cell_type": "markdown",
   "id": "158d2d81-f60e-4f3c-a3d4-e54c35c13f9a",
   "metadata": {},
   "source": [
    "#### parameters vs. arguments\n",
    "\n",
    "\"Parameters are placeholders; arguments are actual values.\" The names between the parentheses in the function *definition* are parameters. These parameters do not provide a value until the function is called; they simply declare variable names. The names between the parentheses in the function *call* are arguments; they give the function real values on which to enact its operations."
   ]
  },
  {
   "cell_type": "code",
   "execution_count": 78,
   "id": "2472fea5-479d-4d19-815b-a5db73153e12",
   "metadata": {},
   "outputs": [
    {
     "name": "stdout",
     "output_type": "stream",
     "text": [
      "default_parameter\n",
      "my_argument\n"
     ]
    }
   ],
   "source": [
    "# Example 1\n",
    "\n",
    "def my_function(my_parameter=\"default_parameter\"):\n",
    "    print(my_parameter)\n",
    "\n",
    "my_function()\n",
    "my_function(\"my_argument\")"
   ]
  },
  {
   "cell_type": "markdown",
   "id": "554830f6-1287-40d3-8d69-a13e8f6791c3",
   "metadata": {},
   "source": [
    "#### nested functions\n",
    "\n",
    "A nested function is a function that is defined, and very likely called, within another function. The relationship between outer and inner function is the same as the relationship between the global scope and the topmost local function scope. That is, variables defined in the outer scope can be used in the inner scope, but variables defined in the inner scope are unknown to the outer scope. Nested functions can shadow variables in their parent functions as well."
   ]
  },
  {
   "cell_type": "code",
   "execution_count": 81,
   "id": "755e13e6-73c8-41ab-a0c1-8d0f983ca465",
   "metadata": {},
   "outputs": [
    {
     "name": "stdout",
     "output_type": "stream",
     "text": [
      "yay!\n",
      "woo hoo!\n"
     ]
    }
   ],
   "source": [
    "# Example 1\n",
    "\n",
    "def my_outer_function():\n",
    "    variable = 'yay!'\n",
    "\n",
    "    def my_inner_function():\n",
    "        nonlocal variable\n",
    "        print(variable)\n",
    "\n",
    "        variable = 'woo hoo!'\n",
    "        \n",
    "    my_inner_function()\n",
    "    print(variable)\n",
    "\n",
    "my_outer_function()"
   ]
  },
  {
   "cell_type": "markdown",
   "id": "d68d4b01-2ae4-41e4-be77-d7bf531de429",
   "metadata": {},
   "source": [
    "#### output vs. return values, side effects\n",
    "\n",
    "A function can output a value or perform an operation as an independent entity/process from its return value. Functions are said to have side effects if they...\n",
    "\n",
    "* reassign any non-local variables.\n",
    "* modify the value of any data structure passed as an argument, or accessed directly from the outer scope (e.g., mutating a list).\n",
    "* read from / write to a file, network connection, browser, or the system hardware, *including printing and reading input from the terminal*.\n",
    "* raise exceptions without handling them.\n",
    "* call other functions that have side effects."
   ]
  },
  {
   "cell_type": "markdown",
   "id": "a12141d2-0e14-48a8-8df6-ef85c1445f47",
   "metadata": {},
   "source": [
    "### **expressions and statements**\n",
    "\n",
    "An *expression* combines values, variables, operators, and function calls to **produce a new object**. Expressions must be *evaluated* to determine the expression's *value*. Examples include literals, previously-defined variable references, arithmetic operations, comparison operations, string operations, function calls, and any valid combination of these that evaluates to a single object. Think of an expression as something that **produces a value** that can be assigned to a variable, passed to a function or method, or returned by a function or method. *Note:* Code that appears to the right of an `=` is an expression.\n",
    "\n",
    "A statement is an instruction that tells Python to perform an action. **Statements don't return values!** They do something, but don't produce a value. Examples include assignment (`x = 5`), control flow, function / class definitions, return statements, and import statements.\n",
    "\n",
    "Some expressions are *stand-alone*. Their return values are ignored, and they are considered both expressions and statements. E.g., `3 + 4`, `print(\"Hi!\")`, `my_list.sort()`"
   ]
  },
  {
   "cell_type": "markdown",
   "id": "d88b2014-edc0-4264-bde3-94189c909676",
   "metadata": {},
   "source": [
    "### **discuss a function's use and purpose (a \"user-level\" description) instead of its implementation**"
   ]
  },
  {
   "cell_type": "markdown",
   "id": "d6dc77e7-040c-4802-bcc8-f0e86d71cca7",
   "metadata": {},
   "source": [
    "When we discuss a function's use and purpose, we are not describing the function's execution line-by-line, but rather describing what it *does* within or for the program. To do this, describe the function as though speaking to someone who hopes to use the function, but doesn't necessarily need to know how it works. Understanding its inputs, outputs, and operations are key here."
   ]
  },
  {
   "cell_type": "markdown",
   "id": "6e53a2c6-7a89-479e-bd3a-382f2cbaa48f",
   "metadata": {},
   "source": [
    "### **practice problems**"
   ]
  },
  {
   "cell_type": "markdown",
   "id": "87b177fb-be2a-45da-9790-c84d7695ce08",
   "metadata": {},
   "source": [
    "#### Problem 1"
   ]
  },
  {
   "cell_type": "markdown",
   "id": "fa317416-e675-402a-87ac-c01355a9f65b",
   "metadata": {},
   "source": [
    "The following code outputs `'Hello'`. Explain what is happening here and identify any underlying principles."
   ]
  },
  {
   "cell_type": "code",
   "execution_count": null,
   "id": "64e6187f-c9b7-44bc-8a17-464118299503",
   "metadata": {},
   "outputs": [],
   "source": [
    "greeting = 'Hello'     # 1\n",
    "                       # 2\n",
    "def greet():           # 3\n",
    "    greeting = 'Hi'    # 4\n",
    "    return greeting    # 5\n",
    "                       # 6\n",
    "greet()                # 7\n",
    "print(greeting)        # 8\n",
    "print(greet())         # 9"
   ]
  },
  {
   "cell_type": "markdown",
   "id": "bb09ae3a-9024-413b-b045-d756cbc3427d",
   "metadata": {},
   "source": [
    "The global variable `greeting` is initialized and assigned to the string `'Hello'` on line 1. Then, the function `greet` assigns a local variable `greeting` to the string `'Hi'` on line 4. This local variable is separate from the global variable `greeting`; it shadows the global variable. The function `greet` is called on line 7 and returns the value `'Hi'`, as demonstrated in line 9; however, the global variable `greeting` remains unmutated from its original assignment. Thus, the `print` invocation on line 8 outputs the value `'Hello'`. This problem demonstrates Python's variable scope and variable shadowing rules, specifically highlighting how variables defined in the global scope cannot be reassigned within a function's local scope without using of the `global` keyword."
   ]
  },
  {
   "cell_type": "markdown",
   "id": "db2f1cf6-5ad4-460e-87cf-f72e0d5da983",
   "metadata": {},
   "source": [
    "#### Problem 2"
   ]
  },
  {
   "cell_type": "markdown",
   "id": "a0029ea1-29a7-48b3-84bb-a43d1c9f7b81",
   "metadata": {},
   "source": [
    "What does the following code output and why?"
   ]
  },
  {
   "cell_type": "code",
   "execution_count": null,
   "id": "3069b650-df56-4aa0-893a-248382320e97",
   "metadata": {},
   "outputs": [],
   "source": [
    "def replace(string, value):    # 1\n",
    "    while True:                # 2\n",
    "        break                  # 3\n",
    "                               # 4\n",
    "    string = value             # 5\n",
    "                               # 6\n",
    "greet = 'Hey!'                 # 7\n",
    "replace(greet, 'Hello')        # 8\n",
    "print(greet)                   # 9"
   ]
  },
  {
   "cell_type": "markdown",
   "id": "803e2f43-5b3a-429d-8d5f-fe8f45824c9b",
   "metadata": {},
   "source": [
    "**Write this again in my own words...** The code outputs `Hey!`. The `replace` function doesn't mutate the string passed in as its first argument; it can't mutate the string since strings are immutable. On line 5, we rassign the second argument to the `string` variable. However reassignment of a variable never mutates the value it contains, so it has no effect on the string contained by `greet`. This is an example of variable shadowing."
   ]
  },
  {
   "cell_type": "markdown",
   "id": "b1520972-619c-4024-9094-c46e025980b0",
   "metadata": {},
   "source": [
    "#### Problem 3"
   ]
  },
  {
   "cell_type": "markdown",
   "id": "62f83b58-3587-4775-bb83-c803599d11e0",
   "metadata": {},
   "source": [
    "What does the following code do?"
   ]
  },
  {
   "cell_type": "code",
   "execution_count": null,
   "id": "3a94473d-e1e7-4292-a7fe-a6f694add7dc",
   "metadata": {},
   "outputs": [],
   "source": [
    "hello = \"Hello, world!\"    # 1\n",
    "                           # 2\n",
    "def my_func():             # 3\n",
    "    print(hello)           # 4\n",
    "                           # 5\n",
    "my_func()                  # 6"
   ]
  },
  {
   "cell_type": "markdown",
   "id": "14edf8a4-fbe8-4fdf-817f-6f3303884599",
   "metadata": {},
   "source": [
    "The code outputs `Hello, world!`. The `my_func` function invokes the built-in `print` function to output the global variable `hello` and then returns `None`. Because there is no variable `hello` assigned within the local scope of `my_func`, Python's procedure is to look for a variable `hello` in the outer scope. It finds `hello` from the global scope and prints it, then returns `None`."
   ]
  },
  {
   "cell_type": "markdown",
   "id": "2c11f425-bf0c-4fc1-adee-8e5356609acb",
   "metadata": {},
   "source": [
    "#### Problem 4"
   ]
  },
  {
   "cell_type": "markdown",
   "id": "38ca393e-62ca-4481-ae4d-1320ca1b55bd",
   "metadata": {},
   "source": [
    "What does this code output and why?"
   ]
  },
  {
   "cell_type": "code",
   "execution_count": null,
   "id": "df53b0a5-eab3-4730-9894-ab8ae33097e3",
   "metadata": {},
   "outputs": [],
   "source": [
    "a = \"Hello\"                     # 1\n",
    "                                # 2\n",
    "if a:                           # 3\n",
    "    print(\"Hello is truthy\")    # 4\n",
    "else:                           # 5\n",
    "    print(\"Hello is falsy\")     # 6"
   ]
  },
  {
   "cell_type": "markdown",
   "id": "8bde36f5-95d7-4cf6-b2d1-7e89d80a1d2f",
   "metadata": {},
   "source": [
    "This code outputs `Hello is truthy`. The variable `a` is assigned to the string `'Hello'` on line 1. On line 3, an `if/else` statement is initialized. It instructs Python to print `Hello is truthy` if `a` evaluates to true. `a` does evaluate to true, so `Hello is truthy` is printed. The rest of the `if/else` statement is not executed."
   ]
  },
  {
   "cell_type": "code",
   "execution_count": 2,
   "id": "7115c5af-beb6-48a5-b1e4-51dcfe6c1d78",
   "metadata": {},
   "outputs": [
    {
     "name": "stdout",
     "output_type": "stream",
     "text": [
      "Hello everyone!\n"
     ]
    }
   ],
   "source": [
    "my_string = \"hello Everyone!\"\n",
    "print(my_string.capitalize())"
   ]
  },
  {
   "cell_type": "code",
   "execution_count": null,
   "id": "aa86cf76-6416-461a-b1a9-80cfdf574318",
   "metadata": {},
   "outputs": [],
   "source": []
  }
 ],
 "metadata": {
  "kernelspec": {
   "display_name": "Python 3 (ipykernel)",
   "language": "python",
   "name": "python3"
  },
  "language_info": {
   "codemirror_mode": {
    "name": "ipython",
    "version": 3
   },
   "file_extension": ".py",
   "mimetype": "text/x-python",
   "name": "python",
   "nbconvert_exporter": "python",
   "pygments_lexer": "ipython3",
   "version": "3.13.1"
  }
 },
 "nbformat": 4,
 "nbformat_minor": 5
}
