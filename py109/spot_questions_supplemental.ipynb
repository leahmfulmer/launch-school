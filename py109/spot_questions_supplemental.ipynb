{
 "cells": [
  {
   "cell_type": "markdown",
   "id": "ca1db81c-5378-4b2f-9f1c-14044d8de150",
   "metadata": {},
   "source": [
    "# PY109 Interview: SPOT Study Questions\n",
    "This notebook contains coding examples found in `spot_questions_no_answers.md`, as well as some test code just for fun."
   ]
  },
  {
   "cell_type": "code",
   "execution_count": 3,
   "id": "32d1791f-2434-4122-bf94-1dbdb9cc2016",
   "metadata": {},
   "outputs": [
    {
     "name": "stdout",
     "output_type": "stream",
     "text": [
      "8.5\n"
     ]
    }
   ],
   "source": [
    "x = 3.5\n",
    "y = 5\n",
    "z = x + y\n",
    "print(z) # 8.5"
   ]
  },
  {
   "cell_type": "code",
   "execution_count": 4,
   "id": "bd886310-ba62-45b3-a506-8734db10fc96",
   "metadata": {},
   "outputs": [
    {
     "name": "stdout",
     "output_type": "stream",
     "text": [
      "3\n"
     ]
    }
   ],
   "source": [
    "a = 1\n",
    "b = 2\n",
    "print(a + b) # 3"
   ]
  },
  {
   "cell_type": "code",
   "execution_count": 5,
   "id": "e6775421-0905-47a9-a26c-a1a33ac1b164",
   "metadata": {},
   "outputs": [
    {
     "name": "stdout",
     "output_type": "stream",
     "text": [
      "That string cannot be converted to an integer.\n",
      "5\n"
     ]
    }
   ],
   "source": [
    "def convert_to_int(string):\n",
    "    try:\n",
    "        converted_integer = int(string)\n",
    "        return converted_integer\n",
    "    except ValueError:\n",
    "        return \"That string cannot be converted to an integer.\"\n",
    "\n",
    "print(convert_to_int(\"hello\")) # That string cannot be converted to an integer.\n",
    "print(convert_to_int(\"5\")) # 5"
   ]
  },
  {
   "cell_type": "code",
   "execution_count": 6,
   "id": "dd0051ec-f779-4f9e-a4e6-9709798281e1",
   "metadata": {},
   "outputs": [
    {
     "name": "stdout",
     "output_type": "stream",
     "text": [
      "The denominator cannot be zero.\n"
     ]
    }
   ],
   "source": [
    "def division(number1, number2):\n",
    "    numerator = number1\n",
    "    denominator = number2\n",
    "\n",
    "    try:\n",
    "        result = numerator / denominator\n",
    "        return result\n",
    "    except ZeroDivisionError:\n",
    "        return \"The denominator cannot be zero.\"\n",
    "\n",
    "print(division(5, 0)) # The denominator cannot be zero."
   ]
  },
  {
   "cell_type": "code",
   "execution_count": 7,
   "id": "10c7177b-ffa7-43ab-9fe9-428950d8b27d",
   "metadata": {},
   "outputs": [
    {
     "name": "stdout",
     "output_type": "stream",
     "text": [
      "x is 1, y is 2\n"
     ]
    }
   ],
   "source": [
    "def addition(number1, number2):\n",
    "    number1 += number2\n",
    "\n",
    "x = 1\n",
    "y = 2\n",
    "\n",
    "addition(x, y)\n",
    "print(f\"x is {x}, y is {y}\") # x is 1, y is 2"
   ]
  },
  {
   "cell_type": "code",
   "execution_count": 9,
   "id": "813325c5-c63a-436b-9805-444bd7375ecb",
   "metadata": {},
   "outputs": [
    {
     "name": "stdout",
     "output_type": "stream",
     "text": [
      "1420\n"
     ]
    }
   ],
   "source": [
    "print(2 + 3 * 4, 4 * (3 + 2), sep = '')"
   ]
  },
  {
   "cell_type": "code",
   "execution_count": 14,
   "id": "b6d49a32-dc23-4280-8892-6f6b6abc687c",
   "metadata": {},
   "outputs": [
    {
     "name": "stdout",
     "output_type": "stream",
     "text": [
      "orld\n",
      "!dlrow ,olleH\n",
      "Hlo ol!\n"
     ]
    }
   ],
   "source": [
    "str1 = \"Hello, world!\"\n",
    "\n",
    "sub1 = str1[8:12]\n",
    "print(sub1) # ?\n",
    "\n",
    "sub2 = str1[::-1]\n",
    "print(sub2) # ?\n",
    "\n",
    "sub3 = str1[::2]\n",
    "print(sub3) # ?"
   ]
  },
  {
   "cell_type": "code",
   "execution_count": null,
   "id": "d0093628-9ce6-43f2-865a-464d23111de7",
   "metadata": {},
   "outputs": [],
   "source": []
  }
 ],
 "metadata": {
  "kernelspec": {
   "display_name": "Python 3 (ipykernel)",
   "language": "python",
   "name": "python3"
  },
  "language_info": {
   "codemirror_mode": {
    "name": "ipython",
    "version": 3
   },
   "file_extension": ".py",
   "mimetype": "text/x-python",
   "name": "python",
   "nbconvert_exporter": "python",
   "pygments_lexer": "ipython3",
   "version": "3.13.1"
  }
 },
 "nbformat": 4,
 "nbformat_minor": 5
}
