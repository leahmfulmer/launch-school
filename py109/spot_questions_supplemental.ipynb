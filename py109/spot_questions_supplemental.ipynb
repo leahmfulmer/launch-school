{
 "cells": [
  {
   "cell_type": "markdown",
   "id": "ca1db81c-5378-4b2f-9f1c-14044d8de150",
   "metadata": {},
   "source": [
    "# PY109 Interview: SPOT Study Questions\n",
    "This notebook contains coding examples found in `spot_questions_no_answers.md`, as well as some test code just for fun."
   ]
  },
  {
   "cell_type": "code",
   "execution_count": null,
   "id": "32d1791f-2434-4122-bf94-1dbdb9cc2016",
   "metadata": {},
   "outputs": [],
   "source": [
    "x = 3.5\n",
    "y = 5\n",
    "z = x + y\n",
    "print(z) # 8.5"
   ]
  },
  {
   "cell_type": "code",
   "execution_count": null,
   "id": "bd886310-ba62-45b3-a506-8734db10fc96",
   "metadata": {},
   "outputs": [],
   "source": [
    "a = 1\n",
    "b = 2\n",
    "print(a + b) # 3"
   ]
  },
  {
   "cell_type": "code",
   "execution_count": null,
   "id": "e6775421-0905-47a9-a26c-a1a33ac1b164",
   "metadata": {},
   "outputs": [],
   "source": [
    "def convert_to_int(string):\n",
    "    try:\n",
    "        converted_integer = int(string)\n",
    "        return converted_integer\n",
    "    except ValueError:\n",
    "        return \"That string cannot be converted to an integer.\"\n",
    "\n",
    "print(convert_to_int(\"hello\")) # That string cannot be converted to an integer.\n",
    "print(convert_to_int(\"5\")) # 5"
   ]
  },
  {
   "cell_type": "code",
   "execution_count": null,
   "id": "dd0051ec-f779-4f9e-a4e6-9709798281e1",
   "metadata": {},
   "outputs": [],
   "source": [
    "def division(number1, number2):\n",
    "    numerator = number1\n",
    "    denominator = number2\n",
    "\n",
    "    try:\n",
    "        result = numerator / denominator\n",
    "        return result\n",
    "    except ZeroDivisionError:\n",
    "        return \"The denominator cannot be zero.\"\n",
    "\n",
    "print(division(5, 0)) # The denominator cannot be zero."
   ]
  },
  {
   "cell_type": "code",
   "execution_count": null,
   "id": "10c7177b-ffa7-43ab-9fe9-428950d8b27d",
   "metadata": {},
   "outputs": [],
   "source": [
    "def addition(number1, number2):\n",
    "    number1 += number2\n",
    "\n",
    "x = 1\n",
    "y = 2\n",
    "\n",
    "addition(x, y)\n",
    "print(f\"x is {x}, y is {y}\") # x is 1, y is 2"
   ]
  },
  {
   "cell_type": "code",
   "execution_count": null,
   "id": "813325c5-c63a-436b-9805-444bd7375ecb",
   "metadata": {},
   "outputs": [],
   "source": [
    "print(2 + 3 * 4, 4 * (3 + 2), sep = '')"
   ]
  },
  {
   "cell_type": "code",
   "execution_count": null,
   "id": "b6d49a32-dc23-4280-8892-6f6b6abc687c",
   "metadata": {},
   "outputs": [],
   "source": [
    "str1 = \"Hello, world!\"\n",
    "\n",
    "sub1 = str1[8:12]\n",
    "print(sub1) # ?\n",
    "\n",
    "sub2 = str1[::-1]\n",
    "print(sub2) # ?\n",
    "\n",
    "sub3 = str1[::2]\n",
    "print(sub3) # ?"
   ]
  },
  {
   "cell_type": "code",
   "execution_count": null,
   "id": "d0093628-9ce6-43f2-865a-464d23111de7",
   "metadata": {},
   "outputs": [],
   "source": [
    "lst_one = [0, 1, 2, 3]\n",
    "lst_two = lst_one.append(4)\n",
    "if lst_two:\n",
    "    print(lst_two)\n",
    "else:\n",
    "    print(lst_one)"
   ]
  },
  {
   "cell_type": "code",
   "execution_count": null,
   "id": "200d9e4a-e445-41b9-a646-6a74b260234f",
   "metadata": {},
   "outputs": [],
   "source": [
    "elements = [0, 1 , 2, \"Dima\"]\n",
    "print(elements.reverse())\n",
    "print(elements)"
   ]
  },
  {
   "cell_type": "code",
   "execution_count": 1,
   "id": "adbf6355-8cac-4eb0-8c79-302697dc8c6e",
   "metadata": {},
   "outputs": [
    {
     "name": "stdout",
     "output_type": "stream",
     "text": [
      "10\n",
      "10\n"
     ]
    },
    {
     "ename": "NameError",
     "evalue": "name 'x' is not defined",
     "output_type": "error",
     "traceback": [
      "\u001b[0;31m---------------------------------------------------------------------------\u001b[0m",
      "\u001b[0;31mNameError\u001b[0m                                 Traceback (most recent call last)",
      "Cell \u001b[0;32mIn[1], line 12\u001b[0m\n\u001b[1;32m      9\u001b[0m   \u001b[38;5;28mprint\u001b[39m(x)\n\u001b[1;32m     11\u001b[0m function1()\n\u001b[0;32m---> 12\u001b[0m \u001b[38;5;28mprint\u001b[39m(\u001b[43mx\u001b[49m)\n\u001b[1;32m     13\u001b[0m \u001b[38;5;28mprint\u001b[39m(y)\n",
      "\u001b[0;31mNameError\u001b[0m: name 'x' is not defined"
     ]
    }
   ],
   "source": [
    "def function1():\n",
    "  x = 10\n",
    "\n",
    "  def function2():\n",
    "      y = 20\n",
    "      print(x)\n",
    "\n",
    "  function2()\n",
    "  print(x)\n",
    "\n",
    "function1()\n",
    "print(x)\n",
    "print(y)"
   ]
  },
  {
   "cell_type": "code",
   "execution_count": 2,
   "id": "dc2f95d3-c249-43e1-aafe-dface65e3c65",
   "metadata": {},
   "outputs": [
    {
     "name": "stdout",
     "output_type": "stream",
     "text": [
      "10\n",
      "20\n",
      "10\n"
     ]
    }
   ],
   "source": [
    "var = 10\n",
    "\n",
    "def function1():\n",
    "    print(var)\n",
    "\n",
    "function1()\n",
    "\n",
    "def function2():\n",
    "    var = 20\n",
    "    print(var)\n",
    "\n",
    "function2()\n",
    "print(var)"
   ]
  },
  {
   "cell_type": "code",
   "execution_count": 1,
   "id": "565b05a3-9f71-4cb7-a841-430fb8ab4de5",
   "metadata": {},
   "outputs": [
    {
     "name": "stdout",
     "output_type": "stream",
     "text": [
      "20\n",
      "10\n",
      "Error occurred\n",
      "15\n",
      "15\n"
     ]
    }
   ],
   "source": [
    "var = 10\n",
    "\n",
    "def function1():\n",
    "    var = 20\n",
    "    print(var)\n",
    "\n",
    "function1()\n",
    "\n",
    "try:\n",
    "    print(var)\n",
    "except NameError:\n",
    "    print(\"Error occurred\")\n",
    "\n",
    "def function2():\n",
    "    var += 5\n",
    "    print(var)\n",
    "\n",
    "try:\n",
    "    function2()\n",
    "except UnboundLocalError:\n",
    "    print(\"Error occurred\")\n",
    "\n",
    "def function3():\n",
    "    global var\n",
    "    var += 5\n",
    "    print(var)\n",
    "\n",
    "function3()\n",
    "print(var)"
   ]
  },
  {
   "cell_type": "code",
   "execution_count": 1,
   "id": "f36ea75e-6a82-4774-b843-68983e158f01",
   "metadata": {},
   "outputs": [
    {
     "name": "stdout",
     "output_type": "stream",
     "text": [
      "Error occurred\n"
     ]
    }
   ],
   "source": [
    "try:\n",
    "    print(var)\n",
    "except NameError as e:\n",
    "    print(\"Error occurred\")"
   ]
  },
  {
   "cell_type": "code",
   "execution_count": 1,
   "id": "a4f6cb19-9098-451d-ab2a-d199aabaf2d8",
   "metadata": {},
   "outputs": [
    {
     "name": "stdout",
     "output_type": "stream",
     "text": [
      "20\n"
     ]
    }
   ],
   "source": [
    "def assign():\n",
    "    var = 20\n",
    "    print(var)\n",
    "\n",
    "assign()"
   ]
  },
  {
   "cell_type": "code",
   "execution_count": 2,
   "id": "7987b062-b86d-4fcd-a124-174b10665d17",
   "metadata": {},
   "outputs": [
    {
     "name": "stdout",
     "output_type": "stream",
     "text": [
      "Hello, John!\n"
     ]
    }
   ],
   "source": [
    "name = 'John'\n",
    "\n",
    "def greet():\n",
    "    print(f\"Hello, {name}!\")\n",
    "\n",
    "greet()"
   ]
  },
  {
   "cell_type": "code",
   "execution_count": 6,
   "id": "d6d2f9d4-cfbb-4459-999e-a4303f030c6e",
   "metadata": {},
   "outputs": [
    {
     "name": "stdout",
     "output_type": "stream",
     "text": [
      "dict_items([('a', 1), ('b', 2), ('c', 3)])\n",
      "a 1\n",
      "b 2\n",
      "c 3\n"
     ]
    }
   ],
   "source": [
    "my_dict = {'a': 1, 'b': 2, 'c': 3}\n",
    "items = my_dict.items()\n",
    "print(items)\n",
    "for key, value in items:\n",
    "    print(key, value)"
   ]
  },
  {
   "cell_type": "code",
   "execution_count": 3,
   "id": "7cce7755-ea76-4b56-8c0f-24142e96356b",
   "metadata": {},
   "outputs": [
    {
     "name": "stdout",
     "output_type": "stream",
     "text": [
      "True\n",
      "False\n",
      "4436147504\n",
      "4436146192\n"
     ]
    }
   ],
   "source": [
    "x = 500\n",
    "y = 500\n",
    "print(x == y)\n",
    "print(x is y)\n",
    "print(id(x))\n",
    "print(id(y))"
   ]
  },
  {
   "cell_type": "code",
   "execution_count": null,
   "id": "9c849dca-33bd-4f78-8824-afed3052c0c9",
   "metadata": {},
   "outputs": [],
   "source": []
  }
 ],
 "metadata": {
  "kernelspec": {
   "display_name": "Python 3 (ipykernel)",
   "language": "python",
   "name": "python3"
  },
  "language_info": {
   "codemirror_mode": {
    "name": "ipython",
    "version": 3
   },
   "file_extension": ".py",
   "mimetype": "text/x-python",
   "name": "python",
   "nbconvert_exporter": "python",
   "pygments_lexer": "ipython3",
   "version": "3.13.1"
  }
 },
 "nbformat": 4,
 "nbformat_minor": 5
}
