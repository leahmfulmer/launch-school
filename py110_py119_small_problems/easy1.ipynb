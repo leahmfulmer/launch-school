{
 "cells": [
  {
   "cell_type": "markdown",
   "id": "d6e8d4b4-b105-4d9c-8067-dc3456d347af",
   "metadata": {},
   "source": [
    "# PY110-PY119 Small Problems\n",
    "### Easy 1"
   ]
  },
  {
   "cell_type": "markdown",
   "id": "e5a56d9d-3086-4eee-919b-43eb9321e20f",
   "metadata": {},
   "source": [
    "##### **Searching 101:** Write a program that solicits six (6) numbers from the user and prints a message that describes whether the sixth number appears among the first five."
   ]
  },
  {
   "cell_type": "code",
   "execution_count": 1,
   "id": "b29b3ad5-4d54-4cf1-b520-e1672144c3b9",
   "metadata": {},
   "outputs": [],
   "source": [
    "def searching():\n",
    "    first = str(input(\"Enter the 1st number: \"))\n",
    "    second = str(input(\"Enter the 2nd number: \"))\n",
    "    third = str(input(\"Enter the 3rd number: \"))\n",
    "    fourth = str(input(\"Enter the 4th number: \"))\n",
    "    fifth = str(input(\"Enter the 5th number: \"))\n",
    "    sixth = str(input(\"Enter the 6th number: \"))\n",
    "\n",
    "    if sixth in [first, second, third, fourth, fifth]:\n",
    "        print(f\"{sixth} is in {first},{second},{third},{fourth},{fifth}.\")\n",
    "    else:\n",
    "        print(f\"{sixth} isn't in {first},{second},{third},{fourth},{fifth}.\")"
   ]
  },
  {
   "cell_type": "code",
   "execution_count": 2,
   "id": "eecf49e2-a2ca-40ef-9775-62370aebe48c",
   "metadata": {},
   "outputs": [],
   "source": [
    "# First: 25, 15, 20, 17, 23, 17\n",
    "# Second: 25, 15, 20, 17, 23, 18"
   ]
  },
  {
   "cell_type": "code",
   "execution_count": 3,
   "id": "b1cd6c8c-f026-4f69-b373-97a627197229",
   "metadata": {},
   "outputs": [
    {
     "name": "stdin",
     "output_type": "stream",
     "text": [
      "Enter the 1st number:  25\n",
      "Enter the 2nd number:  15\n",
      "Enter the 3rd number:  20\n",
      "Enter the 4th number:  17\n",
      "Enter the 5th number:  23\n",
      "Enter the 6th number:  17\n"
     ]
    },
    {
     "name": "stdout",
     "output_type": "stream",
     "text": [
      "17 is in 25,15,20,17,23.\n"
     ]
    }
   ],
   "source": [
    "searching()"
   ]
  },
  {
   "cell_type": "code",
   "execution_count": 4,
   "id": "168b999c-64fa-4b38-8a34-af1f1a3aa16a",
   "metadata": {},
   "outputs": [
    {
     "name": "stdin",
     "output_type": "stream",
     "text": [
      "Enter the 1st number:  25\n",
      "Enter the 2nd number:  15\n",
      "Enter the 3rd number:  20\n",
      "Enter the 4th number:  17\n",
      "Enter the 5th number:  23\n",
      "Enter the 6th number:  18\n"
     ]
    },
    {
     "name": "stdout",
     "output_type": "stream",
     "text": [
      "18 isn't in 25,15,20,17,23.\n"
     ]
    }
   ],
   "source": [
    "searching()"
   ]
  },
  {
   "cell_type": "markdown",
   "id": "191e3265-88e7-4676-bb03-3396de04a8ba",
   "metadata": {},
   "source": [
    "##### **Palindromic Strings (Part 1):** Write a function that returns `True` if the string passed as an argument is a palindrome, `False` otherwise. A palindrome reads the same forwards and backwards. For this problem, the case matters and all characters matter."
   ]
  },
  {
   "cell_type": "code",
   "execution_count": 5,
   "id": "c756650b-13e1-47d0-ae73-5961e79dbdc7",
   "metadata": {},
   "outputs": [],
   "source": [
    "def is_palindrome(string):\n",
    "    length = len(string)\n",
    "    falsy = []\n",
    "\n",
    "    for i in range(length):\n",
    "        if string[i] != string[-(i+1)]:\n",
    "            falsy.append(False)\n",
    "\n",
    "    if False in falsy:\n",
    "        return False\n",
    "    else:\n",
    "        return True"
   ]
  },
  {
   "cell_type": "code",
   "execution_count": 6,
   "id": "51cb2ede-1714-4f0b-a90b-d7a66d8770d5",
   "metadata": {},
   "outputs": [
    {
     "name": "stdout",
     "output_type": "stream",
     "text": [
      "True\n",
      "True\n",
      "True\n",
      "True\n",
      "True\n"
     ]
    }
   ],
   "source": [
    "# All of these examples should print True\n",
    "\n",
    "print(is_palindrome('madam') == True)\n",
    "print(is_palindrome('356653') == True)\n",
    "print(is_palindrome('356635') == False)\n",
    "\n",
    "# case matters\n",
    "print(is_palindrome('Madam') == False)\n",
    "\n",
    "# all characters matter\n",
    "print(is_palindrome(\"madam i'm adam\") == False)"
   ]
  },
  {
   "cell_type": "markdown",
   "id": "771f8ca6-7ecb-4b3b-8fea-f3b49602dc97",
   "metadata": {},
   "source": [
    "##### **Palindromic Strings (Part 2):** Write another function that returns `True` if the string passed as an argument is a palindrome, or `False` otherwise. This time, however, your function should be case-insensitive, and should ignore all non-alphanumeric characters. If you wish, you may simplify things by calling the `is_palindrome` function you wrote in the previous exercise."
   ]
  },
  {
   "cell_type": "code",
   "execution_count": 7,
   "id": "da53f6ff-e05f-43b2-b5a8-3c9e0b424fb6",
   "metadata": {},
   "outputs": [],
   "source": [
    "def is_real_palindrome(string):\n",
    "    string = string.casefold()\n",
    "    \n",
    "    for character in string:\n",
    "        if not character.isalnum():\n",
    "            string = string.replace(character, '')\n",
    "\n",
    "    return is_palindrome(string)"
   ]
  },
  {
   "cell_type": "code",
   "execution_count": 8,
   "id": "9cf6a4e2-f08e-45a1-b3e8-6b1e9659a913",
   "metadata": {},
   "outputs": [
    {
     "name": "stdout",
     "output_type": "stream",
     "text": [
      "True\n",
      "True\n",
      "True\n",
      "True\n",
      "True\n",
      "True\n",
      "True\n"
     ]
    }
   ],
   "source": [
    "print(is_real_palindrome('madam') == True)           # True\n",
    "print(is_real_palindrome('356653') == True)          # True\n",
    "print(is_real_palindrome('356635') == False)         # True\n",
    "print(is_real_palindrome('356a653') == True)         # True\n",
    "print(is_real_palindrome('123ab321') == False)       # True\n",
    "\n",
    "# case doesn't matter\n",
    "print(is_real_palindrome('Madam') == True)           # True\n",
    "\n",
    "# only alphanumerics matter\n",
    "print(is_real_palindrome(\"Madam, I'm Adam\") == True) # True"
   ]
  },
  {
   "cell_type": "markdown",
   "id": "05a14c58-bcfc-4b0b-b95e-b4e55d4d08dd",
   "metadata": {},
   "source": [
    "##### **Running Totals:** Write a function that takes a list of numbers and returns a list with the same number of elements, but with each element's value being the running total from the original list."
   ]
  },
  {
   "cell_type": "code",
   "execution_count": 9,
   "id": "67af19dc-4ea4-4c16-b3d0-1ba8a4ca7966",
   "metadata": {},
   "outputs": [],
   "source": [
    "def running_total(number_list):\n",
    "    result = []\n",
    "\n",
    "    for i, number in enumerate(number_list):\n",
    "        if i == 0:\n",
    "            result.append(number)\n",
    "        else:\n",
    "            result.append(number + result[i-1])\n",
    "\n",
    "    print(result)\n",
    "    return result"
   ]
  },
  {
   "cell_type": "code",
   "execution_count": 10,
   "id": "3821256d-e213-473a-ae28-84e0aee83ee3",
   "metadata": {},
   "outputs": [
    {
     "name": "stdout",
     "output_type": "stream",
     "text": [
      "[2, 7, 20]\n",
      "True\n",
      "[14, 25, 32, 47, 67]\n",
      "True\n",
      "[3]\n",
      "True\n",
      "[]\n",
      "True\n"
     ]
    }
   ],
   "source": [
    "print(running_total([2, 5, 13]) == [2, 7, 20])    # True\n",
    "print(running_total([14, 11, 7, 15, 20])\n",
    "      == [14, 25, 32, 47, 67])                    # True\n",
    "print(running_total([3]) == [3])                  # True\n",
    "print(running_total([]) == [])                    # True"
   ]
  },
  {
   "cell_type": "markdown",
   "id": "e37ea503-64cc-497b-9b09-4d19f975235c",
   "metadata": {},
   "source": [
    "##### **Letter Counter (Part 1):** Write a function that takes a string consisting of zero or more space-separated words and returns a dictionary that shows the number of words of different sizes. Words consist of any sequence of non-space characters."
   ]
  },
  {
   "cell_type": "code",
   "execution_count": 11,
   "id": "18c1b857-82fb-44bf-b15f-0e5575fd1ab4",
   "metadata": {},
   "outputs": [],
   "source": [
    "def word_sizes(string):\n",
    "    split_string = string.split()\n",
    "    result = {}\n",
    "\n",
    "    for i, word in enumerate(split_string):\n",
    "        split_string[i] = len(split_string[i])\n",
    "\n",
    "    for length in split_string:\n",
    "        result[length] = split_string.count(length)\n",
    "        \n",
    "    return result"
   ]
  },
  {
   "cell_type": "code",
   "execution_count": 12,
   "id": "14a7eeb3-4701-4f16-a24a-14de55512c43",
   "metadata": {},
   "outputs": [
    {
     "name": "stdout",
     "output_type": "stream",
     "text": [
      "True\n",
      "True\n",
      "True\n",
      "True\n",
      "True\n"
     ]
    }
   ],
   "source": [
    "# All of these examples should print True\n",
    "\n",
    "string = 'Four score and seven.'\n",
    "print(word_sizes(string) == {4: 1, 5: 1, 3: 1, 6: 1})\n",
    "\n",
    "string = 'Hey diddle diddle, the cat and the fiddle!'\n",
    "print(word_sizes(string) == {3: 5, 6: 1, 7: 2})\n",
    "\n",
    "string = 'Humpty Dumpty sat on a wall'\n",
    "print(word_sizes(string) == {6: 2, 3: 1, 2: 1, 1: 1, 4: 1})\n",
    "\n",
    "string = \"What's up doc?\"\n",
    "print(word_sizes(string) == {6: 1, 2: 1, 4: 1})\n",
    "\n",
    "print(word_sizes('') == {})"
   ]
  },
  {
   "cell_type": "markdown",
   "id": "9741945d-07b7-4f73-af49-bdc85e9a1f8d",
   "metadata": {},
   "source": [
    "##### **Letter Counter (Part 2):** Modify the `word_sizes` function from the previous exercise to exclude non-letters when determining word size. For instance, the word size of `\"it's\"` is `3`, not `4`."
   ]
  },
  {
   "cell_type": "code",
   "execution_count": 13,
   "id": "1b8b35c5-84ba-4534-bd74-c7e496c33b21",
   "metadata": {},
   "outputs": [],
   "source": [
    "def word_sizes(string):\n",
    "    split_string = string.split()\n",
    "    result = {}\n",
    "    \n",
    "    for i, word in enumerate(split_string):\n",
    "        if not word.isalpha():\n",
    "            for j, character in enumerate(word):\n",
    "                if not character.isalpha():\n",
    "                    word = word[:j] + word[j+1:]\n",
    "\n",
    "            split_string[i] = len(word)\n",
    "        else:\n",
    "            split_string[i] = len(split_string[i])\n",
    "\n",
    "    for length in split_string:\n",
    "        result[length] = split_string.count(length)\n",
    "\n",
    "    return result"
   ]
  },
  {
   "cell_type": "code",
   "execution_count": 14,
   "id": "d0a39a3c-de83-4eaa-a1d4-80c06f06276a",
   "metadata": {},
   "outputs": [
    {
     "name": "stdout",
     "output_type": "stream",
     "text": [
      "True\n",
      "True\n",
      "True\n",
      "True\n",
      "True\n"
     ]
    }
   ],
   "source": [
    "# All of these examples should print True\n",
    "\n",
    "string = 'Four score and seven.'\n",
    "print(word_sizes(string) == {4: 1, 5: 2, 3: 1})\n",
    "\n",
    "string = 'Hey diddle diddle, the cat and the fiddle!'\n",
    "print(word_sizes(string) == {3: 5, 6: 3})\n",
    "\n",
    "string = 'Humpty Dumpty sat on a w@ll'\n",
    "print(word_sizes(string) == {6: 2, 3: 2, 2: 1, 1: 1})\n",
    "\n",
    "string = \"What's up doc?\"\n",
    "print(word_sizes(string) == {5: 1, 2: 1, 3: 1})\n",
    "\n",
    "print(word_sizes('') == {})"
   ]
  },
  {
   "cell_type": "markdown",
   "id": "de6a81c6-ec81-4ec6-94c9-a41609b91421",
   "metadata": {},
   "source": [
    "##### **Letter Swap:** Given a string of words separated by spaces, write a function that swaps the first and last letters of every word. You may assume that every word contains at least one letter, and that the string will always contain at least one word. You may also assume that each string contains nothing but words and spaces, and that there are no leading, trailing, or repeated spaces."
   ]
  },
  {
   "cell_type": "code",
   "execution_count": 15,
   "id": "ed47c28a-65f0-43f1-8e29-781e0780f383",
   "metadata": {},
   "outputs": [],
   "source": [
    "def swap(string):\n",
    "    split_string = string.split()\n",
    "\n",
    "    for i, word in enumerate(split_string):\n",
    "        first = word[0]\n",
    "        last = word[-1]\n",
    "\n",
    "        if len(word) > 1:\n",
    "            split_string[i] = last + word[1:-1] + first\n",
    "        else:\n",
    "            split_string[i] = word\n",
    "\n",
    "    return ' '.join(split_string)"
   ]
  },
  {
   "cell_type": "code",
   "execution_count": 16,
   "id": "556e90a8-cf3f-424c-94aa-a18623445b2c",
   "metadata": {},
   "outputs": [
    {
     "name": "stdout",
     "output_type": "stream",
     "text": [
      "True\n",
      "True\n",
      "True\n"
     ]
    }
   ],
   "source": [
    "print(swap('Oh what a wonderful day it is')\n",
    "      == \"hO thaw a londerfuw yad ti si\")  # True\n",
    "print(swap('Abcde') == \"ebcdA\")            # True\n",
    "print(swap('a') == \"a\")                    # True"
   ]
  }
 ],
 "metadata": {
  "kernelspec": {
   "display_name": "Python 3 (ipykernel)",
   "language": "python",
   "name": "python3"
  },
  "language_info": {
   "codemirror_mode": {
    "name": "ipython",
    "version": 3
   },
   "file_extension": ".py",
   "mimetype": "text/x-python",
   "name": "python",
   "nbconvert_exporter": "python",
   "pygments_lexer": "ipython3",
   "version": "3.12.5"
  }
 },
 "nbformat": 4,
 "nbformat_minor": 5
}
