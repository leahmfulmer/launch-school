{
 "cells": [
  {
   "cell_type": "markdown",
   "id": "d6e8d4b4-b105-4d9c-8067-dc3456d347af",
   "metadata": {},
   "source": [
    "# PY110-PY119 Small Problems\n",
    "### Easy 1"
   ]
  },
  {
   "cell_type": "markdown",
   "id": "e5a56d9d-3086-4eee-919b-43eb9321e20f",
   "metadata": {},
   "source": [
    "##### **Searching 101:** Write a program that solicits six (6) numbers from the user and prints a message that describes whether the sixth number appears among the first five."
   ]
  },
  {
   "cell_type": "code",
   "execution_count": 1,
   "id": "b29b3ad5-4d54-4cf1-b520-e1672144c3b9",
   "metadata": {},
   "outputs": [],
   "source": [
    "def searching():\n",
    "    first = str(input(\"Enter the 1st number: \"))\n",
    "    second = str(input(\"Enter the 2nd number: \"))\n",
    "    third = str(input(\"Enter the 3rd number: \"))\n",
    "    fourth = str(input(\"Enter the 4th number: \"))\n",
    "    fifth = str(input(\"Enter the 5th number: \"))\n",
    "    sixth = str(input(\"Enter the 6th number: \"))\n",
    "\n",
    "    if sixth in [first, second, third, fourth, fifth]:\n",
    "        print(f\"{sixth} is in {first},{second},{third},{fourth},{fifth}.\")\n",
    "    else:\n",
    "        print(f\"{sixth} isn't in {first},{second},{third},{fourth},{fifth}.\")"
   ]
  },
  {
   "cell_type": "code",
   "execution_count": 2,
   "id": "b1cd6c8c-f026-4f69-b373-97a627197229",
   "metadata": {},
   "outputs": [
    {
     "name": "stdin",
     "output_type": "stream",
     "text": [
      "Enter the 1st number:  25\n",
      "Enter the 2nd number:  15\n",
      "Enter the 3rd number:  20\n",
      "Enter the 4th number:  17\n",
      "Enter the 5th number:  23\n",
      "Enter the 6th number:  17\n"
     ]
    },
    {
     "name": "stdout",
     "output_type": "stream",
     "text": [
      "17 is in 25,15,20,17,23.\n"
     ]
    }
   ],
   "source": [
    "searching()"
   ]
  },
  {
   "cell_type": "code",
   "execution_count": 3,
   "id": "168b999c-64fa-4b38-8a34-af1f1a3aa16a",
   "metadata": {},
   "outputs": [
    {
     "name": "stdin",
     "output_type": "stream",
     "text": [
      "Enter the 1st number:  25\n",
      "Enter the 2nd number:  15\n",
      "Enter the 3rd number:  20\n",
      "Enter the 4th number:  17\n",
      "Enter the 5th number:  23\n",
      "Enter the 6th number:  18\n"
     ]
    },
    {
     "name": "stdout",
     "output_type": "stream",
     "text": [
      "18 isn't in 25,15,20,17,23.\n"
     ]
    }
   ],
   "source": [
    "searching()"
   ]
  },
  {
   "cell_type": "markdown",
   "id": "191e3265-88e7-4676-bb03-3396de04a8ba",
   "metadata": {},
   "source": [
    "##### **Palindromic Strings (Part 1):** Write a function that returns `True` if the string passed as an argument is a palindrome, `False` otherwise. A palindrome reads the same forwards and backwards. For this problem, the case matters and all characters matter."
   ]
  },
  {
   "cell_type": "code",
   "execution_count": 25,
   "id": "c756650b-13e1-47d0-ae73-5961e79dbdc7",
   "metadata": {},
   "outputs": [],
   "source": [
    "def is_palindrome(string):\n",
    "    length = len(string)\n",
    "    falsy = []\n",
    "\n",
    "    for i in range(length):\n",
    "        if string[i] != string[-(i+1)]:\n",
    "            falsy.append(False)\n",
    "\n",
    "    if False in falsy:\n",
    "        return False\n",
    "    else:\n",
    "        return True"
   ]
  },
  {
   "cell_type": "code",
   "execution_count": 26,
   "id": "51cb2ede-1714-4f0b-a90b-d7a66d8770d5",
   "metadata": {},
   "outputs": [
    {
     "name": "stdout",
     "output_type": "stream",
     "text": [
      "True\n",
      "True\n",
      "True\n",
      "True\n",
      "True\n"
     ]
    }
   ],
   "source": [
    "# All of these examples should print True\n",
    "\n",
    "print(is_palindrome('madam') == True)\n",
    "print(is_palindrome('356653') == True)\n",
    "print(is_palindrome('356635') == False)\n",
    "\n",
    "# case matters\n",
    "print(is_palindrome('Madam') == False)\n",
    "\n",
    "# all characters matter\n",
    "print(is_palindrome(\"madam i'm adam\") == False)"
   ]
  },
  {
   "cell_type": "markdown",
   "id": "771f8ca6-7ecb-4b3b-8fea-f3b49602dc97",
   "metadata": {},
   "source": [
    "##### **Palindromic Strings (Part 2):** Write another function that returns `True` if the string passed as an argument is a palindrome, or `False` otherwise. This time, however, your function should be case-insensitive, and should ignore all non-alphanumeric characters. If you wish, you may simplify things by calling the `is_palindrome` function you wrote in the previous exercise."
   ]
  },
  {
   "cell_type": "code",
   "execution_count": null,
   "id": "fcfb9aee-36f6-41ed-8dc8-bcc30051f918",
   "metadata": {},
   "outputs": [],
   "source": []
  }
 ],
 "metadata": {
  "kernelspec": {
   "display_name": "Python 3 (ipykernel)",
   "language": "python",
   "name": "python3"
  },
  "language_info": {
   "codemirror_mode": {
    "name": "ipython",
    "version": 3
   },
   "file_extension": ".py",
   "mimetype": "text/x-python",
   "name": "python",
   "nbconvert_exporter": "python",
   "pygments_lexer": "ipython3",
   "version": "3.12.5"
  }
 },
 "nbformat": 4,
 "nbformat_minor": 5
}
